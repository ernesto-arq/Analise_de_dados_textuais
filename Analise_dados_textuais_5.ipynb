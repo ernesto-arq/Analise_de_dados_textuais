{
  "nbformat": 4,
  "nbformat_minor": 0,
  "metadata": {
    "colab": {
      "name": "Analise_dados_textuais_5.ipynb",
      "provenance": [],
      "collapsed_sections": [
        "c7WhFDwpMl3L",
        "3Hc3TBywEUUM",
        "bWHe1SD9Iejl",
        "PA_njN4eI0Kz",
        "NjLWBMkxJgtc",
        "kGTZd2CIKpQH",
        "0z-XkCKWK1UU",
        "rkizOGsHPInI",
        "MLjGf4MmPNPQ",
        "bb6ddXolPQAn"
      ]
    },
    "kernelspec": {
      "name": "python3",
      "display_name": "Python 3"
    }
  },
  "cells": [
    {
      "cell_type": "markdown",
      "metadata": {
        "id": "-TXpQqitBXIV"
      },
      "source": [
        "\"Curso: Ciência de Dados\"\n",
        "\n",
        "---\n",
        "\n",
        "\n",
        "\"Disciplina: Analise de Dados Textuais\"\n",
        "\n",
        "---\n",
        "\n",
        "\n",
        "\"Alauno: Ernesto Gurgel Valente Neto\"\n",
        "\n",
        "---\n",
        "Material: Lista 2\n"
      ]
    },
    {
      "cell_type": "code",
      "metadata": {
        "colab": {
          "base_uri": "https://localhost:8080/"
        },
        "id": "laL4bc7gBggV",
        "outputId": "1d9e1d12-b40b-4923-8377-32db79af4961"
      },
      "source": [
        "print('Importação de Pacotes')\n",
        "import nltk"
      ],
      "execution_count": null,
      "outputs": [
        {
          "output_type": "stream",
          "text": [
            "Importação de Pacotes\n"
          ],
          "name": "stdout"
        }
      ]
    },
    {
      "cell_type": "code",
      "metadata": {
        "colab": {
          "base_uri": "https://localhost:8080/"
        },
        "id": "DBJlIqtDBmvE",
        "outputId": "11d06a88-6bb9-4d15-c21c-87ca5e4e5566"
      },
      "source": [
        "nltk.download('gutenberg')"
      ],
      "execution_count": null,
      "outputs": [
        {
          "output_type": "stream",
          "text": [
            "[nltk_data] Downloading package gutenberg to /root/nltk_data...\n",
            "[nltk_data]   Unzipping corpora/gutenberg.zip.\n"
          ],
          "name": "stdout"
        },
        {
          "output_type": "execute_result",
          "data": {
            "text/plain": [
              "True"
            ]
          },
          "metadata": {
            "tags": []
          },
          "execution_count": 2
        }
      ]
    },
    {
      "cell_type": "code",
      "metadata": {
        "colab": {
          "base_uri": "https://localhost:8080/"
        },
        "id": "oXOzuvlIBo5T",
        "outputId": "b051acb4-9b95-44a2-c3eb-f2bb69750d25"
      },
      "source": [
        "nltk.download('punkt')"
      ],
      "execution_count": null,
      "outputs": [
        {
          "output_type": "stream",
          "text": [
            "[nltk_data] Downloading package punkt to /root/nltk_data...\n",
            "[nltk_data]   Unzipping tokenizers/punkt.zip.\n"
          ],
          "name": "stdout"
        },
        {
          "output_type": "execute_result",
          "data": {
            "text/plain": [
              "True"
            ]
          },
          "metadata": {
            "tags": []
          },
          "execution_count": 3
        }
      ]
    },
    {
      "cell_type": "code",
      "metadata": {
        "colab": {
          "base_uri": "https://localhost:8080/"
        },
        "id": "N3b5Jf3HBq2b",
        "outputId": "377bd932-2253-4ea6-dbeb-5464e3a23f0e"
      },
      "source": [
        "nltk.corpus.gutenberg.fileids()"
      ],
      "execution_count": null,
      "outputs": [
        {
          "output_type": "execute_result",
          "data": {
            "text/plain": [
              "['austen-emma.txt',\n",
              " 'austen-persuasion.txt',\n",
              " 'austen-sense.txt',\n",
              " 'bible-kjv.txt',\n",
              " 'blake-poems.txt',\n",
              " 'bryant-stories.txt',\n",
              " 'burgess-busterbrown.txt',\n",
              " 'carroll-alice.txt',\n",
              " 'chesterton-ball.txt',\n",
              " 'chesterton-brown.txt',\n",
              " 'chesterton-thursday.txt',\n",
              " 'edgeworth-parents.txt',\n",
              " 'melville-moby_dick.txt',\n",
              " 'milton-paradise.txt',\n",
              " 'shakespeare-caesar.txt',\n",
              " 'shakespeare-hamlet.txt',\n",
              " 'shakespeare-macbeth.txt',\n",
              " 'whitman-leaves.txt']"
            ]
          },
          "metadata": {
            "tags": []
          },
          "execution_count": 4
        }
      ]
    },
    {
      "cell_type": "markdown",
      "metadata": {
        "id": "SefMs8XaBvAq"
      },
      "source": [
        "# **1- Questão**\n",
        "Calcule os seguintes itens, Esse procedimento deve ser feito para os seguintes:\n",
        "\n",
        "---\n",
        "# **Textos**\n",
        "1.   shakespeare-caesar.txt\n",
        "2.   shakespeare-hamlet.txt\n",
        "1.   shakespeare-macbeth.txt\n",
        "\n",
        "\n",
        "\n"
      ]
    },
    {
      "cell_type": "code",
      "metadata": {
        "id": "Bn6H8nRmCLfj"
      },
      "source": [
        "caesar = nltk.corpus.gutenberg.words('shakespeare-caesar.txt')\n",
        "hamlet = nltk.corpus.gutenberg.words('shakespeare-hamlet.txt')\n",
        "macbeth = nltk.corpus.gutenberg.words('shakespeare-macbeth.txt')"
      ],
      "execution_count": null,
      "outputs": []
    },
    {
      "cell_type": "markdown",
      "metadata": {
        "id": "qDttbeEwCPqJ"
      },
      "source": [
        "# **a.   Número total de palavras**"
      ]
    },
    {
      "cell_type": "code",
      "metadata": {
        "colab": {
          "base_uri": "https://localhost:8080/"
        },
        "id": "u1VZ1h-aCm-a",
        "outputId": "5a951604-e90b-421a-b228-7e7fe335cffa"
      },
      "source": [
        "print(\"Tamanho palavras livro Caesar:\", len(caesar))\n",
        "print(\"Tamanho palavras livro Hamlet:\", len(hamlet))\n",
        "print(\"Tamanho palavras livro Macbeth:\", len(macbeth))"
      ],
      "execution_count": null,
      "outputs": [
        {
          "output_type": "stream",
          "text": [
            "Tamanho palavras livro Caesar: 25833\n",
            "Tamanho palavras livro Hamlet: 37360\n",
            "Tamanho palavras livro Macbeth: 23140\n"
          ],
          "name": "stdout"
        }
      ]
    },
    {
      "cell_type": "markdown",
      "metadata": {
        "id": "asx-Ed81DRP4"
      },
      "source": [
        "# **b.   Número total de sentenças**"
      ]
    },
    {
      "cell_type": "code",
      "metadata": {
        "id": "0bKguWoFD0Kt"
      },
      "source": [
        "sent_caesar = nltk.corpus.gutenberg.sents('shakespeare-caesar.txt')\n",
        "sent_hamlet = nltk.corpus.gutenberg.sents('shakespeare-hamlet.txt')\n",
        "sent_macbeth = nltk.corpus.gutenberg.sents('shakespeare-macbeth.txt')"
      ],
      "execution_count": null,
      "outputs": []
    },
    {
      "cell_type": "code",
      "metadata": {
        "colab": {
          "base_uri": "https://localhost:8080/"
        },
        "id": "BrwyXmGTEH0m",
        "outputId": "ae4aa821-e543-4878-d6f7-2edf6059d1b6"
      },
      "source": [
        "print(\"Tamanho sentenças livro Caesar:\", len(sent_caesar))\n",
        "print(\"Tamanho sentenças livro Hamlet:\", len(sent_hamlet))\n",
        "print(\"Tamanho sentenças livro Macbeth:\", len(sent_macbeth))"
      ],
      "execution_count": null,
      "outputs": [
        {
          "output_type": "stream",
          "text": [
            "Tamanho sentenças livro Caesar: 2163\n",
            "Tamanho sentenças livro Hamlet: 3106\n",
            "Tamanho sentenças livro Macbeth: 1907\n"
          ],
          "name": "stdout"
        }
      ]
    },
    {
      "cell_type": "markdown",
      "metadata": {
        "id": "8OPnyionDzEd"
      },
      "source": [
        "# **c.   Número total de palavras não repetidas**\n",
        "\n",
        "\n"
      ]
    },
    {
      "cell_type": "code",
      "metadata": {
        "colab": {
          "base_uri": "https://localhost:8080/"
        },
        "id": "lR2ZA8M1HJrN",
        "outputId": "3914dec3-9b0e-4f63-d420-59080fe1990a"
      },
      "source": [
        "ceaser_dist = set(caesar)\n",
        "print(\"Palavras Não Repetidas Livro Cesar:\", ceaser_dist)\n",
        "print(\"Palavras Não Repetidas Nº Livro Cesar:\", len(ceaser_dist))\n"
      ],
      "execution_count": null,
      "outputs": [
        {
          "output_type": "stream",
          "text": [
            "Palavras Não Repetidas Livro Cesar: {'present', 'receiuest', 'dumbe', 'sounds', 'Porch', 'Durst', 'Nobly', 'doores', 'break', 'Foole', 'crept', 'two', 'Sacred', 'ayme', 'heart', 'arm', 'dangerous', 'durst', 'Repaire', 'vaunting', 'Gamesom', 'prey', 'time', 'mixt', 'waues', 'Seeing', 'Senses', 'Trophees', 'prethee', 'publike', 'Countenance', 'case', 'insuppressiue', 'day', 'carries', 'easily', 'Neruij', 'wonder', 'Teares', 'fall', 'stand', 'driue', 'Carrion', 'therefore', 'Lowd', 'vnkindnesse', 'dishonourable', 'noted', 'Heraulds', 'adde', 'Two', 'Shake', 'sensible', 'perform', 'drop', 'Rebell', 'dimme', 'Farwell', 'all', 'whet', 'Vnder', 'Iudgement', 'Aboue', 'Rayes', 'eight', 'Italy', 'Spoiles', 'acted', 'lippes', 'notice', 'incertaine', 'path', 'diuision', 'Lyon', 'Fantasie', 'valiant', 'growes', 'twixt', 'Siluer', 'Comes', 'Heere', 'stroken', 'Do', 'Beast', 'mention', 'change', 'Hee', 'auoyded', 'belou', 'since', 'Courage', 'vowes', 'Harke', 'wherefore', 'swim', 'Round', 'Heires', 'going', 'yon', 'strucken', 'beholding', 'meet', 'Lucillius', 'Popillius', 'yea', 'Angell', 'Most', 'yesternight', 'beards', 'Chariot', 'house', 'Prythee', 'pledge', 'Stirre', 'stale', 'Till', 'swound', 'fierce', 'Fret', 'Bondage', 'debt', 'fixt', 'Will', 'blunt', 'bent', 'weakenesse', 'Eare', 'Began', 'Countrey', 'clap', 'sucke', ')', 'Woe', 'height', 'Blood', 'sayer', 'winne', 'trash', 'Vessell', 'demeanor', 'Octauio', 'owne', 'read', 'state', 'something', 'Tempt', 'Belike', 'Well', 'Richer', 'by', 'Sleeke', 'spouting', 'Doers', 'Mantle', 'Shop', 'vpmost', 'discouered', 'corruption', 'stampt', 'latest', 'encreaseth', 'passion', 'verses', 'Victorie', 'Waxe', 'modestly', 'killing', 'Car', 'tride', 'Betwixt', 'Enioy', 'moreouer', 'Y', 'hacke', 'almost', 'thirtie', 'poore', 'Calp', 'Ioyn', 'Tarquin', 'Tinctures', 'Gold', 'Traitors', 'dwelling', 'are', 'mistook', 'Send', 'softly', 'Shakespeare', 'Errands', 'difference', 'fearefull', 'Face', 'Suburbs', 'findes', 'wisedome', 'Yours', 'seduc', 'doth', 'recreate', 'desire', 'the', 'Wisedom', 'spake', 'stones', 'Howting', 'repealing', 'portentous', 'aske', 'Husbanded', 'Horses', 'inclos', 'Cobl', 'Orchard', 'Ligarius', 'gouerne', 'Arm', 'Womanish', 'Petition', 'roate', 'strooke', 'Head', 'twentie', 'wearie', 'Darts', 'Councell', 'stretcht', 'mend', 'greeu', 'enclosed', 'retentiue', 'hast', 'Indeed', 'OF', 'Calphurnia', 'slight', 'Chimney', 'Seate', 'Superstitious', '3', 'Speeches', 'faces', 'Their', 'Countrymen', 'further', 'Curre', 'Spectacle', 'iealous', 'soone', 'Prayers', 'request', 'euills', 'throwing', 'appear', 'deceiu', 'cappes', 'enuious', 'Triumph', 'Dwell', 'Slaues', 'train', 'sort', 'Yong', 'Falles', 'yonder', 'Watch', 'paines', 'readie', 'Enfranchisement', 'o', 'Question', 'high', 'other', 'choaked', 'Emulation', 'sixe', 'get', 'Women', 'greefes', 'sterrile', 'Murrellus', 'Arme', 'People', 'Bastardie', 'run', 'Holes', 'Antony', 'expectation', 'consider', 'opening', 'halfe', 'teeth', 'this', 'tweene', 'moue', 'ingrafted', 'Dreames', 'shalt', 'awe', 'Yes', 'Delay', 'follow', 'wake', 'Meane', 'Liue', 'womens', 'sides', 'permission', 'bids', 'Yet', 'spirit', 'hides', 'Doth', 'being', 'dyed', 'graze', 'action', 'Your', 'abroad', 'Did', 'Cauerne', 'We', 'saide', 'dyest', 'Go', 'affraid', 'Vol', 'there', 'Fortunate', 'appoint', 'Wound', 'Philosophy', 'lou', 'Prodigies', 'Fellow', 'tarrying', 'serue', 'list', 'lighted', 'lye', 'Lupercall', 'shoulder', 'regarded', 'drinke', 'Older', 'Who', 'Spirits', 'worldly', 'embrace', 'Early', 'courtesie', 'Enemie', 'Flood', 'Cares', 'Leagues', 'sate', 'vttered', 'Hands', 'monwealth', 'Giues', 'Honest', 'Bru', 'and', 'disturbed', 'blest', 'wont', 'excepted', 'supporting', 'Deede', 'eye', 'euils', 'inkindled', 'veyl', 'fawne', 'also', 'feares', 'enforced', 'shine', 'Daughter', 'merry', 'Hide', 'Selfe', 'current', 'haires', 'knaue', ';', 'Fortune', 'Mutiny', 'Whereto', 'Hie', 'howted', 'Some', 'parts', 'sits', 'praise', 'Deare', 'Remorse', 'Truly', 'suffers', 'lights', 'Runne', 'fatter', 'empty', 'party', 'Necessitie', 'for', 'should', 'State', 'Theater', 'Begge', 'Honourable', 'stronger', 'Fires', 'Comming', 'neigh', 'Hold', 'Euen', 'Exorcist', 'doest', 'truly', 'Worships', 'Attendants', 'Brute', 'Deerer', 'farre', 'Vnlesse', 'Though', 'from', 'dreame', 'comming', 'Except', 'ha', 'liue', 'strings', 'stirre', 'late', 'commend', 'wept', 'made', 'labour', 'exhalations', 'stare', 'Mettle', 'Prima', 'dip', 'Stands', 'Freedome', 'drops', 'naked', 'showts', 'mad', 'condition', 'ready', 'bend', 'ask', 'content', 'Either', 'would', 'Alas', 'Times', 'Stage', 'long', 'talke', 'Multitude', 'mighty', 'strokes', 'Tenure', 'Security', 'rage', 'Weapons', 'former', 'parting', 'liefe', 'Artemidorus', 'hatch', 'leysure', 'Faculties', 'mak', 'commended', 'gaue', 'Pin', 'speechlesse', 'Funerals', 'perceiue', 'vnderneath', 'with', 'attyre', 'our', 'already', 'encourag', 'Betweene', 'Must', 'Words', 'horse', 'Lordship', 'lying', 'melteth', 'compare', 'blowes', 'Thinke', 'say', 'lend', 'mightier', 'Lady', 'sorry', 'Valour', 'worse', 'he', 'sell', 'Wenches', 'Mender', 'writ', 'ride', 'beseech', 'Villaines', 'billes', 'griefe', 'Dec', 'Leaden', 'IVLIVS', 'tis', 'Abler', 'Battlements', 'turnes', 'walk', 'Hence', 'pulling', 'doubted', 'one', 'first', 'dis', 'giuen', 'doo', 'toucht', 'Lyons', 'Bring', 'her', 'Cowardice', 'If', 'Since', 'familiar', 'destruction', 'Feauer', 'reme', 'litter', 'Caes', 'mourning', 'Orator', 'Bold', 'Lend', 'damned', 'i', 'Obiects', 'receiu', 'kindnesse', 'l', 'Worke', 'end', 'chafing', 'secrets', 'Condition', 'open', 'Fearing', 'Maisters', 'Master', 'Why', 'or', 'sweatie', 'hold', 'forgetfull', 'knockes', '1', 'himselfe', 'earnes', 'fearing', 'foote', 'Flesh', 'vttermost', 'Affayres', 'Dignities', 'heeles', 'Apes', 'apparant', 'A', 'councell', 'consent', 'these', 'sake', 'standing', 'Royall', 'bin', 'Write', 'wilt', 'enemy', 'consequence', 'Louers', 'disconsolate', 'Concaue', 'Aule', 'lusty', 'raise', 'faults', 'rabblement', 'Ne', 'hauocke', 'Affections', 'wisely', 'Storme', 'shrew', 'breath', 'deceitfull', 'Searching', 'necessary', 'womans', 'Louer', 'By', 'to', 'harke', 'Cynna', 'Instruments', 'Tide', 'most', 'hill', 'sauing', 'gouern', 'preuention', 'Shores', 'sufficeth', 'Ill', 'pearch', 'Lionnesse', 'turn', 'marke', 'Feare', 'Citizens', 'Cic', 'legges', 'Banquetting', 'Clocke', 'Mess', 'neuer', 'proclaime', 'pre', 'seen', 'Cause', 'woman', 'Forget', 'heed', 'minde', 'Iades', 'humble', 'after', 'couchings', 'Sinewes', 'Vnshak', 'mean', 'vse', 'inroll', 'Nor', 'Tyrannie', 'at', 'thine', 'Say', 'sweetly', 'Get', 'Ages', 'darknesse', 'boldest', 'whit', 'Dinner', 'sufferance', 'Forgets', 'number', 'curse', 'none', 'Testie', 'Cob', 'patience', 'vnborne', 'Land', 'Rauens', 'Honourably', 'Glasses', 'Figures', 'walkes', 'old', 'proofe', 'which', 'selues', 'lyable', 'friendly', 'glanced', 'Lucil', 'Hearts', 'secret', 'taken', 'obscurely', 'Slumber', 'sawcie', 'Conquests', 'Cautelous', 'Necessary', 'hedge', 'obseru', 'Yea', 'Beauty', 'flattery', 'as', 'causes', 'sent', 'best', 'exploit', 'Bequeathing', 'beyond', 'throng', 'moe', 'reioyce', 'Twas', 'Kinde', 'sting', 'Battell', 'Eye', 'threat', 'Worthinesse', 'while', 'See', 'dang', 'Bones', 'contented', 'Ides', 'glory', 'hinder', 'attaines', 'threw', 'Mend', 'ragge', 'Make', 'hazards', 'dye', 'kindle', 'wel', 'aboue', 'outward', 'Aye', 'Audience', 'Asse', 'Mur', 'oh', 'offer', 'same', 'go', 'Held', 'Hand', 'Faction', 'brook', 'know', 'sickly', 'cheere', 'compact', 'Rocke', 'deckt', 'want', 'lies', 'Lest', 'Post', 'healthfull', 'speed', 'Napkins', 'lyes', 'Ventures', 'fierie', 'harme', 'First', 'bold', 'wait', 'catching', 'chose', 'more', 'whilst', 'Wolfe', 'thus', 'disclose', 'afterwards', 'question', 'Plebeians', 'Forrest', 'Tent', 'downe', 'Fates', 'prepare', 'Vniuersall', 'thy', 'speakes', 'newes', 'Check', 'vngently', 'Mountaine', 'Exit', 'pray', 'agen', 'reade', 'Father', 'recouer', 'brow', 'Faces', 'lowly', 'went', 'laught', 'coniur', 'fat', 'Run', 'bosomes', 'knock', 'Truely', 'Fla', 'onely', 'thicke', 'impatiently', 'Captiuitie', 'Ye', 'meere', 'Sit', 'Decius', 'Musicke', 'meane', 'doe', 'Ciuill', 'fine', 'Flowers', 'illuminate', 'exigent', 'Rascall', 'Army', 'Princes', 'Actus', 'Conceptions', 'happy', 'thee', 'presse', 'Else', 'Onely', 'chace', 'Might', 'Gray', 'falser', 'defend', 'back', 'Ague', 'weepe', 'ere', 'Parchment', 'Lustre', 'returne', 'displeas', 'Walls', 'Shrunke', 'hearing', 'Dishonor', 'Alliance', 'Tempests', 'con', 'affayres', 'wretched', 'Him', 'replication', 'Mothers', 'followed', 'Julius', 'He', 'Seldome', 'rid', 'Signifies', 'Vow', 'hauing', 'Element', 'them', 'rest', 'Gentlemen', 'earnest', 'twenty', 'watch', 'wrong', 'Drachmaes', 'vnscorch', 'Por', 'Friendship', 'Clau', 'without', 'Pardon', 'idle', 'Legacie', 'inuenomed', 'deerely', 'Warres', 'Crowes', 'meditates', 'Peoples', 'Not', 'turne', 'Sutors', 'Was', 'Maiesticke', 'ye', 'Render', 'prick', 'iudgement', 'fresh', 'bad', 'vertue', 'lowe', 'pitty', 'downward', 'chew', 'Physicall', 'view', 'FINIS', 'bee', 'appeare', 'Tyrant', 'East', 'ly', 'Reueller', 'loues', 'stal', 'Answering', 'deepe', 'left', 'Erebus', 'smiles', 'third', 'am', 'Appetite', 'Anchyses', 'Alchymie', 'Trees', 'armes', 'Wilt', 'mindes', 'minded', 'purpled', 'euill', 'thou', 'fear', 'describ', 'shooes', 'Talke', 'Flye', 'Honorable', 'feeble', 'dismember', 'away', 'Acte', 'Wonders', 'Reuenge', 'Ride', 'hung', 'single', 'intrailes', 'Serpents', 'pleasure', 'Fooles', 'Offering', 'learn', 'Stoop', 'Reasons', 'vtterance', 'hopes', 'hang', 'danke', 'crost', 'Vtterance', 'Thewes', 'fret', 'straight', 'indure', 'Order', 'imminent', 'Barren', 'because', 'browes', 'Wil', 'dispos', 'hide', 'Metel', 'fell', 'ruddy', 'hearke', 'doubt', 'An', 'toward', 'Liberties', 'scorning', 'Rest', 'Fast', 'Whose', 'bayed', 'rash', 'Yond', 'Retreat', 'ranke', 'dismisse', 'your', 'cry', 'Verses', 'repose', 'rous', 'Vnicornes', 'holy', 'Spleene', 'engendred', 'th', 'strew', 'eating', 'Thunders', 'Soft', 'Ingratitude', 'Mark', 'feare', 'Secrets', 'showted', 'Holiday', 'Antonies', 'Chayre', 'Cynicke', 'constant', 'seest', 'attaine', 'hoe', 'Murellus', 'Art', 'cruell', 'Spoyle', 'spurne', 'Girle', 'like', 'slaue', 'swore', 'vile', 'stomackes', 'hie', 'gently', 'Assembly', 'Giuing', 'man', '2', 'Tooke', 'blame', 'Contribution', '-', 'Flames', 'Showting', 'mooue', 'Messala', 'Seruant', 'effect', 'You', 'conioyntly', 'valour', 'stirr', 'touched', 'their', 'Louing', 'sounded', 'Pretors', 'Harlot', 'seat', 'Chaire', 'Torrent', 'duty', 'greeuous', 'buy', 'Honours', 'laments', 'pay', 'bleeding', 'Linkes', 'shrewdly', 'Exeunt', 'Rawe', 'Sisters', 'peepe', 'Pub', 'Sacrificers', 'enlarge', 'vngentle', 'worthier', 'sleepy', 'Rubbish', 'dreamt', 'cancell', 'couert', 'euerlasting', 'foam', 'apprehensiue', 'accidentall', 'chanc', 'Glory', 'Least', 'keepe', 'Madman', 'Titinius', 'neerer', 'Enter', 'pitteous', 'Sinke', 'thank', 'Cogitations', 'kisse', 'charme', 'vnderstood', 'power', 'Passion', 'laugh', 'Cassius', 'threats', 'Treason', 'Three', 'become', 'Octauius', 'home', 'beat', 'Poet', 'Power', 'vanishest', 'Artimedorus', 'greater', 'faint', 'Cry', '(', 'Terror', 'betweene', 'Within', 'worthy', 'attempt', 'Counters', 'Song', 'taught', 'bolts', 'indifferently', 'Sex', 'consorted', 'Billes', 'men', 'Titin', '.', 'Mistrust', 'Accoutred', 'wine', 'Tharsus', 'come', 'Story', 'Choller', 'Leather', 'Therefore', 'goe', 'Field', 'pleasing', 'addrest', 'Heauens', 'Name', 'Wrath', 'Br', 'about', 'cuts', 'Mirth', 'Friend', 'drawing', 'presence', 'prize', 'share', 'Melancholies', 'repute', 'forget', 'Iron', 'Base', 'Cin', 'better', 'surest', 'Throat', 'Lookes', 'conceited', 'soule', 'said', 'kill', 'Kingdome', 'These', 'Voyce', 'flash', 'natiue', 'decay', 'Visage', 'Sham', 'Hounds', 'Ple', 'cursed', 'Point', 'Tis', 'when', 'Vrge', 'fooles', 'money', 'waste', 'betimes', 'Genius', 'Wee', 'Supper', 'note', 'deeds', 'presented', 'Volumnius', 'errand', 'Tut', 'st', 'Oct', 'Sold', 'indeede', 'often', 'Immediately', 'mutiny', 'if', '1599', 'growing', 'ground', 'Heard', 'below', 'Vpon', 'Armes', 'wayes', 'thinke', 'fuller', 'Bribes', 'subtle', 'After', 'School', 'Rhewmy', 'afear', 'Contaminate', 'Scarffes', 'behold', 'owe', 'crowd', 'Streets', 'foolish', 'soyle', 'Sleeue', 'cannot', 'Flatterer', 'meate', 'quality', 'tyed', 'Next', 'Praetors', 'Dungeon', 'regard', 'determine', 'decline', 'misgiuing', 'oath', 'stoope', 'hony', 'Impatient', 'wherein', 'set', 'property', 'reuerence', 'shew', 'very', 'swimme', 'Rome', 'found', 'sayd', 'early', 'Ere', 'streete', 'Miseries', 'Study', 'mock', 'runne', 'Reuiuing', 'cumber', 'nights', 'decree', 'repeale', 'ope', 'Ruines', 'Carkasse', 'horrid', 'Crown', 'bloods', 'Lowlynesse', 'Formost', 'satisfaction', 'wasted', 'South', 'plunged', 'Bees', 'Come', 'Honor', 'Cai', 'round', 'interpreted', 'Domesticke', 'intended', 'vnto', 'stolne', 'please', 'Sutor', 'refuse', 'expect', 'pleas', 'houre', 'Souldier', 'young', 'Course', 'sighted', 'Liuing', 'selfe', 'grace', 'Gentle', 'Lethee', 'Can', 'Fire', 'Oath', 'strife', 'burneth', 'stricken', 'Both', 'lofty', 'no', 'vndone', 'Luc', 'entire', 'Oration', 'Orchards', 'purposes', 'digest', 'gone', 'Lepidus', 'businesse', 'Sparke', 'wrought', 'bestride', 'but', 'sad', 'determined', 'will', 'refus', 'threatning', 'lips', 'death', 'Stay', 'Senators', 'Neighbors', 'rushing', 'faile', 'Bondman', 'seem', 'Market', 'mouths', 'deriu', 'rose', 'Graues', 'side', 'arriu', 'Prophesie', 'gowne', 'glow', 'acrosse', '!', 'she', 'Robe', 'bowle', 'shadow', 'Fare', 'Pricke', 'grasped', 'heare', 'Hath', 'vision', 'apply', 'Prepare', 'Eagles', 'Birds', 'burnes', 'Pray', 'pitch', 'signified', 'Popil', 'sawcy', 'perils', 'As', 'sham', 'roar', 'saying', 'Sentence', 'daggers', 'consum', 'befall', 'tops', 'fed', 'fire', 'infranchisement', 'Torch', 'Capitoll', 'Wife', 'Officers', 'proscriptions', 'Masters', 'married', 'desires', 'thrusting', 'Coward', 'buried', 'refresht', 'you', 'poor', 'Mid', 'borne', 'One', 'Claudio', 'Read', 'Himselfe', 'Makes', 'arguing', 'peeuish', 'carue', 'Listen', 'Strooke', 'Childe', 'compasse', 'trouble', 'Wine', 'abide', 'Companies', 'great', 'Insurrection', 'vppe', 'contriue', 'street', 'ashamed', 'Triall', 'lawfull', 'purchase', 'gallant', 'Aeneas', 'growne', 'Outlarie', 'mayest', 'another', 'suppe', 'c', 'grone', 'Plucking', 'ingag', 'Ancestor', 'bloody', 'drawes', 'Right', 'tempted', 'needs', 'leaue', 'sure', 'mettle', 'Dewes', 'Cloakes', 'withal', 'Wood', 'watchfull', 'pluck', 'Transformed', 'Messa', 'wide', 'Testament', 'Made', 'stop', 'spoyle', 'disposing', 'straite', 'playes', 'lacks', 'tell', 'Cass', 'I', 'Portia', 'thinkes', 'Without', 'yeelded', 'remaine', 'hard', 'Ayre', 'Speech', 'Surgeon', 'construe', 'From', 'Where', 'indeed', 'Cobler', 'loads', 'yond', 'till', 'opinions', 'houres', 'sicken', 'summes', 'yoake', ']', 'Crowne', 'Clit', 'how', 'Quarrell', 'Sheepe', 'Sure', 'Players', 'of', 'Beggers', 'applauses', 'opens', 'runnes', 'Thy', 'Starres', 'Writings', 'petty', 'abuse', 'Millions', 'Soldiers', 'Taper', 'seene', 'Begin', 'betray', 'acte', 'Nobler', 'pale', 'loued', 'Meales', 'Publius', 'simple', 'Witnesse', 'peeces', 'sodainly', 'Against', 'benefit', 'breathed', 'fold', 'Anger', 'sickely', 'motion', 'vnder', 'start', 'reuenge', 'Legacies', 'presume', 'learne', 'iust', 'Ensigne', 'Clouds', 'Sooth', 'bleed', 'disperse', 'Towres', 'brutish', 'Lena', 'vouchsafe', 'Sea', 'melting', 'Trade', 'bleede', 'met', 'His', 'flame', 'dreadfull', 'Error', 'knot', 'slaying', 'Stra', 'blacke', 'portents', 'quite', 'Heart', 'scope', 'mou', 'him', 'warre', 'calles', 'crouch', 'apt', 'prickt', 'beene', 'Enemy', 'yee', 'Iulius', 'vnbraced', 'sleep', 'labouring', 'Caesars', 'enter', 'Closset', 'slew', 'But', 'Cowards', '[', 'doubtfull', 'barren', 'Produce', 'Wherein', 'large', 'Garland', 'threaten', 'painted', 'Captiue', 'looke', 'seuenty', 'Thorough', 'Things', 'condemn', 'Straine', 'reasons', 'Epicurus', 'grug', 'Romans', 'Falling', 'stake', 'hollow', 'Wheeles', 'amisse', 'vpward', 'Spirit', 'voluntary', 'nice', 'Tents', 'Vnto', 'impossible', 'shriller', 'instances', 'Sennet', 'Parthia', 'groaning', 'Monarkes', 'Into', 'depend', 'offended', 'discard', 'staine', 'breefely', '&', 'purpose', 'Sheath', 'Conquest', 'Coffers', 'Gods', 'soft', 'purpos', 'prostrate', 'loose', 'Mine', 'acting', 'withall', 'becomes', 'resolu', 'Out', 'roome', 'false', 'firme', 'whether', 'tardie', 'mans', 'Pompeyes', 'my', 'Sennit', 'Winters', 'before', 'rule', 'Coffin', 'Sawce', 'aduantage', 'Shall', 'Whether', 'Cheeke', 'giue', 'King', 'finde', 'Priests', 'euerie', 'deere', 'Staines', 'shouting', 'mourne', 'Bending', 'sometime', 'Primus', 'second', 'Reason', 'Wisedome', 'constantly', 'Doore', 'Lines', 'prou', 'fiery', 'Holyday', 'Letters', 'swell', 'And', 'Meerely', 'aswell', 'Villager', 'asleepe', 'Traitor', 'sirra', 'Apparrell', 'Naturall', 'Fly', 'Beads', 'sirs', 'dayes', 'sawe', 'Euery', 'scolding', 'Thunder', 'feast', 'canst', 'Foe', 'againe', 'quartered', 'piece', 'Shaking', 'Heare', 'wrangle', 'arises', 'rests', 'Fill', 'Comets', 'stubborne', 'Elbowes', 'Twere', 'dying', 'pocket', 'Et', 'Battaile', 'Whiles', 'nor', 'Immortall', 'thinking', 'marching', 'draw', 'bed', 'bestow', 'limitation', 'scap', 'Prisoner', 'Skies', 'Griefe', 'Firmament', 'Tu', 'possible', 'Death', 'themselues', 'disgest', 'walke', 'disclos', 'meete', 'Haue', 'wholsome', 'places', 'an', 'Th', 'meanes', 'defeat', 'vanished', 'space', 'can', 'Traine', 'Rudenesse', 'Tyber', 'Braue', 'enuy', 'hisse', 'yours', 'Weighing', 'mortified', 'Hindes', 'Dreame', 'Fountaine', 'water', 'Ouer', 'clapp', 'Looke', 'THE', 'acquainted', 'faire', 'proceeded', 'Oakes', 'Musing', 'Gate', 'pause', 'perswasion', 'thrice', 'bright', 'off', 'Feast', 'seruile', 'shreeking', 'Stones', 'Deeds', 'kinde', 'Waspish', 'salutation', 'neyther', 'Flauio', 'abridg', 'awake', 'Be', 'baite', 'Brut', 'perhaps', 'sayings', 'With', 'Enemies', 'Ioy', 'voyce', 'star', 'Rites', 'heere', 'knottie', 'steale', 'clocke', 'ber', 'thought', 'out', 'mischieuous', 'teares', 'yawn', 'farewell', 'led', 'Warre', 'besmeare', 'slippery', 'nimblenesse', 'Motion', 'weake', 'climb', 'trod', 'Caius', 'cold', 'hands', 'Peace', 'Age', 'Squadrons', 'prodigious', 'Carpenter', 'wonderfull', 'wring', 'immediate', 'chance', 'points', 'Ordinance', 'Cushions', 'crosse', 'Charractery', 'farther', 'lacke', 'Man', 'Respect', 'answere', 'company', 'Charges', 'Rage', 'Soule', 'guesse', 'Before', 'let', 'Our', 'warnings', 'ruffle', 'passe', 'heyres', 'arming', 'disprooue', 'Clymate', 'vnassayleable', 'intend', 'stinglesse', \"'\", 'Accents', 'sighing', 'Foolerie', 'stayes', 'Generals', 'Dine', 'Varrus', 'dropt', 'close', 'slip', 'swet', 'beares', 'Dish', 'pleasures', 'driuen', 'wee', 'grudge', 'Thoughts', 'beast', 'Thrice', 'Thorow', 'Troy', 'Brother', 'cast', 'annoying', 'yeelds', 'Elephants', 'rent', 'qualitie', 'squeale', 'Lord', 'world', 'Phantasma', 'Conditions', 'Messengers', 'might', 'Alarums', 'choak', 'Roome', 'While', 'Flauius', 'truely', 'burne', 'Venom', 'ease', 'Coniure', 'aliue', 'Spurre', 'worth', 'Lippes', 'groane', 'smell', 'Season', 'Carrions', 'promise', 'On', 'Pulpits', 'hugge', 'serues', 'sound', 'sauage', 'vnaccustom', 'Closet', 'Leafe', 'Volum', 'yoaked', 'sterner', 'Hilles', 'Clowds', 'strength', 'contagion', 'dropping', 'vnpurged', 'humor', 'richest', 'hole', 'Day', 'shake', 'ears', 'buffet', 'fawning', 'Iustice', 'The', 'Cymber', 'spurres', 'Pulpit', 'Sound', 'ioynes', 'fortunate', 'Meet', 'answered', 'Lye', 'defence', 'partly', 'foot', 'taking', 'Papers', 'store', 'Hated', 'Flourish', 'manner', 'Boy', 'touches', 'shouted', 'appertaine', 'youthfull', 'propos', 'plague', 'loue', 'feeds', 'full', 'Vulgar', 'towards', 'Layest', 'mocke', 'Willes', 's', 'Then', 'blood', 'such', 'Dreamer', 'makes', 'Chasticement', 'flearing', 'Hony', 'partake', 'offences', 'Cas', 'Men', 'affrighted', 'Messenger', 'pricke', 'So', 'Petitions', 'Rushing', 'guilty', 'marrie', 'appeas', 'Marcus', 'demand', 'Kneele', 'Fury', 'heads', 'nature', 'witnesse', 'curtsies', 'shed', 'Cannot', 'Feathers', 'bay', 'Censure', 'Funerall', 'Regions', 'bonds', 'vntill', 'bid', 'haue', 'part', 'whom', 'beloued', 'told', 'Firebrands', 'locke', 'ouer', 'factious', 'slewe', 'Seruants', 'Draw', 'Rankes', 'Torches', 'Ile', 'pluckt', 'Marriage', 'Coine', 'streetes', 'voyces', 'Doublet', 'Tertius', 'swallow', 'slumber', 'battailes', 'sirrah', 'word', 'among', 'teare', 'intreat', 'Neats', 'dum', 'touching', 'tane', 'choose', 'sweet', 'Showts', 'Any', 'infirmities', 'seemes', 'hurle', 'merrily', 'louest', 'foule', 'lift', 'hungry', 'gentlenesse', 'fashion', 'Selues', 'fam', 'plaine', 'disposed', 'Angel', 'ordered', 'egge', 'rightly', 'Natures', 'Channell', 'Stonie', 'indirection', 'Doing', 'seal', 'Cask', 'wauing', 'certaine', 'receiued', 'past', 'Workman', 'Soothsayer', 'true', 'neede', 'stab', 'blow', 'World', 'There', 'posture', 'Palme', 'Those', 'vnfirme', 'naughty', 'vrg', 'thing', 'Shakes', 'marry', 'Coronets', 'Ransomes', 'remain', 'To', 'euen', 'corporall', 'Billow', 'Beare', 'muffling', 'Villains', 'value', 'Dardanius', 'Humour', 'fond', 'speak', 'strong', 'beaten', 'craues', 'strengthen', 'reares', 'doore', 'neither', 'crooked', 'worthles', 'fellow', 'Labio', 'ended', 'Through', 'Mechanicall', 'streame', 'troubled', 'impart', 'hates', 'rul', 'driues', 'Quartus', 'cryed', 'sayes', 'Toyles', 'Vs', 'Weeping', 'fill', 'Cicero', 'Dogges', 'send', 'dint', 'Antonio', 'mightie', 'trembled', 'charge', 'leades', 'wofull', 'drawne', 'Foes', 'according', 'Murd', 'leape', 'head', 'likes', 'confidence', 'de', 'Commoners', 'shot', 'Bondmen', ',', 'Wrathfully', 'whatsoeuer', 'safe', 'fir', 'Disrobe', 'professe', 'safely', 'right', 'Clitus', 'Guide', 'graunt', 'dreampt', 'yeares', 'opinion', 'Mother', 'Therein', 'astonish', 'meditating', 'Glasse', 'wildenesse', 'ordinary', 'Quite', 'gastly', 'knew', 'Brow', 'ascended', 'begins', 'stares', 'sway', 'Conspirators', 'Augurers', 'begge', 'Stole', 'appearing', 'ayre', 'whil', 'visit', 'sights', 'rated', 'enterred', 'followes', 'neglect', 'humour', 'moneths', 'sutor', 'liu', 'foorth', 'Sword', 'Games', 'Butchers', 'Enuy', 'deerer', 'saue', 'Secundus', 'reeke', 'tokens', 'Theatre', 'Climber', 'affection', 'Conscience', 'greefe', 'blew', 'Arbors', 'com', 'Choice', 'weary', 'Farre', 'Loines', 'All', 'Obseruer', 'hence', 'whose', 'Greatnesse', 'chide', 'Load', 'prouidence', 'forth', 'bootlesse', 'touch', 'earth', 'mouth', 'eruptions', 'speech', 'Lightning', 'not', 'Limbes', 'stands', 'friend', 'guard', 'Tyrants', 'Scene', 'hath', 'ranging', 'History', 'thirsty', 'Metellus', 'confesse', 'Backe', 'little', 'many', 'insisted', 'immediately', 'care', 'fast', 'proper', 'Commons', 'reades', 'enforc', 'Leade', 'Limbe', 'vntrod', 'malice', 'tremble', 'Split', 'Should', 'held', 'shrieke', 'promis', 'Treb', 'be', 'mortall', 'bar', 'Endure', 'Am', 'dust', 'Fulfill', 'Barres', 'sodaine', 'smiling', 'Drum', 'Canst', 'Put', 'intermit', 'knowne', 'spot', 'Doomesday', 'Woman', 'fears', 'Dar', 'point', 'ouerthrowne', 'still', 'trickes', 'menace', 'scratch', 'Bloods', 'wer', 'Ceremony', 'glad', 'fingers', 'Ceremonies', 'Kill', 'Captiues', 'vexeth', 'ambitious', 'besides', 'Reply', 'Would', 'Clamors', 'rather', 'Actors', 'wisht', 'Brands', 'Noblest', 'breed', 'begin', 'annoy', 'Dew', 'droppes', 'Think', 'call', 'spouts', 'bury', 'Hats', 'Formes', 'Honour', 'whereof', 'moou', 'who', 'Deci', 'About', 'hazard', 'Friends', 'howre', 'Window', 'Whil', 'costly', 'setting', 'Warriours', 'parley', 'Ancestors', 'Night', 'Philippi', 'Offall', 'lost', 'Mart', 'silent', 'Daggers', 'deale', 'Sleepe', 'see', 'honourable', 'Performance', 'common', 'wherfore', 'sought', 'discouer', 'thaw', 'Benches', 'Dogge', 'redresse', 'cooling', 'vs', 'cause', 'Ambition', 'Statue', 'Reflection', 'lay', 'yesterday', 'keepes', 'incompast', 'Swords', 'Measure', 'obserue', 'Entrailes', 'thousand', 'instantly', 'Caska', 'cut', 'Attempts', 'proceede', 'write', 'execution', 'aueng', 'Euening', 'warning', 'breathlesse', 'Helpe', 'piercing', 'Sweare', 'At', 'saw', 'Wherefore', 'angry', 'insupportable', 'Submitting', 'Marke', 'safety', 'Diuell', 'willing', 'arose', 'Fray', 'immortall', 'ill', 'Or', 'Occupation', 'deafe', 'Loe', 'Dagger', 'tarry', 'auoyd', 'light', 'vnderlings', 'blaze', 'forme', 'woe', 'Euer', 'proud', 'shold', 'night', 'within', 'chidden', 'Had', 'smallest', 'Opinion', 'Browes', 'fault', 'marr', 'In', 'a', 'shooke', 'Ladder', 'words', 'women', 'yeeres', 'Ambitious', 'offered', 'lose', 'haire', 'Tell', 'Fled', 'pul', 'wing', 'Mighty', 'straine', 'smil', 'streets', 'Directly', 'Gustie', 'formall', 'feete', 'glaz', 'Cinna', 'Saue', 'hideous', 'alwayes', 'throw', 'leads', 'Steele', 'sports', 'Benefit', 'fit', 'Shallowes', 'Bed', 'wound', 'perillous', 'hate', 'bankes', 'Free', 'peace', 'passions', 'improue', 'brought', 'Valiant', 'wounds', 'riu', 'steele', 'carelesly', 'Hunters', 'alreadie', 'instigations', 'reueng', 'brim', 'gaze', 'd', 'fawn', 'vp', 'done', 'preuaile', 'combin', 'striue', 'houses', 'vrge', 'tooke', 'Letter', 'Successe', 'sober', 'Alasse', 'incorporate', 'health', 'Speak', 'fearefulnesse', 'Horsemen', 'Husbands', 'Brasse', 'vseth', 'whisper', 'bang', 'vnfold', 'stay', 'bow', 'vnkindely', 'entreated', 'receyuing', 'Contriuer', 'spare', 'against', 'Triumphes', 'plucke', 'hart', 'praising', 'rise', 'Dangers', 'Teeth', 'loosing', 'vpper', 'Morning', 'Playes', 'Apparition', 'voyd', 'leuying', 'life', 'Thou', 'chides', 'think', 'infus', 'Shout', 'Ocean', 'stuffe', 'dy', 'burst', 'farthest', 'ran', 'credit', 'vildely', 'names', 'Sonne', 'Skie', 'too', 'Canopy', 'CaeSAR', 'shame', 'Manet', 'liberty', 'warne', 'stretch', 'Because', 'presently', 'bones', 'fetch', 'Controuersie', 'buzzing', 'mo', 'Tyranny', 'forgaue', 'put', 'recount', 'cryedst', 'whelped', 'sir', 'worke', 'slaughter', 'float', 'Are', 'feede', 'Seeke', 'sees', 'friends', 'seeke', 'furnish', 'engagements', 'greeue', 'sleepe', 'swoonded', 'wife', 'Cowardly', 'ore', 'sicke', 'raw', 'Companion', 'behinde', 'bring', 'Call', 'huge', 'Sawcy', 'vnmeritable', 'reputed', 'noyse', 'Thus', 'suffered', 'temper', 'warie', 'henceforth', 'Blockes', 'personall', 'Chollericke', 'Hart', 'deaths', 'taste', 'Decree', 'Walles', 'ascend', 'so', 'O', 'shewes', 'Wise', 'practice', 'rendred', 'comes', 'Charge', 'hundred', 'William', 'Fantasies', 'Teare', 'Drinkes', 'Boldly', 'Great', 'Ha', 'Grauity', 'fatall', 'Beware', 'Time', 'in', 'though', 'reading', 'necessities', 'Doe', 'beware', 'Hell', 'Now', 'Spaine', 'fight', 'worst', 'Dies', 'whizzing', 'concluded', 'brau', 'Sign', 'offence', 'pittifull', 'semblance', 'Profession', 'shadowes', 'banished', 'Grant', 'count', 'his', 'commit', 'where', 'mourn', 'm', 'Brest', 'Hearse', 'feele', 'Tragedie', 'report', 'stone', 'Tongue', 'forgot', 'Which', 'Interim', 'grey', 'breake', 'body', 'praying', 'strucke', 'expounded', 'Instrument', 'bouge', 'Country', 'Troopes', 'apace', 'Life', 'Modestie', 'teach', 'Proscription', 'basest', 'peece', 'eares', 'fifteene', 'rude', 'crown', 'Expedition', 'Bird', 'Tapor', 'Particle', 'Mes', 'endure', 'Cly', 'Humor', 'Ghost', 'calculate', 'vnknowne', 'diuided', 'Addition', 'strange', 'could', 'signe', 'issue', 'Seale', 'any', 'mischiefe', 'Another', 'Batchellor', 'darke', 'Thigh', 'Memory', 'scandall', 'heereafter', 'According', 'Reliques', 'wrongs', 'earely', 'directly', 'It', 'hot', 'honest', 'reflection', 'respect', 'infirmitie', 'ought', 'Fit', 'Ant', 'sinke', 'narrow', 'Vouchsafe', 'red', 'Mischeefes', 'Generall', 'me', 'gentle', 'on', 'She', 'Vndeseruers', 'hatefull', 'morning', 'protest', 'seruice', 'tongue', 'Defiance', 'brings', 'Besides', 'y', 'Griefes', 'Bargaine', 'befriend', 'fright', 'shapes', 'kissing', 'things', 'turning', 'course', 'euery', 'smatch', 'truth', 'assure', 'stinking', 'Better', 'planted', 'Met', 'both', 'bosome', 'depart', 'Elders', 'Cassi', 'amaz', 'what', 'try', 'sparkes', 'niggard', 'Madam', 'Affabilitie', 'How', 'spectacle', 'age', 'steeds', 'distract', 'Batchellour', 'lodge', 'base', 'drowsily', 'Lep', 'Commanders', 'three', 'curtesie', 'leaden', 'Trebonius', 'Fierce', 'Were', 'Starre', 'Strawes', 'Leape', 'amaze', 'had', 'preuent', 'Ghosts', 'faine', 'we', 'worthinesse', 'palter', 'hew', 'Caesar', 'Infants', 'fauour', 'tending', 'degrees', 'Stand', 'Crests', 'eagerly', 'liuing', 'yong', 'seeme', 'notwithstanding', 'why', 'haste', 'Iigging', 'putting', 'Tower', 'mee', 'wander', 'sweare', 'along', 'added', 'necke', 'Farewell', 'resort', 'Seek', 'smile', 'Summers', 'em', '4', 'Confines', 'Walkes', 'Constancie', 'Ring', 'yet', 'making', 'Winds', 'murther', 'cride', 'hangs', 'Speake', 'Laughter', 'roares', 'winde', 'Set', 'rob', 'pardon', 'sicknesse', 'heares', 'strike', 'meddle', 'lowest', 'Let', 'Murderers', 'returning', 'spurre', 'Brothers', 'Patient', 'Like', 'shell', 'spirited', 'dost', 'freedome', 'Behauiours', 'Sir', 'impatience', 'Breefely', 'Incenses', 'Perils', 'Barke', 'omnes', 'answer', 'Statillius', 'morrow', 'Co', 'shall', 'hastie', 'honour', 'When', 'seuerally', 'take', 'that', 'hidden', 'Rumor', '?', 'bethinke', 'desir', 'eate', 'need', 'Strato', 'free', 'Haile', 'Romane', 'Complexion', 'beare', 'Liberty', 'brauery', 'entertaine', 'Nature', 'Noone', 'March', 'Masker', 'Gates', 'people', 'looking', 'Armies', 'Bond', 'Soules', 'Welcome', 'dull', 'Loue', 'eternall', 'terror', 'else', 'bondman', 'Citizen', 'liable', 'Conspiracie', 'Pluto', 'diuers', 'search', 'Body', 'place', 'order', 'Action', 'Cleane', 'preuayl', 'tear', 'Remember', 'knee', 'Fathers', 'deseru', 'encounter', 'pure', 'Whilst', 'vpon', 'otherwise', 'Recounts', 'shape', 'soundly', 'vanish', 'Numbers', 'Flatterers', 'Treasure', 'whilest', 'enemies', 'allow', 'generall', 'sight', 'Strike', 'Countries', 'cloake', 'thriue', 'lane', 'moued', 'Giue', 'misconstrued', 'Reuels', 'North', 'far', 'nothing', 'Mischeefe', 'Silence', 'proceeding', 'preferre', 'Cæsar', 'Prouender', 'What', 'heede', 'Kites', 'Olympus', 'dwell', 'Tending', 'Take', 'deed', 'Apron', 'giues', 'entreat', 'establish', 'tag', 'Iudge', 'sorrow', 'liues', 'look', 'Lightens', 'Fetch', 'That', 'Away', 'danger', 'Neuer', 'Ambitions', 'Fault', 'last', 'Cup', 'spirits', 'counsell', 'Villaine', 'Elder', 'Dost', 'Mace', 'extremities', 'wash', 'Sardis', 'hearts', 'Bid', 'Cobble', 'seru', 'Oathes', 'tempt', 'Protester', 'Kingly', 'headed', 'throwes', 'Came', 'push', 'wish', 'ho', 'Alarum', 'kneele', 'Plucke', 'Spaniell', 'Marry', 'paid', 'rich', 'has', 'Bastard', 'Gowne', 'prythee', 'stomacke', 'Follow', 'flourish', 'higher', 'Passe', 'Offices', 'kil', 'Businesse', 'Tit', 'Ranke', 'beside', 'fields', 'Sirs', 'seuerall', 'rime', 'enough', 'gliding', 'Cals', 'Hibla', 'Var', 'backe', 'ne', 'compell', 'ouercame', 'Kerchiefe', 'Abuse', 'Cal', 'Honors', 'Vertue', 'formed', 'knocks', 'Predictions', 'couer', 'Tributaries', 'honors', 'eare', 'wast', 'sonne', 'Dash', 'soules', 'senslesse', 'sayst', 'Basis', 'Sway', 'shout', 'tearmes', 'make', 'Scoena', 'House', 'maine', 'Horse', 'hope', 'patient', 'Nay', 'hurtled', 'Couetous', 'For', 'eyes', 'mine', 'descend', 'Breast', ':', 'holds', 'alas', 'Nothing', 'begun', 'remaines', 'More', 'Dard', 'trust', 'some', 'is', 'Beleeue', 'strikes', 'art', 'absence', 'soundlesse', 'wafter', 'those', 'slighted', 'ours', 'foame', 'Offence', 'wise', 'bowl', 'wounded', 'heap', 'Wiues', 'Apt', 'fiue', 'Vexed', 'arriue', 'speake', 'Cyn', 'Sacrifice', 'Cognisance', 'begg', 'stood', 'Faith', 'Answer', 'greets', 'Curse', 'slaine', 'Lambe', 'ioy', 'Greeke', 'sland', 'Tapers', 'Paper', 'beginning', 'Yeeld', 'Fauors', 'does', 'faithfull', 'into', 'Gaue', 'losses', 'much', 'Windowes', 'weeping', 'speaking', 'Assemble', 'Crying', 'Conquerors', 'did', 'Pit', 'bound', 'ninth', 'Smiles', 'Corpes', 'Good', 'dangers', 'Moone', 'vtmost', 'hand', 'Bosome', 'Fashion', 'welcome', 'thoughts', 'die', 'brauely', 'Sardians', 'wreath', 'discomfort', 'Wit', 'stemming', 'Birth', 'braines', 'loath', 'Resolution', 'deny', 'Walke', 'here', 'Leaue', 'confounded', 'whole', 't', 'Horsses', 'inflame', 'each', 'vntouch', 'vnluckily', 'Madmen', 'Among', 'Ferret', 'monstrous', 'Cato', 'waited', 'May', 'stabb', 'Legions', 'Breake', 'leade', 'inforced', 'Safe', 'foure', 'humours', 'Hill', 'Beasts', 'terrible', 'vnnumbred', 'puts', 'progresse', 'Souldiers', 'receiue', 'deuise', 'frighted', 'bowels', 'Mirrors', 'Calender', 'teethes', 'was', 'elder', 'bath', 'No', 'heard', 'Eyther', 'vnkindest', 'Vesture', 'Quintus', 'Thing', 'beleeue', 'priuate', 'Creatures', 'glories', 'it', 'Elements', 'pawse', 'pipes', 'beest', 'grant', 'hither', 'Ser', 'Cimber', 'boy', 'subiect', 'Pella', 'booke', 'puisant', 'suite', 'Deere', 'ripe', 'courtesies', 'extenuated', 'deliuer', 'conceit', 'tried', 'Northerne', 'Earth', 'together', 'Schoole', 'Enterprize', 'Know', 'Peazants', 'chopt', 'Purgers', 'Battailes', 'Hilts', 'sport', 'once', 'Awake', 'Creature', 'Robbers', 'soare', 'Stoope', 'Tune', 'absent', 'Ruby', 'proues', 'Enuious', 'assur', 'spoke', 'agree', 'presage', 'presents', 'resting', 'Sunne', 'ouerthrow', 'Mount', 'Cuts', 'Pind', 'satisfied', 'itching', 'remember', 'ioyn', 'Pindarus', 'reason', 'speede', 'noise', 'range', 'interpose', 'must', 'losse', 'gentler', 'God', 'Moreouer', 'Eares', 'Counsels', 'matters', 'TRAGEDIE', 'dead', 'heauy', 'dare', 'walking', 'Hearke', 'repayre', 'quarter', 'matter', 'seuen', 'Tempest', 'fare', 'liued', 'Sting', 'then', 'guiltinesse', 'greeting', 'Colossus', 'flattered', 'nod', 'perceiu', 'Such', 'Rule', 'Being', 'handy', 'hee', 'discourse', 'They', 'Adder', 'Eyes', 'Depart', 'Powers', 'Opens', 'bloodie', 'thanke', 'bathe', 'slay', 'Much', 'Office', 'obey', 'redder', 'well', 'vtter', 'byrth', 'came', 'Campe', 'Poore', 'Flint', 'tyred', 'tale', 'Greefes', 'Lottery', 'tydings', 'exalted', 'oft', 'My', 'Tradesmans', 'Rout', 're', 'now', 'prepar', 'Weigh', 'yeare', 'Roman', 'quick', 'Rogues', 'Shew', 'Withall', 'drizel', 'Is', 'cried', 'forc', 'slept', 'heauie', 'weare', 'grow', 'successe', 'they', 'Dyes', 'Showt', 'Honesty', 'busie', 'render', 'comfort', 'Ate', 'Omitted', 'colour', 'Scedule', 'aside', 'next', 'mens', 'Conference', 'meeke', 'cull', 'Low', 'Signall', 'custome', 'lesse', 'Lucius', 'sowre', 'vanquish', 'bigge', 'maske', 'Of', 'quicke', 'leane', 'Knocke', 'name', 'talk', 'Coarse', 'yes', 'scorn', 'braue', 'Motiues', 'Hye', 'Brutus', 'youths', 'fasten', 'thither', 'good', 'knees', 'times', 'Glories', 'new', 'limbes', 'None', 'Ho', 'mouthes', 'Beares', 'yeeld', 'sit', 'lookes', 'Children', 'force', 'fled', 'may', 'whereto', 'Vp', 'were', 'Me', 'This', 'neere', 'Sirra', 'Senate', 'haile', 'alone', 'Danger', 'euer', 'Octa', 'Note', 'mood', 'banish', 'deede', 'Descend', 'face', 'twas', 'indifferent', 'Gorging', 'Crimson', 'conceyu', 'Powres', 'Old', 'person', 'way', 'Desiring', 'knowes', 'least', 'listen', 'smoake', 'voyage', 'Hackt', 'surly', 'sometimes', 'Comment', 'bussling', 'Noble', 'heape', 'Arts', 'Heauen', 'Fortunes', 'Here', 'dam', 'lamented', 'Imitations', 'bidding', 'do', 'augmented', 'Images', 'Buriall', 'silence', 'goes', 'proscription', 'Hoping', 'vntyr', 'through', 'Knew', 'flye', 'Bookes', 'suffering', 'satisfie', 'Pompey', 'gracious', 'Conspirator', 'feeding', 'greeuously', 'enterprize'}\n",
            "Palavras Não Repetidas Nº Livro Cesar: 3560\n"
          ],
          "name": "stdout"
        }
      ]
    },
    {
      "cell_type": "code",
      "metadata": {
        "colab": {
          "base_uri": "https://localhost:8080/"
        },
        "id": "sRid-GTpHJ-6",
        "outputId": "b48394f6-8ea2-4bdd-da0d-3cbe364207c2"
      },
      "source": [
        "hamlet_dist = set(hamlet)\n",
        "print(\"Palavras Não Repetidas Livro hamlet:\", hamlet_dist)\n",
        "print(\"Palavras Não Repetidas Nº Livro hamlet:\", len(hamlet_dist))"
      ],
      "execution_count": null,
      "outputs": [
        {
          "output_type": "stream",
          "text": [
            "Palavras Não Repetidas Livro hamlet: {'present', 'dumbe', 'Schollers', 'sending', 'maimed', 'sounds', 'maintains', 'doores', 'lone', 'Foole', 'two', 'presentment', 'Conception', 'glares', 'ayme', 'heart', 'arm', 'dangerous', 'Remorselesse', 'infected', 'encorps', 'staid', 'prey', 'fencing', 'Smoothnesse', 'time', 'Tennis', 'reuengefull', 'Murthers', 'waues', 'Pinch', 'Coarses', 'Maiestie', 'Comma', 'pursue', 'ayres', 'Simples', 'publike', 'Possesse', 'Scoenes', 'Countenance', 'wheaten', 'Sinne', 'win', 'opposite', 'day', 'bak', 'Glow', 'pernicious', 'Rosincrance', 'Tale', 'Womans', 'Compulsatiue', 'easily', 'Trophies', 'carries', 'mantle', 'wonder', 'deeme', 'Teares', 'fall', 'stand', 'Enquire', 'Carrion', 'therefore', 'driue', 'Gracious', 'conuenience', 'Element', 'starling', 'craft', 'anticipation', 'intill', 'paule', 'noted', 'Quietus', 'thicker', 'shoue', 'weepes', 'toyles', 'approue', 'picture', 'Two', 'Camelions', 'ont', 'Lawyer', 'Fiers', 'sensible', 'drop', 'Sith', 'Absent', 'Amen', 'perform', 'Pastoricall', 'Farwell', 'withdrew', 'Deluer', 'all', 'tarre', 'addresse', 'whet', 'windy', 'own', 'Iudgement', 'nerue', 'happinesse', 'short', 'Vnder', 'indued', 'eight', 'lippes', 'Summons', 'sauagenes', 'breakes', 'Fellowship', 'Strengthen', 'path', 'adaies', 'hallow', 'Fantasie', 'Protestation', 'valiant', 'growes', 'forfeite', 'vnhatch', 'twixt', 'Siluer', 'Coronation', 'Heere', 'Comes', 'occulted', 'shuffling', 'dupt', 'Admit', 'tumbled', 'vnbaited', 'treble', 'contend', 'Do', 'Beast', 'helpes', 'patches', 'creepe', 'Grapple', 'change', 'Fye', 'Foyles', 'Hee', 'host', 'harping', 'since', 'belou', 'Basket', 'waight', 'lawlesse', 'excellence', 'vowes', 'wherefore', 'vnderstanding', 'ending', 'fruitfull', 'Buzzers', 'sixeteene', 'going', 'yon', 'Organ', 'yea', 'meet', 'strucken', 'creature', 'Rore', 'Sticke', 'browes', 'pious', 'Angell', 'six', 'Most', 'smot', 'Milke', 'Orbed', 'sing', 'Orbe', 'compos', 'Guards', 'yesternight', 'quickly', 'Quilles', 'house', 'Prythee', 'creatures', 'vncharge', 'stale', 'different', 'Till', 'gau', 'dishonour', 'Obedience', 'drabbing', 'confine', 'mining', 'Minister', 'Vlcerous', 'Portall', 'debt', 'fixt', 'Will', 'resemble', 'bent', 'pace', 'blunt', 'Hatchment', 'Countrey', 'Pipe', 'clap', ')', 'beteene', 'Blood', 'auoid', 'Charme', 'winne', 'Pleasant', 'informe', 'Something', 'Sweet', 'adioyn', 'laide', 'surrender', 'Law', 'weigh', 'lash', 'owne', 'wilde', 'read', 'something', 'state', 'Belike', 'Well', 'dreames', 'remorse', 'pate', 'Tempt', 'knowe', 'Thrift', 'Richer', 'affraide', 'by', 'flat', 'crafty', 'profoundest', 'Sextons', 'enterprizes', 'contract', 'paint', 'Couch', 'passion', 'Mermaid', 'Dole', 'tride', 'Prouinciall', 'document', 'Iohn', 'Y', 'Hey', 'Mazard', 'flushing', 'amble', 'Osricke', 'almost', 'thirtie', 'excellent', 'poore', 'Lightnesse', 'Gold', 'affaire', 'dwelling', 'are', 'obseruance', 'poyson', 'Contraction', 'Shakespeare', 'Gentrie', 'fulfill', 'wheele', 'prolongs', 'Playing', 'march', 'Face', 'difference', 'findes', 'reuerted', 'Sleepes', 'wisedome', 'Yours', 'Truant', 'accesse', 'vnproportion', 'Fortinbras', 'charitable', 'rots', 'doth', 'neck', 'Bee', 'Hamlet', 'boystrous', 'desire', 'the', 'calmes', 'Treacherous', 'Diadem', 'known', 'spake', 'shockes', 'abhominably', 'stones', 'nothings', 'rare', 'Requiem', 'Bugges', 'needfull', 'aske', 'Thicke', 'Horses', 'blister', 'crowes', 'Orchard', 'deiect', 'Newes', 'grisly', 'yonger', 'Arm', 'gouerne', 'Chappell', 'Peece', 'Carde', 'defeate', 'wishes', 'Medicine', 'play', 'sworne', 'rusty', 'practises', 'Wash', 'Rendeuous', 'strooke', 'mistake', 'S', 'Sphere', 'Head', 'thunders', 'Sweets', 'Packet', 'twice', 'Doue', 'Keepes', 'vertuous', 'stretcht', 'withdraw', 'mend', 'hast', 'Keepe', 'Gumme', 'Pastorall', 'Indeed', 'beard', 'quaintly', 'slight', 'Yorick', 'Reuisits', 'Tetter', 'sinnewes', 'Desires', 'rashly', 'hits', 'Moods', 'faces', 'Elsonower', 'Speeches', 'Gambals', 'Chamber', 'Their', 'snatches', 'shrill', 'further', 'dearest', 'Hiperion', 'Doom', 'Carters', 'Owner', 'Eternity', 'request', 'Prayers', 'soone', 'vsuall', 'pursie', 'appear', 'throwing', 'deceiu', 'Pagan', 'prai', 'Vnion', 'lockes', 'enuious', 'Slaues', 'sort', 'Whore', 'Rosincran', 'Houres', 'Yong', 'yonder', 'Argall', 'Watch', 'Affront', 'vnpreuayling', 'readie', 'churlish', 'Zone', 'o', 'Question', 'high', 'Looser', 'other', 'sixe', 'get', 'tread', 'casuall', 'sollemne', 'Rich', 'Deliberate', 'Horsebacke', 'expresse', 'Thankes', 'blasted', 'maker', 'greefes', 'Houses', 'Sconce', 'neglected', 'Flaggon', 'stowed', 'Bels', 'Repent', 'obscure', 'Arme', 'run', 'moue', 'teeth', 'consider', 'Ladies', 'halfe', 'tweene', 'died', 'this', 'coated', 'waile', 'comutuall', 'Wantonnesse', 'shalt', 'Yes', 'awe', 'pittious', 'wake', 'follow', 'Haply', 'sulphurous', 'Delay', 'remembred', 'Meane', 'curiously', 'Ossa', 'Amb', 'womens', 'Inuite', 'sides', 'Frost', 'fitted', 'Decayer', 'Yet', 'becke', 'Epitaph', 'Doth', 'inquiry', 'being', 'spirit', 'laid', 'shoulders', 'Long', 'dyed', 'color', 'passionate', 'masse', 'panders', 'Ship', 'action', 'dreaded', 'Your', 'peculiar', 'watcht', 'bait', 'Gonzago', 'Iest', 'pocky', 'poure', 'abroad', 'sense', 'Answere', 'Did', 'We', 'Iigge', 'saide', 'Station', 'habite', 'Go', 'Conuert', 'Carowses', 'fro', 'impittious', 'Amber', 'nightly', 'show', 'there', 'freely', 'Inuestments', 'insert', 'worme', 'equall', 'Philosophy', 'Forme', 'lou', 'Fellow', 'woer', 'whine', 'serue', 'list', 'fretfull', 'lighted', 'Pigeon', 'lye', 'Shame', 'waterflie', 'grained', 'shoulder', 'dire', 'drinke', 'discord', 'bodykins', 'Who', 'Spirits', 'Attendant', 'dore', 'embrace', 'fantasticke', 'lender', 'Galls', 'wonted', 'passing', 'Enemie', 'courtesie', 'repent', 'Proclaimes', 'obeyes', 'blowne', 'sate', 'vttered', 'beckens', 'Giues', 'define', 'Layes', 'equiuocation', 'Start', 'Queene', 'Honest', 'and', 'Bodkin', 'blest', 'consonancy', 'wont', 'intreate', 'debate', 'eye', 'competent', 'Quick', 'sinnes', 'feares', 'dally', 'impious', 'Daughter', 'Breathing', 'Cart', 'Selfe', 'Courtier', 'tormenting', 'Rogue', 'naturall', 'court', 'knaue', 'cunning', 'verie', 'cleft', ';', 'Vnmixt', 'Sanitie', 'ar', 'Fortune', 'edge', 'Bell', 'Chorus', 'retrograde', 'Whereto', 'Some', 'sits', 'parts', 'wot', 'praise', 'Fore', 'suffers', 'Gho', 'insinuation', 'lights', 'Truly', 'Switzers', 'English', 'acquaint', 'party', 'scarse', 'for', 'should', 'State', 'dispatch', 'Rossius', 'vnskilfull', 'respects', 'fie', 'Theater', 'vilde', 'Beauties', 'Honourable', 'stronger', 'Tellus', 'wrath', 'hangers', 'weeke', 'Hold', 'Tanner', 'Euen', 'Hecuba', 'thirty', 'Bias', 'puft', 'truly', 'Abuses', 'Seeming', 'doest', 'felicitie', 'Others', 'Attendants', 'Nights', 'cheefest', 'choice', 'farre', 'closes', 'alijs', 'vnmanly', 'extent', 'Vnlesse', 'considered', 'ment', 'ioynt', 'Though', 'from', 'dreame', 'wormes', 'agreeing', 'weight', 'comming', 'Dust', 'Chanson', 'ha', 'liue', 'Camell', 'stirre', 'late', 'strings', 'commend', 'Kinne', 'keene', 'Spoakes', 'Ape', 'Cicatrice', 'Wormes', 'Fixt', 'made', 'labour', 'behauiour', 'sea', 'Mettle', 'Prima', 'Hammes', 'nutshell', 'Lost', 'vnsinnowed', 'Ones', 'outliues', 'yesty', 'collection', 'naked', 'Killes', 'Functions', 'mad', 'Tutor', 'ready', 'Labourer', 'strook', 'Yeomans', 'bunghole', 'bend', 'ask', 'content', 'Mason', 'would', 'Alas', 'Still', 'Stage', 'long', 'cheff', 'talke', 'Ham', 'Bar', 'termes', 'mighty', 'soil', 'Actor', 'indiscretion', 'vncurrant', 'rage', 'former', 'Importing', 'Violet', 'sings', 'hatch', 'leysure', 'gaue', 'wandring', 'Violence', 'scanter', 'speechlesse', 'Fortin', 'tickled', 'stalke', 'perceiue', 'forgeries', 'our', 'with', 'already', 'Words', 'Must', 'Betweene', 'goodnight', 'horse', 'cleare', 'Lordship', 'prepar', 'Sense', 'lying', 'Minerall', 'bestil', 'Annuall', 'blowes', 'Thinke', 'helpe', 'beautied', 'say', 'lend', 'aduancement', 'Iemme', 'Message', 'Lady', 'vnpolluted', 'sorry', 'acquire', 'Cups', 'Valour', 'worse', 'he', 'altogether', 'kin', 'hidious', 'warrantie', 'writ', 'direct', 'Index', 'beseech', 'Calamity', 'Villaines', 'griefe', 'Sinners', 'tis', 'assay', 'Shippe', 'act', 'punisht', 'Impotent', 'Scale', 'Infaith', 'Flats', 'vnfledg', 'Synod', 'Stythe', 'turnes', 'Fennell', 'orderly', 'acquittance', 'warlike', 'stirr', 'Bubbles', 'one', 'first', 'lie', 'blench', 'Mole', 'giuen', 'damne', 'doo', 'griefes', 'Saile', 'wild', 'Bring', 'her', 'Tree', 'vouch', 'If', 'Since', 'vnmaske', 'eager', 'familiar', 'broke', 'opposition', 'fool', 'Luxury', 'Passions', 'Mornings', 'Foyle', 'mourning', 'Sunday', 'inclin', 'damned', 'i', 'kisses', 'honor', 'Obiects', 'friendship', 'receiu', 'shrunke', 'Lobby', 'Harlots', 'shut', 'l', 'Worke', 'dignity', 'builde', 'hourely', 'Bulke', 'bore', 'Battlements', 'fought', 'end', 'solicited', 'secrets', 'Affection', 'Plum', 'argument', 'assurance', 'open', 'Cerimony', 'likenesse', 'Sables', 'Purgation', 'Why', 'or', 'Imployment', 'gorge', 'iot', 'hold', 'vnequall', 'answers', 'assaid', 'accident', 'Scull', 'Calumny', '1', 'whipt', 'himselfe', 'Hercules', 'imports', 'foote', 'blast', 'Flesh', 'questionable', 'Confession', 'small', 'fearing', 'Ours', 'Calues', 'fortie', 'poysoning', 'shamefull', 'compelled', 'heeles', 'A', 'Vanquisher', 'consent', 'Steward', 'encombred', 'Bloude', 'these', 'purport', 'Priams', 'Alarme', 'conscience', 'Royall', 'standing', 'bin', 'Fauour', 'wilt', 'consequence', 'fearfull', 'lanke', 'passes', 'Videlicet', 'faults', 'allowance', 'hauocke', 'wisely', 'Innouation', 'beautifed', 'Burst', 'breath', 'Capitol', 'Soop', 'necessary', 'Louer', 'By', 'to', 'swear', 'hill', 'Gertrude', 'Blasted', 'most', 'Deuices', 'K', 'Se', 'declension', 'conuert', 'Extorted', 'Secrecie', 'turn', 'Angels', 'marke', 'Feare', 'preparation', 'Whereon', 'corrupted', 'limed', 'beleeued', 'Hurts', 'opposites', 'neuer', 'leisure', 'keep', 'proclaime', 'Russet', 'Comrade', 'woman', 'seen', 'Handsaw', 'heed', 'inclination', 'throughly', 'Cause', 'saies', 'esteem', 'minde', 'sooner', 'humble', 'Prouerbe', 'after', 'Sheepe', 'Dutie', 'sorrie', 'Groundlings', 'chide', 'flaw', 'fortune', 'treads', 'Faire', 'vse', 'Anon', 'props', 'Nor', 'strict', 'at', 'thine', 'vigour', 'declining', 'Say', 'election', 'horson', 'Get', 'eaten', 'suck', 'whit', 'happily', 'mortiz', 'iumpe', 'none', 'curse', 'Brazon', 'Thereto', 'damnable', 'Vse', 'superfluous', 'shortens', 'greenly', 'work', 'patience', 'accurst', 'Land', 'Allegeance', 'quietly', 'Bat', 'hasty', 'Captaines', 'Pledge', 'successiue', 'Truth', 'suspiration', 'slow', 'scapes', 'adores', 'Falne', 'yeelding', 'tender', 'walkes', 'old', 'vneffectuall', 'proofe', 'Ardure', 'which', 'Circumstance', 'selues', 'Artire', 'violent', 'boudge', 'Cousen', 'worne', 'Spokes', 'scann', 'kild', 'Contagious', 'Pride', 'distracted', 'Flints', 'secret', 'taken', 'Beards', 'tediousnesse', 'Frame', 'spilt', 'vppon', 'giued', 'obseru', 'white', 'hedge', 'Cliffe', 'Yea', 'Ratifiers', 'due', 'assignes', 'Beauty', 'Pearle', 'as', 'sent', 'causes', 'best', 'wholsom', 'incapable', 'Chronicles', 'Bawd', 'tax', 'Goblins', 'shuffel', 'Cuplet', 'desart', 'Character', 'sitting', 'beyond', 'Magicke', 'possession', 'shipped', 'Cou', 'Church', 'sting', 'Eye', 'plentifull', 'dig', 'Maiesties', 'case', 'while', 'See', 'gratis', 'farwel', 'priuates', 'wicked', 'Gentleman', 'forgone', 'meeting', 'tame', 'Caps', 'hellish', 'find', 'masters', 'wittingly', 'Stye', 'Line', 'Make', 'wel', 'dye', 'vnschool', 'raues', 'aboue', 'accord', 'Addicted', 'outward', 'Asse', 'dish', 'Aye', 'mone', 'Audience', 'oh', 'shent', 'appliance', 'offer', 'same', 'go', 'Physicke', 'Hand', 'Bakers', 'Weeds', 'key', 'Faction', 'royall', 'know', 'vnwilling', 'cheere', 'inobled', 'sickly', 'Dread', 'deckt', 'want', 'lies', 'absurd', 'method', 'Oppressors', 'Nimph', 'healthfull', 'hitherto', 'Lest', 'answerest', 'speed', 'lyes', 'Lay', 'fierie', 'First', 'soultry', 'lament', 'wait', 'bold', 'wed', 'chast', 'Hauing', 'Laertes', 'notes', 'more', 'Westward', 'whilst', 'burnt', 'Saw', 'thus', 'Winde', 'peake', 'disclose', 'corner', 'afterwards', 'question', 'chopfalne', 'Forrest', 'Forraigne', 'downe', 'euents', 'Fates', 'cleerely', 'Liuer', 'Tropically', 'prepare', 'hum', 'thy', 'speakes', 'newes', 'Machine', 'Mountaine', 'Exit', 'pray', 'toe', 'Rouce', 'Repugnant', 'Compounded', 'reade', 'apale', 'Requit', 'Father', 'recouer', 'Obey', 'Perpend', 'Venome', 'brow', 'foe', 'Boyes', 'middle', 'horrible', 'went', 'rouse', 'Booke', 'operant', 'Faces', 'Pulse', 'iaw', 'greet', 'Iuggel', 'fat', 'loosed', 'Run', 'Denmarkes', 'combatted', 'Bace', 'droppings', 'Offer', 'Truely', 'reserue', 'onely', 'Beer', 'thicke', 'traile', 'meere', 'Lust', 'Sit', 'faith', 'Courtiers', 'dismall', 'distrust', 'substance', 'goodly', 'conueyance', 'Slings', 'meane', 'Musicke', 'doe', 'Function', 'fine', 'Flowers', 'Cutpurse', 'speedier', 'Monthes', 'Rascall', 'heerein', 'folke', 'Ielly', 'Princes', 'marriage', 'Actus', 'happy', 'reform', 'thee', 'admiration', 'powerfully', 'split', 'Seat', 'frankely', 'Might', 'intreated', 'return', 'defend', 'Arrowes', 'Dukes', 'weepe', 'ere', 'back', 'Daysies', 'Illium', 'Shipwright', 'Parchment', 'spring', 'Treacherie', 'returne', 'hearing', 'palpable', 'Doctor', 'bellow', 'vsurpe', 'Murtherer', 'Cue', 'Messe', 'betoken', 'forbid', 'wretched', 'Mothers', 'heyre', 'replication', 'taints', 'branches', 'followed', 'blasts', 'lookt', 'He', 'singeth', 'Act', 'Soueraignty', 'Volt', 'passage', 'picked', 'Rim', 'Columbines', 'friending', 'Vow', 'hauing', 'coniunctiue', 'them', 'Gentlemen', 'hurling', 'watch', 'rest', 'twenty', 'Aspect', 'Foode', 'wrong', 'Esile', 'plaist', 'hugger', 'Heathen', 'skyish', 'Sourse', 'Prouidence', 'without', 'Offences', 'Seruice', 'hardy', 'Pardon', 'idle', 'deerely', 'cals', 'coagulate', 'ake', 'entrance', 'Not', 'turne', 'divulging', 'Mightier', 'knowing', 'Was', 'contriuing', 'nant', 'Allies', 'Violl', 'Garden', 'prick', 'ye', 'shatter', 'iudgement', 'kist', 'acts', 'fresh', 'Sicknesse', 'bad', 'forehead', 'vertue', 'extreamity', 'chances', 'prate', 'Dropping', 'Somnet', 'pitty', 'brest', 'grew', 'Sadnesse', 'Clemencie', 'Extasie', 'view', 'FINIS', 'bee', 'Leuies', 'appeare', 'Tyrant', 'diuell', 'Marriages', 'mutine', 'leuell', 'solemne', 'ly', 'enters', 'dirt', 'loues', 'diligence', 'deepe', 'refraine', 'left', 'annoint', 'heartily', 'smiles', 'step', 'Pate', 'mistooke', 'Carue', 'Won', 'third', 'suites', 'am', 'Appetite', 'Alexander', 'armes', 'lot', 'Repast', 'drunke', 'Dignity', 'duties', 'drowne', 'Processe', 'mindes', 'nine', 'meditation', 'euill', 'Armour', 'thou', 'vnforc', 'fear', 'painting', 'Peebles', 'interim', 'shooes', 'bethought', 'glean', 'stuck', 'lest', 'Robin', 'secricie', 'prowd', 'braine', 'strick', 'curd', 'seeming', 'away', 'Reuenge', 'Acte', 'exterior', 'Vnkles', 'pith', 'greeted', 'single', 'hung', 'exact', 'pleasure', 'flashes', 'Sits', 'anothers', 'weaker', 'extinct', 'wig', 'vtterance', 'Reasons', 'Nettles', 'hang', 'Carbuncles', 'hopes', 'straight', 'fret', 'dreadfully', 'imminent', 'because', 'walkt', 'Poem', 'Fight', 'Diuel', 'Wards', 'hide', 'Aygre', 'Deske', 'insolence', 'Creation', 'fell', 'purer', 'Garlands', 'quit', 'Masse', 'infaith', 'infinite', 'doubt', 'peruse', 'An', 'toward', 'fares', 'Froward', 'Rest', 'Fast', 'Whose', 'Succession', 'Lights', 'Whats', 'rash', 'Purples', 'Chowgh', 'pronounc', 'ranke', 'Bloud', 'spoken', 'your', 'Prompted', 'distinguish', 'comply', 'cry', 'Lawes', 'fac', 'Golden', 'wrist', 'repose', 'exprest', 'Heau', 'Clo', 'ioyne', 'buzze', 'Phrase', 'Tragedians', 'moues', 'freeze', 'th', 'Celestiall', 'strew', 'brother', 'dealt', 'Sancturize', 'Soft', 'hoopes', 'Stone', 'Mark', 'feare', 'madnesse', 'greeues', 'Drinke', 'naught', 'Bands', 'tricke', 'Wedding', 'clutch', 'presures', 'boule', 'bare', 'instrumentall', 'Resolutes', 'Art', 'Fellowes', 'cruell', 'tunes', 'Riuer', 'Girle', 'like', 'slaue', 'vile', 'vnyoake', 'gently', 'Voltemand', 'Plague', 'sinewes', 'Giuing', 'man', 'Iibes', 'blame', 'Maids', '-', 'Flames', 'carriages', 'Roofe', 'Seruant', 'effect', 'Shrow', 'Mountebanke', 'You', 'Youth', 'diuide', 'Conuoy', 'Marcellus', 'ayry', 'vnnerued', 'Aduancement', 'Ladiship', 'breaths', 'their', 'Repentance', 'sounded', 'temperately', 'spred', 'Horat', 'Harlot', 'Torrent', 'flourishes', 'duty', 'Tables', 'sets', 'Scornes', 'disposition', 'Incest', 'tong', 'Husbandry', 'conueniently', 'buy', 'shortly', 'pay', 'lyest', 'bleeding', 'shrewdly', 'pound', 'spots', 'Exeunt', 'Ro', 'peepe', 'vngracious', 'grand', 'adheres', 'Southerly', 'study', 'supply', 'brands', 'interre', 'falne', 'sweaty', 'crooke', 'sustaine', 'Goes', 'Thaw', 'stately', 'surmise', 'figure', 'Monarchs', 'blunted', 'especially', 'occurrents', 'sayest', 'Seed', 'hoa', 'wildely', 'skin', 'Lungs', 'accidentall', 'Least', 'keepe', 'actiuely', 'sequell', 'dil', 'Arras', 'affear', 'invulnerable', 'Enter', 'neerer', 'pitteous', 'Armie', 'law', 'e', 'excrements', 'passeth', 'Primy', 'Weaknesse', 'Seale', 'Saluation', 'incestuous', 'thank', 'blason', 'triuiall', 'arme', 'power', 'showres', 'Antiquity', 'stranger', 'Inobled', 'retooke', 'laugh', 'Passion', 'threats', 'parle', 'drinking', 'Treason', 'pendant', 'Ambass', 'Lazar', 'footed', 'dry', 'home', 'flesh', 'Poet', 'euidence', 'Beene', 'Tricks', 'borrowed', 'Cry', '(', 'betweene', 'Within', 'worthy', 'practice', 'Song', 'Coniuration', 'Hall', 'Trappings', 'escorted', 'deare', 'feeles', 'indifferently', 'plots', 'Woodcocke', 'sixteene', 'Suites', 'gape', 'men', 'bulwarke', '.', 'wine', 'estate', 'consummation', 'come', 'plye', 'Story', 'Choller', 'blinde', 'graue', 'Arraigne', 'Polake', 'Therefore', 'goe', 'bites', 'Field', 'pleasing', 'lifted', 'pester', 'Heauens', 'purse', 'happen', 'about', 'prize', 'Friend', 'Partizan', 'presence', 'beetles', 'share', 'tongues', 'got', 'Norwey', 'gins', 'saluation', 'Dead', 'clouds', 'forget', 'Drumme', 'Morne', 'better', 'blush', 'lets', 'Lookes', 'Clowne', 'Sundaies', 'Exceedingly', 'afarre', 'conceited', 'beguile', 'soule', 'said', 'hyre', 'kill', 'Kingdome', 'Voyce', 'These', 'Tenures', 'natiue', 'flash', 'Cabin', 'bloodily', 'dismay', 'Visage', 'cursed', 'indeauour', 'Martiall', 'Bakt', 'breeding', 'Tis', 'when', 'money', 'Cast', 'fooles', 'waste', 'Scoene', 'beauteous', 'Paconcies', 'Supper', 'performe', 'Wee', 'betimes', 'note', 'deeds', 'Melancholly', 'Lunacies', 'vnknowing', 'st', 'Widdow', 'imagine', 'conuerted', 'Lunacy', 'bloudy', 'indeede', 'often', 'low', 'Politician', 'Writ', 'scarft', 'if', '1599', 'mute', 'Antike', 'ground', 'sweat', 'sowing', 'below', 'Phoebus', 'cure', 'Platforme', 'puh', 'Vpon', 'iade', 'Bedrid', 'intruding', 'wouldest', 'Armes', 'wayes', 'thinke', 'ord', 'highly', 'preserued', 'adue', 'hush', 'After', 'carried', 'behold', 'Farme', 'proclaim', 'High', 'tother', 'Assignes', 'spend', 'foolish', 'gaming', 'hyes', 'soyle', 'despight', 'Cosin', 'Indentures', 'cannot', 'draughts', 'Motiue', 'Sonnet', 'variable', 'quality', 'ostentation', 'Next', 'Safety', 'regard', 'determine', 'Pole', 'decline', 'takes', 'shift', 'Racke', 'pangs', 'deserue', 'oath', 'Brooch', 'Crowners', 'lowd', 'triumph', 'temp', 'coynage', 'Seeme', 'lids', 'seruants', 'buffets', 'set', 'Crib', 'property', 'poysons', 'Arrest', 'setled', 'defeats', 'intreaty', 'shew', 'Hebenon', 'Forth', 'very', 'superuize', 'sawes', 'found', 'Rome', 'France', 'Ere', 'entreatments', 'necessaries', 'cup', 'mock', 'West', 'Polonius', 'Throwne', 'effects', 'nights', 'Satyricall', 'ope', 'Arrow', 'Stew', 'Whereof', 'horrid', 'Assume', 'Gauntlets', 'speaks', 'aye', 'prenominate', 'sinne', 'trip', 'satisfaction', 'likely', 'plac', 'talkes', 'impon', 'Blossomes', 'nasty', 'Come', 'maist', 'Honor', 'Beautie', 'Sings', 'pickers', 'round', 'forgery', 'windes', 'Renish', 'knauish', 'Hypocrites', 'vnto', 'Virgin', 'please', 'vnrung', 'murdrous', 'knotty', 'Naue', 'pleas', 'houre', 'Bow', 'young', 'Grace', 'selfe', 'grace', 'Vngartred', 'forty', 'Guildenstern', 'louingly', 'Iaw', 'Stopes', 'Payes', 'Rage', 'Can', 'Fire', 'Theame', 'wafts', 'buttons', 'Oath', 'Braines', 'Songs', 'Core', 'strife', 'Becomes', 'innocent', 'Both', 'lofty', 'no', 'indiuidible', 'Coach', 'certaintie', 'forcing', 'seated', 'illume', 'affections', 'wrights', 'scarsely', 'musty', 'suppresse', 'purposes', 'gone', 'businesse', 'Globe', 'drooping', 'outHerod', 'perfect', 'Shooes', 'wrought', 'iournies', 'cousend', 'but', 'Primrose', 'opposing', 'guts', 'quiet', 'will', 'death', 'clout', 'foul', 'Stay', 'Conqueror', 'Nephewes', 'fairely', 'falles', 'Comerce', 'faile', 'sword', 'seem', 'stickes', 'sage', 'youth', 'olde', 'rose', 'carriage', 'crie', 'Soales', 'nipping', 'side', 'Alacke', 'Prophesie', 'gaged', 'gowne', 'solidity', 'Remembrances', 'glow', 'Diuinity', '!', 'she', 'Robe', 'Historicall', 'Cat', 'emulate', 'Thornes', 'Assure', 'shadow', 'anon', 'espials', 'front', 'vnhappily', 'Fare', 'Duty', 'Does', 'Cape', 'whispers', 'heare', 'Hath', 'Prepare', 'leaues', 'cautell', 'larger', 'Birds', 'burnes', 'Pray', 'Hoby', 'vnpacke', 'Inky', 'abhorred', 'Cuffes', 'tedious', 'blastments', 'Rosin', 'As', 'saying', 'parted', 'post', 'staffe', 'imitated', 'Guildensterne', 'fed', 'Qu', 'fire', 'radiant', 'vnwatch', 'Wife', 'Officers', 'vpspring', 'Month', 'tardy', 'married', 'Masters', 'desires', 'rais', 'conceald', 'Cursing', 'Coward', 'buried', 'powres', 'screen', 'vice', 'Threatning', 'distant', 'Foiles', 'Gallowes', 'bone', 'sheets', 'license', 'Spheres', 'you', 'Sable', 'poor', 'Al', 'quarry', 'borne', 'One', 'murthered', 'Confine', 'Claudio', 'Himselfe', 'cease', 'Angle', 'Makes', 'peeuish', 'Herbe', 'pated', 'Combate', 'Childe', 'Niggard', 'rises', 'trouble', 'Vndertakings', 'merit', 'Companies', 'hent', 'great', 'Hoa', 'Frend', 'contriue', 'skill', 'dislike', 'remedie', 'smart', 'gilded', 'witchcraft', 'storme', 'scape', 'rapsidie', 'Obserue', 'growne', 'vnderstand', 'Aeneas', 'Takes', 'Aboord', 'iustly', 'imperiall', 'steepe', 'another', 'saile', 'vnmatch', 'timbred', 'grone', 'Gent', 'wit', 'Clay', 'crowing', 'Whips', 'defect', 'ingag', 'diseas', 'Commencement', 'bloody', 'drawes', 'brood', 'lungs', 'Place', 'Liues', 'greene', 'needs', 'smear', 'leaue', 'sure', 'backward', 'vgly', 'built', 'Prologue', 'Wood', 'ee', 'Her', 'ioyes', 'Coronet', 'dallying', 'pluck', 'Geulles', 'wide', 'stop', 'sulleyes', 'lockt', 'Ieering', 'filiall', 'playes', 'lacks', 'tell', 'actions', 'I', 'Without', 'thinkes', 'remaine', 'barrell', 'hard', 'Ayre', 'Speech', 'abstinence', 'Matter', 'From', 'Scena', 'Where', 'perturbed', 'yond', 'indeed', 'lonelinesse', 'Sport', 'Recoueries', 'till', 'salt', 'houres', 'Moones', 'opinions', 'Rood', 'accounted', 'vnuallued', ']', 'Crowne', 'strugling', 'how', 'audience', 'collected', 'Confederate', 'Cockle', 'depriue', 'Brothell', 'playd', 'Replies', 'Players', 'of', 'Beggers', 'Clowd', 'Hecticke', 'White', 'garments', 'courb', 'Neighbour', 'length', 'runnes', 'compulsiue', 'congregation', 'grones', 'wag', 'Thy', 'double', 'Starres', 'beauty', 'kettle', 'petty', 'Fishmonger', 'abuse', 'Vncle', 'filme', 'scarce', 'destroy', 'returneth', 'Millions', 'thereon', 'stole', 'Soldiers', 'sicklied', 'Iudges', 'seene', 'recklesse', 'Thought', 'Begin', 'acte', 'Vnckle', 'pale', 'Nobler', 'loued', 'signifie', 'mugger', 'knife', 'simple', 'impartment', 'nere', 'Against', 'Olde', 'breach', 'iuyce', 'graces', 'crack', 'Longer', 'Capitall', 'slips', 'fold', 'cressant', 'vbique', 'preaching', 'motion', 'Easterne', 'vnder', 'Aunt', 'Vnsifted', 'start', 'reuenge', 'Trick', 'Artlesse', 'Propheticke', 'Folded', 'shrowding', 'iust', 'Clouds', 'trifle', 'pins', 'pretty', 'bleed', 'harsh', 'incens', 'strutted', 'vouchsafe', 'buyer', 'guarded', 'Sea', 'Mouth', 'someuer', 'affaires', 'Trade', 'Comicall', 'hower', 'bitter', 'motiue', 'bleede', 'met', 'Patientlie', 'Beard', 'fortified', 'His', 'dreadfull', 'flame', 'therein', 'thin', 'Dowrie', 'skinnes', 'blacke', 'scope', 'wil', 'Heart', 'Stoopes', 'quite', 'protests', 'him', 'behauior', 'Ruine', 'warre', 'calles', 'ayde', 'broken', 'apt', 'beene', 'Enemy', 'highest', 'gidge', 'deceiued', 'seriuce', 'Iulius', 'Whereas', 'enter', 'Ophelia', 'Bap', 'Closset', 'Tragicall', 'Mountaines', 'knowest', 'But', 'doubtfull', '[', 'Cowards', 'barren', 'Wall', 'swaies', 'exchange', 'leaping', 'Wherein', 'Garland', 'threaten', 'tyrannically', 'Greekes', 'painted', 'Wisedomes', 'looke', 'wearing', 'admirable', 'remoued', 'Things', 'swift', 'Hyrcanian', 'Religion', 'HAMLET', 'Wittemberge', 'Marble', 'bowts', 'Dawning', 'Armours', 'famous', 'stake', 'hollow', 'vnworthy', 'Shardes', 'Lethe', 'vnimproued', 'sence', 'Holla', 'Minde', 'Spirit', 'distemper', 'Bear', 'teamed', 'Vnto', 'amisse', 'asunder', 'Assis', 'instances', 'Ventiges', 'eleuen', 'Reuolution', 'Centinels', 'groaning', 'Into', 'Fingers', 'Danish', 'offended', 'plaid', 'Compact', 'abus', '&', 'Sauiours', 'Illusion', 'purpose', 'delay', 'Orizons', 'Each', 'indirections', 'rotten', 'fighting', 'Gods', 'soft', 'pierce', 'purpos', 'Mine', 'vsurp', 'loose', 'Authorities', 'welcom', 'acting', 'Axe', 'Baptista', 'withall', 'becomes', 'Sprinkle', 'Mercurie', 'Pollax', 'Out', 'pursuest', 'roome', 'commendable', 'perfections', 'false', 'firme', 'whether', 'tardie', 'Acts', 'Greetings', 'mans', 'indite', 'smooth', 'eene', 'my', 'Magots', 'Rose', 'raines', 'howling', 'Diuided', 'sement', 'Hangers', 'tyrannous', 'Reade', 'before', 'Coffin', 'responsiue', 'Hunts', 'desirous', 'imployment', 'ratified', 'grownd', 'foolery', 'Shall', 'Whether', 'imperfections', 'Goe', 'Cheeke', 'giue', 'King', 'finde', 'lispe', 'deere', 'euerie', 'Voice', 'buriall', 'sometime', 'Primus', 'Reason', 'second', 'perfume', 'Wisedome', 'constantly', 'Churches', 'falsely', 'Lines', 'prou', 'bellowed', 'Vnpegge', 'nill', 'anticke', 'fiery', 'Letters', 'greeued', 'Wormwood', 'And', 'Recorder', 'Complie', 'Damon', 'fatted', 'asleepe', 'Puh', 'Naturall', 'sirs', 'Wine', 'dayes', 'opposed', 'minutes', 'pronouncing', 'Thunder', 'canst', 'villaine', 'Mettels', 'Foe', 'againe', 'feates', 'feast', 'piece', 'Heare', 'lesser', 'blackest', 'Knaues', 'Nose', 'tryalls', 'designe', 'rests', 'Saylors', 'toyle', 'Weedes', 'hems', 'bodies', 'nickname', 'stubborne', 'Twere', 'holdst', 'Gallant', 'dying', 'Roaming', 'nor', 'Little', 'Buzze', 'harshly', 'Nunnery', 'hilts', 'thinking', 'Vniuersity', 'concernings', 'draw', 'bed', 'Touching', 'bestow', 'Heroes', 'Graue', 'Fines', 'Prisoner', 'Horatio', 'Griefe', 'clay', 'possible', 'Inhibition', 'Borne', 'Sallery', 'Guest', 'accepts', 'themselues', 'Death', 'warrant', 'walke', 'Giuen', 'learning', 'Carriages', 'swaggering', 'Satyre', 'disclos', 'guifts', 'winch', 'meete', 'Polititian', 'Haue', 'wholsome', 'Imagination', 'places', 'an', 'Th', 'ioyfully', 'meanes', 'confession', 'Stages', 'space', 'drown', 'can', 'wisest', 'arrant', 'ago', 'dread', 'royally', 'exactly', 'vnsanctified', 'gon', 'yours', 'foredoes', 'Lucianus', 'longed', 'prettinesse', 'nay', 'hop', 'mercy', 'Idoll', 'Dreame', 'permanent', 'water', 'demy', 'foole', 'Tenants', 'Ouer', 'accent', 'Progresse', 'Looke', 'Violets', 'Rat', 'auouch', 'conuey', 'faire', 'proceeded', 'aslant', 'pause', 'thrice', 'peering', 'off', 'Feast', 'lt', 'Vnderstanding', 'Desire', 'kinde', 'Fruites', 'stopping', 'List', 'Wanton', 'Other', 'neyther', 'Ophel', 'attractiue', 'awake', 'Be', 'Poleak', 'perhaps', 'With', 'Custome', 'dutie', 'Enemies', 'Realme', 'Ioy', 'Mens', 'voyce', 'swearing', 'Pluck', 'Rites', 'Pale', 'extremity', 'stubbornnesse', 'heere', 'laboured', 'Too', 'steale', 'twelue', 'choller', 'wither', 'stopp', 'Sprindge', 'ponderous', 'thought', 'out', 'Opinions', 'teares', 'Warre', 'farewell', 'attended', 'Maid', 'falling', 'Lecture', 'weake', 'Osr', 'besmerch', 'vnmastred', 'Pox', 'especial', 'Exchange', 'Herod', 'Denmark', 'worm', 'guiltlesse', 'few', 'Gramercy', 'dagger', 'tristfull', 'cold', 'hands', 'Peace', 'Age', 'daughter', 'Guild', 'vnseale', 'ordinate', 'remisse', 'wonderfull', 'discretion', 'wring', 'immediate', 'visage', 'Sprung', 'leanes', 'altitude', 'points', 'Warlicke', 'sends', 'shreds', 'crosse', 'chance', 'Denmarks', 'thinkst', 'Towring', 'Ordinance', 'speedie', 'scourge', 'Man', 'lacke', 'answere', 'company', 'Maiesticall', 'Stop', 'Soule', 'Passing', 'Grandsire', 'been', 'Before', 'commanded', 'let', 'Our', 'haply', 'passe', 'thereof', 'venom', 'sliuer', 'rot', 'Method', 'wold', 'intend', 'foile', 'Weazell', 'Happily', 'Hillo', 'regards', 'Blasting', \"'\", 'summe', 'Pluckes', 'Peale', 'Breuitie', 'Court', 'clad', 'la', 'Fra', 'delights', 'stayes', 'Tinct', 'Mysterie', 'mother', 'Amazement', 'close', 'sweete', 'beares', 'food', 'pleasures', 'driuen', 'wee', 'assaies', 'Vnkle', 'beast', 'Thoughts', 'tune', 'Brother', 'rugged', 'Malefactions', 'cast', 'transformation', 'sanctified', 'rent', 'Adams', 'wart', 'Lord', 'world', 'modestie', 'deepely', 'Quicknesse', 'dipping', 'Theme', 'catch', 'makers', 'duller', 'selleredge', 'Messengers', 'might', 'Bonds', 'Cauiarie', 'offends', 'sorrowes', 'Cum', 'op', 'digested', 'behoue', 'While', 'perusall', 'beget', 'burne', 'persons', 'ease', 'ioyntly', 'Abridgements', 'Counsellor', 'gawdie', 'Paradox', 'Coniure', 'breathing', 'worth', 'Traueller', 'Israel', 'gate', 'vnsmirched', 'beame', 'Season', 'afflict', 'coozenage', 'command', 'Taken', 'promise', 'bewept', 'On', 'Bisson', 'fore', 'pluckes', 'serues', 'sound', 'varnish', 'Cataplasme', 'bodie', 'Vouchers', 'affliction', 'Perhaps', 'inexplicable', 'Sindging', 'vses', 'Euerlasting', 'prais', 'Priest', 'Clowds', 'Riotous', 'strength', 'laine', 'extrauagant', 'contagion', 'countenance', 'blurres', 'Matine', 'feeling', 'fey', 'Adieu', 'Noise', 'Inheritor', 'denies', 'hole', 'Day', 'Storie', 'shake', 'Potion', 'Iustice', 'The', 'Paddocke', 'impresse', 'hid', 'ambiguous', 'leasure', 'reach', 'Sound', 'Meet', 'gaine', 'answered', 'admittance', 'meerely', 'Lye', 'Mew', 'defeated', 'load', 'Historie', 'haunt', 'Part', 'defence', 'foot', 'secrecie', 'bonny', 'Reads', 'massie', 'basenesse', 'Withdraw', 'Flourish', 'manner', 'somthing', 'whereon', 'touches', 'bray', 'Boy', 'Deuis', 'fertile', 'Voyage', 'Signet', 'loue', 'weapon', 'Emperor', 'compleat', 'Warlike', 'ragges', 'full', 'throwne', 'prophanely', 'Argument', 'sadly', 'Estate', 'towards', 'Could', 'Nero', 'Willes', 'Visit', 'mocke', 'aboord', 's', 'Then', 'blood', 'such', 'makes', 'meant', 'mincing', 'Pickhaxe', 'Twill', 'offences', 'mainly', 'Fie', 'fathers', 'windlesses', 'affrighted', 'pratlings', 'Messenger', 'probation', 'changed', 'pittied', 'husband', 'doubts', 'reaches', 'Colaterall', 'Auspicious', 'pricke', 'Valentine', 'So', 'eies', 'Acted', 'guilty', 'strangely', 'Diet', 'vnbrac', 'Cryer', 'Cuckold', 'Tush', 'Capons', 'stocke', 'marrie', 'thSunne', 'veyled', 'giuing', 'suppliance', 'amazement', 'carry', 'sore', 'demand', 'enmity', 'squeezing', 'Fox', 'Lamound', 'nature', 'Milkie', 'witnesse', 'heads', 'Full', 'crash', 'Cannot', 'apprehension', 'Hearsed', 'Feathers', 'Funerall', 'depends', 'hees', 'cheefe', 'bonds', 'co', 'fals', 'hey', 'reckoning', 'gamboll', 'bid', 'haue', 'part', 'whom', 'commings', 'fancy', 'horses', 'told', 'Springes', 'locke', 'truster', 'Vnbated', 'ouer', 'prankes', 'Collected', 'argall', 'Spurnes', 'Hawke', 'Spring', 'Norman', 'Theft', 'Pyrrhus', 'Torches', 'translate', 'Ile', 'Marriage', 'Begger', 'Offenders', 'Inheritance', 'word', 'teare', 'chamber', 'intreat', 'Moneth', 'longer', 'touching', 'tane', 'delight', 'befalne', 'likeliehood', 'Honie', 'heele', 'sweet', 'muddy', 'contrary', 'choose', 'dispatcht', 'seemes', 'Boxe', 'Guil', 'reare', 'Comedie', 'foule', 'Merriment', 'Clownes', 'erruption', 'slaughters', 'impasted', 'fashion', 'deiected', 'importun', 'plaine', 'blesse', 'Angel', 'Woo', 'reckon', 'Daysie', 'Natures', 'recouery', 'Claimes', 'Wharfe', 'seal', 'Cloake', 'wauing', 'restrain', 'certaine', 'month', 'past', 'Religious', 'true', 'censure', 'dream', 'neede', 'Hecats', 'Poysoner', 'praier', 'blow', 'Cell', 'mould', 'World', 'enuiously', 'carnall', 'Slanders', 'strongest', 'There', 'enseamed', 'Faulconers', 'Rew', 'Colours', 'stage', 'honying', 'Palme', 'trace', 'Rewards', 'lowdly', 'Hor', 'Hazard', 'Those', 'tythe', 'Occasions', 'Clambring', 'scant', 'vanisht', 'thing', 'Ice', 'Counter', 'marry', 'trap', 'roughly', 'vulgar', 'remain', 'To', 'euen', 'corporall', 'Ah', 'frowningly', 'Beare', 'harrowes', 'Circumstances', 'Larded', 'abilitie', 'fond', 'speak', 'strong', 'beaten', 'Claudius', 'Slaue', 'Mistris', 'dew', 'vnweeded', 'euermore', 'fellow', 'neither', 'Through', 'ended', 'Iudicious', 'doore', 'sift', 'bloudie', 'Floud', 'sized', 'streame', 'murder', 'Queen', 'possitiuely', 'impart', 'driues', 'rul', 'Voltumand', 'Poniards', 'Discretion', 'perceiued', 'cryed', 'sayes', 'Whale', 'inclining', 'Imaginations', 'particular', 'gestures', 'conioyn', 'hadst', 'bended', 'weede', 'Verse', 'tryall', 'fill', 'liquid', 'Dogges', 'Drown', 'send', 'grinding', 'prophane', 'charge', 'briefe', 'sterne', 'assault', 'Englands', 'cleaue', 'Impotence', 'importunity', 'praises', 'scratcht', 'according', 'head', 'remaster', 'de', 'likes', 'Lenton', 'shot', 'wondrous', ',', 'Anckle', 'annexment', 'whatsoeuer', 'wanton', 'safe', 'Owle', 'female', 'safely', 'right', 'Seneca', 'weapons', 'cheefely', 'croaking', 'Pery', 'departed', 'yeares', 'precedent', 'Crowner', 'Mother', 'Aduice', 'innocculate', 'Combination', 'declines', 'astonish', 'eats', 'n', 'wildenesse', 'begins', 'knew', 'Bodie', 'Dicers', 'Brow', 'Organe', 'Infects', 'Quite', 'Dane', 'begge', 'Bene', 'ene', 'Philosophie', 'ayre', 'childe', 'Seas', 'slightly', 'whil', 'fate', 'Leaps', 'visit', 'Kettle', 'closely', 'Shoo', 'multitude', 'followes', 'behoues', 'Scripture', 'neglect', 'humour', 'moneths', 'liu', 'Confound', 'releefe', 'tragedie', 'Lions', 'Drab', 'Sword', 'conuerse', 'Tributary', 'willingly', 'especiall', 'Enuy', 'Ingenious', 'saue', 'Secundus', 'affection', 'Cocke', 'Monday', 'Incestuous', 'Conscience', 'slender', 'greefe', 'tast', 'Flagons', 'com', 'Pul', 'blew', 'sparke', 'courses', 'weary', 'Ban', 'perswade', 'Briefe', 'Loines', 'All', 'slander', 'steals', 'Moity', 'whose', 'Choppine', 'faining', 'sourse', 'hence', 'Hypocrite', 'Murther', 'cries', 'pittie', 'Mildew', 'forth', 'Francisco', 'prouidence', 'Lords', 'earth', 'touch', 'bulke', 'ring', 'boord', 'vnmannerly', 'mouth', 'houer', 'important', 'speech', 'Vertues', 'Test', 'glassie', 'not', 'stands', 'friend', 'guard', 'twer', 'rac', 'pick', 'Scene', 'kindles', 'hath', 'Priam', 'exceed', 'Roses', 'History', 'confesse', 'gifts', 'fatnesse', 'little', 'many', 'propertie', 'immediately', 'doome', 'Precepts', 'fast', 'whipping', 'duls', 'siz', 'sigh', 'proper', 'Babe', 'Loggets', 'Trumpet', 'waxes', 'tremble', 'belieue', 'golden', 'held', 'Should', 'apart', 'expostulate', 'promis', 'fame', 'Husband', 'be', 'perdie', 'mischance', 'mortall', 'tan', 'harrow', 'winters', 'Am', 'dust', 'Porpentine', 'Drum', 'sodaine', 'smiling', 'Clamour', 'quake', 'earthly', 'Put', 'rite', 'knowne', 'Chace', 'weighing', 'knockt', 'Oare', 'Doomesday', 'Woman', 'visitation', 'supposall', 'Spundge', 'Dar', 'Faiery', 'profit', 'point', 'Letcherous', 'debatement', 'Safely', 'coniure', 'ouerthrowne', 'waites', 'still', 'cloath', 'trickes', 'Depriu', 'essentially', 'nonce', 'resolue', 'Ditchers', 'robustious', 'expence', 'directions', 'Ceremony', 'eielids', 'glad', 'fingers', 'stoupe', 'trauaile', 'fits', 'pressure', 'bought', 'Reply', 'Would', 'Quality', 'Pastors', 'rather', 'Actors', 'blanke', 'begin', 'Dew', 'Formes', 'breed', 'Think', 'partiall', 'Pyrate', 'Honour', 'call', 'Offices', 'Growes', 'combined', 'who', 'whereof', 'busines', 'Deuice', 'About', 'grosse', 'Puppets', 'Carpenter', 'Friends', 'gauled', 'relieu', 'repulsed', 'Window', 'Eterne', 'melodious', 'Whil', 'Sepulcher', 'Command', 'twill', 'rate', 'parley', 'flatter', 'Ifaith', 'capeable', 'vndertake', 'bene', 'Memorie', 'Night', 'confin', 'vpshot', 'Offall', 'lost', 'Sonnes', 'Mart', 'Villanous', 'drag', 'forged', 'imbark', 'Sleepe', 'Witch', 'deale', 'obstinate', 'Daggers', 'see', 'honourable', 'imagination', 'Candied', 'common', 'gis', 'non', 'stoppes', 'Valentines', 'Barnardo', 'Dogge', 'Ladie', 'vs', 'cause', 'changeling', 'Ambition', 'vndiscouered', 'swathing', 'lay', 'Wittenberg', 'yesterday', 'manners', 'incorrect', 'desperate', 'keepes', 'Seal', 'liberall', 'obserue', 'Swords', 'flie', 'Currants', 'vantage', 'outragious', 'thousand', 'sleeping', 'Play', 'reputation', 'Player', 'instantly', 'rages', 'attent', 'Tribute', 'Cherube', 'cut', 'ends', 'Behinde', 'write', 'halt', 'warning', 'Region', 'Helpe', 'Flaxen', 'Vengeance', 'Last', 'Heres', 'At', 'Sweare', 'angry', 'saw', 'Wherefore', 'Shadowes', 'discouery', 'reforme', 'lodg', 'ayrie', 'Marke', 'safety', 'Shepheards', 'Lesson', 'Commandment', 'rowsed', 'thrift', 'willing', 'Burning', 'Diuell', 'belike', 'Bilboes', 'immortall', 'lead', 'ill', 'Vulcans', 'drownes', 'Or', 'beleefe', 'cheerefully', 'Loe', 'Fixion', 'Willow', 'Parragon', 'auoyd', 'ignorance', 'perseuer', 'intent', 'light', 'suffred', 'imploy', 'behind', 'blaze', 'forme', 'woe', 'vnnaneld', 'proud', 'Pursued', 'remembrance', 'errors', 'Knight', 'shold', 'night', 'frown', 'within', 'feather', 'Battalians', 'sanctity', 'Had', 'crew', 'blankes', 'rub', 'Opinion', 'fault', 'In', 'paire', 'tels', 'vnfortified', 'Damnation', 'a', 'Loues', 'Colleagued', 'bounded', 'Goblin', 'Byrlady', 'words', 'Ambitious', 'Sorrow', 'remoue', 'wretch', 'shooke', 'ennactors', 'lose', 'inuites', 'haire', 'Tell', 'wing', 'Mighty', 'occasion', 'streets', 'Directly', 'Birch', 'Clossets', 'boorded', 'breadth', 'stooping', 'formall', 'feete', 'Once', 'Quintessence', 'surprized', 'sweepe', 'hammers', 'hideous', 'Ioue', 'clouts', 'throw', 'alwayes', 'Steele', 'leads', 'sheene', 'Madnesse', 'riuet', 'Contagion', 'dogge', 'gender', 'Benefit', 'Bonet', 'Volume', 'fit', 'Canoniz', 'horridly', 'kicke', 'Bed', 'hate', 'perillous', 'pastime', 'exployt', 'Free', 'Strumpet', 'Anticke', 'Statutes', 'Valiant', 'peace', 'Rebellion', 'Baby', 'brought', 'impression', 'Discomfort', 'interpret', 'waxe', 'steele', 'precious', 'ship', 'Adue', 'Striking', 'bountie', 'reueng', 'diet', 'Pesant', 'Spleenatiue', 'loses', 'seiz', 'L', 'started', 'd', 'Cut', 'vp', 'done', 'Traitorous', 'galls', 'boades', 'erring', 'carrying', 'sacred', 'houses', 'wisenesse', 'reconcilement', 'Secunda', 'Riuals', 'vnnaturall', 'tooke', 'Author', 'Letter', 'affectation', 'sober', 'vnprofitable', 'Nemian', 'seek', 'bout', 'roasted', 'potently', 'sleepes', 'health', 'runs', 'Husbands', 'rocke', 'became', 'doublet', 'Hymen', 'whisper', 'vnfold', 'stay', 'bow', 'wants', 'cramm', 'Fran', 'against', 'Challenger', 'Rough', 'pitious', 'Propose', 'counterfet', 'toy', 'Dirge', 'rise', 'loosing', 'Finger', 'Million', 'demands', 'extant', 'burning', 'coppied', 'Morning', 'punish', 'hap', 'Apparition', 'yawne', 'life', 'Thou', 'mellow', 'think', 'stuffe', 'Ocean', 'pettie', 'Gentlewoman', 'burst', 'exception', 'ran', 'Sonne', 'plundge', 'terme', 'too', 'station', 'Canopy', 'vnlesse', 'stirring', 'Manet', 'shame', 'liberty', 'Wed', 'murdering', 'inch', 'bones', 'presently', 'whiffe', 'fetch', 'Gen', 'Controuersie', 'Vision', 'Fardles', 'Affaire', 'Augury', 'steps', 'Sergeant', 'put', 'Puzels', 'recount', 'ones', 'sir', 'stroakes', 'Gifts', 'slaughter', 'worke', 'speciall', 'sticke', 'Are', 'Cyclops', 'feede', 'Seeke', 'worlds', 'choyce', 'Visitation', 'courteous', 'vntimely', 'Murderer', 'Charity', 'Crow', 'Buyes', 'pompe', 'friends', 'distraction', 'easie', 'anger', 'seeke', 'furnish', 'stroke', 'inlarg', 'greeue', 'sleepe', 'twentieth', 'wife', 'Ambassadours', 'heauenly', 'Fell', 'Polon', 'ten', 'ore', 'muddied', 'sicke', 'exercise', 'raw', 'bloud', 'season', 'flowers', 'behinde', 'boughes', 'bring', 'Call', 'huge', 'guilt', 'iowles', 'Landlesse', 'Calue', 'deserued', 'dotes', 'awhile', 'Contumely', 'noyse', 'Thus', 'curles', 'fancie', 'fellowship', 'personall', 'Student', 'Feature', 'Herald', 'reply', 'meaning', 'Hart', 'odde', 'so', 'O', 'shewes', 'finding', 'stockings', 'sere', 'Wise', 'comes', 'Charge', 'sighes', 'hundred', 'bird', 'quoted', 'Ambassadors', 'William', 'rauell', 'releeued', 'seduce', 'foresaid', 'residence', 'Ha', 'mixture', 'Lewdnesse', 'conceiue', 'only', 'Beware', 'Time', 'wax', 'vnion', 'in', 'dishes', 'defie', 'Purchases', 'feed', 'iawes', 'Corruption', 'Collection', 'though', 'Customary', 'defectiue', 'reading', 'Scullion', 'Grop', 'whiles', 'Doe', 'reueale', 'beware', 'Hell', 'loud', 'Lads', 'packing', 'iudge', 'Guts', 'excuse', 'worser', 'Now', 'sodainely', 'Attends', 'aint', 'worst', 'Postscript', 'Exits', 'fight', 'glimpses', 'Dies', 'concluded', 'Pol', 'offence', 'weeds', 'pittifull', 'Remembraunce', 'shadowes', 'Cornelius', 'Profession', 'moneth', 'link', 'Light', 'count', 'Broakers', 'his', 'm', 'where', 'mourn', 'circumstance', 'helpfull', 'feele', 'Laer', 'secure', 'baser', 'spight', 'Barbars', 'Tragedie', 'Sence', 'report', 'Thine', 'Whirle', 'trebble', 'stone', 'Tongue', 'dispriz', 'forgot', 'reignes', 'beautified', 'credent', 'shoone', 'Which', 'Rauen', 'breake', 'body', 'greatnesse', 'rend', 'praying', 'reechie', 'heaues', 'mount', 'Instrument', 'aduanc', 'ist', 'Associates', 'Neighbor', 'kneeles', 'Country', 'offend', 'demanded', 'instance', 'couple', 'Guard', 'Conuersation', 'Forgiue', 'daintier', 'loe', 'Life', 'stealers', 'Modestie', 'teach', 'mutines', 'Gainst', 'peece', 'eares', 'vnkennell', 'Audit', 'prouoke', 'rude', 'Indeede', 'sokes', 'falshood', 'Theeues', 'Shouell', 'Entreatie', 'encompassement', 'Crocodile', 'Bird', 'requite', 'finger', 'brainish', 'claime', 'Mes', 'endure', 'appeares', 'Ghost', 'Arrests', 'checking', 'mowes', 'prating', 'stoode', 'vnknowne', 'Fallies', 'warres', 'breefe', 'Addition', 'Yases', 'strange', 'could', 'issue', 'Rankly', 'wracke', 'any', 'Kings', 'rank', 'thence', 'Grating', 'forward', 'withers', 'easier', 'necessitie', 'darke', 'Another', 'Memory', 'Ignorance', 'scandall', 'heereafter', 'According', 'celebrated', 'Holding', 'Ros', 'Ambassador', 'Adam', 'hot', 'It', 'gather', 'honest', 'Quoth', 'forgiuenesse', 'Commission', 'respect', 'Prison', 'ought', 'Generall', 'Italian', 'thankes', 'red', 'narrow', 'validitie', 'wager', 'attendant', 'coniuring', 'forthwith', 'whor', 'botch', 'paine', 'Writers', 'Pictures', 'Malicho', 'kept', 'amis', 'me', 'gentle', 'on', 'She', 'Vnhouzzled', 'rites', 'noble', 'thirties', 'generous', '].', 'importunate', 'Spade', 'morning', 'either', 'seruice', 'rerule', 'tongue', 'showes', 'dismantled', 'Besides', 'Mee', 'processe', 'visite', 'y', 'laps', 'beats', 'Sister', 'doing', 'scuffling', 'shapes', 'kissing', 'things', 'smels', 'Miching', 'Word', 'barre', 'course', 'Maiden', 'Together', 'leuied', 'Policie', 'Shewes', 'euery', 'truth', 'whips', 'Tokens', 'conquest', 'hat', 'vnrighteous', 'both', 'depart', 'bosome', 'stiffely', 'dreines', 'clothes', 'crimes', 'distresse', 'Subscrib', 'amaz', 'Lier', 'tatters', 'Kibe', 'Articles', 'what', 'try', 'Libertie', 'Raine', 'bodilesse', 'containing', 'president', 'Madam', 'knowledge', 'How', 'age', 'pregnant', 'distract', 'voice', 'lodge', 'Sect', 'frame', 'Frenchman', 'base', 'posset', 'Eates', 'payed', 'shoote', 'assaile', 'habit', 'three', 'vnpregnant', 'Starre', 'City', 'Were', 'Mirrour', 'Strawes', 'Baudry', 'Fate', 'winking', 'Empire', 'placed', 'iangled', 'Inuentors', 'purg', 'amaze', 'had', 'Danskers', 'preuent', 'Ghosts', 'faine', 'Verie', 'cloathes', 'Ministring', 'we', 'hew', 'Sutes', 'Infants', 'Com', 'fauour', 'Caesar', 'wits', 'Stand', 'shaking', 'thereunto', 'Delight', 'Traile', 'shriuing', 'prouide', 'liuing', 'thanks', 'yong', 'wassels', 'seeme', 'parching', 'borrower', 'Relatiue', 'Banke', 'violence', 'why', 'profound', 'Button', 'Purpose', 'haste', 'offendendo', 'mee', 'Caines', 'Ist', 'sweare', 'whoreson', 'along', 'disappointed', 'quarrell', 'Farewell', 'broad', 'hoodman', 'Prayer', 'smile', 'stalled', 'Hyperions', 'necke', 'em', 'sworn', 'Rapier', 'Germaine', 'Confines', 'flies', 'Emphasis', 'Oh', 'Walkes', 'Ring', 'grossely', 'tugging', 'yet', 'making', 'seeing', 'Winds', 'murther', 'coldly', 'pestilent', 'therfore', 'Speake', 'entertainment', 'admit', 'determination', 'Confusion', 'roares', 'winde', 'betime', 'Set', 'Graces', 'vnreclaim', 'pardon', 'sicknesse', 'heares', 'rant', 'drossie', 'strike', 'caught', 'incensed', 'Consent', 'lowest', 'ratled', 'Let', 'horrors', 'Resembles', 'proposer', 'Cries', 'Brothers', 'Tweakes', 'Like', 'Faults', 'shell', 'dost', 'Pollonius', 'behaued', 'Barke', 'Sir', 'Opposition', 'Sheep', 'disclaiming', 'except', 'noyance', 'impatient', 'assume', 'Confesse', 'breeder', 'answer', 'Soldier', 'Hope', 'knocking', 'Iephta', 'shall', 'morrow', 'T', 'Wooes', 'Midnight', 'nose', 'nods', 'finds', 'mingled', 'winkes', 'Monument', 'hastie', 'honour', 'Promontory', 'When', 'moment', 'shal', 'Respeaking', 'obseruant', 'Daughters', 'take', 'Snow', 'Conclusions', 'Affliction', 'penetrable', 'Making', 'Nunnerie', 'that', 'sounding', '?', 'drinkes', 'eate', 'vnshaken', 'Rouse', 'need', 'propose', 'free', 'Haile', 'Center', 'match', 'til', 'currants', 'Vice', 'Liquor', 'patch', 'oddes', 'Complexion', 'Origin', 'beare', 'Happy', 'Liberty', 'brauery', 'Skill', 'select', 'Mutes', 'burthen', 'Nature', 'March', 'Niobe', 'Gates', 'Records', 'Scourge', 'people', 'knauery', 'Pons', 'Northerly', 'extasie', 'Reuennew', 'forgetting', 'Soules', 'Welcome', 'beating', 'Mars', 'Kin', 'dull', 'Loue', 'eternall', 'dipt', 'Natiue', 'else', 'Sleeping', 'mirth', 'Paiocke', 'Appeares', 'stealing', 'Pelion', 'possest', 'hoo', 'appointment', 'cracke', 'Scorne', 'choyse', 'Scul', 'search', 'humbly', 'swallowed', 'Noblest', 'Body', 'place', 'French', 'dosen', 'order', 'crimefull', 'applaud', 'Action', 'Rapiers', 'gore', 'gain', 'Hast', 'Remember', 'Doubt', 'estimation', 'knee', 'Fathers', 'Ominous', 'encounter', 'Canker', 'denote', 'maruels', 'pure', 'Imperiall', 'Whilst', 'vpon', 'memory', 'otherwise', 'Meanes', 'Popt', 'shape', 'prison', 'Garbage', 'quantitie', 'bruite', 'Numbers', 'Gardiners', 'Quarelling', 'Treasure', 'iest', 'allow', 'father', 'disease', 'Lists', 'sight', 'Countries', 'generall', 'Dungeons', 'account', 'faculty', 'Bak', 'moued', 'contracted', 'Giue', 'seasons', 'Akers', 'couched', 'Gibbe', 'grunt', 'metled', 'minute', 'encountred', 'Ducates', 'merrie', 'Reuels', 'North', 'pat', 'Saue', 'Saylor', 'Compasse', 'twaine', 'nothing', 'rights', 'Matrons', 'continuall', 'E', 'louing', 'Mischeefe', 'Ministers', 'holie', 'Try', 'sauory', 'qualifies', 'proceeding', 'halfepeny', 'Termagant', 'wore', 'What', 'Kites', 'bearers', 'Olympus', 'truepenny', 'Nation', 'Take', 'Proclaime', 'deed', 'vnsatisfied', 'giues', 'twere', 'thorny', 'vnripe', 'Dirt', 'Iudge', 'wrinkled', 'sorrow', 'Hora', 'look', 'liues', 'skirts', 'rowe', 'legs', 'That', 'honourd', 'Woodcocks', 'Away', 'trulie', 'danger', 'Neuer', 'last', 'Preparations', 'bearing', 'Excellent', 'hanging', 'Cup', 'spirits', 'rebuke', 'Villaine', 'Lunacie', 'heate', 'counsell', 'steep', 'confront', 'shelfe', 'spies', 'warmes', 'Resort', 'Dost', 'readinesse', 'envenom', 'Sute', 'strewments', 'top', 'stung', 'England', 'expell', 'Tertia', 'Reuerend', 'Barn', 'bounteous', 'Spectators', 'wash', 'weedy', 'hearts', 'purging', 'Bid', 'Mercy', 'aduise', 'seru', 'Oathes', 'tempt', 'trippingly', 'tether', 'lack', 'batten', 'Kingly', 'darkest', 'shee', 'moult', 'Very', 'Goodnight', 'Paris', 'Came', 'push', 'wish', 'orewhelm', 'ho', 'encrease', 'Porches', 'Alarum', 'Soueraigne', 'ignorant', 'moode', 'Patricke', 'Statists', 'shirt', 'Best', 'richer', 'Finding', 'Beere', 'earnest', 'gleane', 'Marry', 'rich', 'has', 'dearly', 'Bastard', 'imediate', 'Napkin', 'image', 'braz', 'Lapwing', 'prythee', 'stomacke', 'cal', 'Follow', 'Quillets', 'flourish', 'higher', 'Lucian', 'kil', 'stalkes', 'Businesse', 'affayre', 'implorators', 'Marching', 'mark', 'Sirs', 'Musick', 'Cals', 'grosser', 'enough', 'Hamlets', 'myraculous', 'conuocation', 'flaming', 'Trophee', 'builds', 'seuerall', 'infect', 'backe', 'ne', 'compell', 'liest', 'fayl', 'primall', 'stops', 'digge', 'hit', 'Vertue', 'Honors', 'reway', 'beg', 'Sun', 'eare', 'wast', 'sonne', 'sharpe', 'soules', 'Leige', 'tend', 'coming', 'dar', 'Recorders', 'forbeare', 'Truncheons', 'tearmes', 'trifling', 'ther', 'make', 'Scoena', 'forgotten', 'lipps', 'shout', 'House', 'lasting', 'Mockery', 'Prodigall', 'serious', 'maine', 'Horse', 'hope', 'patient', 'ue', 'wrote', 'needes', 'Nay', 'Tender', 'Braine', 'rellish', 'New', 'Cudgell', 'For', 'eyes', 'mine', 'remaines', 'Nothing', ':', 'holds', 'begun', 'wombe', 'Neptunes', 'Christians', 'More', 'absolute', 'some', 'gainst', 'is', 'Beleeue', 'Mad', 'whence', 'strikes', 'art', 'winnowed', 'tenders', 'Turfe', 'vaine', 'those', 'vnwholsome', 'embracing', 'Obiect', 'ours', 'minds', 'Churchyards', 'Offence', 'wise', 'suffer', 'wounded', 'drink', 'Taske', 'fiue', 'speake', 'prosperously', 'Clown', 'bounds', 'Worse', 'Abstracts', 'gray', 'Frailty', 'caution', 'wipe', 'Recognizances', 'beshrew', 'illes', 'wilfully', 'homage', 'coile', 'stood', 'didst', 'Faith', 'giuers', 'Oppression', 'carefully', 'Answer', 'Calfe', 'Knaue', 'slaine', 'Brooke', 'ioy', 'hasten', 'exclaim', 'pronounce', 'proclaimes', 'Poland', 'Dugge', 'Reynol', 'does', 'don', 'faithfull', 'into', 'thumbe', 'chariest', 'Fruite', 'Challice', 'Elsenour', 'Fee', 'benetted', 'redeliuer', 'much', 'Damned', 'sparrow', 'weeping', 'springs', 'dexterity', 'did', 'Pit', 'negligence', 'bound', 'drie', 'lightest', 'inward', 'Good', 'Moone', 'Honestie', 'vngalled', 'Moore', 'hand', 'thoughts', 'Fashion', 'welcome', 'Condolement', 'die', 'Cannon', 'malicious', 'chaste', 'compound', 'potent', 'Wit', 'practise', 'Birth', 'appurtenance', 'braines', 'Blacke', 'Resolution', 'deny', 'loath', 'repell', 'recame', 'Pocket', 'Vnite', 'here', 'Leaue', 'padling', 'Pitty', 'circumscrib', 'Incenst', 'whole', 't', 'crye', 'diddest', 'each', 'pile', 'Among', 'monstrous', 'hauiour', 'wary', 'seate', 'May', 'Iouerney', 'Humanity', 'Soldiours', 'sipping', 'spill', 'disperate', 'Crab', 'Seemes', 'asham', 'blessing', 'Obsequies', 'Assistant', 'deuill', 'Breake', 'Roughly', 'leade', 'Prince', 'foure', 'phrase', 'Hill', 'Pioner', 'bespeake', 'Beasts', 'Rosemary', 'dirty', 'terrible', 'puts', 'amities', 'Ordenance', 'Occasion', 'iudgements', 'Denmarke', 'proue', 'vnkinde', 'Illo', 'borrowing', 'vnshaped', 'receiue', 'frighted', 'Gyant', 'Souldiers', 'coole', 'Iester', 'Cap', 'was', 'elder', 'Hic', 'lawful', 'No', 'heard', 'Vntill', 'struck', 'sorts', 'Lome', 'sledded', 'truant', 'Rosincrane', 'beleeue', 'ranck', 'priuate', 'Creatures', 'tush', 'Villany', 'it', 'Ioyntresse', 'turbulent', 'Nobility', 'dayly', 'Vnhand', 'Rheume', 'Table', 'inmost', 'pawse', 'Planets', 'Burne', 'vndoe', 'prophesie', 'grant', 'priuy', 'vnholy', 'Crownes', 'weares', 'hither', 'laying', 'Ducate', 'diseases', 'boy', 'Ser', 'Winner', 'blazes', 'Battery', 'Distilment', 'Conueyances', 'subiect', 'Bawdy', 'asking', 'booke', 'damn', 'suite', 'Deere', 'ripe', 'deliuer', 'conceit', 'repaire', 'Earth', 'enurn', 'Norway', 'hoorded', 'Schoole', 'together', 'hearer', 'vacancie', 'Enterprize', 'Know', 'Lands', 'Lap', 'rabble', 'somewhat', 'solid', 'pestilence', 'sport', 'once', 'byrlady', 'Awake', 'delicate', 'Creature', 'bread', 'lines', 'retyrement', 'easinesse', 'assur', 'spoke', 'disioynt', 'warm', 'Deuoutly', 'chaunted', 'Mount', 'Sunne', 'killes', 'argues', 'Contents', 'dalliance', 'maruellous', 'hearers', 'satisfied', 'watchmen', 'Heraldry', 'remember', 'Liege', 'gall', 'reason', 'returnes', 'drowned', 'noise', 'range', 'Article', 'meats', 'Beauer', 'vnlimited', 'must', 'losse', 'Taint', 'seekes', 'Temperance', 'Obligation', 'proportions', 'fain', 'senselesse', 'Proiect', 'Modell', 'God', 'blanket', 'La', 'humorous', 'Moreouer', 'adoption', 'Eares', 'Halfe', 'Chaplesse', 'Heraldrie', 'Mar', 'ouercome', 'obsequious', 'matters', 'dilated', 'Gall', 'ouerlook', 'Cases', 'dead', 'heauy', 'dare', 'Calmely', 'quils', 'Hearke', 'folly', 'hardly', 'soliciting', 'Poesie', 'moderate', 'obseruation', 'foreknowing', 'matter', 'seuen', 'Tempest', 'pour', 'fare', 'liued', 'then', 'loathsome', 'grounds', 'greeting', 'Romage', 'crawling', 'witching', 'calme', 'workes', 'bringing', 'lock', 'Such', 'expectansie', 'Being', 'Rule', 'spacious', 'Mouse', 'Bride', 'Companions', 'happes', 'hee', 'discourse', 'beckons', 'They', 'mouing', 'knocke', 'iocond', 'accuse', 'Portraiture', 'Frends', 'Eyes', 'years', 'Powers', 'remainder', 'Turke', 'sighe', 'thewes', 'Crimes', 'Fetters', 'Ore', 'bloodie', 'thanke', 'Receiues', 'slay', 'milche', 'Drugges', 'Vnction', 'fitting', 'perchance', 'Deuotions', 'Office', 'Much', 'performance', 'obey', 'fauourites', 'well', 'crust', 'Aduantage', 'came', 'vtter', 'Poore', 'working', 'Highnesse', 'hore', 'tale', 'outface', 'Greefes', 'Beggard', 'platforme', 'Christian', 'oft', 'Quest', 'Cannons', 'Captaine', 'My', 'Picture', 'Yaughan', 're', 'Masterly', 'Souldiours', 'now', 'instant', 'iealousie', 'Vowes', 'Town', 'Weigh', 'yeare', 'palme', 'assumes', 'Reynoldo', 'assistant', 'Animals', 'Girdle', 'troubles', 'Shew', 'rebels', 'Incontinencie', 'Roman', 'Maiesty', 'maruell', 'mind', 'Seruices', 'Throate', 'Is', 'Compost', 'cried', 'forc', 'heauie', 'Natur', 'suiting', 'weare', 'nephew', 'adulterate', 'wringing', 'grow', 'confound', 'fretted', 'Fiends', 'they', 'Foh', 'Ophe', 'monsters', 'Asking', 'Dyes', 'cost', 'Honesty', 'proceed', 'fee', 'busie', 'render', 'comfort', 'surge', 'Hoboyes', 'opprest', 'colour', 'Gulfe', 'afternoone', 'Blush', 'hell', 'cerments', 'Apparell', 'coniectures', 'Gyues', 'siluer', 'Sheete', 'aside', 'leaperous', 'next', 'forestall', 'Pe', 'mens', 'fauours', 'Conference', 'adiew', 'Garbe', 'Costly', 'drift', 'Quiddits', 'turneth', 'Throne', 'custome', 'flights', 'lesse', 'els', 'Sandal', 'Morrow', 'rashnesse', 'Barbary', 'Trumpets', 'Of', 'vapours', 'shewne', 'quicke', 'mony', 'leane', 'throat', 'Fall', 'Obseruers', 'escape', 'name', 'reeles', 'dozen', 'volly', 'talk', 'Coarse', 'yes', 'Saint', 'glasse', 'circumuent', 'braue', 'others', 'calumnious', 'Newtrall', 'Bapt', 'vnseene', 'modesties', 'horsse', 'nony', 'coap', 'Brutus', 'bated', 'Pretty', 'thither', 'good', 'knees', 'Implements', 'whereat', 'times', 'bedded', 'flattering', 'Normandy', 'passages', 'Yoricks', 'limbes', 'Blessing', 'new', 'staires', 'None', 'Ho', 'Dominions', 'Beares', 'yeeld', 'sit', 'lookes', 'ancient', 'Children', 'trespasse', 'force', 'eldest', 'lugge', 'may', 'Holds', 'hermony', 'whereto', 'Vp', 'were', 'howsoeuer', 'This', 'neere', 'aloofe', 'Target', 'heauen', 'Rebellious', 'enact', 'Me', 'alone', 'Plautus', 'lasts', 'euer', 'Marcell', 'Thence', 'Note', 'Purse', 'Neither', 'grasse', 'Seales', 'sterrill', 'Dido', 'melt', 'deede', 'gets', 'face', 'indifferent', 'twas', 'Conceit', 'retaine', 'Libertine', 'Goose', 'detecting', 'faded', 'Powres', 'Old', 'deerest', 'person', 'weakest', 'Stood', 'way', 'befitted', 'barr', 'Serpent', 'knowes', 'Suruiuer', 'Greefe', 'least', 'restore', 'aduice', 'months', 'Labour', 'expend', 'formes', 'forg', 'sometimes', 'Comment', 'Goodman', 'Cannoneer', 'Noble', ':)', 'cheeke', 'Heauen', 'Fortunes', 'arriued', 'Here', 'hurt', 'Vienna', 'Scholler', 'Almost', 'transforme', 'Shark', 'do', 'reaks', 'Sallets', 'Buriall', 'silence', 'goes', 'Image', 'smelt', 'allowed', 'thether', 'venome', 'Temple', 'thereabout', 'through', 'aduenturous', 'vngorg', 'Bookes', 'flye', 'gracious', 'suffering', 'Betters', 'Hindges', 'wings', 'holde'}\n",
            "Palavras Não Repetidas Nº Livro hamlet: 5447\n"
          ],
          "name": "stdout"
        }
      ]
    },
    {
      "cell_type": "code",
      "metadata": {
        "colab": {
          "base_uri": "https://localhost:8080/"
        },
        "id": "awSFWvdbHKGc",
        "outputId": "fb66a85f-9668-46a1-e3b7-ea5459c59041"
      },
      "source": [
        "macbeth_dist = set(macbeth)\n",
        "print(\"Palavras Não Repetidas Livro macbeth:\", macbeth_dist)\n",
        "print(\"Palavras Não Repetidas Nº Livro macbeth:\", len(macbeth_dist))"
      ],
      "execution_count": null,
      "outputs": [
        {
          "output_type": "stream",
          "text": [
            "Palavras Não Repetidas Livro macbeth: {'present', 'Doct', 'vap', 'Nobly', 'Foole', 'Mistresse', 'two', 'Sacred', 'ayme', 'heart', 'arm', 'dangerous', 'infected', 'Poure', 'boue', 'durst', 'Boundlesse', 'time', 'Murthers', 'blanch', 'Maiestie', 'rue', 'beate', 'commands', 'Senses', 'flower', 'Port', 'Twelue', 'Protest', 'fulnesse', 'clearenesse', 'portable', 'day', 'Womans', 'pernicious', 'Tale', 'wonder', 'Mortalitie', 'fall', 'stand', 'Teares', 'condemne', 'therefore', 'Gracious', 'vnkindnesse', 'Thumbes', 'shrieks', 'sinkes', 'adde', 'vnbecomming', 'weepes', 'approue', 'Bill', 'Two', 'Tarquins', 'sick', 'Shake', 'sensible', 'drop', 'Rebell', 'perform', 'Amen', 'Crowned', 'baited', 'Farwell', 'slab', 'all', 'Vnder', 'deeper', 'Iudgement', 'Graine', 'happinesse', 'eight', 'short', 'rore', 'acted', 'Summons', 'lamentings', 'disbursed', 'diuision', 'Theefe', 'missing', 'Lyon', 'newer', 'valiant', 'growes', 'Siluer', 'Comes', 'Heere', 'Charmes', 'truest', 'contend', 'pole', 'Beast', 'Do', 'stooles', 'Fye', 'Hee', 'hearted', 'Fairies', 'auoyded', 'since', 'gayne', 'Oftner', 'Courage', 'Tuesday', 'wherefore', 'Round', 'Obliuious', 'confident', 'mew', 'going', 'Broke', 'Non', 'heauily', 'meet', 'breech', 'counterfeit', 'Fleance', 'pious', 'Angell', 'Cesterne', 'Raze', 'Hayle', 'Milke', 'Most', 'Sweno', 'aught', 'sing', 'desolate', 'gos', 'quickly', 'house', 'rowse', 'Prythee', 'pledge', 'whither', 'Knife', 'Till', 'Obedience', 'Minister', 'Rosse', 'healing', 'Vlcerous', 'Pyes', 'debt', 'Confronted', 'Will', 'blunt', 'pace', 'bent', 'Began', 'Eare', 'thickens', 'Countrey', 'vpbraid', ')', 'Woe', 'Blood', 'auoid', 'Charme', 'Wisdome', 'winne', 'whin', 'plenty', 'Vessell', 'Something', 'deseruers', 'Sweet', 'Seize', 'laide', 'weigh', 'Bough', 'committed', 'owne', 'wilde', 'state', 'something', 'read', 'hurts', 'Well', 'Hose', 'by', 'vnbend', 'sleeke', 'interprete', 'passion', 'Cruelty', 'Victorie', 'Banners', 'Banquets', 'Performe', 'beds', 'Malcolmes', 'vnguarded', 'Y', 'almost', 'Macduff', 'poore', 'Gold', 'Traitors', 'Males', 'vnmann', 'are', 'Key', 'poyson', 'scorne', 'Shakespeare', 'direfull', 'nie', 'Send', 'enfold', 'Coppie', 'Hanging', 'march', 'Face', 'Signifying', 'findes', 'fearefull', 'reported', 'guild', 'wisedome', 'Yours', 'Kernes', 'accesse', 'Posterity', 'fruitlesse', 'doth', 'Bee', 'Creepes', 'iocund', 'desire', 'the', 'Wisedom', 'Foggy', 'stones', 'known', 'bolter', 'Whence', 'Vnreall', 'aske', 'succeede', 'Horses', 'Newes', 'gouerne', 'trifled', 'newly', 'Howlets', 'play', 'sworne', 'file', 'frets', 'Wash', 'strooke', 'rooted', 'Statute', 'Head', 'wearie', 'twice', 'Keepes', 'Councell', 'Caution', 'vertuous', 'mend', 'flying', 'Sodaine', 'hast', 'Keepe', 'beard', 'flight', 'OF', 'oppressed', 'wooingly', '3', 'dispise', 'guide', 'Speeches', 'faces', 'Threescore', 'seauenth', 'Chamber', 'Their', 'stopt', 'further', 'dearest', 'Masterdome', 'Cheere', 'Prologues', 'soone', 'deedes', 'Prayers', 'request', 'Prowesse', 'lockes', 'Wing', 'Slaues', 'Whore', 'Houres', 'Faulcon', 'Yong', 'drugge', 'Watch', 'paines', 'o', 'Question', 'high', 'other', 'Iealousies', 'thereto', 'get', 'Women', 'Moues', 'blasted', 'Thankes', 'rost', 'frankly', 'obscure', 'Rumour', 'Arme', 'run', 'teeth', 'moue', 'halfe', 'expectation', 'consider', 'this', 'waile', 'Dreames', 'shalt', 'Yes', 'darefull', 'wake', 'Meane', 'redoubled', 'Liue', 'trusted', 'sides', 'Red', 'bids', 'spirit', 'Yet', 'demerits', 'being', 'dyed', 'intemperance', 'Lent', 'Ship', 'action', 'Your', 'Craues', 'poure', 'sense', 'abroad', 'informes', 'Did', 'We', 'saide', 'Go', 'Conuert', 'affraid', 'Reuolts', 'pratler', 'marre', 'show', 'there', 'disorder', 'freely', 'cling', 'appoint', 'worme', 'Rebels', 'Wound', 'appall', 'lou', 'Fellow', 'folde', 'tarrying', 'serue', 'Snares', 'lighted', 'lye', 'teemes', 'dire', 'drinke', 'Who', 'Glamis', 'Spirits', 'womb', 'Largesse', 'embrace', 'leauy', 'hear', 'Monkie', 'Enemie', 'repent', 'blowne', 'Hands', 'Layes', 'Euents', 'Hay', 'Start', 'Queene', 'and', 'Rancours', 'Meete', 'Wayting', 'eye', 'smyling', 'Bridegroome', 'feares', 'euils', 'also', 'shine', 'Greyhounds', 'Selfe', 'fayle', 'trenched', 'naturall', 'haires', 'Fife', ';', 'blessed', 'Fortune', 'Allegeance', 'Whereto', 'Bell', 'kindly', 'edge', 'Some', 'sits', 'Deare', 'Remorse', 'Haruest', 'Metaphysicall', 'Colmes', 'empty', 'Menteth', 'scarse', 'for', 'should', 'State', 'dispatch', 'Masking', 'fie', 'Fatall', 'Frogge', 'wrath', 'Hold', 'Euen', 'Society', 'registred', 'vsually', 'thirty', 'Counsailers', 'truly', 'speculation', 'measur', 'glare', 'Others', 'Attendants', 'Nights', 'cheefest', 'farre', 'powre', 'Vnlesse', 'multiplying', 'ioynt', 'Though', 'from', 'wormes', 'comming', 'Isles', 'Except', 'Bloody', 'Reuolt', 'Iourney', 'clamorous', 'ha', 'Homage', 'rarer', 'liue', 'stirre', 'late', 'commend', 'keene', 'Wormes', 'Kinsman', 'Catalogue', 'labour', 'made', 'Kytes', 'Mettle', 'Prima', 'Reigne', 'Stands', 'Minions', 'yesty', 'drops', 'payment', 'naked', 'seeling', 'mad', 'ready', 'chastise', 'Lease', 'confinelesse', 'Perseuerance', 'bend', 'accompt', 'ask', 'content', 'would', 'Alas', 'Fighting', 'Still', 'Stage', 'long', 'talke', 'detraction', 'Security', 'rage', 'former', 'inhabit', 'Weapons', 'tied', 'Porter', 'hatch', 'leysure', 'Faculties', 'Prepares', 'gaue', 'Robes', 'Damme', 'Scorpions', 'cream', 'perceiue', 'vplifted', 'with', 'our', 'attyre', 'Barlet', 'already', 'Words', 'Must', 'goodnight', 'cleare', 'sorryest', 'Gripe', 'Thinke', 'helpe', 'Hecat', 'say', 'intombe', 'Feuorous', 'Lady', 'Message', 'sorry', 'Flower', 'Valour', 'worse', 'he', 'altogether', 'goodnesse', 'perswades', 'sell', 'Due', 'Scotland', 'aright', 'interest', 'ride', 'Heccats', 'writ', 'Auarice', 'griefe', 'hah', 'Pigge', 'tis', 'assay', 'act', 'Battlements', 'Scale', 'turnes', 'vnruffe', 'alter', 'self', 'walk', 'warlike', 'Hence', 'Consequence', 'wear', 'one', 'first', 'dis', 'giuen', 'damne', 'doo', 'Leuie', 'Bring', 'r', 'her', 'vouch', 'If', 'Tree', 'Since', 'manly', 'broke', 'familiar', 'Donalbane', 'destruction', 'Shipwracking', 'dreyne', 'Equiuocation', 'Grewell', 'Twixt', 'damned', 'i', 'honor', 'receiu', 'kindnesse', 'shut', 'l', 'Worke', 'bore', 'dignity', 'holily', 'Thould', 'fought', 'end', 'badg', 'basis', 'Affection', 'argument', 'assurance', 'open', 'Master', 'or', 'Why', 'Demy', 'hold', 'Net', 'Groue', 'knockes', 'Physicks', 'implor', 'Open', 'Blesse', 'delinquents', '1', 'himselfe', 'heartens', 'blast', 'Frailties', 'Mankinde', 'vntitled', 'Choughes', 'Neere', 'contradict', 'Dignities', 'heeles', 'Augures', 'A', 'Sceptred', 'consent', 'Gone', 'these', 'sake', 'Alarme', 'Royall', 'bin', 'Earles', 'Duncane', 'wilt', 'consequence', 'Arabia', 'raise', 'exasperate', 'Striding', 'prouided', 'wisely', 'Ports', 'breath', 'Past', 'remaines', 'womans', 'Charnell', 'By', 'to', 'swear', 'Instruments', 'most', 'gouern', 'flowt', 'Angels', 'marke', 'preparation', 'Feare', 'Mess', 'neuer', 'Gallowgrosses', 'woman', 'loosest', 'esteem', 'minde', 'sooner', 'humble', 'brag', 'after', 'fortune', 'vse', 'Faire', 'Toth', 'Alack', 'Nor', 'Anon', 'at', 'thine', 'Northumberland', 'Say', 'Houre', 'sweetly', 'eaten', 'Get', 'Strangers', 'Esteeme', 'Toyes', 'happily', 'Enough', 'iumpe', 'Deny', 'none', 'Fume', 'Reports', 'curse', 'compt', 'Murtherers', 'patience', '1603', 'Vsing', 'amend', 'Captaines', 'Title', 'Land', 'Turn', 'Bat', 'skinne', 'eighth', 'restraine', 'reconcil', 'Truth', 'slow', 'Windes', 'witnest', 'exploits', 'vnfixe', 'tender', 'farwell', 'Dogs', 'old', 'proofe', 'digg', 'Deaths', 'which', 'stealthy', 'selues', 'violent', 'worne', 'towring', 'Madame', 'Particular', 'hawkt', 'distracted', 'Hearts', 'secret', 'stufft', 'Flame', 'Scales', 'hoodwinke', 'Beards', 'vppon', 'Filthy', 'obseru', 'white', 'due', 'confirme', 'Corne', 'Pearle', 'limitted', 'as', 'sent', 'thrusts', 'Lesser', 'best', 'causes', 'Sliuer', 'blown', 'clos', 'particulars', 'Magicke', 'strangled', 'beyond', 'saluted', 'moe', 'Kinde', 'Twas', 'Lockes', 'fry', 'ynch', 'Battell', 'Eye', 'Schreemes', 'threat', 'while', 'See', 'Candles', 'murthers', 'deuoure', 'Speakers', 'Bones', 'contented', 'grim', 'Gentleman', 'wicked', 'glory', 'meeting', 'floate', 'Caps', 'yellow', 'pleade', 'Ideot', 'infirmity', 'augure', 'Line', 'Make', 'wel', 'dye', 'aboue', 'outward', 'Graspe', 'fairest', 'oh', 'Mur', 'Nerues', 'comforted', 'wastfull', 'same', 'go', 'offer', 'Hand', 'Physicke', 'Weeds', 'know', 'coueted', 'dues', 'sickly', 'Rocke', 'reseru', 'cheere', 'want', 'lies', 'starts', 'speed', 'Napkins', 'Iouiall', 'lyes', 'Lay', 'harme', 'Cousins', 'First', 'professes', 'wait', 'bold', 'Deale', 'Demand', 'more', 'burnt', 'Wolfe', 'thus', 'Saw', 'Winde', 'peake', 'champion', 'afterwards', 'question', 'oppos', 'Forrest', 'Weale', 'downe', 'tidings', 'Liuer', 'Mungrels', 'Behold', 'Preparation', 'Led', 'thy', 'speakes', 'newes', 'Moderne', 'intermission', 'Iewels', 'prouokes', 'Exit', 'pray', 'pretend', 'sheath', 'reade', 'Macb', 'Cure', 'Father', 'brow', 'began', 'Faces', 'horrible', 'went', 'Booke', 'vnwip', 'greet', 'Run', 'bosomes', 'Snores', 'knock', 'onely', 'thicke', 'vulnerable', 'Captiuitie', 'Mercifull', 'meere', 'Sit', 'faith', 'displac', 'dismall', 'Lust', 'intrenchant', 'goodly', 'Equiuocator', 'boadments', 'Function', 'meane', 'doe', 'steales', 'Musicke', 'silenc', 'Hang', 'Flowers', 'minister', 'beleeu', 'Combustion', 'substances', 'Descends', 'Chickens', 'Army', 'Actus', 'lapt', 'happy', 'thee', 'wrongly', 'Seat', 'Onely', 'Villanies', 'Might', 'Gray', 'return', 'back', 'ry', 'Ague', 'weepe', 'ere', 'sorowes', 'credulous', 'returne', 'hearing', 'palpable', 'Chestnuts', 'maleuolence', 'Murtherer', 'Doctor', 'calling', 'smacking', 'forbid', 'wretched', 'conuinces', 'pall', 'approach', 'Mothers', 'Riddles', 'taints', 'passage', 'He', 'Act', 'Plentie', 'rid', 'Addage', 'thick', 'Soueraignty', 'Front', 'hauing', 'them', 'rest', 'earnest', 'Gentlemen', 'twenty', 'Hircan', 'wade', 'watch', 'Balles', 'Building', 'seemeth', 'Farrow', 'without', 'Quarta', 'Alreadie', 'Seruice', 'Antidote', 'streames', 'Pardon', 'ginne', 'rt', 'Acquaint', 'gladly', 'Not', 'entrance', 'turne', 'prouoker', 'Was', 'Cawdron', 'hunger', 'ye', 'iudgement', 'fresh', 'Treasons', 'safetie', 'bad', 'afeard', 'actuall', 'vertue', 'prate', 'pitty', 'brest', 'FINIS', 'bee', 'Tyrant', 'Throw', 'diuell', 'appeare', 'Bonfire', 'solemne', 'East', 'ly', 'hail', 'dresse', 'vndaunted', 'deepe', 'Winne', 'left', 'refraine', 'loues', 'step', 'smiles', 'dispaire', 'Aleppo', 'eterne', 'third', 'am', 'Appetite', 'toth', 'Trees', 'armes', 'drunke', 'Threatens', 'drowne', 'duties', 'mindes', 'nine', 'Auaricious', 'painting', 'thou', 'chafes', 'fear', 'Armour', 'bals', 'pit', 'stuck', 'Flye', 'Hare', 'Antique', 'Wrackt', 'braine', 'shard', 'rance', 'Staffe', 'seeming', 'Gibbet', 'away', 'Ride', 'Wonders', 'Reuenge', 'Excite', 'single', 'pleasure', 'Steep', 'Fooles', 'Sits', 'fraught', 'learn', 'Chiefe', 'Norwayes', 'roughest', 'vtterance', 'Reasons', 'hopes', 'hang', 'crost', 'straight', 'Vizards', 'kniues', 'Fortifies', 'indure', 'Didst', 'Malicious', 'Mortals', 'Sauagely', 'browes', 'Horrible', 'walkt', 'Fight', 'hide', 'Harpier', 'Creation', 'fell', 'forraine', 'quit', 'smother', 'hearke', 'wonne', 'pleasant', 'choake', 'doubt', 'Compell', 'An', 'toward', 'Professions', 'Prophecying', 'Rest', 'Legges', 'Whose', 'Retreat', 'pronounc', 'ranke', 'Eccho', 'spoken', 'dismisse', 'your', 'surfeted', 'fac', 'cry', 'Laugh', 'Golden', 'weighes', 'repose', 'signe', 'rous', 'Dolour', 'ioyne', 'Listning', 'integrity', 'loades', 'holy', 'bestowes', 'moues', 'th', 'Kite', 'Thunders', 'mercie', 'forsworne', 'brother', 'whereby', 'accompany', 'Wassell', 'Ingratitude', 'Mark', 'feare', 'Drinke', 'fantasticall', 'madnesse', 'Ment', 'dasht', 'Impostors', 'Killing', 'Secrets', 'fowly', 'Thanes', 'bare', 'seest', 'Art', 'Lampe', 'cruell', 'Fellowes', 'spurne', 'Girle', 'like', 'treade', 'Ten', 'Garments', 'vile', 'gently', 'supernaturall', 'Venture', 'man', '2', 'Cow', 'Disguising', 'Tooke', 'blame', 'Chamberlaines', '-', 'wishest', 'Seruant', 'effect', 'You', 'Repentance', 'valour', 'their', 'sounded', 'seat', 'sets', 'Tables', 'Blessings', 'disposition', 'Husbandry', 'sorely', 'buy', 'hayl', 'pay', 'Trifle', 'equiuocate', 'lyest', 'bleeding', 'inuest', 'Exeunt', 'Sisters', 'choppie', 'Ro', 'peepe', 'Ermites', 'vntye', 'supply', 'Inhabitants', 'cheapely', 'falne', 'afraid', 'murtherous', 'Goes', 'surmise', 'disloyall', 'dreamt', 'especially', 'hoa', 'euerlasting', 'Edward', 'nought', 'taint', 'chanc', 'Nought', 'Nest', 'Least', 'feet', 'keepe', 'Patch', 'affear', 'strongly', 'neerer', 'Enter', 'Suspition', 'founded', 'bloodier', 'quench', 'Seale', 'Rookie', 'Hopes', 'kisse', 'vnderstood', 'hardie', 'succeeding', 'power', 'Passion', 'laugh', 'pendant', 'Carried', 'assaileable', 'Treason', 'become', 'hyr', 'home', 'flesh', 'Power', 'gaines', 'greater', 'faint', 'borrowed', '(', 'Byrnane', 'betweene', 'attempt', 'worthy', 'Within', 'Song', 'Hall', 'treasure', 'taught', 'seare', 'grafted', 'Dunsmane', 'deare', 'Pent', 'accursed', 'Owne', 'youl', 'men', 'accustom', '.', 'Deuill', 'estate', 'inuested', 'story', 'yesterdayes', 'schreame', 'come', 'Melted', 'drenched', 'graue', 'Story', 'Therefore', 'goe', 'Field', 'admir', 'addrest', 'Heauens', 'Name', 'pester', 'about', 'Yew', 'Deadmans', 'Friend', 'presence', 'flowne', 'continue', 'fil', 'share', 'tongues', 'got', 'later', 'gins', 'peerelesse', 'Drumme', 'Christendome', 'Centinell', 'forget', 'ioyfull', 'Morne', 'better', 'Present', 'Toe', 'Throat', 'Lookes', 'beguile', 'soule', 'said', 'kill', 'Kingdome', 'These', 'outwardly', 'cursed', 'Hounds', 'mated', 'Quinta', 'Point', 'marshall', 'Tis', 'when', 'grac', 'fooles', 'Tigers', 'Nipple', 'performe', 'Supper', 'Genius', 'Wee', 'Summer', 'deeds', 'note', 'betimes', 'Byrnam', 'relate', 'st', 'equiuocates', 'nearest', 'Sold', 'indeede', 'begger', 'often', 'low', 'hoarse', 'if', 'Infected', 'growing', 'conclude', 'ground', 'lauish', 'sweat', 'blade', 'Trust', 'cure', 'Vpon', 'Receiue', 'Armes', 'highly', 'thinke', 'Witchcraft', 'wayes', 'entry', 'repeat', 'hush', 'After', 'subtle', 'Relation', 'behold', 'owe', 'High', 'spend', 'foolish', 'neckes', 'Sleeue', 'Cosin', 'cannot', 'meate', 'fourth', 'Syue', 'regard', 'takes', 'shift', 'mouncht', 'Rookes', 'lowd', 'temp', 'set', 'fauor', 'Offrings', 'bladed', 'practise', 'shew', 'Henceforth', 'very', 'found', 'Ere', 'Towards', 'mock', 'West', 'hearty', 'effects', 'nights', 'Ruines', 'ope', 'horrid', 'Crown', 'attend', 'speaks', 'aye', 'sinne', 'cleane', 'Stormes', 'Instructions', 'shriek', 'South', 'plac', 'Come', 'Honor', 'vnusuall', 'inuention', 'round', 'legge', 'vnto', 'stolne', 'please', 'Naue', 'Souldier', 'houre', 'young', 'Course', 'Grace', 'cryes', 'selfe', 'Loyall', 'grace', 'broth', 'Gentle', 'miserable', 'Monuments', 'blames', 'Cyme', 'Can', 'Theame', 'Fire', 'Braines', 'Chambers', 'therewithall', 'heat', 'innocent', 'Both', 'Cheekes', 'no', 'vndone', 'digestion', 'transport', 'seated', 'purposes', 'perfect', 'dyre', 'gone', 'businesse', 'flighty', 'wrought', 'briefely', 'but', 'Primrose', 'sad', 'quiet', 'will', 'lips', 'Taylor', 'death', 'Cock', 'Stay', 'Flyes', 'falles', 'Maw', 'faile', 'caru', 'seem', 'Market', 'stickes', 'sword', 'numbers', 'youth', 'olde', 'Graues', 'Heark', 'beneath', 'arriu', 'Prophesie', 'Buffets', 'handed', 'Botches', 'Shee', 'Birnane', 'leauing', 'Mallice', '!', 'she', 'Robe', 'Cat', 'ratifie', 'anon', 'Imaginings', 'Cozens', 'shadow', 'Holy', 'skipping', 'Fare', 'Company', 'Hath', 'heare', 'Donal', 'apply', 'Eagles', 'leaues', 'Birds', 'Fiend', 'Concord', 'Pray', 'abhorred', 'tedious', 'sawcy', 'As', 'saying', 'Foysons', 'parted', 'valued', 'sole', 'post', 'Crime', 'discerne', 'Staues', 'fed', 'continent', 'Macd', 'Predecessors', 'fire', 'Torch', 'nam', 'dusty', 'harrold', 'Wife', 'Officers', 'marres', 'Sirrha', 'constrained', 'Masters', 'boasting', 'desires', 'Coward', 'Swearers', 'Shaft', 'buried', 'malady', 'you', 'howle', 'knell', 'Issue', 'borne', 'One', 'befor', 'tost', 'domestique', 'cease', 'Rebells', 'Himselfe', 'Makes', 'Listen', 'Childe', 'rises', 'trouble', 'abide', 'great', 'Mile', 'Conduct', 'remedie', 'performance', 'scape', 'courage', 'growne', 'vnderstand', 'Takes', 'Turne', 'another', 'c', 'Gent', 'Vprore', 'Roote', 'defect', 'diseas', 'auouches', 'bloody', 'sticking', 'toile', 'Balme', 'Liues', 'greene', 'Mansion', 'blisters', 'leaue', 'sure', 'needs', 'backward', 'built', 'struts', 'stroake', 'Wood', 'Her', 'Wip', 'yell', 'watchfull', 'Lo', 'pluck', 'Confess', 'Diuellish', 'stop', 'Profit', 'rebuk', 'Russian', 'tell', 'thinkes', 'I', 'Prayses', 'Without', 'Dayes', 'remaine', 'hard', 'Ayre', 'Pallaces', 'streakes', 'From', 'Scena', 'Where', 'indeed', 'Trumpets', 'till', 'Anthonies', 'salt', 'Moones', 'houres', 'Approach', 'sicken', 'yoake', ']', 'Crowne', 'how', 'Quarrell', 'quell', 'Lecherie', 'furious', 'playd', 'of', 'Clowd', 'Tydings', 'fires', 'Faile', 'sayle', 'Skarfe', 'length', 'runnes', 'Natio', 'happyer', 'gift', 'Thy', 'double', 'Starres', 'angerly', 'abuse', 'petty', 'Smells', 'Eminence', 'destroy', 'stole', 'Soldiers', 'Hec', 'prediction', 'Mawes', 'seene', 'recklesse', 'Taper', 'exil', 'Gown', 'harts', 'Thought', 'betray', 'scarcely', 'pale', 'loued', 'knife', 'Dishonors', 'Posters', 'Witnesse', 'Feed', 'vnshrinking', 'Against', 'benefit', 'breach', 'Capitall', 'fold', 'needed', 'knots', 'vnder', 'Authoriz', 'Inchanting', 'Ronyon', 'start', 'reuenge', 'impeides', 'learne', 'Herein', 'Dunsinane', 'iust', 'horror', 'Son', 'pretty', 'bleed', 'incens', 'Sea', 'Mouth', 'latch', 'Trade', 'accurs', 'met', 'Boughes', 'celebrates', 'His', 'misse', 'dreadfull', 'damnation', 'stanchlesse', 'blacke', 'thereby', 'Morrow', 'Heart', 'clutch', 'ayde', 'quite', 'him', 'murth', 'wil', 'warre', 'vndeeded', 'Partner', 'beene', 'challenge', 'Notion', 'sharke', 'Acheron', 'Lead', 'Mac', 'sleep', 'enter', 'Closset', 'plenteous', 'But', 'doubtfull', '[', 'barren', 'Throbs', 'worthyest', 'large', 'Wherein', 'Conspirers', 'seize', 'lated', 'painted', 'pieces', 'attendants', 'looke', 'Med', 'bubble', 'Waues', 'Things', 'swift', 'Westerne', 'cam', 'Marble', 'strangers', 'stake', 'commendations', 'vpward', 'amisse', 'nice', 'gash', 'Minde', 'Spirit', 'crying', 'distemper', 'sence', 'Vnto', 'receyue', 'Into', 'torture', 'solicites', 'offended', 'Cancell', 'Brandish', '&', 'purpose', 'Each', 'fighting', 'Gods', 'Mine', 'loose', 'require', 'withall', 'Colmekill', 'hoter', 'resolu', 'Out', 'rauel', 'decision', 'false', 'firme', 'sweeter', 'gap', 'Acts', 'mans', 'my', 'vnfelt', 'Winters', 'bruited', 'before', 'future', 'Vnspeake', 'paralell', 'Sawce', 'Retyre', 'appease', 'inuisible', 'surueying', 'aduantage', 'Shall', 'Whether', 'filthie', 'Goe', 'buriall', 'King', 'giue', 'finde', 'deere', 'abound', 'sometime', 'verities', 'Primus', 'Reason', 'second', 'Lowlinesse', 'vndon', 'Wisedome', 'emptying', 'Hemlocke', 'Doore', 'Spels', 'prou', 'sutes', 'Churches', 'Letters', 'burley', 'And', 'Wine', 'Traitor', 'asleepe', 'surpriz', 'expedition', 'deserues', 'Adde', 'homeward', 'dayes', 'Euery', 'charmed', 'Thunder', 'canst', 'scowre', 'Foe', 'deepest', 'againe', 'contriuer', 'Already', 'Heare', 'piece', 'lesser', 'Pious', 'Nose', 'designe', 'cleares', 'Saylors', 'reigne', 'Kinsmen', 'Trafficke', 'toyle', 'momentary', 'knoll', 'Twere', 'Spy', 'Battaile', 'vnsex', 'Whiles', 'nor', 'fairer', 'draw', 'marching', 'bed', 'bestow', 'Harbingers', 'scap', 'Inuenter', 'Graue', 'Prisoner', 'seperated', 'winke', 'Seyw', 'Told', 'Guest', 'Death', 'themselues', 'desert', 'warrant', 'walke', 'Giuen', 'Haue', 'wholsome', 'tumble', 'places', 'an', 'Th', 'Nauigation', 'Septima', 'meanes', 'spoyles', 'Iutty', 'roote', 'Duties', 'can', 'Cumberland', 'filling', 'dread', 'vnsanctified', 'gon', 'croakes', 'hisse', 'yours', 'mortified', 'Il', 'Fountaine', 'Bosomes', 'eyther', 'Looke', 'THE', 'Rat', 'auouch', 'faire', 'Gate', 'thrice', 'bright', 'off', 'Feast', 'Stones', 'Desire', 'doffe', 'lt', 'vnsure', 'kinde', 'Bonelesse', 'salutation', 'Ross', 'pareill', 'Voluptuousnesse', 'Serieant', 'Wanton', 'neyther', 'awake', 'Be', 'With', 'Custome', 'Butcher', 'voyce', 'star', 'Pale', 'heere', 'Manhood', 'Tiger', 'cines', 'Too', 'Vsurpers', 'fanne', 'wither', 'Fact', 'laudable', 'thought', 'out', 'Opinions', 'teares', 'Possets', 'farewell', 'Warre', 'led', 'direction', 'continued', 'Motion', 'Greater', 'weake', 'Len', 'Malc', 'few', 'cold', 'hands', 'Peace', 'Age', 'chance', 'points', 'Sences', 'farther', 'Man', 'lacke', 'Babes', 'Recompence', 'Stop', 'Soule', 'guesse', 'been', 'commanded', 'slumbry', 'Our', 'let', 'Before', 'Wounds', 'resembled', 'reeking', 'Peale', 'rough', \"'\", 'Accents', 'Pillowes', 'Court', 'stayes', 'delights', 'close', 'Wolues', 'powrefull', 'Countreyes', 'beares', 'speaker', 'pleasures', 'clatter', 'Macduffe', 'wee', 'Neutrall', 'Vnkle', 'Thoughts', 'tune', 'Thrice', 'rugged', 'dst', 'franchis', 'cast', 'Naught', 'Luxurious', 'rent', 'Ditch', 'marrowlesse', 'Lord', 'world', 'Macduffes', 'deepely', 'Doubtfull', 'humane', 'Cauldron', 'catch', 'greatest', 'Hoast', 'Vault', 'might', 'compar', 'stoole', 'Lips', 'Alarums', 'Feuer', 'Dames', 'While', 'Aduise', 'Downey', 'Venom', 'burne', 'minutely', 'Hunter', 'ioyntly', 'aliue', 'mingle', 'Spurre', 'Childhood', 'worth', 'sacrilegious', 'Traueller', 'gate', 'smell', 'Season', 'command', 'promise', 'On', 'pluckes', 'sound', 'Leafe', 'benyson', 'sauage', 'affliction', 'Gashes', 'strength', 'countenance', 'feeling', 'denies', 'Adieu', 'Dragon', 'conference', 'hole', 'Day', 'Monsters', 'shake', 'Cosine', 'Returning', 'soueraigne', 'Iustice', 'The', 'paper', 'Temp', 'Feasts', 'Benediction', 'Padock', 'impresse', 'hid', 'spurres', 'thralles', 'Meet', 'Cloyster', 'Lye', 'haunt', 'Iewell', 'defence', 'taking', 'foot', 'Receit', 'Flourish', 'Boy', 'whereon', 'accust', 'manner', 'Relations', 'guest', 'Consequences', 'indissoluble', 'plague', 'clowdy', 'loue', 'Lizards', 'Infirme', 'full', 'vnwelcom', 'Estate', 'towards', 'prayses', 'Could', 'stern', 's', 'Then', 'meant', 'such', 'blood', 'makes', 'wrathfull', 'augment', 'Fie', 'cloud', 'bear', 'wayward', 'Men', 'Messenger', 'probation', 'Lyars', 'pittied', 'pricke', 'So', 'cabin', 'strangely', 'Meale', 'Assassination', 'trauailing', 'Skreenes', 'giuing', 'amazement', 'carry', 'sore', 'check', 'Missiues', 'Dispaire', 'Crickets', 'Foule', 'nature', 'heads', 'witnesse', 'Fury', 'stout', 'topple', 'shed', 'Cannot', 'Macbeth', 'Banq', 'imperfect', 'Root', 'vntill', 'whom', 'haue', 'part', 'bid', 'Doores', 'Deuotion', 'told', 'flawes', 'Cousin', 'ouer', 'trammell', 'Spring', 'Seruants', 'Theft', 'Birnan', 'Rankes', 'Whispers', 'Torches', 'Ile', 'pluckt', 'swallow', 'Desart', 'voyces', 'Tertius', 'visitings', 'aid', 'euent', 'word', 'among', 'teare', 'Fools', 'groanes', 'chamber', 'longer', 'fellowes', 'milkes', 'delight', 'poorely', 'furie', 'sweet', 'Tartars', 'seemes', 'ow', 'fitfull', 'direst', 'Sey', 'awak', 'foule', 'batter', 'frieze', 'Knell', 'Cleanse', 'blesse', 'mile', 'reckon', 'safest', 'Sweltred', 'Source', 'Natures', 'rightly', 'sagge', 'appalls', 'Dame', 'Labor', 'safer', 'Clamor', 'certaine', 'Watchers', 'past', 'transported', 'true', 'Disdayning', 'blow', 'mould', 'World', 'distresses', 'trembling', 'Blinde', 'There', 'Colours', 'neu', 'Wooll', 'trace', 'Ang', 'Those', 'Pallace', 'starting', 'Kingdomes', 'thing', 'insane', 'Shakes', 'Maides', 'marry', 'Whay', 'prospect', 'sleepers', 'restlesse', 'corporall', 'To', 'euen', 'Lees', 'Beare', 'nimbly', 'enow', 'Pitfall', 'Grandam', 'Beetle', 'strong', 'speak', 'beaten', 'Slaue', 'doore', 'Mistris', 'Titles', 'Destroying', 'fellow', 'dew', 'Iudicious', 'Cawdor', 'Warder', 'sweeten', 'troubled', 'Truths', 'Famine', 'Direnesse', 'boot', 'Quartus', 'Guests', 'hadst', 'brew', 'skirre', 'Consider', 'Giants', 'rapt', 'fill', 'older', 'Dogges', 'waite', 'send', 'fauors', 'gashes', 'Health', 'charge', 'wofull', 'Vulture', 'assault', 'cleaue', 'drawne', 'slights', 'Accounted', 'Foes', 'leape', 'studied', 'de', 'head', 'shot', 'sleepie', ',', 'Owle', 'Blade', 'safe', 'Spightfull', 'Scruples', 'sprights', 'safely', 'right', 'solliciting', 'Dishes', 'graunt', 'Inne', 'Mother', 'Therein', 'Egge', 'Syw', 'Brests', 'illnesse', 'Remaines', 'n', 'Quarters', 'sold', 'Gentry', 'sway', 'nourisher', 'begge', 'doubts', 'Nobles', 'Adders', 'ayre', 'Dudgeon', 'Seas', 'muse', 'Cozen', 'fate', 'Fenny', 'Reuenges', 'Physitian', 'Geese', 'sights', 'shade', 'Pertaines', 'followes', 'Painted', 'Direction', 'Farmer', 'liu', 'Confound', 'Drab', 'foorth', 'Sword', 'saue', 'Secundus', 'Souldiership', 'Chawdron', 'master', 'rides', 'greefe', 'concerne', 'com', 'Lid', 'throats', 'Armed', 'Ban', 'weary', 'All', 'Industrious', 'hence', 'whose', 'Greatnesse', 'Bellona', 'Murther', 'cries', 'wit', 'forth', 'pine', 'Lords', 'hors', 'touch', 'earth', 'ring', 'Wherewith', 'disgrace', 'Vertues', 'speech', 'Lightning', 'not', 'Worlds', 'friend', 'stands', 'Tyrants', 'twer', 'felt', 'hath', 'oftentimes', 'Backe', 'little', 'many', 'Peeres', 'Down', 'care', 'crownes', 'fast', 'sawce', 'proper', 'Babe', 'sigh', 'reades', 'vnmake', 'sightlesse', 'vnfortunate', 'Trumpet', 'Leade', 'daintie', 'Seedes', 'Should', 'held', 'tremble', 'apart', 'golden', 'comparisons', 'promis', 'Husband', 'be', 'dwarfish', 'shrieke', 'mortall', 'seeking', 'Am', 'Minion', 'Drum', 'smiling', 'Bane', 'flong', 'Put', 'earthly', 'knowne', 'spot', 'Woman', 'point', 'Warders', 'confirm', 'Race', 'requited', 'ouerthrowne', 'clayme', 'coniure', 'still', 'Diuine', 'Treatise', 'Gospell', 'wer', 'resolue', 'fury', 'expence', 'Ceremony', 'Verity', 'Seyton', 'watching', 'fits', 'Dy', 'chiefe', 'recoyle', 'M', 'bought', 'assistance', 'surcease', 'besides', 'Would', 'vnlineall', 'traines', 'rather', 'ear', 'begin', 'breed', 'bury', 'Offices', 'call', 'Honour', 'who', 'arbitrate', 'Friends', 'Promis', 'Don', 'rawnesse', 'Command', 'Fortitude', 'setting', 'rate', 'parley', 'bene', 'Memorie', 'Night', 'confin', 'Water', 'lost', 'Sonnes', 'enkindle', 'Sleepe', 'Daggers', 'Witch', 'silent', 'Beauteous', 'see', 'common', 'Professe', 'sought', 'Humh', 'Dogge', 'redresse', 'pull', 'vs', 'cause', 'Ambition', 'scruples', 'lay', 'yesterday', 'Soundly', 'vnruly', 'Sing', 'vniust', 'keepes', 'Measure', 'Lenox', 'Swords', 'obserue', 'Proceeding', 'deceiue', 'swarme', 'Labors', 'vantage', 'Entrailes', 'thousand', 'sleeping', 'score', 'Player', 'counsail', 'greetes', 'Bath', 'Loone', 'cut', 'Actions', 'schoole', 'ends', 'write', 'execution', 'Producing', 'Helpe', 'At', 'Meeting', 'saw', 'Wherefore', 'Pleas', 'angry', 'discouery', 'lodg', 'Spaniels', 'Armor', 'Marke', 'Diuell', 'willing', 'Noblenesse', 'Scone', 'Remoue', 'Beldams', 'ill', 'incarnardine', 'Or', 'beleefe', 'deafe', 'Dagger', 'Byrnan', 'Iew', 'Malcolm', 'societie', 'Houer', 'intent', 'heauiest', 'light', 'binde', 'forme', 'woe', 'leapes', 'Witches', 'proud', 'Acting', 'remembrance', 'droope', 'MACBETH', 'night', 'within', 'stalls', 'sanctity', 'Had', 'crew', 'Duff', 'Guardian', 'Aroynt', 'In', 'Traytor', 'eyld', 'tels', 'a', 'Loues', 'shooke', 'words', 'Sorrow', 'remoue', 'women', 'Hedge', 'enrage', 'lose', 'inuites', 'Tell', 'haire', 'Fled', 'resolute', 'wing', 'occasion', 'Directly', 'Stept', 'Corner', 'hound', 'sweepe', 'hideous', 'Blanket', 'throw', 'alwayes', 'Steele', 'brightest', 'Banquet', 'Volume', 'fit', 'Duncan', 'reioycing', 'wound', 'hate', 'Bed', 'knowings', 'perillous', 'Free', 'smeare', 'peace', 'perturbation', 'Baby', 'wounds', 'brought', 'Discomfort', 'Ireland', 'interpret', 'precious', 'Erre', 'Groomes', 'Agent', 'gaze', 'd', 'Cut', 'vp', 'done', 'combin', 'Crauing', 'houses', 'Secunda', 'bides', 'vnnaturall', 'tooke', 'Letter', 'Successe', 'sleepes', 'health', 'runs', 'became', 'rowze', 'Weepe', 'clamor', 'pride', 'stay', 'referr', 'bow', 'wants', 'vnfold', 'slope', 'Treasonous', 'against', 'downfall', 'hart', 'Bestride', 'scorch', 'scand', 'rise', 'Finger', 'Morning', 'theirs', 'Apparition', 'Childrens', 'life', 'Thou', 'dunnest', 'Apparation', 'Agents', 'stuffe', 'think', 'Ocean', 'Gentlewoman', 'dy', 'ran', 'transpose', 'ditch', 'Sonne', 'too', 'Skie', 'Prophetique', 'station', 'shame', 'stirring', 'Perchance', 'descended', 'Rubie', 'stretch', 'bones', 'presently', 'walls', 'Affaire', 'plant', 'Vision', 'steps', 'composition', 'Tyranny', 'sweaten', 'put', 'dares', 'ones', 'carowsing', 'stroakes', 'summons', 'worke', 'Diamond', 'Crueltie', 'sir', 'speciall', 'sticke', 'Are', 'slaughter', 'feede', 'Seeke', 'Crow', 'vntimely', 'vnprepar', 'Murderer', 'friends', 'easie', 'anger', 'Cosins', 'seeke', 'Widdowes', 'Cooz', 'becoming', 'viewing', 'settled', 'Pilots', 'sleepe', 'laue', 'greeue', 'wife', 'heauenly', 'Fell', 'ten', 'dauntlesse', 'multitudinous', 'Curriors', 'ore', 'sicke', 'written', 'swiftest', 'Ioyes', 'season', 'behinde', 'Norweyan', 'bring', 'Call', 'Remembrancer', 'guilt', 'Mummey', 'Sawcy', 'whisp', 'inuite', 'Thus', 'noyse', 'harmes', 'temper', 'Feat', 'personall', 'Valours', 'Hart', 'taste', 'Braggart', 'Goate', 'homely', 'vniuersall', 'so', 'O', 'shewes', 'Wise', 'Sewer', 'rendred', 'comes', 'sighes', 'William', 'Greene', 'Caldron', 'Great', 'Ha', 'bubbles', 'conceiue', 'fatall', 'consort', 'Time', 'Beware', 'in', 'though', 'materiall', 'whiles', 'Doe', 'mid', 'Hell', 'Knocking', 'Now', 'fight', 'worst', 'Euils', 'Sucke', 'concluded', 'pittifull', 'clipt', 'shadowes', 'deadly', 'Light', 'his', 'm', 'where', 'feele', 'Brest', 'spight', 'recommends', 'conuince', 'Tragedie', 'report', 'rebellious', 'Thine', 'knit', 'stone', 'Tongue', 'trebble', 'pot', 'smoak', 'reignes', 'forgot', 'Which', 'Interim', 'Rauen', 'Malcome', 'Baboones', 'breake', 'body', 'Murth', 'Glamys', 'Instrument', 'olden', 'payes', 'Country', 'offend', 'souldiers', 'Troopes', 'apace', 'plight', 'loe', 'Life', 'Whetstone', 'teach', 'Gainst', 'Surgeons', 'Heap', 'peece', 'vnattended', 'Audit', 'eares', 'prouoke', 'Auant', 'crown', 'boyle', 'Renowne', 'Bird', 'finger', 'Linnen', 'Mes', 'endure', 'appeares', 'Ghost', 'craue', 'vnknowne', 'Doomes', 'Lime', 'breefe', 'Trifles', 'strange', 'could', 'wracke', 'Duncans', 'issue', 'any', 'Kings', 'thence', 'ld', 'easier', 'Distinguishes', 'Another', 'composd', 'darke', 'anticipat', 'Memory', 'Swinish', 'According', 'heereafter', 'False', 'wrongs', 'weightie', 'It', 'honest', 'reflection', 'Commission', 'respect', 'Fit', 'red', 'thankes', 'performances', 'solely', 'confessing', 'paine', 'Greaze', 'Pictures', 'approches', 'me', 'gentle', 'on', 'le', 'She', 'Sainted', 'swolne', 'cheekes', 'Candle', 'hatefull', 'morning', 'either', 'seruice', 'protest', 'Syllable', 'tongue', 'Besides', 'brings', 'rush', 'y', 'anoynted', 'Griefes', 'Sister', 'doing', 'fright', 'things', 'Pleasure', 'turning', 'course', 'Rubs', 'Contending', 'euery', 'construction', 'haunting', 'truth', 'Nightly', 'Disease', 'diminitiue', 'Better', 'hat', 'planted', 'Trecherie', 'both', 'depart', 'bosome', 'Boyle', 'weyard', 'Gorgon', 'amaz', 'Raine', 'what', 'fly', 'guift', 'try', 'niggard', 'Stablenesse', 'Madam', 'knowledge', 'How', 'Tyrrany', 'age', 'Conuey', 'voice', 'goary', 'Pull', 'frame', 'Host', 'washing', 'Sleep', 'Sprights', 'Bounty', 'three', 'Siedge', 'charg', 'Omnes', 'Were', 'quoth', 'possesse', 'Fate', 'purg', 'had', 'Ghosts', 'compunctious', 'faine', 'deigne', 'we', 'palter', 'Whither', 'Weyard', 'seruant', 'Caesar', 'degrees', 'fauour', 'tending', 'shaking', 'Stand', 'hew', 'slaughterous', 'Crests', 'blaspheme', 'prouide', 'liuing', 'thanks', 'yong', 'seeme', 'compose', 'borrower', 'Banke', 'profound', 'why', 'haste', 'Toad', 'black', 'mee', 'chid', 'sweare', 'dedicate', 'added', 'broad', 'Farewell', 'pristine', 'Summers', 'smile', 'Liars', 'em', 'Germaine', 'Fleans', 'distill', 'carelesse', 'Oh', 'Constancie', 'Coigne', 'Ring', 'yet', 'roof', 'making', 'Royalty', 'confus', 'murther', 'Parricide', 'Slippes', 'hangs', 'Seyward', 'Strong', 'Speake', 'Ingredience', 'screw', 'Vrine', 'exposure', 'Confusion', 'Graces', 'winde', 'Blaspheming', 'Scarsely', 'pardon', 'guise', 'strike', 'Vessels', 'alowd', 'Let', 'Royaltie', 'oppose', 'Hurley', 'horrors', 'Murderers', 'weyward', 'Patient', 'Harnesse', 'Like', 'Hagges', 'dost', 'Barke', 'Banquoh', 'Sir', 'omnes', 'measure', 'Double', 'extend', 'wrapt', 'answer', 'preserue', 'Soldier', 'morrow', 'knocking', 'shall', 'T', 'hereafter', 'wakes', 'aduance', 'When', 'moment', 'Quarrels', 'Daughters', 'take', 'Snow', 'Deed', 'Tooth', 'Making', 'writes', 'byth', 'that', 'hidden', 'Rumor', '?', 'lac', 'eate', 'desir', 'need', 'free', 'Haile', 'oddes', 'Vice', 'brows', 'beare', 'distance', 'casing', 'spent', 'Heire', 'Nature', 'Noone', 'kind', 'amazedly', 'March', 'Epicures', 'people', 'thoght', 'extasie', 'Bond', 'firstlings', 'repetition', 'Soules', 'Welcome', 'Vnknowne', 'English', 'dull', 'Loue', 'eternall', 'gallopping', 'else', 'stealing', 'mirth', 'Curses', 'Hangmans', 'cracke', 'Attend', 'diuers', 'hackt', 'humbly', 'drunk', 'place', 'French', 'order', 'applaud', 'Wake', 'Gummes', 'Cleane', 'gore', 'Fathers', 'deseru', 'encounter', 'predominance', 'Safeties', 'Imperiall', 'Card', 'midnight', 'pure', 'vpon', 'Euill', 'Oracles', 'clogges', 'belt', 'shape', 'vanish', 'Snake', 'whilest', 'disease', 'memorize', 'Soris', 'Breach', 'generall', 'sight', 'Countries', 'Strike', 'abiure', 'account', 'Shift', 'thousands', 'Giue', 'resounds', 'metled', 'minute', 'Swine', 'Matrons', 'twaine', 'nothing', 'Destinie', 'liuer', 'rumpe', 'Ministers', 'predominant', 'speculatiue', 'What', 'Countryman', 'dwell', 'Take', 'deed', 'Sinfull', 'forge', 'giues', 'twere', 'Rhinoceros', 'entreat', 'establish', 'liues', 'sorrow', 'Confounds', 'look', 'Grapples', 'twould', 'That', 'fogge', 'Away', 'Bleed', 'Lilly', 'Neuer', 'Thane', 'danger', 'last', 'Worthie', 'ouertake', 'Villaine', 'steed', 'Macbeths', 'readinesse', 'Seywards', 'Ribbes', 'Donalbaine', 'reconcile', 'rubbes', 'top', 'England', 'Tertia', 'son', 'wash', 'bounteous', 'Mercy', 'aduise', 'Ecclipse', 'warranted', 'hearts', 'Commencing', 'seru', 'sundry', 'Purueyor', 'modest', 'shee', 'Golgotha', 'Very', 'agitation', 'dwindle', 'push', 'wish', 'Alarum', 'Came', 'ignorant', 'purge', 'Soueraigne', 'Fiffe', 'sooth', 'Best', 'Deceitfull', 'Finding', 'Plucke', 'Forke', 'Marry', 'calls', 'brinded', 'rich', 'has', 'paid', 'Gowne', 'Thriftlesse', 'discharge', 'Whole', 'thirst', 'backs', 'prythee', 'Guilt', 'continually', 'Commends', 'kil', 'Businesse', 'Elues', 'prosperous', 'Swimmers', 'Force', 'Marching', 'beside', 'mark', 'Whom', 'seuerall', 'enough', 'myraculous', 'Chance', 'backe', 'ne', 'hit', 'fayl', 'signes', 'Orphans', 'perfumes', 'Honors', 'deaftly', 'Belzebub', 'Sun', 'confess', 'sharpe', 'eare', 'Pronounce', 'soules', 'pawser', 'Doome', 'tend', 'enrages', 'cine', 'newest', 'pillowes', 'Blowes', 'tearmes', 'make', 'Scoena', 'forgotten', 'Lyar', 'Scepters', 'Rubarb', 'House', 'Shield', 'serious', 'shagge', 'maine', 'Horse', 'hope', 'subborned', 'Braine', 'Malcolme', 'New', 'needes', 'Nay', 'rellish', 'For', 'eyes', 'mine', 'begun', 'Nothing', ':', 'absolute', 'alas', 'Care', 'Neptunes', 'holds', 'More', 'initiate', 'trust', 'some', 'Rugs', 'gainst', 'is', 'whence', 'art', 'absence', 'brandisht', 'Feares', 'Sent', 'amends', 'those', 'mistrust', 'Assisted', 'Thither', 'Scepter', 'Chops', 'ours', 'Gouts', 'minds', 'wise', 'Sexta', 'suffer', 'keeper', 'Appar', 'Wiues', 'speake', 'drowsie', 'Lad', 'annoyance', 'murky', 'caution', 'receyu', 'stood', 'didst', 'Faith', 'neer', 'Rayne', 'Coole', 'Answer', 'Cherubin', 'Curse', 'Lappe', 'Dollars', 'pretence', 'slaine', 'Mansonry', 'ioy', 'Lambe', 'visited', 'Cath', 'pronounce', 'glosse', 'Expire', 'don', 'does', 'Censures', 'faithfull', 'Foundations', 'into', 'Interdiction', 'compast', 'Damned', 'Challice', 'Banquo', 'Newt', 'Fee', 'much', 'vnaccompanied', 'speaking', 'did', 'True', 'bound', 'drie', 'Rabbles', 'strangles', 'Good', 'Moone', 'than', 'tongu', 'Bosome', 'hand', 'die', 'welcome', 'thoughts', 'Castle', 'Purgatiue', 'brauely', 'conclusion', 'discomfort', 'potent', 'Birth', 'stampe', 'treacherous', 'Blacke', 'Resolution', 'deny', 'here', 'furbusht', 'Leaue', 'Pitty', 'Vnmannerly', 'Walke', 'whole', 't', 'Envernes', 'Chuck', 'each', 'mercilesse', 'vnprouokes', 'monstrous', 'swells', 'swelling', 'May', 'Kalender', 'Soldiours', 'drowse', 'Legions', 'win', 'Seemes', 'blessing', 'vnbattered', 'inclinde', 'Herbenger', 'Prince', 'Hill', 'terrible', 'Artificiall', 'Cry', 'puts', 'fix', 'Affaires', 'proportion', 'proue', 'Souldiers', 'receiue', 'Deuils', 'wealth', 'spungie', 'Curres', 'coole', 'Cap', 'was', 'speeches', 'Shadow', 'adhere', 'No', 'heard', 'struck', 'sorts', 'Quintus', 'beleeue', 'Fancies', 'create', 'it', 'Table', 'suggestion', 'Poyson', 'deliuers', 'vices', 'grant', 'beest', 'cures', 'laying', 'hither', 'weares', 'Ser', 'field', 'ayd', 'Disasters', 'subiect', 'forgiue', 'rauen', 'Surgery', 'damn', 'fitnesse', 'surprize', 'climbe', 'Deere', 'ripe', 'Lyst', 'deliuer', 'Earth', 'loyaltie', 'together', 'Norway', 'Schoole', 'Know', 'Lands', 'Malkin', 'Letting', 'once', 'Mischiefe', 'delicate', 'Thumbe', 'bleeds', 'absent', 'crib', 'buckle', 'spoke', 'Sunne', 'supt', 'Conflict', 'Quarry', 'Curtain', 'hearers', 'Senit', 'satisfied', 'howl', 'remember', 'Liege', 'reason', 'returnes', 'noise', 'pernitious', 'Seyt', 'must', 'craz', 'God', 'Mischance', 'La', 'Pyramids', 'cool', 'ouercome', 'doubly', 'Gall', 'matters', 'Cases', 'Dismay', 'TRAGEDIE', 'dead', 'Knock', 'dare', 'drest', 'Clock', 'Hearke', 'folly', 'cleere', 'walking', 'hardly', 'quarter', 'matter', 'seuen', 'Tempest', 'sences', 'Sting', 'then', 'Angus', 'greeting', 'nod', 'drugg', 'Such', 'vnity', 'Rule', 'Being', 'Rather', 'spacious', 'Vaulting', 'Vnfixe', 'Companions', 'Fillet', 'bake', 'hee', 'They', 'mouing', 'Hostesse', 'wrencht', 'shares', 'Eyes', 'Powers', 'Turke', 'Birthdome', 'bloodie', 'thanke', 'bathe', 'vnseam', 'perchance', 'Office', 'Subiect', 'well', 'came', 'Poore', 'Highnesse', 'bottome', 'Mal', 'ript', 'Cannons', 'Captaine', 'My', 'Sparrowes', 'pricking', 're', 'Hags', 'now', 'instant', 'prepar', 'Store', 'Roman', 'Mindes', 'Gin', 'Intelligence', 'neerely', 'Shew', 'troubles', 'Recorded', 'Maiesty', 'maruell', 'Castles', 'Cradle', 'Is', 'hums', 'Impediments', 'forc', 'Dying', 'heauie', 'slept', 'weare', 'Wren', 'Strange', 'grow', 'confound', 'yawning', 'swoope', 'successe', 'they', 'Fiends', 'Patience', 'Cracks', 'neerest', 'proceed', 'Vntimely', 'glimmers', 'comfort', 'Hoboyes', 'tayle', 'Vantage', 'Seu', 'Wearie', 'colour', 'Gulfe', 'aside', 'afternoone', 'hell', 'holp', 'vndivulg', 'next', 'mens', 'rauin', 'meeke', 'skinnie', 'Handle', 'Throne', 'lesse', 'sowre', 'vnlocke', 'Broyle', 'powr', 'vanquish', 'Powre', 'Seare', 'Sinells', 'Of', 'Knocke', 'slipt', 'throat', 'name', 'Prey', 'talk', 'lyne', 'Saint', 'Approch', 'knits', 'glasse', 'braue', 'others', 'Hye', 'Motiues', 'Mowsing', 'Scaena', 'youths', 'thither', 'good', 'Buttrice', 'knees', 'times', 'flattering', 'Chimneys', 'Showghes', 'new', 'Blessing', 'sweares', 'Dispute', 'Accursed', 'Curbing', 'Space', 'mouthes', 'Darknesse', 'yeeld', 'sit', 'lookes', 'Children', 'eldest', 'fled', 'File', 'may', 'harp', 'were', 'Me', 'This', 'neere', 'Sirra', 'addition', 'Treachery', 'Rebellious', 'heauen', 'haile', 'womanly', 'alone', 'euer', 'Thence', 'tugg', 'illusion', 'Dance', 'Vnsafe', 'banish', 'Neither', 'measurelesse', 'quickely', 'Far', 'wood', 'Descend', 'face', 'Cathnes', 'Goose', 'companie', 'approaches', 'Sowes', 'rauishing', 'Powres', 'Old', 'deerest', 'person', 'Ornament', 'way', 'Serpent', 'knowes', 'least', 'Prophet', 'wayle', 'aduice', 'smoake', 'Heath', 'Noble', 'Heauen', 'Iugling', 'Here', 'hurt', 'Almost', 'courst', 'bidding', 'do', 'timely', 'Images', 'Maggot', 'poysond', 'Lifes', 'Macdonwald', 'goes', 'inform', 'procreant', 'Image', 'Worthy', 'Stabs', 'Temple', 'through', 'supplyes', 'rings', 'tye', 'flye', 'gracious', 'suffering', 'rung', 'smack', 'satisfie', 'Lymbeck', 'alike', 'enterprize'}\n",
            "Palavras Não Repetidas Nº Livro macbeth: 4017\n"
          ],
          "name": "stdout"
        }
      ]
    },
    {
      "cell_type": "markdown",
      "metadata": {
        "id": "c7WhFDwpMl3L"
      },
      "source": [
        "# **c.   Número total de palavras repetidas**"
      ]
    },
    {
      "cell_type": "code",
      "metadata": {
        "colab": {
          "base_uri": "https://localhost:8080/"
        },
        "id": "14Lbh6zHwmCe",
        "outputId": "52ae47d5-087e-422c-f2fb-9f24895bbb50"
      },
      "source": [
        "ceaser_pr = nltk.corpus.gutenberg.words(\"shakespeare-caesar.txt\")\n",
        "ceaser_pr\n",
        "hamlet_pr = nltk.corpus.gutenberg.words(\"shakespeare-hamlet.txt\")\n",
        "hamlet_pr\n",
        "macbeth_pr = nltk.corpus.gutenberg.words(\"shakespeare-macbeth.txt\")\n",
        "macbeth_pr"
      ],
      "execution_count": null,
      "outputs": [
        {
          "output_type": "execute_result",
          "data": {
            "text/plain": [
              "['[', 'The', 'Tragedie', 'of', 'Macbeth', 'by', ...]"
            ]
          },
          "metadata": {
            "tags": []
          },
          "execution_count": 12
        }
      ]
    },
    {
      "cell_type": "code",
      "metadata": {
        "id": "HIlJqREswv8X"
      },
      "source": [
        "ceaser_prFreq = nltk.FreqDist(ceaser_pr)\n",
        "hamlet_prFreq = nltk.FreqDist(hamlet_pr)\n",
        "macbeth_prFreq = nltk.FreqDist(macbeth_pr)\n",
        "#macbeth_prFreq"
      ],
      "execution_count": null,
      "outputs": []
    },
    {
      "cell_type": "code",
      "metadata": {
        "id": "rVgaf3wUxZqw"
      },
      "source": [
        "ceaser_prFreqResult = ceaser_prFreq.most_common()\n",
        "hamlet_prFreqResult = hamlet_prFreq.most_common()\n",
        "macbeth_prFreqResult = macbeth_prFreq.most_common()\n",
        "#macbeth_prFreqResult"
      ],
      "execution_count": null,
      "outputs": []
    },
    {
      "cell_type": "code",
      "metadata": {
        "id": "GhWl2CZyxwZS"
      },
      "source": [
        "#Lista Palavras Repetidas Maior Que 1\n",
        "ListaPP1 = []\n",
        "ListaPP2 = []\n",
        "ListaPP3 = []\n",
        "\n",
        "ListaPP1 = [word[1] for word in ceaser_prFreqResult if word[1] > 1]\n",
        "ListaPP2 = [word[1] for word in hamlet_prFreqResult if word[1] > 1]\n",
        "ListaPP3 = [word[1] for word in macbeth_prFreqResult if word[1] > 1]"
      ],
      "execution_count": null,
      "outputs": []
    },
    {
      "cell_type": "code",
      "metadata": {
        "id": "eeQrUTC3zAp7"
      },
      "source": [
        "ListaPP1.append(ListaPP2)\n",
        "ListaPP1.append(ListaPP3)"
      ],
      "execution_count": null,
      "outputs": []
    },
    {
      "cell_type": "code",
      "metadata": {
        "id": "VARFzWJlzHfB"
      },
      "source": [
        "#n consigo fazer essa conversao de satan, porem ela daria a resposta da soma\n",
        "#for i in range(0, len(ListaPP1)):\n",
        "#  Sum = int(sum(ListaPP1[i]))"
      ],
      "execution_count": null,
      "outputs": []
    },
    {
      "cell_type": "markdown",
      "metadata": {
        "id": "3Hc3TBywEUUM"
      },
      "source": [
        "# **d.   Média de palavras por sentenças**"
      ]
    },
    {
      "cell_type": "code",
      "metadata": {
        "id": "Xnf4YhLpE-nn"
      },
      "source": [
        "#Ceaser\n",
        "for documents in nltk.corpus.gutenberg.fileids():\n",
        "  words_total_caesar = len(nltk.corpus.gutenberg.words(\"shakespeare-caesar.txt\"))\n",
        "  sents_total_caesar = len(nltk.corpus.gutenberg.sents(\"shakespeare-caesar.txt\"))\n",
        "  mean_caesar = words_total_caesar/sents_total_caesar"
      ],
      "execution_count": null,
      "outputs": []
    },
    {
      "cell_type": "code",
      "metadata": {
        "colab": {
          "base_uri": "https://localhost:8080/"
        },
        "id": "82OBJIlVFJNn",
        "outputId": "5f02c226-441a-4e08-fb46-04e3cd8df44a"
      },
      "source": [
        "print(\"Media de sentenças livro Caesar:\", mean_caesar)"
      ],
      "execution_count": null,
      "outputs": [
        {
          "output_type": "stream",
          "text": [
            "Media de sentenças livro Caesar: 11.943134535367545\n"
          ],
          "name": "stdout"
        }
      ]
    },
    {
      "cell_type": "code",
      "metadata": {
        "id": "WObLQQenFnqp"
      },
      "source": [
        "#hamlet\n",
        "for documents in nltk.corpus.gutenberg.fileids():\n",
        "  words_total_hamlet = len(nltk.corpus.gutenberg.words(\"shakespeare-hamlet.txt\"))\n",
        "  sents_total_hamlet = len(nltk.corpus.gutenberg.sents(\"shakespeare-hamlet.txt\"))\n",
        "  mean_hamlet = words_total_hamlet/sents_total_hamlet"
      ],
      "execution_count": null,
      "outputs": []
    },
    {
      "cell_type": "code",
      "metadata": {
        "colab": {
          "base_uri": "https://localhost:8080/"
        },
        "id": "k0ByyIZCFvle",
        "outputId": "04900ee2-566b-44f6-d834-78ebeaf1df2e"
      },
      "source": [
        "print(\"Media de sentenças livro Hamlet:\", mean_hamlet)"
      ],
      "execution_count": null,
      "outputs": [
        {
          "output_type": "stream",
          "text": [
            "Media de sentenças livro Hamlet: 12.028332260141662\n"
          ],
          "name": "stdout"
        }
      ]
    },
    {
      "cell_type": "code",
      "metadata": {
        "id": "e1n78MNwGRpn"
      },
      "source": [
        "#macbeth\n",
        "for documents in nltk.corpus.gutenberg.fileids():\n",
        "  words_total_macbeth = len(nltk.corpus.gutenberg.words(\"shakespeare-macbeth.txt\"))\n",
        "  sents_total_macbeth = len(nltk.corpus.gutenberg.sents(\"shakespeare-macbeth.txt\"))\n",
        "  mean_macbeth = words_total_macbeth/sents_total_macbeth"
      ],
      "execution_count": null,
      "outputs": []
    },
    {
      "cell_type": "code",
      "metadata": {
        "colab": {
          "base_uri": "https://localhost:8080/"
        },
        "id": "WXCUYnDZG1sE",
        "outputId": "35084090-1bae-4016-b735-b983bdb63724"
      },
      "source": [
        "print(\"Media de sentenças livro Macbeth:\", mean_macbeth)"
      ],
      "execution_count": null,
      "outputs": [
        {
          "output_type": "stream",
          "text": [
            "Media de sentenças livro Macbeth: 12.134242265338228\n"
          ],
          "name": "stdout"
        }
      ]
    },
    {
      "cell_type": "markdown",
      "metadata": {
        "id": "bWHe1SD9Iejl"
      },
      "source": [
        "# **# 2- Questão**\n",
        "\n",
        "---\n",
        "\n",
        "\n",
        "Em relação ao corpus “gutenberg” implemente os algoritmos para responder às seguintes questões:"
      ]
    },
    {
      "cell_type": "markdown",
      "metadata": {
        "id": "PA_njN4eI0Kz"
      },
      "source": [
        "# **a.   Total de palavras em cada documento do corpus \"gutenberg\"**\n"
      ]
    },
    {
      "cell_type": "code",
      "metadata": {
        "id": "odbHKSboItyz"
      },
      "source": [
        "for documents in nltk.corpus.gutenberg.fileids():\n",
        "  words_total = len(nltk.corpus.gutenberg.words(documents))"
      ],
      "execution_count": null,
      "outputs": []
    },
    {
      "cell_type": "code",
      "metadata": {
        "colab": {
          "base_uri": "https://localhost:8080/"
        },
        "id": "xUMtjfifJRiO",
        "outputId": "f71e8fd6-13f6-4045-bad4-b38cf1341712"
      },
      "source": [
        "print(\"Total de Palavras de palavras gutenber:\", words_total)"
      ],
      "execution_count": null,
      "outputs": [
        {
          "output_type": "stream",
          "text": [
            "Total de Palavras de palavras gutenber: 154883\n"
          ],
          "name": "stdout"
        }
      ]
    },
    {
      "cell_type": "markdown",
      "metadata": {
        "id": "NjLWBMkxJgtc"
      },
      "source": [
        "# **b.   Quem é o maior documento do corpus?**"
      ]
    },
    {
      "cell_type": "code",
      "metadata": {
        "id": "jO1SNAOyKV0K"
      },
      "source": [
        "documents_len = [(len(nltk.corpus.gutenberg.words(documents)), documents)\n",
        "  for documents in nltk.corpus.gutenberg.fileids()]"
      ],
      "execution_count": null,
      "outputs": []
    },
    {
      "cell_type": "code",
      "metadata": {
        "colab": {
          "base_uri": "https://localhost:8080/"
        },
        "id": "KXkJsQkgKbc3",
        "outputId": "3d7e43e0-a08c-459e-957d-03dec7d9a18f"
      },
      "source": [
        "print(\"MAIOR DOCUMENTO:\", max(documents_len))"
      ],
      "execution_count": null,
      "outputs": [
        {
          "output_type": "stream",
          "text": [
            "MAIOR DOCUMENTO: (1010654, 'bible-kjv.txt')\n"
          ],
          "name": "stdout"
        }
      ]
    },
    {
      "cell_type": "markdown",
      "metadata": {
        "id": "kGTZd2CIKpQH"
      },
      "source": [
        "# **c.   Quem é o menor documento do corpus?**"
      ]
    },
    {
      "cell_type": "code",
      "metadata": {
        "colab": {
          "base_uri": "https://localhost:8080/"
        },
        "id": "bVP1_IToKyHN",
        "outputId": "fde17427-5800-4456-cad6-f60514f1e200"
      },
      "source": [
        "print(\"MENOR DOCUMENTO:\", min(documents_len))"
      ],
      "execution_count": null,
      "outputs": [
        {
          "output_type": "stream",
          "text": [
            "MENOR DOCUMENTO: (8354, 'blake-poems.txt')\n"
          ],
          "name": "stdout"
        }
      ]
    },
    {
      "cell_type": "markdown",
      "metadata": {
        "id": "0z-XkCKWK1UU"
      },
      "source": [
        "# **d.   Calcular a média da quantida desentenças por palavras do corpus “gutenberg”**"
      ]
    },
    {
      "cell_type": "code",
      "metadata": {
        "id": "vN3IV_q6LBz0"
      },
      "source": [
        "for documents in nltk.corpus.gutenberg.fileids():\n",
        "  words_total = len(nltk.corpus.gutenberg.words(documents))\n",
        "  sents_total = len(nltk.corpus.gutenberg.sents(documents))\n",
        "meand = words_total/sents_total"
      ],
      "execution_count": null,
      "outputs": []
    },
    {
      "cell_type": "code",
      "metadata": {
        "id": "Hxu15CxJLKtk",
        "colab": {
          "base_uri": "https://localhost:8080/"
        },
        "outputId": "51894d5c-4bca-4f78-a9ba-20b788bd1989"
      },
      "source": [
        "print(\"MEDIA SENTENCA POR PALAVRA DOS DOCUMENTOS:\", meand)"
      ],
      "execution_count": null,
      "outputs": [
        {
          "output_type": "stream",
          "text": [
            "MEDIA SENTENCA POR PALAVRA DOS DOCUMENTOS: 36.44305882352941\n"
          ],
          "name": "stdout"
        }
      ]
    },
    {
      "cell_type": "markdown",
      "metadata": {
        "id": "rkizOGsHPInI"
      },
      "source": [
        "# **e. Calcule a distribuição de frequência das palavras do livro \"shakespeare-macbeth.txt\".**\n",
        "\n"
      ]
    },
    {
      "cell_type": "code",
      "metadata": {
        "id": "YoxOJ18aj2Vh"
      },
      "source": [
        "macbethFreq = nltk.FreqDist('shakespeare-macbeth.txt')"
      ],
      "execution_count": null,
      "outputs": []
    },
    {
      "cell_type": "code",
      "metadata": {
        "id": "zenAngXNkM2J",
        "colab": {
          "base_uri": "https://localhost:8080/"
        },
        "outputId": "be3d8c72-a788-472b-fcef-52139e163294"
      },
      "source": [
        "print(\"Distribuição Fequencia palavras Macbeth:\", macbethFreq)"
      ],
      "execution_count": null,
      "outputs": [
        {
          "output_type": "stream",
          "text": [
            "Distribuição Fequencia palavras Macbeth: <FreqDist with 14 samples and 23 outcomes>\n"
          ],
          "name": "stdout"
        }
      ]
    },
    {
      "cell_type": "code",
      "metadata": {
        "id": "1LYnRC76k8cT",
        "colab": {
          "base_uri": "https://localhost:8080/"
        },
        "outputId": "b2f382e7-97dc-41cb-a502-9c72c157dea0"
      },
      "source": [
        "macbethFreq"
      ],
      "execution_count": null,
      "outputs": [
        {
          "output_type": "execute_result",
          "data": {
            "text/plain": [
              "FreqDist({'-': 1,\n",
              "          '.': 1,\n",
              "          'a': 3,\n",
              "          'b': 1,\n",
              "          'c': 1,\n",
              "          'e': 4,\n",
              "          'h': 2,\n",
              "          'k': 1,\n",
              "          'm': 1,\n",
              "          'p': 1,\n",
              "          'r': 1,\n",
              "          's': 2,\n",
              "          't': 3,\n",
              "          'x': 1})"
            ]
          },
          "metadata": {
            "tags": []
          },
          "execution_count": 33
        }
      ]
    },
    {
      "cell_type": "markdown",
      "metadata": {
        "id": "MLjGf4MmPNPQ"
      },
      "source": [
        "# **f. Calcule 5 palavras mais frequentes nesse corpus.**"
      ]
    },
    {
      "cell_type": "code",
      "metadata": {
        "id": "dQHbh0zFkjt0"
      },
      "source": [
        "for documents in nltk.corpus.gutenberg.fileids():\n",
        "  freqcorpus = nltk.corpus.gutenberg.words(documents)"
      ],
      "execution_count": null,
      "outputs": []
    },
    {
      "cell_type": "code",
      "metadata": {
        "id": "jD8T8ab-mGjX"
      },
      "source": [
        "corpusFreq = nltk.FreqDist(freqcorpus)"
      ],
      "execution_count": null,
      "outputs": []
    },
    {
      "cell_type": "code",
      "metadata": {
        "id": "IWjshPSwmBif",
        "colab": {
          "base_uri": "https://localhost:8080/"
        },
        "outputId": "daf68170-3ad5-49ef-cc29-8f2aa73146f4"
      },
      "source": [
        "print(\"Distribuição 5 mais Fequentes palavras Macbeth:\", corpusFreq.most_common(5))"
      ],
      "execution_count": null,
      "outputs": [
        {
          "output_type": "stream",
          "text": [
            "Distribuição 5 mais Fequentes palavras Macbeth: [(',', 17713), ('the', 8814), ('and', 4797), ('of', 4127), ('I', 2932)]\n"
          ],
          "name": "stdout"
        }
      ]
    },
    {
      "cell_type": "markdown",
      "metadata": {
        "id": "bb6ddXolPQAn"
      },
      "source": [
        "# **g. Mostre a diferença entre de palavras entre dois livros.  (shakespeare-caesar.txt, shakespeare-hamlet.txt)**"
      ]
    },
    {
      "cell_type": "code",
      "metadata": {
        "id": "UxL3Wi5PnQbs"
      },
      "source": [
        "dif_words_ceaser = nltk.corpus.gutenberg.words(\"shakespeare-caesar.txt\")\n",
        "dif_words_hamlet = nltk.corpus.gutenberg.words(\"shakespeare-hamlet.txt\")"
      ],
      "execution_count": null,
      "outputs": []
    },
    {
      "cell_type": "code",
      "metadata": {
        "id": "UU5O4zUAnww-"
      },
      "source": [
        "dif_ceaser_hamlet = list(set(dif_words_ceaser) - set(dif_words_hamlet))"
      ],
      "execution_count": null,
      "outputs": []
    },
    {
      "cell_type": "code",
      "metadata": {
        "colab": {
          "base_uri": "https://localhost:8080/"
        },
        "id": "OKCnrJSUn8fS",
        "outputId": "82d70b1a-1749-4373-ce17-dad2f89f623d"
      },
      "source": [
        "print(\"Diferença entre os dois livros:\", dif_ceaser_hamlet)"
      ],
      "execution_count": null,
      "outputs": [
        {
          "output_type": "stream",
          "text": [
            "Diferença entre os dois livros: ['receiuest', 'Porch', 'Durst', 'Nobly', 'break', 'crept', 'Sacred', 'durst', 'Repaire', 'vaunting', 'Gamesom', 'mixt', 'Seeing', 'Senses', 'Trophees', 'prethee', 'insuppressiue', 'Neruij', 'Lowd', 'vnkindnesse', 'dishonourable', 'Heraulds', 'adde', 'Shake', 'Rebell', 'dimme', 'Aboue', 'Rayes', 'Italy', 'Spoiles', 'acted', 'notice', 'incertaine', 'diuision', 'Lyon', 'stroken', 'mention', 'auoyded', 'Courage', 'Harke', 'swim', 'Round', 'Heires', 'beholding', 'Lucillius', 'Popillius', 'beards', 'Chariot', 'pledge', 'Stirre', 'swound', 'fierce', 'Fret', 'Bondage', 'weakenesse', 'Eare', 'Began', 'sucke', 'Woe', 'height', 'sayer', 'trash', 'Vessell', 'demeanor', 'Octauio', 'corruption', 'Sleeke', 'spouting', 'Doers', 'Mantle', 'Shop', 'vpmost', 'discouered', 'latest', 'stampt', 'encreaseth', 'verses', 'Victorie', 'Waxe', 'modestly', 'killing', 'Car', 'Betwixt', 'Enioy', 'moreouer', 'hacke', 'Calp', 'Ioyn', 'Tarquin', 'Tinctures', 'Traitors', 'mistook', 'Send', 'softly', 'Errands', 'fearefull', 'Suburbs', 'seduc', 'recreate', 'Wisedom', 'Howting', 'repealing', 'portentous', 'Husbanded', 'inclos', 'Cobl', 'Ligarius', 'Womanish', 'Petition', 'roate', 'twentie', 'wearie', 'Darts', 'Councell', 'greeu', 'enclosed', 'retentiue', 'OF', 'Calphurnia', 'Chimney', 'Seate', 'Superstitious', '3', 'Countrymen', 'Curre', 'Spectacle', 'iealous', 'euills', 'cappes', 'Triumph', 'Dwell', 'train', 'Falles', 'paines', 'Enfranchisement', 'choaked', 'Emulation', 'Women', 'sterrile', 'Murrellus', 'People', 'Bastardie', 'Holes', 'IVLIVS', 'Antony', 'expectation', 'opening', 'ingrafted', 'Dreames', 'Liue', 'permission', 'bids', 'hides', 'graze', 'Cauerne', 'dyest', 'affraid', 'Vol', 'Fortunate', 'appoint', 'Wound', 'Prodigies', 'tarrying', 'Lupercall', 'regarded', 'Older', 'worldly', 'Early', 'Flood', 'Cares', 'Leagues', 'Hands', 'monwealth', 'Bru', 'disturbed', 'excepted', 'supporting', 'Deede', 'euils', 'inkindled', 'veyl', 'fawne', 'also', 'enforced', 'shine', 'merry', 'Hide', 'current', 'haires', 'Mutiny', 'Hie', 'howted', 'Deare', 'Remorse', 'Runne', 'fatter', 'empty', 'Necessitie', 'Begge', 'Comming', 'Fires', 'neigh', 'Exorcist', 'Worships', 'Brute', 'Deerer', 'Except', 'wept', 'exhalations', 'stare', 'dip', 'Stands', 'Freedome', 'drops', 'showts', 'condition', 'Either', 'Times', 'Multitude', 'strokes', 'Tenure', 'Security', 'Weapons', 'parting', 'liefe', 'Artemidorus', 'mak', 'Faculties', 'commended', 'Pin', 'Funerals', 'vnderneath', 'encourag', 'attyre', 'melteth', 'compare', 'mightier', 'sell', 'Wenches', 'Mender', 'ride', 'billes', 'Dec', 'Leaden', 'Abler', 'walk', 'Hence', 'pulling', 'doubted', 'dis', 'toucht', 'Lyons', 'Cowardice', 'destruction', 'Feauer', 'reme', 'litter', 'Caes', 'Orator', 'Bold', 'Lend', 'kindnesse', 'chafing', 'Condition', 'Fearing', 'Maisters', 'Master', 'sweatie', 'forgetfull', 'knockes', 'earnes', 'vttermost', 'Affayres', 'Dignities', 'Apes', 'apparant', 'councell', 'sake', 'Write', 'enemy', 'Louers', 'disconsolate', 'Concaue', 'Aule', 'lusty', 'raise', 'rabblement', 'Ne', 'Affections', 'Storme', 'shrew', 'deceitfull', 'Searching', 'womans', 'Tide', 'harke', 'sauing', 'Cynna', 'Instruments', 'gouern', 'Ill', 'preuention', 'sufficeth', 'pearch', 'Shores', 'Lionnesse', 'Clocke', 'Citizens', 'Cic', 'legges', 'Banquetting', 'Mess', 'pre', 'Forget', 'Iades', 'couchings', 'Sinewes', 'Vnshak', 'mean', 'inroll', 'Tyrannie', 'sweetly', 'Ages', 'darknesse', 'boldest', 'Dinner', 'sufferance', 'Forgets', 'number', 'Testie', 'Cob', 'vnborne', 'Rauens', 'Honourably', 'Glasses', 'Figures', 'friendly', 'lyable', 'glanced', 'Lucil', 'Hearts', 'obscurely', 'Slumber', 'sawcie', 'Conquests', 'Cautelous', 'Necessary', 'flattery', 'exploit', 'Bequeathing', 'throng', 'moe', 'reioyce', 'Twas', 'Kinde', 'Battell', 'threat', 'Worthinesse', 'dang', 'Bones', 'contented', 'Ides', 'glory', 'hinder', 'attaines', 'threw', 'Mend', 'ragge', 'hazards', 'kindle', 'Mur', 'Held', 'brook', 'compact', 'Rocke', 'Post', 'Napkins', 'Ventures', 'harme', 'catching', 'chose', 'Wolfe', 'Plebeians', 'Tent', 'Vniuersall', 'Check', 'vngently', 'agen', 'lowly', 'laught', 'coniur', 'bosomes', 'knock', 'Fla', 'impatiently', 'Captiuitie', 'Ye', 'Decius', 'Ciuill', 'illuminate', 'exigent', 'Army', 'Conceptions', 'presse', 'Else', 'Onely', 'chace', 'Gray', 'falser', 'Ague', 'Lustre', 'Shrunke', 'displeas', 'Walls', 'Dishonor', 'Alliance', 'Tempests', 'con', 'affayres', 'Him', 'Julius', 'Seldome', 'rid', 'Signifies', 'Drachmaes', 'vnscorch', 'Por', 'Friendship', 'Clau', 'Legacie', 'inuenomed', 'Warres', 'Crowes', 'meditates', 'Peoples', 'Sutors', 'Maiesticke', 'Render', 'lowe', 'downward', 'chew', 'Physicall', 'East', 'Reueller', 'stal', 'Answering', 'Erebus', 'Anchyses', 'Alchymie', 'Trees', 'Wilt', 'minded', 'purpled', 'describ', 'Talke', 'Flye', 'Honorable', 'feeble', 'dismember', 'Ride', 'Wonders', 'intrailes', 'Serpents', 'Fooles', 'Offering', 'learn', 'Stoop', 'danke', 'crost', 'Vtterance', 'Thewes', 'indure', 'Order', 'Barren', 'Wil', 'dispos', 'Metel', 'ruddy', 'hearke', 'Liberties', 'scorning', 'bayed', 'Yond', 'Retreat', 'dismisse', 'Verses', 'rous', 'Vnicornes', 'holy', 'Spleene', 'engendred', 'Thunders', 'eating', 'Ingratitude', 'Secrets', 'showted', 'Holiday', 'Antonies', 'Chayre', 'Cynicke', 'constant', 'seest', 'attaine', 'hoe', 'Murellus', 'Spoyle', 'spurne', 'swore', 'stomackes', 'hie', 'Assembly', '2', 'Tooke', 'Contribution', 'Showting', 'mooue', 'Messala', 'conioyntly', 'valour', 'touched', 'Louing', 'Pretors', 'seat', 'Chaire', 'greeuous', 'Honours', 'laments', 'Linkes', 'Rawe', 'Sisters', 'Pub', 'Sacrificers', 'enlarge', 'vngentle', 'worthier', 'sleepy', 'Rubbish', 'dreamt', 'cancell', 'couert', 'euerlasting', 'foam', 'apprehensiue', 'chanc', 'Glory', 'Madman', 'Titinius', 'Sinke', 'Cogitations', 'kisse', 'charme', 'vnderstood', 'Cassius', 'Three', 'become', 'Octauius', 'beat', 'Power', 'vanishest', 'Artimedorus', 'greater', 'faint', 'Terror', 'attempt', 'Counters', 'taught', 'bolts', 'Sex', 'consorted', 'Billes', 'Titin', 'Mistrust', 'Accoutred', 'Tharsus', 'Leather', 'addrest', 'Name', 'Wrath', 'Br', 'cuts', 'Mirth', 'drawing', 'Melancholies', 'repute', 'Iron', 'Base', 'Cin', 'surest', 'Throat', 'decay', 'Sham', 'Hounds', 'Ple', 'Point', 'Vrge', 'Genius', 'presented', 'Volumnius', 'errand', 'Tut', 'Oct', 'Sold', 'Immediately', 'mutiny', 'growing', 'Heard', 'fuller', 'Bribes', 'subtle', 'School', 'Rhewmy', 'afear', 'Contaminate', 'Scarffes', 'owe', 'crowd', 'Streets', 'Sleeue', 'Flatterer', 'meate', 'tyed', 'Praetors', 'Dungeon', 'misgiuing', 'stoope', 'hony', 'Impatient', 'wherein', 'reuerence', 'swimme', 'sayd', 'early', 'streete', 'Miseries', 'Study', 'Reuiuing', 'runne', 'cumber', 'decree', 'repeale', 'Ruines', 'Carkasse', 'Crown', 'bloods', 'Lowlynesse', 'Formost', 'wasted', 'South', 'plunged', 'Bees', 'Cai', 'interpreted', 'Domesticke', 'intended', 'stolne', 'Sutor', 'refuse', 'expect', 'Liuing', 'Souldier', 'Course', 'sighted', 'Gentle', 'Lethee', 'burneth', 'stricken', 'vndone', 'Luc', 'entire', 'Oration', 'Orchards', 'digest', 'Lepidus', 'Sparke', 'bestride', 'sad', 'determined', 'lips', 'refus', 'threatning', 'rushing', 'Senators', 'Neighbors', 'Bondman', 'Market', 'mouths', 'deriu', 'Graues', 'arriu', 'acrosse', 'bowle', 'Pricke', 'grasped', 'vision', 'apply', 'Eagles', 'pitch', 'signified', 'Popil', 'sawcy', 'perils', 'sham', 'roar', 'Sentence', 'daggers', 'consum', 'befall', 'tops', 'infranchisement', 'Torch', 'Capitoll', 'proscriptions', 'thrusting', 'refresht', 'Mid', 'Read', 'arguing', 'carue', 'Listen', 'Strooke', 'compasse', 'abide', 'Insurrection', 'vppe', 'street', 'ashamed', 'Triall', 'lawfull', 'purchase', 'gallant', 'Outlarie', 'mayest', 'suppe', 'c', 'Plucking', 'Ancestor', 'Right', 'tempted', 'mettle', 'Dewes', 'Cloakes', 'withal', 'watchfull', 'Transformed', 'Messa', 'Testament', 'Made', 'spoyle', 'disposing', 'straite', 'Cass', 'Portia', 'yeelded', 'Surgeon', 'construe', 'loads', 'Cobler', 'sicken', 'summes', 'yoake', 'Clit', 'Quarrell', 'Sure', 'applauses', 'opens', 'Writings', 'Taper', 'betray', 'Meales', 'Publius', 'Witnesse', 'peeces', 'sodainly', 'benefit', 'breathed', 'sickely', 'Anger', 'Legacies', 'presume', 'learne', 'Ensigne', 'Sooth', 'disperse', 'Towres', 'brutish', 'Lena', 'melting', 'Error', 'slaying', 'knot', 'Stra', 'portents', 'mou', 'crouch', 'prickt', 'yee', 'vnbraced', 'sleep', 'labouring', 'Caesars', 'slew', 'Produce', 'large', 'Captiue', 'seuenty', 'Thorough', 'condemn', 'Straine', 'reasons', 'Epicurus', 'grug', 'Romans', 'Falling', 'Wheeles', 'vpward', 'voluntary', 'nice', 'Tents', 'impossible', 'shriller', 'Sennet', 'Parthia', 'Monarkes', 'depend', 'discard', 'staine', 'breefely', 'Sheath', 'Conquest', 'Coffers', 'prostrate', 'resolu', 'Pompeyes', 'Sennit', 'Winters', 'rule', 'Sawce', 'aduantage', 'Priests', 'Staines', 'shouting', 'mourne', 'Bending', 'Doore', 'Holyday', 'swell', 'Meerely', 'aswell', 'Villager', 'Traitor', 'sirra', 'Apparrell', 'Fly', 'Beads', 'sawe', 'Euery', 'scolding', 'quartered', 'Shaking', 'wrangle', 'arises', 'Fill', 'Comets', 'Elbowes', 'pocket', 'Et', 'Battaile', 'Whiles', 'Immortall', 'marching', 'limitation', 'scap', 'Skies', 'Firmament', 'Tu', 'disgest', 'defeat', 'vanished', 'Traine', 'Rudenesse', 'Braue', 'Tyber', 'enuy', 'hisse', 'Weighing', 'mortified', 'Hindes', 'Fountaine', 'clapp', 'THE', 'acquainted', 'Oakes', 'Musing', 'Gate', 'perswasion', 'Stones', 'bright', 'seruile', 'shreeking', 'Deeds', 'Waspish', 'salutation', 'Flauio', 'abridg', 'baite', 'Brut', 'sayings', 'star', 'knottie', 'clocke', 'ber', 'yawn', 'mischieuous', 'besmeare', 'nimblenesse', 'led', 'slippery', 'Motion', 'climb', 'trod', 'Caius', 'Squadrons', 'prodigious', 'Cushions', 'Charractery', 'farther', 'Respect', 'Charges', 'guesse', 'ruffle', 'warnings', 'heyres', 'arming', 'disprooue', 'Clymate', 'vnassayleable', 'stinglesse', 'Accents', 'sighing', 'Foolerie', 'Generals', 'Dine', 'Varrus', 'dropt', 'slip', 'swet', 'Dish', 'grudge', 'Thrice', 'Thorow', 'Troy', 'annoying', 'yeelds', 'Elephants', 'qualitie', 'squeale', 'Phantasma', 'Conditions', 'Alarums', 'choak', 'Roome', 'Flauius', 'truely', 'Venom', 'aliue', 'Spurre', 'Lippes', 'groane', 'smell', 'Carrions', 'Pulpits', 'hugge', 'Volum', 'sauage', 'Leafe', 'vnaccustom', 'Closet', 'yoaked', 'sterner', 'Hilles', 'dropping', 'vnpurged', 'humor', 'richest', 'ears', 'buffet', 'fawning', 'Cymber', 'spurres', 'Pulpit', 'ioynes', 'fortunate', 'partly', 'taking', 'Papers', 'store', 'Hated', 'shouted', 'appertaine', 'youthfull', 'propos', 'plague', 'feeds', 'Vulgar', 'Layest', 'Dreamer', 'Chasticement', 'flearing', 'Hony', 'partake', 'Cas', 'Men', 'Petitions', 'Rushing', 'appeas', 'Marcus', 'Kneele', 'Fury', 'curtsies', 'shed', 'bay', 'Censure', 'Regions', 'vntill', 'beloued', 'Firebrands', 'factious', 'slewe', 'Seruants', 'Draw', 'Rankes', 'swallow', 'pluckt', 'Coine', 'slumber', 'streetes', 'voyces', 'Doublet', 'Tertius', 'sirrah', 'battailes', 'among', 'Neats', 'dum', 'Showts', 'infirmities', 'Any', 'hurle', 'merrily', 'louest', 'lift', 'hungry', 'gentlenesse', 'Selues', 'fam', 'ordered', 'disposed', 'egge', 'rightly', 'indirection', 'Channell', 'Stonie', 'Doing', 'Cask', 'receiued', 'Workman', 'Soothsayer', 'stab', 'posture', 'vnfirme', 'naughty', 'vrg', 'Shakes', 'Coronets', 'Ransomes', 'Billow', 'muffling', 'Villains', 'value', 'Dardanius', 'Humour', 'strengthen', 'craues', 'reares', 'worthles', 'Labio', 'crooked', 'Mechanicall', 'troubled', 'hates', 'Quartus', 'Vs', 'Toyles', 'Weeping', 'Cicero', 'dint', 'Antonio', 'mightie', 'trembled', 'leades', 'wofull', 'drawne', 'Foes', 'Murd', 'leape', 'confidence', 'Bondmen', 'Commoners', 'Wrathfully', 'fir', 'Disrobe', 'professe', 'Clitus', 'Guide', 'graunt', 'dreampt', 'opinion', 'Therein', 'meditating', 'Glasse', 'ordinary', 'gastly', 'ascended', 'stares', 'sway', 'Conspirators', 'Augurers', 'Stole', 'appearing', 'sights', 'rated', 'enterred', 'sutor', 'foorth', 'Games', 'Butchers', 'deerer', 'reeke', 'tokens', 'Theatre', 'Climber', 'Arbors', 'Choice', 'Farre', 'Obseruer', 'Greatnesse', 'Load', 'bootlesse', 'eruptions', 'Lightning', 'Limbes', 'Tyrants', 'ranging', 'thirsty', 'Metellus', 'Backe', 'insisted', 'care', 'Commons', 'reades', 'enforc', 'Leade', 'Limbe', 'vntrod', 'malice', 'Split', 'shrieke', 'Treb', 'bar', 'Endure', 'Fulfill', 'Barres', 'Canst', 'intermit', 'spot', 'fears', 'menace', 'scratch', 'Bloods', 'wer', 'Ceremonies', 'Kill', 'Captiues', 'vexeth', 'ambitious', 'besides', 'Clamors', 'wisht', 'Brands', 'spouts', 'annoy', 'droppes', 'bury', 'Hats', 'Deci', 'moou', 'hazard', 'howre', 'costly', 'setting', 'Warriours', 'Ancestors', 'Philippi', 'silent', 'Performance', 'wherfore', 'sought', 'discouer', 'thaw', 'Benches', 'redresse', 'cooling', 'Statue', 'Reflection', 'Measure', 'incompast', 'Entrailes', 'Caska', 'Attempts', 'proceede', 'execution', 'aueng', 'Euening', 'breathlesse', 'piercing', 'insupportable', 'Submitting', 'arose', 'Fray', 'Occupation', 'deafe', 'Dagger', 'tarry', 'vnderlings', 'Euer', 'chidden', 'smallest', 'Browes', 'marr', 'Ladder', 'yeeres', 'women', 'offered', 'Fled', 'pul', 'straine', 'smil', 'Gustie', 'glaz', 'Cinna', 'sports', 'Shallowes', 'wound', 'bankes', 'passions', 'improue', 'wounds', 'riu', 'carelesly', 'Hunters', 'alreadie', 'instigations', 'brim', 'gaze', 'fawn', 'preuaile', 'combin', 'striue', 'vrge', 'Successe', 'Alasse', 'incorporate', 'Speak', 'fearefulnesse', 'Horsemen', 'Brasse', 'vseth', 'bang', 'vnkindely', 'entreated', 'receyuing', 'Contriuer', 'spare', 'Triumphes', 'plucke', 'hart', 'praising', 'Dangers', 'Teeth', 'vpper', 'Playes', 'voyd', 'leuying', 'chides', 'infus', 'Shout', 'dy', 'farthest', 'credit', 'vildely', 'names', 'Skie', 'CaeSAR', 'warne', 'stretch', 'Because', 'buzzing', 'mo', 'Tyranny', 'forgaue', 'cryedst', 'whelped', 'float', 'sees', 'engagements', 'swoonded', 'Cowardly', 'Companion', 'Sawcy', 'vnmeritable', 'reputed', 'suffered', 'temper', 'warie', 'henceforth', 'Blockes', 'Chollericke', 'deaths', 'taste', 'Decree', 'Walles', 'ascend', 'rendred', 'Fantasies', 'Teare', 'Drinkes', 'Boldly', 'Great', 'Grauity', 'fatall', 'necessities', 'Spaine', 'whizzing', 'brau', 'Sign', 'semblance', 'banished', 'Grant', 'commit', 'Brest', 'Hearse', 'grey', 'Interim', 'strucke', 'expounded', 'bouge', 'Troopes', 'apace', 'Proscription', 'basest', 'fifteene', 'crown', 'Expedition', 'Tapor', 'Particle', 'Cly', 'Humor', 'calculate', 'diuided', 'Batchellor', 'signe', 'mischiefe', 'Thigh', 'Reliques', 'wrongs', 'earely', 'directly', 'reflection', 'infirmitie', 'Fit', 'Ant', 'sinke', 'Vouchsafe', 'Mischeefes', 'Vndeseruers', 'hatefull', 'protest', 'Defiance', 'brings', 'Griefes', 'Bargaine', 'befriend', 'fright', 'turning', 'smatch', 'assure', 'stinking', 'Better', 'planted', 'Met', 'Elders', 'Cassi', 'sparkes', 'niggard', 'spectacle', 'Affabilitie', 'steeds', 'Batchellour', 'drowsily', 'Lep', 'Commanders', 'curtesie', 'leaden', 'Trebonius', 'Fierce', 'Leape', 'worthinesse', 'palter', 'degrees', 'tending', 'Crests', 'eagerly', 'notwithstanding', 'Iigging', 'putting', 'Tower', 'wander', 'added', 'resort', 'Seek', 'Summers', '4', 'Constancie', 'cride', 'hangs', 'Laughter', 'rob', 'meddle', 'Murderers', 'returning', 'spurre', 'Patient', 'spirited', 'freedome', 'Behauiours', 'impatience', 'Breefely', 'Perils', 'Incenses', 'omnes', 'Statillius', 'Co', 'seuerally', 'hidden', 'Rumor', 'bethinke', 'desir', 'Strato', 'Romane', 'entertaine', 'Noone', 'Masker', 'looking', 'Armies', 'Bond', 'terror', 'bondman', 'Citizen', 'liable', 'Conspiracie', 'Pluto', 'diuers', 'Cleane', 'preuayl', 'tear', 'deseru', 'Recounts', 'soundly', 'vanish', 'Flatterers', 'whilest', 'enemies', 'Strike', 'cloake', 'thriue', 'lane', 'misconstrued', 'far', 'Silence', 'preferre', 'Cæsar', 'Prouender', 'heede', 'dwell', 'Tending', 'Apron', 'entreat', 'establish', 'tag', 'Lightens', 'Fetch', 'Ambitions', 'Fault', 'Elder', 'Mace', 'extremities', 'Sardis', 'Cobble', 'Protester', 'headed', 'throwes', 'kneele', 'Plucke', 'Spaniell', 'paid', 'Gowne', 'Passe', 'Tit', 'Ranke', 'beside', 'fields', 'rime', 'gliding', 'Hibla', 'Var', 'ouercame', 'Kerchiefe', 'Abuse', 'Cal', 'knocks', 'formed', 'Predictions', 'couer', 'Tributaries', 'honors', 'Dash', 'sayst', 'senslesse', 'Basis', 'Sway', 'hurtled', 'Couetous', 'descend', 'Breast', 'Dard', 'alas', 'trust', 'absence', 'soundlesse', 'wafter', 'slighted', 'foame', 'bowl', 'heap', 'Wiues', 'Apt', 'Vexed', 'arriue', 'Cyn', 'Sacrifice', 'Cognisance', 'begg', 'greets', 'Curse', 'Lambe', 'Greeke', 'sland', 'Tapers', 'Paper', 'beginning', 'Yeeld', 'Fauors', 'Gaue', 'losses', 'Windowes', 'Conquerors', 'speaking', 'Assemble', 'Crying', 'ninth', 'Smiles', 'Corpes', 'dangers', 'vtmost', 'Bosome', 'brauely', 'Sardians', 'wreath', 'discomfort', 'stemming', 'Walke', 'confounded', 'Horsses', 'inflame', 'vnluckily', 'vntouch', 'Madmen', 'Ferret', 'Cato', 'waited', 'stabb', 'Legions', 'inforced', 'Safe', 'humours', 'vnnumbred', 'progresse', 'deuise', 'bowels', 'Mirrors', 'Calender', 'teethes', 'bath', 'Eyther', 'vnkindest', 'Vesture', 'Quintus', 'Thing', 'glories', 'Elements', 'pipes', 'beest', 'Cimber', 'Pella', 'puisant', 'courtesies', 'extenuated', 'tried', 'Northerne', 'Peazants', 'chopt', 'Purgers', 'Battailes', 'Hilts', 'Robbers', 'soare', 'Stoope', 'Tune', 'absent', 'Ruby', 'proues', 'Enuious', 'agree', 'presage', 'presents', 'resting', 'ouerthrow', 'Cuts', 'Pind', 'itching', 'ioyn', 'Pindarus', 'speede', 'interpose', 'gentler', 'Counsels', 'TRAGEDIE', 'walking', 'repayre', 'quarter', 'Sting', 'guiltinesse', 'Colossus', 'flattered', 'nod', 'perceiu', 'handy', 'Adder', 'Depart', 'Opens', 'bathe', 'redder', 'Campe', 'byrth', 'Flint', 'tyred', 'Lottery', 'tydings', 'exalted', 'Tradesmans', 'Rout', 'quick', 'Rogues', 'Withall', 'drizel', 'slept', 'successe', 'Showt', 'Ate', 'Omitted', 'Scedule', 'meeke', 'cull', 'Low', 'Signall', 'Lucius', 'sowre', 'vanquish', 'bigge', 'maske', 'Knocke', 'scorn', 'Motiues', 'Hye', 'youths', 'fasten', 'Glories', 'mouthes', 'fled', 'Sirra', 'Senate', 'haile', 'Danger', 'Octa', 'mood', 'banish', 'Descend', 'Gorging', 'Crimson', 'conceyu', 'Desiring', 'listen', 'smoake', 'voyage', 'Hackt', 'surly', 'bussling', 'Arts', 'heape', 'dam', 'lamented', 'Imitations', 'bidding', 'augmented', 'Images', 'proscription', 'Hoping', 'vntyr', 'Knew', 'satisfie', 'Conspirator', 'feeding', 'Pompey', 'greeuously', 'enterprize']\n"
          ],
          "name": "stdout"
        }
      ]
    }
  ]
}