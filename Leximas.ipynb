{
  "nbformat": 4,
  "nbformat_minor": 0,
  "metadata": {
    "colab": {
      "name": "Leximas.ipynb",
      "provenance": [],
      "collapsed_sections": []
    },
    "kernelspec": {
      "name": "python3",
      "display_name": "Python 3"
    },
    "language_info": {
      "name": "python"
    }
  },
  "cells": [
    {
      "cell_type": "code",
      "metadata": {
        "colab": {
          "base_uri": "https://localhost:8080/"
        },
        "id": "SwoSJAliIWVP",
        "outputId": "66f740db-c835-451f-8587-0c74587ea606"
      },
      "source": [
        "import re \n",
        "import pandas as pd\n",
        "#Inicialização da lista\n",
        "#Exemplo de como digitar ( 1 - 1 )\n",
        "exemplo = input('entrada da base de lados dos lexemas: Por Favor adicionar espaco entre cada caracter ou causara erro')\n",
        "BaseDeDados=[0]\n",
        "operations=[]"
      ],
      "execution_count": null,
      "outputs": [
        {
          "output_type": "stream",
          "text": [
            "entrada da base de lados dos lexemas: Por Favor adicionar espaco entre cada caracter ou causara erro1 - 1\n"
          ],
          "name": "stdout"
        }
      ]
    },
    {
      "cell_type": "code",
      "metadata": {
        "id": "5p6HW3MqXIy4"
      },
      "source": [
        "#Analisador da expressão regular e tratamento da base de erros e leitura\n",
        "#Primeira Camada de anale da expressao de exemplo com lexema para filtrar o codigo evitando entrada de caracteres numericos em calculadora\n",
        "#Tratamento\n",
        "if (re.search(r'[a-zA-Z]',exemplo)):\n",
        "    raise Exception(\"Erro: não é aceito caractere\")   \n",
        "else:\n",
        "#Limpeza de dados correspondentes e espaços\n",
        "    tratamento = \" \".join(exemplo.split())\n",
        "    BaseDeDados =re.split(r' ', tratamento)"
      ],
      "execution_count": null,
      "outputs": []
    },
    {
      "cell_type": "code",
      "metadata": {
        "id": "VBWgEk9DXMnX"
      },
      "source": [
        "#pos-tratamento e analisador da base de dados\n",
        "primeiroOperador= filter(lambda i: re.search(r'(?i)\\d',i,re.I), BaseDeDados)\n",
        "numeros= list(primeiroOperador)\n",
        "segundoOperador =filter(lambda i:re.search(r'\\(', i),BaseDeDados)\n",
        "x_parentEsqu=list(segundoOperador)\n",
        "terceiroOperador =filter(lambda i:re.search(r'\\)', i),BaseDeDados)\n",
        "x_parentDire=list(terceiroOperador)"
      ],
      "execution_count": null,
      "outputs": []
    },
    {
      "cell_type": "code",
      "metadata": {
        "id": "JknjJvm_YmSP"
      },
      "source": [
        "#Lista de pesquisa de operadores do regex\n",
        "for i in BaseDeDados:\n",
        "    if re.findall(r'[- / * + **]',i):\n",
        "        operations.append(i)"
      ],
      "execution_count": null,
      "outputs": []
    },
    {
      "cell_type": "code",
      "metadata": {
        "id": "tp66i6FKXFZi"
      },
      "source": [
        "#Definições das operações possiveis\n",
        "table_of_operations = {'+':'Operacao de Soma', '-':'Operacao de Subtracao', '*':'Operacao de Mutiplicacao','/': 'Operacao de Divisao', '**':'Operacao de Potencializacao',} \n",
        "expressoesEspeciais={'(':'Parenteze_Esquerdo', ')':'Parenteze_Direito', '@':'Comentario'}\n",
        "tabelasResultadosExpressoes = {}"
      ],
      "execution_count": null,
      "outputs": []
    },
    {
      "cell_type": "code",
      "metadata": {
        "id": "K5r7GLTGV4uO"
      },
      "source": [
        "tabelaExpressoes=[]\n",
        "#Adicionando para tabela valor\n",
        "for i in BaseDeDados:\n",
        "    if i in operations and i not in numeros :\n",
        "        tabelaExpressoes.append(table_of_operations[i])\n",
        "    elif i in x_parentEsqu:\n",
        "        valor.append(table_of_parenthesis[i])\n",
        "    elif i in x_parentDire:\n",
        "        tabelaExpressoes.append(table_of_parenthesis[i])            \n",
        "    else:\n",
        "        tabelaExpressoes.append(i)        "
      ],
      "execution_count": null,
      "outputs": []
    },
    {
      "cell_type": "code",
      "metadata": {
        "id": "h28EmsjcXkG3"
      },
      "source": [
        "tipo=[]\n",
        "#Adicionando para tabela tipo\n",
        "for i in BaseDeDados:\n",
        "    if i in operations and i not in numeros:\n",
        "        tipo.append('Operador')\n",
        "    elif i in x_parentEsqu:\n",
        "        tipo.append('Pontuação')\n",
        "    elif i in x_parentDire:\n",
        "        tipo.append('Pontuação')    \n",
        "    else :\n",
        "        tipo.append('Numero')"
      ],
      "execution_count": null,
      "outputs": []
    },
    {
      "cell_type": "code",
      "metadata": {
        "id": "AZNF3GiybaaR"
      },
      "source": [
        "resultado = list(zip(BaseDeDados,tipo,tabelaExpressoes))"
      ],
      "execution_count": null,
      "outputs": []
    },
    {
      "cell_type": "code",
      "metadata": {
        "id": "OLmft-FeXmkP"
      },
      "source": [
        "dfResultadoPrint = pd.DataFrame([\n",
        "      resultado[0],\n",
        "      resultado[1],\n",
        "      resultado[2]\n",
        "    ],\n",
        "  columns=['Lexema, BaseDeDados', 'Tipo de Dado','Tabela Expressoes']\n",
        ")"
      ],
      "execution_count": null,
      "outputs": []
    },
    {
      "cell_type": "code",
      "metadata": {
        "id": "zro7edJ0aGIU",
        "colab": {
          "base_uri": "https://localhost:8080/",
          "height": 159
        },
        "outputId": "960498ae-9b0d-468f-b880-8409c3dfec2d"
      },
      "source": [
        "print(' ')\n",
        "dfResultadoPrint"
      ],
      "execution_count": null,
      "outputs": [
        {
          "output_type": "stream",
          "text": [
            " \n"
          ],
          "name": "stdout"
        },
        {
          "output_type": "execute_result",
          "data": {
            "text/html": [
              "<div>\n",
              "<style scoped>\n",
              "    .dataframe tbody tr th:only-of-type {\n",
              "        vertical-align: middle;\n",
              "    }\n",
              "\n",
              "    .dataframe tbody tr th {\n",
              "        vertical-align: top;\n",
              "    }\n",
              "\n",
              "    .dataframe thead th {\n",
              "        text-align: right;\n",
              "    }\n",
              "</style>\n",
              "<table border=\"1\" class=\"dataframe\">\n",
              "  <thead>\n",
              "    <tr style=\"text-align: right;\">\n",
              "      <th></th>\n",
              "      <th>Lexema, BaseDeDados</th>\n",
              "      <th>Tipo de Dado</th>\n",
              "      <th>Tabela Expressoes</th>\n",
              "    </tr>\n",
              "  </thead>\n",
              "  <tbody>\n",
              "    <tr>\n",
              "      <th>0</th>\n",
              "      <td>1</td>\n",
              "      <td>Numero</td>\n",
              "      <td>1</td>\n",
              "    </tr>\n",
              "    <tr>\n",
              "      <th>1</th>\n",
              "      <td>-</td>\n",
              "      <td>Operador</td>\n",
              "      <td>Operacao de Subtracao</td>\n",
              "    </tr>\n",
              "    <tr>\n",
              "      <th>2</th>\n",
              "      <td>1</td>\n",
              "      <td>Numero</td>\n",
              "      <td>1</td>\n",
              "    </tr>\n",
              "  </tbody>\n",
              "</table>\n",
              "</div>"
            ],
            "text/plain": [
              "  Lexema, BaseDeDados Tipo de Dado      Tabela Expressoes\n",
              "0                   1       Numero                      1\n",
              "1                   -     Operador  Operacao de Subtracao\n",
              "2                   1       Numero                      1"
            ]
          },
          "metadata": {
            "tags": []
          },
          "execution_count": 19
        }
      ]
    }
  ]
}