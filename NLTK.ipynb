{
  "nbformat": 4,
  "nbformat_minor": 0,
  "metadata": {
    "colab": {
      "name": "NLTK.ipynb",
      "provenance": [],
      "collapsed_sections": []
    },
    "kernelspec": {
      "name": "python3",
      "display_name": "Python 3"
    }
  },
  "cells": [
    {
      "cell_type": "code",
      "metadata": {
        "id": "kiEBiIJnt0Zk"
      },
      "source": [
        "import nltk"
      ],
      "execution_count": null,
      "outputs": []
    },
    {
      "cell_type": "code",
      "metadata": {
        "id": "JrjnPRm_0EQL"
      },
      "source": [
        "from nltk.corpus import machado, mac_morpho, floresta, genesis"
      ],
      "execution_count": null,
      "outputs": []
    },
    {
      "cell_type": "code",
      "metadata": {
        "colab": {
          "base_uri": "https://localhost:8080/"
        },
        "id": "wrP94_Ir04q-",
        "outputId": "b31cd513-5154-491d-d70f-c6569a8028b3"
      },
      "source": [
        "nltk.download('machado')\n",
        "nltk.download('mac_morpho')\n",
        "nltk.download('floresta')\n",
        "nltk.download('genesis')"
      ],
      "execution_count": null,
      "outputs": [
        {
          "output_type": "stream",
          "text": [
            "[nltk_data] Downloading package machado to /root/nltk_data...\n",
            "[nltk_data] Downloading package mac_morpho to /root/nltk_data...\n",
            "[nltk_data]   Unzipping corpora/mac_morpho.zip.\n",
            "[nltk_data] Downloading package floresta to /root/nltk_data...\n",
            "[nltk_data]   Unzipping corpora/floresta.zip.\n",
            "[nltk_data] Downloading package genesis to /root/nltk_data...\n",
            "[nltk_data]   Unzipping corpora/genesis.zip.\n"
          ],
          "name": "stdout"
        },
        {
          "output_type": "execute_result",
          "data": {
            "text/plain": [
              "True"
            ]
          },
          "metadata": {
            "tags": []
          },
          "execution_count": 3
        }
      ]
    },
    {
      "cell_type": "code",
      "metadata": {
        "colab": {
          "base_uri": "https://localhost:8080/"
        },
        "id": "D-_EKQeb1GXL",
        "outputId": "fa18f5c6-3c41-488a-cb25-9b13e1f83a0b"
      },
      "source": [
        "machado.fileids"
      ],
      "execution_count": null,
      "outputs": [
        {
          "output_type": "execute_result",
          "data": {
            "text/plain": [
              "<bound method CategorizedCorpusReader.fileids of <PortugueseCategorizedPlaintextCorpusReader in '/root/nltk_data/corpora/machado.zip/machado/'>>"
            ]
          },
          "metadata": {
            "tags": []
          },
          "execution_count": 4
        }
      ]
    },
    {
      "cell_type": "code",
      "metadata": {
        "colab": {
          "base_uri": "https://localhost:8080/"
        },
        "id": "HOrjbS2J1kF1",
        "outputId": "28dc4d57-dec0-407b-9668-96944a6c8b02"
      },
      "source": [
        "machado.fileids()"
      ],
      "execution_count": null,
      "outputs": [
        {
          "output_type": "execute_result",
          "data": {
            "text/plain": [
              "['contos/macn001.txt',\n",
              " 'contos/macn002.txt',\n",
              " 'contos/macn003.txt',\n",
              " 'contos/macn004.txt',\n",
              " 'contos/macn005.txt',\n",
              " 'contos/macn006.txt',\n",
              " 'contos/macn007.txt',\n",
              " 'contos/macn008.txt',\n",
              " 'contos/macn009.txt',\n",
              " 'contos/macn010.txt',\n",
              " 'contos/macn011.txt',\n",
              " 'contos/macn012.txt',\n",
              " 'contos/macn013.txt',\n",
              " 'contos/macn014.txt',\n",
              " 'contos/macn015.txt',\n",
              " 'contos/macn016.txt',\n",
              " 'contos/macn017.txt',\n",
              " 'contos/macn018.txt',\n",
              " 'contos/macn019.txt',\n",
              " 'contos/macn020.txt',\n",
              " 'contos/macn021.txt',\n",
              " 'contos/macn022.txt',\n",
              " 'contos/macn023.txt',\n",
              " 'contos/macn024.txt',\n",
              " 'contos/macn025.txt',\n",
              " 'contos/macn026.txt',\n",
              " 'contos/macn027.txt',\n",
              " 'contos/macn028.txt',\n",
              " 'contos/macn029.txt',\n",
              " 'contos/macn030.txt',\n",
              " 'contos/macn031.txt',\n",
              " 'contos/macn032.txt',\n",
              " 'contos/macn033.txt',\n",
              " 'contos/macn034.txt',\n",
              " 'contos/macn035.txt',\n",
              " 'contos/macn036.txt',\n",
              " 'contos/macn037.txt',\n",
              " 'contos/macn038.txt',\n",
              " 'contos/macn039.txt',\n",
              " 'contos/macn040.txt',\n",
              " 'contos/macn041.txt',\n",
              " 'contos/macn042.txt',\n",
              " 'contos/macn043.txt',\n",
              " 'contos/macn044.txt',\n",
              " 'contos/macn045.txt',\n",
              " 'contos/macn046.txt',\n",
              " 'contos/macn047.txt',\n",
              " 'contos/macn048.txt',\n",
              " 'contos/macn049.txt',\n",
              " 'contos/macn050.txt',\n",
              " 'contos/macn051.txt',\n",
              " 'contos/macn052.txt',\n",
              " 'contos/macn053.txt',\n",
              " 'contos/macn054.txt',\n",
              " 'contos/macn055.txt',\n",
              " 'contos/macn056.txt',\n",
              " 'contos/macn057.txt',\n",
              " 'contos/macn058.txt',\n",
              " 'contos/macn059.txt',\n",
              " 'contos/macn060.txt',\n",
              " 'contos/macn061.txt',\n",
              " 'contos/macn062.txt',\n",
              " 'contos/macn063.txt',\n",
              " 'contos/macn064.txt',\n",
              " 'contos/macn065.txt',\n",
              " 'contos/macn066.txt',\n",
              " 'contos/macn067.txt',\n",
              " 'contos/macn068.txt',\n",
              " 'contos/macn069.txt',\n",
              " 'contos/macn070.txt',\n",
              " 'contos/macn071.txt',\n",
              " 'contos/macn072.txt',\n",
              " 'contos/macn073.txt',\n",
              " 'contos/macn074.txt',\n",
              " 'contos/macn075.txt',\n",
              " 'contos/macn076.txt',\n",
              " 'contos/macn077.txt',\n",
              " 'contos/macn078.txt',\n",
              " 'contos/macn079.txt',\n",
              " 'contos/macn080.txt',\n",
              " 'contos/macn081.txt',\n",
              " 'contos/macn082.txt',\n",
              " 'contos/macn083.txt',\n",
              " 'contos/macn084.txt',\n",
              " 'contos/macn085.txt',\n",
              " 'contos/macn086.txt',\n",
              " 'contos/macn087.txt',\n",
              " 'contos/macn088.txt',\n",
              " 'contos/macn089.txt',\n",
              " 'contos/macn090.txt',\n",
              " 'contos/macn091.txt',\n",
              " 'contos/macn092.txt',\n",
              " 'contos/macn093.txt',\n",
              " 'contos/macn094.txt',\n",
              " 'contos/macn095.txt',\n",
              " 'contos/macn096.txt',\n",
              " 'contos/macn097.txt',\n",
              " 'contos/macn098.txt',\n",
              " 'contos/macn099.txt',\n",
              " 'contos/macn100.txt',\n",
              " 'contos/macn101.txt',\n",
              " 'contos/macn102.txt',\n",
              " 'contos/macn103.txt',\n",
              " 'contos/macn104.txt',\n",
              " 'contos/macn105.txt',\n",
              " 'contos/macn106.txt',\n",
              " 'contos/macn107.txt',\n",
              " 'contos/macn108.txt',\n",
              " 'contos/macn109.txt',\n",
              " 'contos/macn110.txt',\n",
              " 'contos/macn111.txt',\n",
              " 'contos/macn112.txt',\n",
              " 'contos/macn113.txt',\n",
              " 'contos/macn114.txt',\n",
              " 'contos/macn115.txt',\n",
              " 'contos/macn116.txt',\n",
              " 'contos/macn117.txt',\n",
              " 'contos/macn118.txt',\n",
              " 'contos/macn119.txt',\n",
              " 'contos/macn120.txt',\n",
              " 'contos/macn121.txt',\n",
              " 'contos/macn122.txt',\n",
              " 'contos/macn123.txt',\n",
              " 'contos/macn124.txt',\n",
              " 'contos/macn125.txt',\n",
              " 'contos/macn126.txt',\n",
              " 'contos/macn127.txt',\n",
              " 'contos/macn128.txt',\n",
              " 'contos/macn129.txt',\n",
              " 'contos/macn130.txt',\n",
              " 'contos/macn131.txt',\n",
              " 'contos/macn132.txt',\n",
              " 'contos/macn133.txt',\n",
              " 'contos/macn134.txt',\n",
              " 'contos/macn135.txt',\n",
              " 'contos/macn136.txt',\n",
              " 'contos/macn137.txt',\n",
              " 'critica/mact01.txt',\n",
              " 'critica/mact02.txt',\n",
              " 'critica/mact03.txt',\n",
              " 'critica/mact04.txt',\n",
              " 'critica/mact05.txt',\n",
              " 'critica/mact06.txt',\n",
              " 'critica/mact07.txt',\n",
              " 'critica/mact08.txt',\n",
              " 'critica/mact09.txt',\n",
              " 'critica/mact10.txt',\n",
              " 'critica/mact11.txt',\n",
              " 'critica/mact12.txt',\n",
              " 'critica/mact13.txt',\n",
              " 'critica/mact14.txt',\n",
              " 'critica/mact15.txt',\n",
              " 'critica/mact16.txt',\n",
              " 'critica/mact17.txt',\n",
              " 'critica/mact18.txt',\n",
              " 'critica/mact19.txt',\n",
              " 'critica/mact20.txt',\n",
              " 'critica/mact21.txt',\n",
              " 'critica/mact22.txt',\n",
              " 'critica/mact23.txt',\n",
              " 'critica/mact24.txt',\n",
              " 'critica/mact25.txt',\n",
              " 'critica/mact26.txt',\n",
              " 'critica/mact27.txt',\n",
              " 'critica/mact28.txt',\n",
              " 'critica/mact29.txt',\n",
              " 'critica/mact30.txt',\n",
              " 'critica/mact31.txt',\n",
              " 'critica/mact32.txt',\n",
              " 'critica/mact33.txt',\n",
              " 'critica/mact34.txt',\n",
              " 'critica/mact35.txt',\n",
              " 'critica/mact36.txt',\n",
              " 'critica/mact37.txt',\n",
              " 'critica/mact38.txt',\n",
              " 'critica/mact39.txt',\n",
              " 'critica/mact40.txt',\n",
              " 'critica/mact41.txt',\n",
              " 'critica/mact42.txt',\n",
              " 'critica/mact43.txt',\n",
              " 'critica/mact44.txt',\n",
              " 'critica/mact45.txt',\n",
              " 'cronica/macr01.txt',\n",
              " 'cronica/macr02.txt',\n",
              " 'cronica/macr03.txt',\n",
              " 'cronica/macr04.txt',\n",
              " 'cronica/macr05.txt',\n",
              " 'cronica/macr06.txt',\n",
              " 'cronica/macr07.txt',\n",
              " 'cronica/macr08.txt',\n",
              " 'cronica/macr09.txt',\n",
              " 'cronica/macr10.txt',\n",
              " 'cronica/macr11.txt',\n",
              " 'cronica/macr12.txt',\n",
              " 'cronica/macr13.txt',\n",
              " 'cronica/macr14.txt',\n",
              " 'cronica/macr15.txt',\n",
              " 'cronica/macr16.txt',\n",
              " 'cronica/macr17.txt',\n",
              " 'cronica/macr18.txt',\n",
              " 'cronica/macr19.txt',\n",
              " 'cronica/macr20.txt',\n",
              " 'cronica/macr21.txt',\n",
              " 'cronica/macr22.txt',\n",
              " 'cronica/macr23.txt',\n",
              " 'cronica/macr24.txt',\n",
              " 'miscelanea/mams01.txt',\n",
              " 'miscelanea/mams02.txt',\n",
              " 'miscelanea/mams03.txt',\n",
              " 'miscelanea/mams04.txt',\n",
              " 'miscelanea/mams05.txt',\n",
              " 'miscelanea/mams06.txt',\n",
              " 'miscelanea/mams07.txt',\n",
              " 'miscelanea/mams08.txt',\n",
              " 'miscelanea/mams09.txt',\n",
              " 'miscelanea/mams10.txt',\n",
              " 'poesia/maps01.txt',\n",
              " 'poesia/maps02.txt',\n",
              " 'poesia/maps03.txt',\n",
              " 'poesia/maps04.txt',\n",
              " 'poesia/maps05.txt',\n",
              " 'poesia/maps06.txt',\n",
              " 'poesia/maps07.txt',\n",
              " 'romance/marm01.txt',\n",
              " 'romance/marm02.txt',\n",
              " 'romance/marm03.txt',\n",
              " 'romance/marm04.txt',\n",
              " 'romance/marm05.txt',\n",
              " 'romance/marm06.txt',\n",
              " 'romance/marm07.txt',\n",
              " 'romance/marm08.txt',\n",
              " 'romance/marm09.txt',\n",
              " 'romance/marm10.txt',\n",
              " 'teatro/matt01.txt',\n",
              " 'teatro/matt02.txt',\n",
              " 'teatro/matt03.txt',\n",
              " 'teatro/matt04.txt',\n",
              " 'teatro/matt05.txt',\n",
              " 'teatro/matt06.txt',\n",
              " 'teatro/matt07.txt',\n",
              " 'teatro/matt08.txt',\n",
              " 'teatro/matt09.txt',\n",
              " 'teatro/matt10.txt',\n",
              " 'traducao/matr01.txt',\n",
              " 'traducao/matr02.txt',\n",
              " 'traducao/matr03.txt']"
            ]
          },
          "metadata": {
            "tags": []
          },
          "execution_count": 5
        }
      ]
    },
    {
      "cell_type": "code",
      "metadata": {
        "id": "sCIRIE5v1y8x"
      },
      "source": [
        "from nltk.text import Text"
      ],
      "execution_count": null,
      "outputs": []
    },
    {
      "cell_type": "code",
      "metadata": {
        "id": "Mkwg_2-q14ar"
      },
      "source": [
        "ptext1 = Text(machado.words('romance/marm05.txt'), name=\"Memórias Póstumas de Brás Cubas (1881)\")"
      ],
      "execution_count": null,
      "outputs": []
    },
    {
      "cell_type": "code",
      "metadata": {
        "colab": {
          "base_uri": "https://localhost:8080/"
        },
        "id": "7nPA6FSo2TIq",
        "outputId": "526a3f81-5ace-42ee-e2c4-d9afade420f6"
      },
      "source": [
        "ptext1.vocab()"
      ],
      "execution_count": null,
      "outputs": [
        {
          "output_type": "execute_result",
          "data": {
            "text/plain": [
              "FreqDist({'Romance': 1,\n",
              "          ',': 6918,\n",
              "          'Memórias': 7,\n",
              "          'Póstumas': 5,\n",
              "          'de': 2063,\n",
              "          'Brás': 32,\n",
              "          'Cubas': 49,\n",
              "          '1880': 3,\n",
              "          'Texto': 1,\n",
              "          '-': 1748,\n",
              "          'fonte': 2,\n",
              "          ':': 204,\n",
              "          'Obra': 2,\n",
              "          'Completa': 1,\n",
              "          'Machado': 2,\n",
              "          'Assis': 2,\n",
              "          'Rio': 8,\n",
              "          'Janeiro': 8,\n",
              "          'Editora': 1,\n",
              "          'Nova': 2,\n",
              "          'Aguilar': 1,\n",
              "          '1994': 1,\n",
              "          '.': 2921,\n",
              "          'Publicado': 1,\n",
              "          'originalmente': 1,\n",
              "          'em': 335,\n",
              "          'folhetins': 1,\n",
              "          'a': 2430,\n",
              "          'partir': 2,\n",
              "          'março': 2,\n",
              "          'na': 283,\n",
              "          'Revista': 2,\n",
              "          'Brasileira': 2,\n",
              "          'Ao': 34,\n",
              "          'verme': 3,\n",
              "          'que': 2133,\n",
              "          'primeiro': 30,\n",
              "          'roeu': 1,\n",
              "          'as': 427,\n",
              "          'frias': 2,\n",
              "          'carnes': 3,\n",
              "          'do': 680,\n",
              "          'meu': 185,\n",
              "          'cadáver': 11,\n",
              "          'dedico': 1,\n",
              "          'como': 255,\n",
              "          'saudosa': 2,\n",
              "          'lembrança': 8,\n",
              "          'estas': 16,\n",
              "          'Prólogo': 1,\n",
              "          'da': 644,\n",
              "          'terceira': 8,\n",
              "          'edição': 7,\n",
              "          'A': 160,\n",
              "          'primeira': 38,\n",
              "          'destas': 4,\n",
              "          'foi': 147,\n",
              "          'feita': 6,\n",
              "          'aos': 70,\n",
              "          'pedaços': 2,\n",
              "          'pelos': 10,\n",
              "          'anos': 80,\n",
              "          'Postas': 1,\n",
              "          'mais': 273,\n",
              "          'tarde': 31,\n",
              "          'livro': 47,\n",
              "          'corrigi': 2,\n",
              "          'o': 1618,\n",
              "          'texto': 2,\n",
              "          'vários': 4,\n",
              "          'lugares': 5,\n",
              "          'Agora': 20,\n",
              "          'tive': 17,\n",
              "          'rever': 1,\n",
              "          'para': 335,\n",
              "          'emendei': 1,\n",
              "          'ainda': 87,\n",
              "          'alguma': 83,\n",
              "          'coisa': 148,\n",
              "          'e': 1823,\n",
              "          'suprimi': 1,\n",
              "          'duas': 54,\n",
              "          'ou': 227,\n",
              "          'três': 55,\n",
              "          'dúzias': 2,\n",
              "          'linhas': 5,\n",
              "          'Assim': 15,\n",
              "          'composta': 1,\n",
              "          'sai': 2,\n",
              "          'novamente': 2,\n",
              "          'à': 287,\n",
              "          'luz': 13,\n",
              "          'esta': 67,\n",
              "          'obra': 15,\n",
              "          'benevolência': 3,\n",
              "          'parece': 22,\n",
              "          'ter': 48,\n",
              "          'encontrado': 1,\n",
              "          'no': 259,\n",
              "          'público': 11,\n",
              "          'Capistrano': 1,\n",
              "          'Abreu': 1,\n",
              "          'noticiando': 1,\n",
              "          'publicação': 3,\n",
              "          'perguntava': 8,\n",
              "          '\\x93': 45,\n",
              "          'As': 16,\n",
              "          'são': 32,\n",
              "          'um': 923,\n",
              "          'romance': 5,\n",
              "          '?\\x94': 2,\n",
              "          'Macedo': 2,\n",
              "          'Soares': 1,\n",
              "          'carta': 34,\n",
              "          'me': 978,\n",
              "          'escreveu': 3,\n",
              "          'por': 254,\n",
              "          'esse': 77,\n",
              "          'tempo': 113,\n",
              "          'recordava': 1,\n",
              "          'amigamente': 1,\n",
              "          'Viagens': 1,\n",
              "          'minha': 172,\n",
              "          'terra': 9,\n",
              "          'respondia': 9,\n",
              "          'já': 63,\n",
              "          'defunto': 8,\n",
              "          '(': 26,\n",
              "          'leitor': 37,\n",
              "          'viu': 17,\n",
              "          'verá': 3,\n",
              "          'prólogo': 6,\n",
              "          'dele': 33,\n",
              "          'vai': 14,\n",
              "          'adiante': 9,\n",
              "          ')': 10,\n",
              "          'sim': 30,\n",
              "          'não': 911,\n",
              "          'era': 437,\n",
              "          'uns': 34,\n",
              "          'outros': 63,\n",
              "          'Quanto': 17,\n",
              "          'ao': 347,\n",
              "          'segundo': 16,\n",
              "          'assim': 75,\n",
              "          'se': 712,\n",
              "          'explicou': 3,\n",
              "          'finado': 3,\n",
              "          'Trata': 4,\n",
              "          'uma': 631,\n",
              "          'difusa': 2,\n",
              "          'qual': 18,\n",
              "          'eu': 415,\n",
              "          'adotei': 2,\n",
              "          'forma': 8,\n",
              "          'livre': 6,\n",
              "          'Sterne': 3,\n",
              "          'Xavier': 8,\n",
              "          'Maistre': 3,\n",
              "          'sei': 60,\n",
              "          'lhe': 402,\n",
              "          'meti': 8,\n",
              "          'algumas': 33,\n",
              "          'rabugens': 3,\n",
              "          'pessimismo': 3,\n",
              "          '.\\x94': 8,\n",
              "          'Toda': 1,\n",
              "          'essa': 52,\n",
              "          'gente': 23,\n",
              "          'viajou': 2,\n",
              "          'roda': 5,\n",
              "          'quarto': 8,\n",
              "          'Garret': 1,\n",
              "          'dos': 228,\n",
              "          'De': 36,\n",
              "          'pode': 37,\n",
              "          'dizer': 76,\n",
              "          'vida': 116,\n",
              "          'O': 164,\n",
              "          'faz': 19,\n",
              "          'autor': 7,\n",
              "          'particular': 7,\n",
              "          'é': 477,\n",
              "          'ele': 213,\n",
              "          'chama': 7,\n",
              "          '\\x94.': 12,\n",
              "          'Há': 12,\n",
              "          'alma': 19,\n",
              "          'deste': 16,\n",
              "          'risonho': 3,\n",
              "          'pareça': 2,\n",
              "          'sentimento': 20,\n",
              "          'amargo': 2,\n",
              "          'áspero': 2,\n",
              "          'está': 28,\n",
              "          'longe': 29,\n",
              "          'vir': 9,\n",
              "          'seus': 40,\n",
              "          'modelos': 1,\n",
              "          'É': 31,\n",
              "          'taça': 1,\n",
              "          'lavores': 1,\n",
              "          'igual': 7,\n",
              "          'escola': 6,\n",
              "          'mas': 325,\n",
              "          'leva': 8,\n",
              "          'outro': 123,\n",
              "          'vinho': 7,\n",
              "          'Não': 248,\n",
              "          'digo': 36,\n",
              "          'entrar': 11,\n",
              "          'crítica': 4,\n",
              "          'pintou': 3,\n",
              "          'si': 50,\n",
              "          'conforme': 2,\n",
              "          'pareceu': 19,\n",
              "          'melhor': 49,\n",
              "          'certo': 47,\n",
              "          'AO': 2,\n",
              "          'LEITOR': 1,\n",
              "          'Que': 63,\n",
              "          'Stendhal': 3,\n",
              "          'confessasse': 2,\n",
              "          'haver': 11,\n",
              "          'escrito': 5,\n",
              "          'livros': 11,\n",
              "          'cem': 4,\n",
              "          'leitores': 5,\n",
              "          'admira': 3,\n",
              "          'consterna': 1,\n",
              "          'nem': 127,\n",
              "          'provavelmente': 7,\n",
              "          'consternará': 1,\n",
              "          'este': 52,\n",
              "          'tiver': 2,\n",
              "          'os': 483,\n",
              "          'cinqüenta': 7,\n",
              "          'vinte': 10,\n",
              "          'quando': 103,\n",
              "          'muito': 156,\n",
              "          'dez': 16,\n",
              "          'Dez': 1,\n",
              "          '?': 262,\n",
              "          'Talvez': 32,\n",
              "          'cinco': 31,\n",
              "          'verdade': 49,\n",
              "          'Pode': 4,\n",
              "          'ser': 97,\n",
              "          'Escrevi': 2,\n",
              "          'com': 559,\n",
              "          'pena': 13,\n",
              "          'galhofa': 3,\n",
              "          'tinta': 1,\n",
              "          'melancolia': 7,\n",
              "          'difícil': 10,\n",
              "          'antever': 1,\n",
              "          'poderá': 1,\n",
              "          'sair': 22,\n",
              "          'desse': 11,\n",
              "          'conúbio': 1,\n",
              "          'Acresce': 3,\n",
              "          'grave': 6,\n",
              "          'achará': 2,\n",
              "          'umas': 23,\n",
              "          'aparências': 5,\n",
              "          'puro': 11,\n",
              "          'passo': 18,\n",
              "          'frívola': 1,\n",
              "          'nele': 10,\n",
              "          'seu': 52,\n",
              "          'usual': 3,\n",
              "          ';': 1260,\n",
              "          'ei': 4,\n",
              "          'lo': 77,\n",
              "          'aí': 38,\n",
              "          'fica': 12,\n",
              "          'privado': 1,\n",
              "          'estima': 2,\n",
              "          'graves': 3,\n",
              "          'amor': 55,\n",
              "          'frívolos': 1,\n",
              "          'colunas': 2,\n",
              "          'máximas': 2,\n",
              "          'opinião': 21,\n",
              "          'Mas': 88,\n",
              "          'espero': 2,\n",
              "          'angariar': 1,\n",
              "          'simpatias': 1,\n",
              "          'remédio': 8,\n",
              "          'fugir': 10,\n",
              "          'explícito': 1,\n",
              "          'longo': 11,\n",
              "          'contém': 1,\n",
              "          'menos': 110,\n",
              "          'coisas': 67,\n",
              "          'diz': 14,\n",
              "          'jeito': 4,\n",
              "          'obscuro': 5,\n",
              "          'truncado': 1,\n",
              "          'Conseguintemente': 1,\n",
              "          'evito': 1,\n",
              "          'contar': 12,\n",
              "          'processo': 2,\n",
              "          'extraordinário': 2,\n",
              "          'empreguei': 2,\n",
              "          'composição': 2,\n",
              "          'trabalhadas': 1,\n",
              "          'cá': 21,\n",
              "          'mundo': 32,\n",
              "          'Seria': 3,\n",
              "          'curioso': 6,\n",
              "          'nimiamente': 1,\n",
              "          'extenso': 1,\n",
              "          'aliás': 21,\n",
              "          'desnecessário': 1,\n",
              "          'entendimento': 3,\n",
              "          'mesma': 55,\n",
              "          'tudo': 91,\n",
              "          'te': 63,\n",
              "          'agradar': 3,\n",
              "          'fino': 4,\n",
              "          'pago': 2,\n",
              "          'tarefa': 2,\n",
              "          'piparote': 3,\n",
              "          'adeus': 9,\n",
              "          'CAPÍTULO': 160,\n",
              "          'PRIMEIRO': 2,\n",
              "          '/': 160,\n",
              "          'ÓBITO': 1,\n",
              "          'DO': 8,\n",
              "          'AUTOR': 2,\n",
              "          'Algum': 4,\n",
              "          'hesitei': 3,\n",
              "          'devia': 25,\n",
              "          'abrir': 9,\n",
              "          'memórias': 5,\n",
              "          'pelo': 40,\n",
              "          'princípio': 20,\n",
              "          'fim': 52,\n",
              "          'isto': 65,\n",
              "          'poria': 1,\n",
              "          'lugar': 14,\n",
              "          'nascimento': 4,\n",
              "          'morte': 59,\n",
              "          'Suposto': 1,\n",
              "          'uso': 7,\n",
              "          'vulgar': 7,\n",
              "          'seja': 11,\n",
              "          'começar': 2,\n",
              "          'considerações': 1,\n",
              "          'levaram': 2,\n",
              "          'adotar': 1,\n",
              "          'diferente': 6,\n",
              "          'método': 9,\n",
              "          'sou': 13,\n",
              "          'propriamente': 1,\n",
              "          'quem': 44,\n",
              "          'campa': 1,\n",
              "          'berço': 2,\n",
              "          'segunda': 10,\n",
              "          'ficaria': 2,\n",
              "          'galante': 5,\n",
              "          'novo': 10,\n",
              "          'Moisés': 1,\n",
              "          'também': 52,\n",
              "          'contou': 9,\n",
              "          'sua': 41,\n",
              "          'pôs': 4,\n",
              "          'intróito': 1,\n",
              "          'cabo': 10,\n",
              "          'diferença': 17,\n",
              "          'radical': 1,\n",
              "          'entre': 54,\n",
              "          'Pentateuco': 1,\n",
              "          'Dito': 3,\n",
              "          'expirei': 1,\n",
              "          'às': 67,\n",
              "          'horas': 27,\n",
              "          'sexta': 2,\n",
              "          'feira': 4,\n",
              "          'mês': 4,\n",
              "          'agosto': 1,\n",
              "          '1869': 2,\n",
              "          'bela': 10,\n",
              "          'chácara': 23,\n",
              "          'Catumbi': 1,\n",
              "          'Tinha': 19,\n",
              "          'sessenta': 4,\n",
              "          'quatro': 23,\n",
              "          'rijos': 1,\n",
              "          'prósperos': 1,\n",
              "          'solteiro': 3,\n",
              "          'possuía': 7,\n",
              "          'cerca': 2,\n",
              "          'trezentos': 2,\n",
              "          'contos': 29,\n",
              "          'fui': 53,\n",
              "          'acompanhado': 3,\n",
              "          'cemitério': 8,\n",
              "          'onze': 8,\n",
              "          'amigos': 11,\n",
              "          'Onze': 1,\n",
              "          '!': 291,\n",
              "          'Verdade': 5,\n",
              "          'houve': 15,\n",
              "          'cartas': 11,\n",
              "          'anúncios': 1,\n",
              "          'chovia': 2,\n",
              "          '\\x97': 745,\n",
              "          'peneirava': 1,\n",
              "          'chuvinha': 1,\n",
              "          'miúda': 4,\n",
              "          'triste': 46,\n",
              "          'constante': 3,\n",
              "          'tão': 92,\n",
              "          'levou': 11,\n",
              "          'daqueles': 2,\n",
              "          'fiéis': 1,\n",
              "          'última': 14,\n",
              "          'hora': 24,\n",
              "          'intercalar': 3,\n",
              "          'engenhosa': 1,\n",
              "          'idéia': 60,\n",
              "          'discurso': 10,\n",
              "          'proferiu': 1,\n",
              "          'beira': 1,\n",
              "          'cova': 4,\n",
              "          'Vós': 2,\n",
              "          'conhecestes': 1,\n",
              "          'meus': 52,\n",
              "          'senhores': 4,\n",
              "          'vós': 3,\n",
              "          'podeis': 2,\n",
              "          'comigo': 53,\n",
              "          'natureza': 16,\n",
              "          'estar': 29,\n",
              "          'chorando': 1,\n",
              "          'perda': 1,\n",
              "          'irreparável': 2,\n",
              "          'belos': 3,\n",
              "          'caracteres': 2,\n",
              "          'têm': 4,\n",
              "          'honrado': 2,\n",
              "          'humanidade': 2,\n",
              "          'Este': 10,\n",
              "          'ar': 36,\n",
              "          'sombrio': 2,\n",
              "          'gotas': 1,\n",
              "          'céu': 10,\n",
              "          'aquelas': 2,\n",
              "          'nuvens': 3,\n",
              "          'escuras': 2,\n",
              "          'cobrem': 1,\n",
              "          'azul': 15,\n",
              "          'crepe': 1,\n",
              "          'funéreo': 1,\n",
              "          'isso': 46,\n",
              "          'dor': 28,\n",
              "          'crua': 1,\n",
              "          'má': 4,\n",
              "          'rói': 3,\n",
              "          'Natureza': 5,\n",
              "          'íntimas': 3,\n",
              "          'entranhas': 2,\n",
              "          'sublime': 8,\n",
              "          'louvor': 2,\n",
              "          'nosso': 33,\n",
              "          'ilustre': 4,\n",
              "          'Bom': 2,\n",
              "          'fiel': 2,\n",
              "          'amigo': 14,\n",
              "          'arrependo': 2,\n",
              "          'das': 166,\n",
              "          'apólices': 2,\n",
              "          'deixei': 26,\n",
              "          'E': 126,\n",
              "          'cheguei': 13,\n",
              "          'cláusula': 1,\n",
              "          'dias': 67,\n",
              "          'encaminhei': 2,\n",
              "          'undiscovered': 1,\n",
              "          'country': 1,\n",
              "          'Hamlet': 2,\n",
              "          'sem': 147,\n",
              "          'ânsias': 1,\n",
              "          'dúvidas': 2,\n",
              "          'moço': 4,\n",
              "          'príncipe': 1,\n",
              "          'pausado': 1,\n",
              "          'trôpego': 1,\n",
              "          'retira': 1,\n",
              "          'espetáculo': 16,\n",
              "          'Tarde': 2,\n",
              "          'aborrecido': 6,\n",
              "          'Viram': 2,\n",
              "          'ir': 39,\n",
              "          'nove': 4,\n",
              "          'pessoas': 20,\n",
              "          'elas': 12,\n",
              "          'senhoras': 6,\n",
              "          'irmã': 13,\n",
              "          'Sabina': 36,\n",
              "          'casada': 10,\n",
              "          'Cotrim': 38,\n",
              "          'filha': 39,\n",
              "          'lírio': 3,\n",
              "          'vale': 15,\n",
              "          '...': 297,\n",
              "          'Tenham': 1,\n",
              "          'paciência': 3,\n",
              "          'daqui': 7,\n",
              "          'pouco': 96,\n",
              "          'lhes': 27,\n",
              "          'direi': 16,\n",
              "          'senhora': 23,\n",
              "          'Contentem': 2,\n",
              "          'saber': 24,\n",
              "          'anônima': 7,\n",
              "          'parenta': 1,\n",
              "          'padeceu': 3,\n",
              "          'parentas': 1,\n",
              "          'carpisse': 1,\n",
              "          'deixasse': 5,\n",
              "          'rolar': 3,\n",
              "          'chão': 16,\n",
              "          'convulsa': 2,\n",
              "          'Nem': 14,\n",
              "          'óbito': 1,\n",
              "          'altamente': 1,\n",
              "          'dramática': 1,\n",
              "          'Um': 56,\n",
              "          'solteirão': 3,\n",
              "          'expira': 1,\n",
              "          'reúna': 1,\n",
              "          'todos': 68,\n",
              "          'elementos': 3,\n",
              "          'tragédia': 3,\n",
              "          'dado': 15,\n",
              "          'convinha': 5,\n",
              "          'aparentá': 1,\n",
              "          'pé': 42,\n",
              "          'cabeceira': 2,\n",
              "          'cama': 11,\n",
              "          'olhos': 137,\n",
              "          'estúpidos': 2,\n",
              "          'boca': 22,\n",
              "          'entreaberta': 1,\n",
              "          'mal': 34,\n",
              "          'podia': 62,\n",
              "          'crer': 12,\n",
              "          'extinção': 2,\n",
              "          'Morto': 1,\n",
              "          'morto': 4,\n",
              "          '!\\x94': 7,\n",
              "          'dizia': 72,\n",
              "          'consigo': 6,\n",
              "          'imaginação': 15,\n",
              "          'dela': 27,\n",
              "          'cegonhas': 2,\n",
              "          'viajante': 1,\n",
              "          'desferirem': 1,\n",
              "          'vôo': 3,\n",
              "          'desde': 10,\n",
              "          'Ilisso': 2,\n",
              "          'ribas': 2,\n",
              "          'africanas': 1,\n",
              "          'embargo': 2,\n",
              "          'ruínas': 1,\n",
              "          'tempos': 12,\n",
              "          'dessa': 6,\n",
              "          'voou': 2,\n",
              "          'sobre': 30,\n",
              "          'destroços': 1,\n",
              "          'presentes': 6,\n",
              "          'até': 88,\n",
              "          'África': 2,\n",
              "          'juvenil': 3,\n",
              "          'Deixá': 1,\n",
              "          'la': 82,\n",
              "          'lá': 55,\n",
              "          'iremos': 4,\n",
              "          'restituir': 5,\n",
              "          'primeiros': 12,\n",
              "          'quero': 19,\n",
              "          'morrer': 16,\n",
              "          'tranqüilamente': 4,\n",
              "          'metodicamente': 1,\n",
              "          'ouvindo': 4,\n",
              "          'soluços': 5,\n",
              "          'damas': 9,\n",
              "          'falas': 1,\n",
              "          'baixas': 1,\n",
              "          'homens': 31,\n",
              "          'chuva': 3,\n",
              "          'tamborila': 1,\n",
              "          'nas': 43,\n",
              "          'folhas': 8,\n",
              "          'tinhorão': 1,\n",
              "          'som': 4,\n",
              "          'estrídulo': 1,\n",
              "          'navalha': 1,\n",
              "          'amolador': 1,\n",
              "          'afiando': 1,\n",
              "          'fora': 52,\n",
              "          'porta': 41,\n",
              "          'correeiro': 1,\n",
              "          'Juro': 3,\n",
              "          'orquestra': 2,\n",
              "          'parecer': 10,\n",
              "          'ponto': 26,\n",
              "          'diante': 22,\n",
              "          'chegou': 15,\n",
              "          'deliciosa': 4,\n",
              "          'estrebuchava': 1,\n",
              "          'peito': 10,\n",
              "          'ímpetos': 5,\n",
              "          'vaga': 7,\n",
              "          'marinha': 6,\n",
              "          'esvaía': 1,\n",
              "          'consciência': 29,\n",
              "          'descia': 6,\n",
              "          'imobilidade': 2,\n",
              "          'física': 3,\n",
              "          'moral': 14,\n",
              "          'corpo': 24,\n",
              "          'fazia': 35,\n",
              "          'planta': 3,\n",
              "          'pedra': 2,\n",
              "          'lodo': 1,\n",
              "          'nenhuma': 36,\n",
              "          'Morri': 1,\n",
              "          'pneumonia': 2,\n",
              "          'disser': 5,\n",
              "          'grandiosa': 2,\n",
              "          'útil': 2,\n",
              "          'causa': 15,\n",
              "          'possível': 9,\n",
              "          'creia': 3,\n",
              "          'todavia': 10,\n",
              "          'Vou': 7,\n",
              "          'expor': 5,\n",
              "          'sumariamente': 2,\n",
              "          'caso': 30,\n",
              "          'Julgue': 1,\n",
              "          'mesmo': 97,\n",
              "          'II': 2,\n",
              "          'EMPLASTO': 1,\n",
              "          'Com': 22,\n",
              "          'efeito': 29,\n",
              "          'dia': 92,\n",
              "          'manhã': 19,\n",
              "          'estando': 5,\n",
              "          'passear': 6,\n",
              "          'pendurou': 1,\n",
              "          'trapézio': 4,\n",
              "          'tinha': 129,\n",
              "          'cérebro': 16,\n",
              "          'Uma': 28,\n",
              "          'vez': 81,\n",
              "          'pendurada': 2,\n",
              "          'entrou': 24,\n",
              "          'bracejar': 1,\n",
              "          'pernear': 1,\n",
              "          'fazer': 34,\n",
              "          'arrojadas': 1,\n",
              "          'cabriolas': 3,\n",
              "          'volatim': 1,\n",
              "          'Eu': 60,\n",
              "          'contemplá': 3,\n",
              "          'Súbito': 4,\n",
              "          'deu': 31,\n",
              "          'grande': 64,\n",
              "          'salto': 4,\n",
              "          'estendeu': 6,\n",
              "          'braços': 23,\n",
              "          'pernas': 10,\n",
              "          'tomar': 4,\n",
              "          'X': 3,\n",
              "          'decifra': 1,\n",
              "          'devoro': 1,\n",
              "          'Essa': 5,\n",
              "          'nada': 114,\n",
              "          'invenção': 6,\n",
              "          'medicamento': 1,\n",
              "          'emplastro': 1,\n",
              "          'anti': 2,\n",
              "          'hipocondríaco': 1,\n",
              "          'destinado': 3,\n",
              "          'aliviar': 1,\n",
              "          'nossa': 46,\n",
              "          'melancólica': 1,\n",
              "          'Na': 14,\n",
              "          'petição': 1,\n",
              "          'privilégio': 1,\n",
              "          'então': 75,\n",
              "          'redigi': 1,\n",
              "          'chamei': 5,\n",
              "          'atenção': 12,\n",
              "          'governo': 9,\n",
              "          'resultado': 4,\n",
              "          'verdadeiramente': 9,\n",
              "          'cristão': 3,\n",
              "          'Todavia': 3,\n",
              "          'neguei': 1,\n",
              "          'vantagens': 6,\n",
              "          'pecuniárias': 1,\n",
              "          'deviam': 5,\n",
              "          'resultar': 1,\n",
              "          'distribuição': 2,\n",
              "          'produto': 3,\n",
              "          'tamanhos': 3,\n",
              "          'profundos': 1,\n",
              "          'efeitos': 5,\n",
              "          'porém': 33,\n",
              "          'estou': 14,\n",
              "          'lado': 26,\n",
              "          'posso': 15,\n",
              "          'confessar': 8,\n",
              "          'influiu': 1,\n",
              "          'principalmente': 11,\n",
              "          'gosto': 16,\n",
              "          'ver': 46,\n",
              "          'impressas': 1,\n",
              "          'nos': 130,\n",
              "          'jornais': 3,\n",
              "          'mostradores': 1,\n",
              "          'folhetos': 1,\n",
              "          'esquinas': 1,\n",
              "          'enfim': 39,\n",
              "          'caixinhas': 1,\n",
              "          'palavras': 28,\n",
              "          'Emplasto': 1,\n",
              "          'Para': 20,\n",
              "          'negá': 2,\n",
              "          'paixão': 15,\n",
              "          'arruído': 2,\n",
              "          'cartaz': 1,\n",
              "          'foguete': 1,\n",
              "          'lágrimas': 23,\n",
              "          'modestos': 1,\n",
              "          'argúam': 1,\n",
              "          'defeito': 5,\n",
              "          'fio': 5,\n",
              "          'talento': 5,\n",
              "          'hão': 3,\n",
              "          'reconhecer': 3,\n",
              "          'hábeis': 1,\n",
              "          'trazia': 20,\n",
              "          'faces': 2,\n",
              "          'medalhas': 1,\n",
              "          'virada': 1,\n",
              "          'outra': 109,\n",
              "          'mim': 100,\n",
              "          'filantropia': 2,\n",
              "          'lucro': 2,\n",
              "          'sede': 1,\n",
              "          'nomeada': 3,\n",
              "          'Digamos': 1,\n",
              "          'glória': 10,\n",
              "          'tio': 21,\n",
              "          'cônego': 8,\n",
              "          'prebenda': 1,\n",
              "          'inteira': 5,\n",
              "          'costumava': 5,\n",
              "          'temporal': 3,\n",
              "          'perdição': 1,\n",
              "          'almas': 3,\n",
              "          'só': 86,\n",
              "          'devem': 3,\n",
              "          'cobiçar': 1,\n",
              "          'eterna': 6,\n",
              "          'retorquia': 3,\n",
              "          'oficial': 6,\n",
              "          'antigos': 3,\n",
              "          'terços': 1,\n",
              "          'infantaria': 2,\n",
              "          'humana': 16,\n",
              "          'há': 79,\n",
              "          'homem': 106,\n",
              "          'conseguintemente': 6,\n",
              "          'genuína': 3,\n",
              "          'feição': 4,\n",
              "          'Decida': 1,\n",
              "          'militar': 2,\n",
              "          'volto': 3,\n",
              "          'emplasto': 12,\n",
              "          'III': 1,\n",
              "          'GENEALOGIA': 1,\n",
              "          'falei': 7,\n",
              "          'dois': 58,\n",
              "          'tios': 2,\n",
              "          'deixem': 1,\n",
              "          'aqui': 15,\n",
              "          'curto': 6,\n",
              "          'esboço': 1,\n",
              "          'genealógico': 1,\n",
              "          'fundador': 1,\n",
              "          'família': 28,\n",
              "          'Damião': 5,\n",
              "          'floresceu': 1,\n",
              "          'metade': 2,\n",
              "          'século': 10,\n",
              "          'XVIII': 2,\n",
              "          'Era': 78,\n",
              "          'tanoeiro': 3,\n",
              "          'ofício': 12,\n",
              "          'natural': 17,\n",
              "          'onde': 31,\n",
              "          'teria': 10,\n",
              "          'morrido': 2,\n",
              "          'penúria': 1,\n",
              "          'obscuridade': 2,\n",
              "          'somente': 19,\n",
              "          'exercesse': 1,\n",
              "          'tanoaria': 4,\n",
              "          'fez': 27,\n",
              "          'lavrador': 1,\n",
              "          'plantou': 1,\n",
              "          'colheu': 2,\n",
              "          'permutou': 1,\n",
              "          'boas': 7,\n",
              "          'honradas': 1,\n",
              "          'patacas': 1,\n",
              "          'morreu': 16,\n",
              "          'deixando': 5,\n",
              "          'grosso': 3,\n",
              "          'cabedal': 1,\n",
              "          'filho': 25,\n",
              "          'licenciado': 1,\n",
              "          'Luís': 10,\n",
              "          'Neste': 5,\n",
              "          'rapaz': 6,\n",
              "          'começa': 2,\n",
              "          'série': 2,\n",
              "          'avós': 3,\n",
              "          'sempre': 29,\n",
              "          'confessou': 9,\n",
              "          'porque': 105,\n",
              "          'afinal': 5,\n",
              "          'contas': 5,\n",
              "          'talvez': 48,\n",
              "          'mau': 5,\n",
              "          'estudou': 1,\n",
              "          'Coimbra': 5,\n",
              "          'primou': 1,\n",
              "          'Estado': 5,\n",
              "          'particulares': 7,\n",
              "          'vice': 2,\n",
              "          'rei': 6,\n",
              "          'Conde': 4,\n",
              "          'Cunha': 2,\n",
              "          'Como': 23,\n",
              "          'apelido': 2,\n",
              "          'cheirasse': 1,\n",
              "          'excessivamente': 1,\n",
              "          'alegava': 1,\n",
              "          'pai': 78,\n",
              "          'bisneto': 1,\n",
              "          'dito': 12,\n",
              "          'cavaleiro': 1,\n",
              "          'herói': 2,\n",
              "          'jornadas': 1,\n",
              "          'prêmio': 3,\n",
              "          'façanha': 1,\n",
              "          'praticou': 2,\n",
              "          'arrebatando': 1,\n",
              "          'trezentas': 2,\n",
              "          'cubas': 2,\n",
              "          'mouros': 1,\n",
              "          'Meu': 39,\n",
              "          'escapou': 5,\n",
              "          'asas': 10,\n",
              "          'calembour': 1,\n",
              "          'bom': 22,\n",
              "          'caráter': 4,\n",
              "          'varão': 2,\n",
              "          'digno': 7,\n",
              "          'leal': 1,\n",
              "          'poucos': 6,\n",
              "          'fumos': 2,\n",
              "          'pacholice': 1,\n",
              "          'pachola': 1,\n",
              "          'nesse': 18,\n",
              "          'Releva': 1,\n",
              "          'notar': 4,\n",
              "          'recorreu': 1,\n",
              "          'inventiva': 1,\n",
              "          'senão': 23,\n",
              "          'depois': 150,\n",
              "          'experimentar': 1,\n",
              "          'falsificação': 1,\n",
              "          'primeiramente': 3,\n",
              "          'entroncou': 1,\n",
              "          'daquele': 19,\n",
              "          'famoso': 5,\n",
              "          'homônimo': 1,\n",
              "          'capitão': 17,\n",
              "          'mor': 7,\n",
              "          'fundou': 1,\n",
              "          'vila': 1,\n",
              "          'São': 17,\n",
              "          'Vicente': 1,\n",
              "          '1592': 1,\n",
              "          'motivo': 15,\n",
              "          'nome': 24,\n",
              "          'Opôs': 1,\n",
              "          'imaginou': 1,\n",
              "          'mouriscas': 1,\n",
              "          'Vivem': 1,\n",
              "          'alguns': 69,\n",
              "          'membros': 2,\n",
              "          'sobrinha': 5,\n",
              "          'Venância': 2,\n",
              "          'exemplo': 22,\n",
              "          'flor': 31,\n",
              "          'vive': 1,\n",
              "          'sujeito': 20,\n",
              "          'antecipemos': 1,\n",
              "          'sucessos': 4,\n",
              "          'acabemos': 2,\n",
              "          'IV': 1,\n",
              "          'IDÉIA': 1,\n",
              "          'FIXA': 1,\n",
              "          'tantas': 7,\n",
              "          'constituíra': 1,\n",
              "          'fixa': 9,\n",
              "          'Deus': 23,\n",
              "          'antes': 35,\n",
              "          'argueiro': 1,\n",
              "          'trave': 1,\n",
              "          'olho': 4,\n",
              "          'Vê': 3,\n",
              "          'Cavour': 1,\n",
              "          'unidade': 2,\n",
              "          'italiana': 2,\n",
              "          'matou': 4,\n",
              "          'Bismarck': 1,\n",
              "          'cumpre': 2,\n",
              "          'advertir': 1,\n",
              "          'caprichosa': 1,\n",
              "          'história': 15,\n",
              "          'loureira': 1,\n",
              "          'Por': 20,\n",
              "          'Suetônio': 3,\n",
              "          'Cláudio': 1,\n",
              "          'simplório': 1,\n",
              "          'abóbora': 2,\n",
              "          '\\x94': 9,\n",
              "          'chamou': 9,\n",
              "          'Sêneca': 3,\n",
              "          'Tito': 1,\n",
              "          'mereceu': 1,\n",
              "          'delícias': 4,\n",
              "          'Roma': 2,\n",
              "          'Veio': 7,\n",
              "          'modernamente': 1,\n",
              "          'professor': 1,\n",
              "          'achou': 11,\n",
              "          'meio': 33,\n",
              "          'demonstrar': 1,\n",
              "          'césares': 1,\n",
              "          'delicioso': 5,\n",
              "          'verdadeiro': 7,\n",
              "          'tu': 40,\n",
              "          'madama': 1,\n",
              "          'Lucrécia': 1,\n",
              "          'Bórgias': 1,\n",
              "          'poeta': 12,\n",
              "          'Messalina': 1,\n",
              "          'católica': 1,\n",
              "          'apareceu': 9,\n",
              "          'Gregorovius': 1,\n",
              "          'incrédulo': 3,\n",
              "          'apagou': 1,\n",
              "          'qualidade': 2,\n",
              "          'vieste': 2,\n",
              "          'ficaste': 1,\n",
              "          'pântano': 2,\n",
              "          'deixo': 3,\n",
              "          'sábio': 1,\n",
              "          'Viva': 2,\n",
              "          'pois': 4,\n",
              "          'volúvel': 2,\n",
              "          'dá': 15,\n",
              "          'tornando': 3,\n",
              "          'ela': 134,\n",
              "          'varões': 2,\n",
              "          'fortes': 6,\n",
              "          'doidos': 3,\n",
              "          'móbil': 2,\n",
              "          'furta': 1,\n",
              "          'cor': 10,\n",
              "          'Cláudios': 1,\n",
              "          'fórmula': 7,\n",
              "          'ocorre': 3,\n",
              "          'assaz': 8,\n",
              "          'fixo': 3,\n",
              "          'lua': 6,\n",
              "          'pirâmides': 1,\n",
              "          'Egito': 1,\n",
              "          ...})"
            ]
          },
          "metadata": {
            "tags": []
          },
          "execution_count": 8
        }
      ]
    },
    {
      "cell_type": "code",
      "metadata": {
        "id": "AebBtit62eyY"
      },
      "source": [
        "words_machado = machado.words('romance/marm05.txt')"
      ],
      "execution_count": null,
      "outputs": []
    },
    {
      "cell_type": "code",
      "metadata": {
        "colab": {
          "base_uri": "https://localhost:8080/"
        },
        "id": "uT2FwT9U2o2M",
        "outputId": "9753fcf7-d2bc-425a-eb9c-dfe891c94a33"
      },
      "source": [
        "words_machado"
      ],
      "execution_count": null,
      "outputs": [
        {
          "output_type": "execute_result",
          "data": {
            "text/plain": [
              "['Romance', ',', 'Memórias', 'Póstumas', 'de', 'Brás', ...]"
            ]
          },
          "metadata": {
            "tags": []
          },
          "execution_count": 10
        }
      ]
    },
    {
      "cell_type": "code",
      "metadata": {
        "colab": {
          "base_uri": "https://localhost:8080/"
        },
        "id": "PPBz4lpU3QUm",
        "outputId": "de6fb327-3d84-43db-8af2-cdbf5d86bf2a"
      },
      "source": [
        "len(words_machado)"
      ],
      "execution_count": null,
      "outputs": [
        {
          "output_type": "execute_result",
          "data": {
            "text/plain": [
              "77098"
            ]
          },
          "metadata": {
            "tags": []
          },
          "execution_count": 11
        }
      ]
    },
    {
      "cell_type": "code",
      "metadata": {
        "colab": {
          "base_uri": "https://localhost:8080/"
        },
        "id": "PgUxu1b-3EyZ",
        "outputId": "c0d1a53f-47df-4ac8-8596-f0961fc99db8"
      },
      "source": [
        "nltk.download('punkt')"
      ],
      "execution_count": null,
      "outputs": [
        {
          "output_type": "stream",
          "text": [
            "[nltk_data] Downloading package punkt to /root/nltk_data...\n",
            "[nltk_data]   Unzipping tokenizers/punkt.zip.\n"
          ],
          "name": "stdout"
        },
        {
          "output_type": "execute_result",
          "data": {
            "text/plain": [
              "True"
            ]
          },
          "metadata": {
            "tags": []
          },
          "execution_count": 12
        }
      ]
    },
    {
      "cell_type": "code",
      "metadata": {
        "id": "aBtact_K2suE"
      },
      "source": [
        "sents_machado = machado.sents('romance/marm05.txt')"
      ],
      "execution_count": null,
      "outputs": []
    },
    {
      "cell_type": "code",
      "metadata": {
        "colab": {
          "base_uri": "https://localhost:8080/"
        },
        "id": "jn3uz4pH3BY3",
        "outputId": "f90fb3e4-0550-4814-c75a-67d3c1823a70"
      },
      "source": [
        "len(sents_machado)"
      ],
      "execution_count": null,
      "outputs": [
        {
          "output_type": "execute_result",
          "data": {
            "text/plain": [
              "3822"
            ]
          },
          "metadata": {
            "tags": []
          },
          "execution_count": 14
        }
      ]
    },
    {
      "cell_type": "code",
      "metadata": {
        "colab": {
          "base_uri": "https://localhost:8080/"
        },
        "id": "R6pwt4zZ20BH",
        "outputId": "0170e22b-08ba-4d97-a398-752b8fe41483"
      },
      "source": [
        "sents_machado"
      ],
      "execution_count": null,
      "outputs": [
        {
          "output_type": "execute_result",
          "data": {
            "text/plain": [
              "[['Romance', ',', 'Memórias', 'Póstumas', 'de', 'Brás', 'Cubas', ',', '1880'], ['Memórias', 'Póstumas', 'de', 'Brás', 'Cubas'], ...]"
            ]
          },
          "metadata": {
            "tags": []
          },
          "execution_count": 15
        }
      ]
    },
    {
      "cell_type": "code",
      "metadata": {
        "id": "-sh_nimu3q5X"
      },
      "source": [
        "texto = 'Existem teorias que defendem que antes das explorações do Império Português, houve duas passagens de espanhóis pelo litoral da atual Fortaleza. Os navegadores Vicente Yáñez Pinzón e Diego de Lepe teriam desembarcado nas costas cearenses antes da viagem de Pedro Álvares Cabral ao Brasil em 1500, embora, na versão tradicional, o desembarque de Pinzón tenha se dado no Cabo de Santo Agostinho em Pernambuco. Pinzón teria chegado no cabo que se acredita ser o Mucuripe e Lepe aportado na barra do rio Ceará. Tais descobertas de território não poderiam ser oficializadas em decorrência do Tratado de Tordesilhas, de 1494. A chegada de Pinzón ao Mucuripe foi, por várias vezes, desconsiderada como um dos possíveis pontos de descobrimento pré-cabralino do país'"
      ],
      "execution_count": null,
      "outputs": []
    },
    {
      "cell_type": "code",
      "metadata": {
        "colab": {
          "base_uri": "https://localhost:8080/",
          "height": 86
        },
        "id": "r9B7rg-z3veV",
        "outputId": "ba35646a-c7ef-4cf7-aeaf-d12c62aa746a"
      },
      "source": [
        "texto"
      ],
      "execution_count": null,
      "outputs": [
        {
          "output_type": "execute_result",
          "data": {
            "application/vnd.google.colaboratory.intrinsic+json": {
              "type": "string"
            },
            "text/plain": [
              "'Existem teorias que defendem que antes das explorações do Império Português, houve duas passagens de espanhóis pelo litoral da atual Fortaleza. Os navegadores Vicente Yáñez Pinzón e Diego de Lepe teriam desembarcado nas costas cearenses antes da viagem de Pedro Álvares Cabral ao Brasil em 1500, embora, na versão tradicional, o desembarque de Pinzón tenha se dado no Cabo de Santo Agostinho em Pernambuco. Pinzón teria chegado no cabo que se acredita ser o Mucuripe e Lepe aportado na barra do rio Ceará. Tais descobertas de território não poderiam ser oficializadas em decorrência do Tratado de Tordesilhas, de 1494. A chegada de Pinzón ao Mucuripe foi, por várias vezes, desconsiderada como um dos possíveis pontos de descobrimento pré-cabralino do país'"
            ]
          },
          "metadata": {
            "tags": []
          },
          "execution_count": 17
        }
      ]
    },
    {
      "cell_type": "code",
      "metadata": {
        "id": "fyJJyX8E3yxH"
      },
      "source": [
        "from nltk import tokenize "
      ],
      "execution_count": null,
      "outputs": []
    },
    {
      "cell_type": "code",
      "metadata": {
        "id": "C8aQQqNk371j"
      },
      "source": [
        "palavras_tokenize = tokenize.word_tokenize(texto, language='portuguese')   "
      ],
      "execution_count": null,
      "outputs": []
    },
    {
      "cell_type": "code",
      "metadata": {
        "colab": {
          "base_uri": "https://localhost:8080/"
        },
        "id": "XX9A7Jy24L22",
        "outputId": "abc20311-984c-4665-9a6c-fc45f96bc48f"
      },
      "source": [
        "palavras_tokenize"
      ],
      "execution_count": null,
      "outputs": [
        {
          "output_type": "execute_result",
          "data": {
            "text/plain": [
              "['Existem',\n",
              " 'teorias',\n",
              " 'que',\n",
              " 'defendem',\n",
              " 'que',\n",
              " 'antes',\n",
              " 'das',\n",
              " 'explorações',\n",
              " 'do',\n",
              " 'Império',\n",
              " 'Português',\n",
              " ',',\n",
              " 'houve',\n",
              " 'duas',\n",
              " 'passagens',\n",
              " 'de',\n",
              " 'espanhóis',\n",
              " 'pelo',\n",
              " 'litoral',\n",
              " 'da',\n",
              " 'atual',\n",
              " 'Fortaleza',\n",
              " '.',\n",
              " 'Os',\n",
              " 'navegadores',\n",
              " 'Vicente',\n",
              " 'Yáñez',\n",
              " 'Pinzón',\n",
              " 'e',\n",
              " 'Diego',\n",
              " 'de',\n",
              " 'Lepe',\n",
              " 'teriam',\n",
              " 'desembarcado',\n",
              " 'nas',\n",
              " 'costas',\n",
              " 'cearenses',\n",
              " 'antes',\n",
              " 'da',\n",
              " 'viagem',\n",
              " 'de',\n",
              " 'Pedro',\n",
              " 'Álvares',\n",
              " 'Cabral',\n",
              " 'ao',\n",
              " 'Brasil',\n",
              " 'em',\n",
              " '1500',\n",
              " ',',\n",
              " 'embora',\n",
              " ',',\n",
              " 'na',\n",
              " 'versão',\n",
              " 'tradicional',\n",
              " ',',\n",
              " 'o',\n",
              " 'desembarque',\n",
              " 'de',\n",
              " 'Pinzón',\n",
              " 'tenha',\n",
              " 'se',\n",
              " 'dado',\n",
              " 'no',\n",
              " 'Cabo',\n",
              " 'de',\n",
              " 'Santo',\n",
              " 'Agostinho',\n",
              " 'em',\n",
              " 'Pernambuco',\n",
              " '.',\n",
              " 'Pinzón',\n",
              " 'teria',\n",
              " 'chegado',\n",
              " 'no',\n",
              " 'cabo',\n",
              " 'que',\n",
              " 'se',\n",
              " 'acredita',\n",
              " 'ser',\n",
              " 'o',\n",
              " 'Mucuripe',\n",
              " 'e',\n",
              " 'Lepe',\n",
              " 'aportado',\n",
              " 'na',\n",
              " 'barra',\n",
              " 'do',\n",
              " 'rio',\n",
              " 'Ceará',\n",
              " '.',\n",
              " 'Tais',\n",
              " 'descobertas',\n",
              " 'de',\n",
              " 'território',\n",
              " 'não',\n",
              " 'poderiam',\n",
              " 'ser',\n",
              " 'oficializadas',\n",
              " 'em',\n",
              " 'decorrência',\n",
              " 'do',\n",
              " 'Tratado',\n",
              " 'de',\n",
              " 'Tordesilhas',\n",
              " ',',\n",
              " 'de',\n",
              " '1494',\n",
              " '.',\n",
              " 'A',\n",
              " 'chegada',\n",
              " 'de',\n",
              " 'Pinzón',\n",
              " 'ao',\n",
              " 'Mucuripe',\n",
              " 'foi',\n",
              " ',',\n",
              " 'por',\n",
              " 'várias',\n",
              " 'vezes',\n",
              " ',',\n",
              " 'desconsiderada',\n",
              " 'como',\n",
              " 'um',\n",
              " 'dos',\n",
              " 'possíveis',\n",
              " 'pontos',\n",
              " 'de',\n",
              " 'descobrimento',\n",
              " 'pré-cabralino',\n",
              " 'do',\n",
              " 'país']"
            ]
          },
          "metadata": {
            "tags": []
          },
          "execution_count": 20
        }
      ]
    },
    {
      "cell_type": "code",
      "metadata": {
        "id": "ZQQnv-AJ4Ynk"
      },
      "source": [
        "sentence_tokenize = tokenize.sent_tokenize(texto,language='portuguese')"
      ],
      "execution_count": null,
      "outputs": []
    },
    {
      "cell_type": "code",
      "metadata": {
        "colab": {
          "base_uri": "https://localhost:8080/"
        },
        "id": "XzaiSja14pwu",
        "outputId": "9f2dd188-6a9d-437c-d507-cf8e1dada7a8"
      },
      "source": [
        "sentence_tokenize"
      ],
      "execution_count": null,
      "outputs": [
        {
          "output_type": "execute_result",
          "data": {
            "text/plain": [
              "['Existem teorias que defendem que antes das explorações do Império Português, houve duas passagens de espanhóis pelo litoral da atual Fortaleza.',\n",
              " 'Os navegadores Vicente Yáñez Pinzón e Diego de Lepe teriam desembarcado nas costas cearenses antes da viagem de Pedro Álvares Cabral ao Brasil em 1500, embora, na versão tradicional, o desembarque de Pinzón tenha se dado no Cabo de Santo Agostinho em Pernambuco.',\n",
              " 'Pinzón teria chegado no cabo que se acredita ser o Mucuripe e Lepe aportado na barra do rio Ceará.',\n",
              " 'Tais descobertas de território não poderiam ser oficializadas em decorrência do Tratado de Tordesilhas, de 1494.',\n",
              " 'A chegada de Pinzón ao Mucuripe foi, por várias vezes, desconsiderada como um dos possíveis pontos de descobrimento pré-cabralino do país']"
            ]
          },
          "metadata": {
            "tags": []
          },
          "execution_count": 22
        }
      ]
    },
    {
      "cell_type": "code",
      "metadata": {
        "id": "zWSIO-YW4uLI"
      },
      "source": [
        "from nltk.corpus import stopwords"
      ],
      "execution_count": null,
      "outputs": []
    },
    {
      "cell_type": "code",
      "metadata": {
        "colab": {
          "base_uri": "https://localhost:8080/"
        },
        "id": "Uxess7z44z6P",
        "outputId": "4e4797d1-b7f7-439a-a2f0-19bf04b6da12"
      },
      "source": [
        "nltk.download('stopwords')"
      ],
      "execution_count": null,
      "outputs": [
        {
          "output_type": "stream",
          "text": [
            "[nltk_data] Downloading package stopwords to /root/nltk_data...\n",
            "[nltk_data]   Unzipping corpora/stopwords.zip.\n"
          ],
          "name": "stdout"
        },
        {
          "output_type": "execute_result",
          "data": {
            "text/plain": [
              "True"
            ]
          },
          "metadata": {
            "tags": []
          },
          "execution_count": 24
        }
      ]
    },
    {
      "cell_type": "code",
      "metadata": {
        "id": "eXsZ469X44Rg"
      },
      "source": [
        "lista_stop = stopwords.words('portuguese')"
      ],
      "execution_count": null,
      "outputs": []
    },
    {
      "cell_type": "code",
      "metadata": {
        "colab": {
          "base_uri": "https://localhost:8080/"
        },
        "id": "O6FhjjuB5Cju",
        "outputId": "8c06c91b-dc16-40f5-958b-5ebac7e0d4ca"
      },
      "source": [
        "lista_stop"
      ],
      "execution_count": null,
      "outputs": [
        {
          "output_type": "execute_result",
          "data": {
            "text/plain": [
              "['de',\n",
              " 'a',\n",
              " 'o',\n",
              " 'que',\n",
              " 'e',\n",
              " 'é',\n",
              " 'do',\n",
              " 'da',\n",
              " 'em',\n",
              " 'um',\n",
              " 'para',\n",
              " 'com',\n",
              " 'não',\n",
              " 'uma',\n",
              " 'os',\n",
              " 'no',\n",
              " 'se',\n",
              " 'na',\n",
              " 'por',\n",
              " 'mais',\n",
              " 'as',\n",
              " 'dos',\n",
              " 'como',\n",
              " 'mas',\n",
              " 'ao',\n",
              " 'ele',\n",
              " 'das',\n",
              " 'à',\n",
              " 'seu',\n",
              " 'sua',\n",
              " 'ou',\n",
              " 'quando',\n",
              " 'muito',\n",
              " 'nos',\n",
              " 'já',\n",
              " 'eu',\n",
              " 'também',\n",
              " 'só',\n",
              " 'pelo',\n",
              " 'pela',\n",
              " 'até',\n",
              " 'isso',\n",
              " 'ela',\n",
              " 'entre',\n",
              " 'depois',\n",
              " 'sem',\n",
              " 'mesmo',\n",
              " 'aos',\n",
              " 'seus',\n",
              " 'quem',\n",
              " 'nas',\n",
              " 'me',\n",
              " 'esse',\n",
              " 'eles',\n",
              " 'você',\n",
              " 'essa',\n",
              " 'num',\n",
              " 'nem',\n",
              " 'suas',\n",
              " 'meu',\n",
              " 'às',\n",
              " 'minha',\n",
              " 'numa',\n",
              " 'pelos',\n",
              " 'elas',\n",
              " 'qual',\n",
              " 'nós',\n",
              " 'lhe',\n",
              " 'deles',\n",
              " 'essas',\n",
              " 'esses',\n",
              " 'pelas',\n",
              " 'este',\n",
              " 'dele',\n",
              " 'tu',\n",
              " 'te',\n",
              " 'vocês',\n",
              " 'vos',\n",
              " 'lhes',\n",
              " 'meus',\n",
              " 'minhas',\n",
              " 'teu',\n",
              " 'tua',\n",
              " 'teus',\n",
              " 'tuas',\n",
              " 'nosso',\n",
              " 'nossa',\n",
              " 'nossos',\n",
              " 'nossas',\n",
              " 'dela',\n",
              " 'delas',\n",
              " 'esta',\n",
              " 'estes',\n",
              " 'estas',\n",
              " 'aquele',\n",
              " 'aquela',\n",
              " 'aqueles',\n",
              " 'aquelas',\n",
              " 'isto',\n",
              " 'aquilo',\n",
              " 'estou',\n",
              " 'está',\n",
              " 'estamos',\n",
              " 'estão',\n",
              " 'estive',\n",
              " 'esteve',\n",
              " 'estivemos',\n",
              " 'estiveram',\n",
              " 'estava',\n",
              " 'estávamos',\n",
              " 'estavam',\n",
              " 'estivera',\n",
              " 'estivéramos',\n",
              " 'esteja',\n",
              " 'estejamos',\n",
              " 'estejam',\n",
              " 'estivesse',\n",
              " 'estivéssemos',\n",
              " 'estivessem',\n",
              " 'estiver',\n",
              " 'estivermos',\n",
              " 'estiverem',\n",
              " 'hei',\n",
              " 'há',\n",
              " 'havemos',\n",
              " 'hão',\n",
              " 'houve',\n",
              " 'houvemos',\n",
              " 'houveram',\n",
              " 'houvera',\n",
              " 'houvéramos',\n",
              " 'haja',\n",
              " 'hajamos',\n",
              " 'hajam',\n",
              " 'houvesse',\n",
              " 'houvéssemos',\n",
              " 'houvessem',\n",
              " 'houver',\n",
              " 'houvermos',\n",
              " 'houverem',\n",
              " 'houverei',\n",
              " 'houverá',\n",
              " 'houveremos',\n",
              " 'houverão',\n",
              " 'houveria',\n",
              " 'houveríamos',\n",
              " 'houveriam',\n",
              " 'sou',\n",
              " 'somos',\n",
              " 'são',\n",
              " 'era',\n",
              " 'éramos',\n",
              " 'eram',\n",
              " 'fui',\n",
              " 'foi',\n",
              " 'fomos',\n",
              " 'foram',\n",
              " 'fora',\n",
              " 'fôramos',\n",
              " 'seja',\n",
              " 'sejamos',\n",
              " 'sejam',\n",
              " 'fosse',\n",
              " 'fôssemos',\n",
              " 'fossem',\n",
              " 'for',\n",
              " 'formos',\n",
              " 'forem',\n",
              " 'serei',\n",
              " 'será',\n",
              " 'seremos',\n",
              " 'serão',\n",
              " 'seria',\n",
              " 'seríamos',\n",
              " 'seriam',\n",
              " 'tenho',\n",
              " 'tem',\n",
              " 'temos',\n",
              " 'tém',\n",
              " 'tinha',\n",
              " 'tínhamos',\n",
              " 'tinham',\n",
              " 'tive',\n",
              " 'teve',\n",
              " 'tivemos',\n",
              " 'tiveram',\n",
              " 'tivera',\n",
              " 'tivéramos',\n",
              " 'tenha',\n",
              " 'tenhamos',\n",
              " 'tenham',\n",
              " 'tivesse',\n",
              " 'tivéssemos',\n",
              " 'tivessem',\n",
              " 'tiver',\n",
              " 'tivermos',\n",
              " 'tiverem',\n",
              " 'terei',\n",
              " 'terá',\n",
              " 'teremos',\n",
              " 'terão',\n",
              " 'teria',\n",
              " 'teríamos',\n",
              " 'teriam']"
            ]
          },
          "metadata": {
            "tags": []
          },
          "execution_count": 26
        }
      ]
    },
    {
      "cell_type": "code",
      "metadata": {
        "colab": {
          "base_uri": "https://localhost:8080/"
        },
        "id": "mXmTd7nZ6PPX",
        "outputId": "4025dda5-b5ba-4cb2-8cc9-c3adad96348e"
      },
      "source": [
        "nltk.download('rslp')"
      ],
      "execution_count": null,
      "outputs": [
        {
          "output_type": "stream",
          "text": [
            "[nltk_data] Downloading package rslp to /root/nltk_data...\n",
            "[nltk_data]   Unzipping stemmers/rslp.zip.\n"
          ],
          "name": "stdout"
        },
        {
          "output_type": "execute_result",
          "data": {
            "text/plain": [
              "True"
            ]
          },
          "metadata": {
            "tags": []
          },
          "execution_count": 27
        }
      ]
    },
    {
      "cell_type": "code",
      "metadata": {
        "id": "6kyctWJv6W7C"
      },
      "source": [
        "stemmer = nltk.stem.RSLPStemmer()"
      ],
      "execution_count": null,
      "outputs": []
    },
    {
      "cell_type": "code",
      "metadata": {
        "colab": {
          "base_uri": "https://localhost:8080/",
          "height": 35
        },
        "id": "I1DYI53k6dwb",
        "outputId": "95294205-bdc9-48b1-a9e5-827e76719773"
      },
      "source": [
        "stemmer.stem('copiar')"
      ],
      "execution_count": null,
      "outputs": [
        {
          "output_type": "execute_result",
          "data": {
            "application/vnd.google.colaboratory.intrinsic+json": {
              "type": "string"
            },
            "text/plain": [
              "'copi'"
            ]
          },
          "metadata": {
            "tags": []
          },
          "execution_count": 29
        }
      ]
    },
    {
      "cell_type": "code",
      "metadata": {
        "colab": {
          "base_uri": "https://localhost:8080/",
          "height": 35
        },
        "id": "mQISGYnx6mOv",
        "outputId": "2f176580-7cfe-47f7-88e9-ffff0ac7f815"
      },
      "source": [
        "stemmer.stem('casar')"
      ],
      "execution_count": null,
      "outputs": [
        {
          "output_type": "execute_result",
          "data": {
            "application/vnd.google.colaboratory.intrinsic+json": {
              "type": "string"
            },
            "text/plain": [
              "'cas'"
            ]
          },
          "metadata": {
            "tags": []
          },
          "execution_count": 30
        }
      ]
    },
    {
      "cell_type": "code",
      "metadata": {
        "colab": {
          "base_uri": "https://localhost:8080/"
        },
        "id": "NnOHfXx96u--",
        "outputId": "300b40eb-56b5-4570-eff2-846050b1fc9d"
      },
      "source": [
        "for words in palavras_tokenize:\n",
        "  print(stemmer.stem(words))"
      ],
      "execution_count": null,
      "outputs": [
        {
          "output_type": "stream",
          "text": [
            "exist\n",
            "teor\n",
            "que\n",
            "defend\n",
            "que\n",
            "ant\n",
            "da\n",
            "explor\n",
            "do\n",
            "impéri\n",
            "portugu\n",
            ",\n",
            "houv\n",
            "dua\n",
            "pass\n",
            "de\n",
            "espanhol\n",
            "pel\n",
            "litor\n",
            "da\n",
            "atual\n",
            "fortal\n",
            ".\n",
            "os\n",
            "naveg\n",
            "vicent\n",
            "yáñez\n",
            "pinzón\n",
            "e\n",
            "dieg\n",
            "de\n",
            "lep\n",
            "ter\n",
            "desembarc\n",
            "na\n",
            "cost\n",
            "cearens\n",
            "ant\n",
            "da\n",
            "viag\n",
            "de\n",
            "pedr\n",
            "álv\n",
            "cabr\n",
            "ao\n",
            "brasil\n",
            "em\n",
            "1500\n",
            ",\n",
            "emb\n",
            ",\n",
            "na\n",
            "vers\n",
            "tradic\n",
            ",\n",
            "o\n",
            "desembarqu\n",
            "de\n",
            "pinzón\n",
            "tenh\n",
            "se\n",
            "dad\n",
            "no\n",
            "cab\n",
            "de\n",
            "sant\n",
            "agost\n",
            "em\n",
            "pernambuc\n",
            ".\n",
            "pinzón\n",
            "ter\n",
            "cheg\n",
            "no\n",
            "cab\n",
            "que\n",
            "se\n",
            "acredit\n",
            "ser\n",
            "o\n",
            "mucurip\n",
            "e\n",
            "lep\n",
            "aport\n",
            "na\n",
            "barr\n",
            "do\n",
            "rio\n",
            "ce\n",
            ".\n",
            "tal\n",
            "descobert\n",
            "de\n",
            "territóri\n",
            "não\n",
            "pod\n",
            "ser\n",
            "ofici\n",
            "em\n",
            "decorr\n",
            "do\n",
            "trat\n",
            "de\n",
            "tordesilh\n",
            ",\n",
            "de\n",
            "1494\n",
            ".\n",
            "a\n",
            "cheg\n",
            "de\n",
            "pinzón\n",
            "ao\n",
            "mucurip\n",
            "foi\n",
            ",\n",
            "por\n",
            "vár\n",
            "vez\n",
            ",\n",
            "desconsider\n",
            "com\n",
            "um\n",
            "do\n",
            "possível\n",
            "pont\n",
            "de\n",
            "descobr\n",
            "pré-cabralin\n",
            "do\n",
            "país\n"
          ],
          "name": "stdout"
        }
      ]
    },
    {
      "cell_type": "code",
      "metadata": {
        "id": "B2g20k-Y7mDX"
      },
      "source": [
        "import joblib"
      ],
      "execution_count": null,
      "outputs": []
    },
    {
      "cell_type": "code",
      "metadata": {
        "id": "LNHrQ5QR7xOz",
        "colab": {
          "base_uri": "https://localhost:8080/",
          "height": 282
        },
        "outputId": "32a0445b-d5dc-4454-8b37-56bbf7011fbd"
      },
      "source": [
        "tagger = joblib.load('POS_tagger_brill.pkl')"
      ],
      "execution_count": null,
      "outputs": [
        {
          "output_type": "error",
          "ename": "FileNotFoundError",
          "evalue": "ignored",
          "traceback": [
            "\u001b[0;31m---------------------------------------------------------------------------\u001b[0m",
            "\u001b[0;31mFileNotFoundError\u001b[0m                         Traceback (most recent call last)",
            "\u001b[0;32m<ipython-input-33-7a0eac2b0f6d>\u001b[0m in \u001b[0;36m<module>\u001b[0;34m()\u001b[0m\n\u001b[0;32m----> 1\u001b[0;31m \u001b[0mtagger\u001b[0m \u001b[0;34m=\u001b[0m \u001b[0mjoblib\u001b[0m\u001b[0;34m.\u001b[0m\u001b[0mload\u001b[0m\u001b[0;34m(\u001b[0m\u001b[0;34m'POS_tagger_brill.pkl'\u001b[0m\u001b[0;34m)\u001b[0m\u001b[0;34m\u001b[0m\u001b[0;34m\u001b[0m\u001b[0m\n\u001b[0m",
            "\u001b[0;32m/usr/local/lib/python3.6/dist-packages/joblib/numpy_pickle.py\u001b[0m in \u001b[0;36mload\u001b[0;34m(filename, mmap_mode)\u001b[0m\n\u001b[1;32m    575\u001b[0m             \u001b[0mobj\u001b[0m \u001b[0;34m=\u001b[0m \u001b[0m_unpickle\u001b[0m\u001b[0;34m(\u001b[0m\u001b[0mfobj\u001b[0m\u001b[0;34m)\u001b[0m\u001b[0;34m\u001b[0m\u001b[0;34m\u001b[0m\u001b[0m\n\u001b[1;32m    576\u001b[0m     \u001b[0;32melse\u001b[0m\u001b[0;34m:\u001b[0m\u001b[0;34m\u001b[0m\u001b[0;34m\u001b[0m\u001b[0m\n\u001b[0;32m--> 577\u001b[0;31m         \u001b[0;32mwith\u001b[0m \u001b[0mopen\u001b[0m\u001b[0;34m(\u001b[0m\u001b[0mfilename\u001b[0m\u001b[0;34m,\u001b[0m \u001b[0;34m'rb'\u001b[0m\u001b[0;34m)\u001b[0m \u001b[0;32mas\u001b[0m \u001b[0mf\u001b[0m\u001b[0;34m:\u001b[0m\u001b[0;34m\u001b[0m\u001b[0;34m\u001b[0m\u001b[0m\n\u001b[0m\u001b[1;32m    578\u001b[0m             \u001b[0;32mwith\u001b[0m \u001b[0m_read_fileobject\u001b[0m\u001b[0;34m(\u001b[0m\u001b[0mf\u001b[0m\u001b[0;34m,\u001b[0m \u001b[0mfilename\u001b[0m\u001b[0;34m,\u001b[0m \u001b[0mmmap_mode\u001b[0m\u001b[0;34m)\u001b[0m \u001b[0;32mas\u001b[0m \u001b[0mfobj\u001b[0m\u001b[0;34m:\u001b[0m\u001b[0;34m\u001b[0m\u001b[0;34m\u001b[0m\u001b[0m\n\u001b[1;32m    579\u001b[0m                 \u001b[0;32mif\u001b[0m \u001b[0misinstance\u001b[0m\u001b[0;34m(\u001b[0m\u001b[0mfobj\u001b[0m\u001b[0;34m,\u001b[0m \u001b[0mstr\u001b[0m\u001b[0;34m)\u001b[0m\u001b[0;34m:\u001b[0m\u001b[0;34m\u001b[0m\u001b[0;34m\u001b[0m\u001b[0m\n",
            "\u001b[0;31mFileNotFoundError\u001b[0m: [Errno 2] No such file or directory: 'POS_tagger_brill.pkl'"
          ]
        }
      ]
    },
    {
      "cell_type": "code",
      "metadata": {
        "id": "dzMjRpDM8EIN"
      },
      "source": [
        "phrase = 'O rato roeu a roupa do rei de Roma'"
      ],
      "execution_count": null,
      "outputs": []
    },
    {
      "cell_type": "code",
      "metadata": {
        "id": "ohCZp6v98H6o"
      },
      "source": [
        "phrase"
      ],
      "execution_count": null,
      "outputs": []
    },
    {
      "cell_type": "code",
      "metadata": {
        "id": "J2R3ECeS8KsI"
      },
      "source": [
        "tagger.tag(tokenize.word_tokenize(phrase))"
      ],
      "execution_count": null,
      "outputs": []
    },
    {
      "cell_type": "code",
      "metadata": {
        "id": "9fIDEPoL86Qg"
      },
      "source": [
        "tagger.tag(tokenize.word_tokenize(sentence_tokenize[0]))"
      ],
      "execution_count": null,
      "outputs": []
    },
    {
      "cell_type": "code",
      "metadata": {
        "id": "IYqaHNk8KGt8"
      },
      "source": [
        "import pandas as pd\n",
        "import altair as alt"
      ],
      "execution_count": null,
      "outputs": []
    },
    {
      "cell_type": "code",
      "metadata": {
        "id": "pShta01bK-Vy"
      },
      "source": [
        "url_df = 'belchior.csv'\n",
        "df = pd.read_csv(url_df)"
      ],
      "execution_count": null,
      "outputs": []
    },
    {
      "cell_type": "code",
      "metadata": {
        "id": "whKr_k7tLOL3"
      },
      "source": [
        "df.head()"
      ],
      "execution_count": null,
      "outputs": []
    },
    {
      "cell_type": "code",
      "metadata": {
        "id": "CcWiDM6kMGZG"
      },
      "source": [
        "len(df)"
      ],
      "execution_count": null,
      "outputs": []
    },
    {
      "cell_type": "code",
      "metadata": {
        "id": "4OiJ0MWAMMRF"
      },
      "source": [
        "pts = alt.selection(type=\"interval\", encodings=[\"x\"])\n",
        "\n",
        "rowbars = alt.Chart(df).mark_bar().encode(\n",
        "    x='tamanho:Q',\n",
        "    y= alt.Y('titulo:O', sort = alt.EncodingSortField(field=\"tamanho\", order='descending')),   \n",
        "    color = 'maisTocada:O',\n",
        "    tooltip=['titulo', 'tamanho', 'keywords','letra']\n",
        ").transform_filter(\n",
        "    pts\n",
        ").properties(    \n",
        "    height=700,\n",
        "    width = 300,\n",
        "    title = 'Quantidade de palavras por música'\n",
        ")\n",
        "\n",
        "\n",
        "hist = alt.Chart(df).mark_bar().encode(\n",
        "    x = alt.X('hbin:N',title='Quantidade de palavras'),\n",
        "    y = alt.Y('count()',title='Contagem'),\n",
        "    tooltip = [alt.Tooltip('count():Q', title='Contagem de letras'),\n",
        "               alt.Tooltip('mbin:N', title='Quantidade de palavras')],\n",
        "    color = alt.condition(pts, alt.value(\"steelblue\"), alt.value(\"lightgray\"))\n",
        ").properties(\n",
        "    height = 320,\n",
        "    width = 320,\n",
        "    title = 'Histograma da quantidade de palavras por música'\n",
        ").add_selection(pts)\n",
        "\n",
        "hconcat = alt.hconcat(\n",
        "    rowbars,\n",
        "    hist,\n",
        "    data=df\n",
        ").transform_bin(\n",
        "    \"hbin\",\n",
        "    field=\"tamanho\",\n",
        "    bin=alt.Bin(maxbins=50)\n",
        ")\n",
        "\n",
        "#hconcat = rowbars | hist\n",
        "\n",
        "hconcat.save('1_tamanho_musicas.html')\n",
        "hconcat"
      ],
      "execution_count": null,
      "outputs": []
    },
    {
      "cell_type": "code",
      "metadata": {
        "id": "Oo5g_-eRN1D3"
      },
      "source": [
        "url_df_freq = 'belchior_dist_freq.csv'\n",
        "df_freq = pd.read_csv(url_df_freq)\n",
        "df_freq = df_freq.sort_values(by='frequencia',ascending=False)\n",
        "df_freq.head()"
      ],
      "execution_count": null,
      "outputs": []
    },
    {
      "cell_type": "code",
      "metadata": {
        "id": "FE7m3-8SOG-w"
      },
      "source": [
        "df_freq50 = df_freq[0:50]\n",
        "\n",
        "wordfreq = alt.Chart(df_freq50).mark_bar().encode(\n",
        "    y='frequencia:Q',\n",
        "    x= alt.X('termo:O', sort = alt.EncodingSortField(field=\"frequencia\", order='descending')),\n",
        "    color = alt.value('steelblue'),\n",
        "    tooltip=[\n",
        "        'termo:O',\n",
        "        'frequencia:Q',\n",
        "        alt.Tooltip('musicas:O', title='Letras onde o termo ocorre')\n",
        "    ]\n",
        ").properties(    \n",
        "    height=300,\n",
        "    width = 850,\n",
        "    title = '50 termos mais frequentes'\n",
        ")\n",
        "\n",
        "wordfreq.save('2_frequencia_termos.html')\n",
        "wordfreq"
      ],
      "execution_count": null,
      "outputs": []
    },
    {
      "cell_type": "code",
      "metadata": {
        "id": "-RU9NzEVOb8S"
      },
      "source": [
        "url_sim = 'belchior_similaridade.csv'"
      ],
      "execution_count": null,
      "outputs": []
    },
    {
      "cell_type": "code",
      "metadata": {
        "id": "EnFjv3JGOlU4"
      },
      "source": [
        "df_sim = pd.read_csv(url_sim)"
      ],
      "execution_count": null,
      "outputs": []
    },
    {
      "cell_type": "code",
      "metadata": {
        "id": "SB5dcKbGOmnL"
      },
      "source": [
        "df_sim.head()"
      ],
      "execution_count": null,
      "outputs": []
    },
    {
      "cell_type": "code",
      "metadata": {
        "id": "pAGmqAYqO_Yz"
      },
      "source": [
        "source = df_sim.melt(id_vars=['titulo'])"
      ],
      "execution_count": null,
      "outputs": []
    },
    {
      "cell_type": "code",
      "metadata": {
        "id": "IuEvOXLVPDQF"
      },
      "source": [
        "alt.data_transformers.disable_max_rows()"
      ],
      "execution_count": null,
      "outputs": []
    },
    {
      "cell_type": "code",
      "metadata": {
        "id": "JWc4aCM9PFYf"
      },
      "source": [
        "matrix_sim = alt.Chart(source).mark_rect().encode(\n",
        "    x='titulo:O',\n",
        "    y='variable:O',\n",
        "    color=alt.Color('value:Q', scale=alt.Scale(scheme=\"inferno\")),\n",
        "    tooltip=[\n",
        "        alt.Tooltip('variable:O', title='Letra A'),\n",
        "        alt.Tooltip('titulo:O', title='Letra B'),\n",
        "        alt.Tooltip('value:Q', title='Similaridade'),\n",
        "    ]\n",
        ").properties(    \n",
        "    width = 600,\n",
        "    height= 600,    \n",
        "    title = 'Matriz de similaridade entre letras'\n",
        ")\n",
        "matrix_sim.save('4_similaridade_musicas.html')\n",
        "matrix_sim"
      ],
      "execution_count": null,
      "outputs": []
    },
    {
      "cell_type": "code",
      "metadata": {
        "id": "hx5ceyS1P1Qj"
      },
      "source": [
        "from wordcloud import WordCloud, STOPWORDS, ImageColorGenerator"
      ],
      "execution_count": null,
      "outputs": []
    },
    {
      "cell_type": "code",
      "metadata": {
        "id": "SA1vnoVbP7Td"
      },
      "source": [
        "todas_keywords = ''\n",
        "for keyword in list(df['keywords']):\n",
        "    todas_keywords += keyword + ', '\n",
        "todas_keywords = todas_keywords[0:-2]\n",
        "todas_keywords"
      ],
      "execution_count": null,
      "outputs": []
    },
    {
      "cell_type": "code",
      "metadata": {
        "id": "5opW5eODQLup"
      },
      "source": [
        "def normalize_text(txt):\n",
        "    txt = txt.lower()\n",
        "    txt = txt.replace(',','')\n",
        "    txt = txt.replace(';','')\n",
        "    txt = txt.replace('.','')\n",
        "    #txt = txt.replace('\\'','')\n",
        "    txt = txt.replace('(','')\n",
        "    txt = txt.replace(')','')\n",
        "    txt = txt.replace(':','')\n",
        "    txt = txt.replace('!','')\n",
        "    txt = txt.replace('?','')\n",
        "    txt = txt.replace(\"\\\\\",\"\")\n",
        "    txt = txt.replace(\"\\\"\",\"\")\n",
        "    txt = txt.replace(\"`\",\"\")\n",
        "    txt = txt.replace('</p>','')\n",
        "    return txt"
      ],
      "execution_count": null,
      "outputs": []
    },
    {
      "cell_type": "code",
      "metadata": {
        "id": "VgX90_AMQavH"
      },
      "source": [
        "todas_letras = ' '.join(list(df['letra']))\n",
        "todas_letras = normalize_text(todas_letras)\n",
        "todas_letras"
      ],
      "execution_count": null,
      "outputs": []
    },
    {
      "cell_type": "code",
      "metadata": {
        "id": "vuaHSc4XQkgK"
      },
      "source": [
        "import matplotlib.pyplot as plt"
      ],
      "execution_count": null,
      "outputs": []
    },
    {
      "cell_type": "code",
      "metadata": {
        "id": "riJP6ensQtpo"
      },
      "source": [
        "wordcloud = WordCloud(background_color=\"white\",width = 800, height = 600).generate(todas_letras)\n",
        "wordcloud.to_file(\"wordcloud.png\")"
      ],
      "execution_count": null,
      "outputs": []
    },
    {
      "cell_type": "code",
      "metadata": {
        "id": "scAOqMVlRNeM"
      },
      "source": [
        "plt.figure(figsize=(15,10))\n",
        "plt.imshow(wordcloud, interpolation=\"bilinear\")\n",
        "plt.axis(\"off\")\n",
        "plt.show()"
      ],
      "execution_count": null,
      "outputs": []
    },
    {
      "cell_type": "code",
      "metadata": {
        "id": "qCc72l0ARmW1"
      },
      "source": [
        "brush = alt.selection(type='interval')\n",
        "\n",
        "pts = alt.selection(type=\"interval\", encodings=[\"x\"])\n",
        "\n",
        "points = alt.Chart(df).mark_circle().encode(\n",
        "    x='polaridade:Q',\n",
        "    y='subjetividade:Q',\n",
        "    color=alt.condition(brush, 'sentimento:N', alt.value('lightgray')),\n",
        "    tooltip=['titulo','polaridade','subjetividade','letra'],\n",
        "    size='tamanho:Q'\n",
        ").properties(    \n",
        "    title = 'Polaridade x Subjetividade'\n",
        ").add_selection(\n",
        "    brush\n",
        ").transform_filter(\n",
        "    pts\n",
        ")\n",
        "\n",
        "bars = alt.Chart(df).mark_bar().encode(\n",
        "    y=alt.Y('sentimento:N', title = 'Categorias'),\n",
        "    color='sentimento:N',\n",
        "    x=alt.X('count(sentimento):Q', title = 'Contagem'),\n",
        "    tooltip = [alt.Tooltip('count():Q', title='Contagem')],\n",
        ").properties(    \n",
        "    title = 'Categorias de Polaridade'\n",
        ").transform_filter(\n",
        "    brush\n",
        ").transform_filter(\n",
        "    pts\n",
        ")\n",
        "\n",
        "hist_pol = alt.Chart(df).mark_bar().encode(\n",
        "    x = alt.X(\"polaridade:Q\", bin=alt.Bin(maxbins=30),title = 'polaridade'),\n",
        "    y =alt.Y('count()',title='Contagem'),\n",
        "    tooltip = [alt.Tooltip('count():Q', title='Contagem')],\n",
        "    color = alt.condition(pts, 'sentimento:N', alt.value(\"lightgray\"))\n",
        ").properties(    \n",
        "    width = 320,\n",
        "    height = 200,\n",
        "    title = 'Histograma da polaridade'\n",
        ").add_selection(pts)\n",
        "\n",
        "\n",
        "hist_sub = alt.Chart(df).mark_bar().encode(\n",
        "    x = alt.X(\"subjetividade:Q\", bin=alt.Bin(maxbins=30),title = 'subjetividade'),\n",
        "    y =alt.Y('count()',title = 'Contagem'),\n",
        "    tooltip = [alt.Tooltip('count():Q', title='Contagem')],\n",
        "    color = alt.condition(pts, alt.value(\"lightblue\"), alt.value(\"lightgray\"))\n",
        ").properties(    \n",
        "    width = 320,\n",
        "    height = 200,\n",
        "    title = 'Histograma da subjetividade'\n",
        ").add_selection(pts)\n",
        "\n",
        "sent = alt.hconcat(\n",
        "    points & bars,\n",
        "    hist_pol & hist_sub,\n",
        "    data=df\n",
        ")\n",
        "\n",
        "pol = alt.Chart(df).mark_bar().encode(\n",
        "    y=\"polaridade:Q\",\n",
        "    x= alt.X(\"titulo:O\", sort = alt.EncodingSortField(field=\"polaridade\", order='descending')),\n",
        "    tooltip = ['titulo','polaridade','letra'],\n",
        "    color= 'sentimento'\n",
        ").properties(\n",
        "    width=800,\n",
        "    height = 300,\n",
        "    title = 'Polaridade das letras'\n",
        ").transform_filter(\n",
        "    pts\n",
        ")\n",
        "\n",
        "sent = ((points & bars) | (hist_sub & hist_pol)) & pol\n",
        "sent.properties(title = 'Análise de Sentimentos')\n",
        "sent.save('5_sentimentos.html')\n",
        "sent"
      ],
      "execution_count": null,
      "outputs": []
    }
  ]
}