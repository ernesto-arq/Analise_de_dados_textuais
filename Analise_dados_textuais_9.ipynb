{
  "nbformat": 4,
  "nbformat_minor": 0,
  "metadata": {
    "colab": {
      "name": "Analise_dados_textuais_9.ipynb",
      "provenance": [],
      "collapsed_sections": []
    },
    "kernelspec": {
      "name": "python3",
      "display_name": "Python 3"
    }
  },
  "cells": [
    {
      "cell_type": "code",
      "metadata": {
        "id": "UkXXb4PWoiw3"
      },
      "source": [
        "import nltk"
      ],
      "execution_count": null,
      "outputs": []
    },
    {
      "cell_type": "code",
      "metadata": {
        "colab": {
          "base_uri": "https://localhost:8080/"
        },
        "id": "nmB4kwYOuwUI",
        "outputId": "615d0ee2-499d-435f-f951-50b40d833798"
      },
      "source": [
        "nltk.download('gutenberg')"
      ],
      "execution_count": null,
      "outputs": [
        {
          "output_type": "stream",
          "text": [
            "[nltk_data] Downloading package gutenberg to /root/nltk_data...\n",
            "[nltk_data]   Unzipping corpora/gutenberg.zip.\n"
          ],
          "name": "stdout"
        },
        {
          "output_type": "execute_result",
          "data": {
            "text/plain": [
              "True"
            ]
          },
          "metadata": {
            "tags": []
          },
          "execution_count": 2
        }
      ]
    },
    {
      "cell_type": "code",
      "metadata": {
        "id": "TJ4OjLuNu8q2"
      },
      "source": [
        "alice = nltk.corpus.gutenberg.words('carroll-alice.txt')"
      ],
      "execution_count": null,
      "outputs": []
    },
    {
      "cell_type": "code",
      "metadata": {
        "colab": {
          "base_uri": "https://localhost:8080/"
        },
        "id": "Wst1U5xdvM6q",
        "outputId": "09111a29-4738-44be-f99b-acd6f6bd49c8"
      },
      "source": [
        "alice"
      ],
      "execution_count": null,
      "outputs": [
        {
          "output_type": "execute_result",
          "data": {
            "text/plain": [
              "['[', 'Alice', \"'\", 's', 'Adventures', 'in', ...]"
            ]
          },
          "metadata": {
            "tags": []
          },
          "execution_count": 4
        }
      ]
    },
    {
      "cell_type": "code",
      "metadata": {
        "id": "eVEfXxaEvXIl"
      },
      "source": [
        "alice_freq = nltk.FreqDist(alice)"
      ],
      "execution_count": null,
      "outputs": []
    },
    {
      "cell_type": "code",
      "metadata": {
        "colab": {
          "base_uri": "https://localhost:8080/"
        },
        "id": "FN1OT-ZzvnIl",
        "outputId": "1352e763-f939-4b48-f447-09543b054bb2"
      },
      "source": [
        "alice_freq"
      ],
      "execution_count": null,
      "outputs": [
        {
          "output_type": "execute_result",
          "data": {
            "text/plain": [
              "FreqDist({'[': 3,\n",
              "          'Alice': 396,\n",
              "          \"'\": 1731,\n",
              "          's': 195,\n",
              "          'Adventures': 3,\n",
              "          'in': 357,\n",
              "          'Wonderland': 3,\n",
              "          'by': 55,\n",
              "          'Lewis': 1,\n",
              "          'Carroll': 1,\n",
              "          '1865': 1,\n",
              "          ']': 1,\n",
              "          'CHAPTER': 12,\n",
              "          'I': 543,\n",
              "          '.': 764,\n",
              "          'Down': 3,\n",
              "          'the': 1527,\n",
              "          'Rabbit': 45,\n",
              "          '-': 141,\n",
              "          'Hole': 1,\n",
              "          'was': 352,\n",
              "          'beginning': 14,\n",
              "          'to': 725,\n",
              "          'get': 44,\n",
              "          'very': 126,\n",
              "          'tired': 7,\n",
              "          'of': 500,\n",
              "          'sitting': 10,\n",
              "          'her': 243,\n",
              "          'sister': 9,\n",
              "          'on': 189,\n",
              "          'bank': 3,\n",
              "          ',': 1993,\n",
              "          'and': 802,\n",
              "          'having': 10,\n",
              "          'nothing': 30,\n",
              "          'do': 68,\n",
              "          ':': 216,\n",
              "          'once': 31,\n",
              "          'or': 76,\n",
              "          'twice': 5,\n",
              "          'she': 509,\n",
              "          'had': 177,\n",
              "          'peeped': 3,\n",
              "          'into': 67,\n",
              "          'book': 11,\n",
              "          'reading': 3,\n",
              "          'but': 133,\n",
              "          'it': 527,\n",
              "          'no': 69,\n",
              "          'pictures': 4,\n",
              "          'conversations': 1,\n",
              "          'what': 93,\n",
              "          'is': 97,\n",
              "          'use': 18,\n",
              "          'a': 615,\n",
              "          \",'\": 397,\n",
              "          'thought': 74,\n",
              "          'without': 26,\n",
              "          'conversation': 10,\n",
              "          \"?'\": 154,\n",
              "          'So': 27,\n",
              "          'considering': 3,\n",
              "          'own': 10,\n",
              "          'mind': 9,\n",
              "          '(': 50,\n",
              "          'as': 246,\n",
              "          'well': 40,\n",
              "          'could': 73,\n",
              "          'for': 140,\n",
              "          'hot': 7,\n",
              "          'day': 29,\n",
              "          'made': 30,\n",
              "          'feel': 8,\n",
              "          'sleepy': 5,\n",
              "          'stupid': 5,\n",
              "          '),': 8,\n",
              "          'whether': 11,\n",
              "          'pleasure': 2,\n",
              "          'making': 8,\n",
              "          'daisy': 1,\n",
              "          'chain': 1,\n",
              "          'would': 70,\n",
              "          'be': 145,\n",
              "          'worth': 4,\n",
              "          'trouble': 6,\n",
              "          'getting': 22,\n",
              "          'up': 98,\n",
              "          'picking': 2,\n",
              "          'daisies': 1,\n",
              "          'when': 69,\n",
              "          'suddenly': 12,\n",
              "          'White': 22,\n",
              "          'with': 175,\n",
              "          'pink': 1,\n",
              "          'eyes': 29,\n",
              "          'ran': 16,\n",
              "          'close': 13,\n",
              "          'There': 33,\n",
              "          'so': 124,\n",
              "          'VERY': 13,\n",
              "          'remarkable': 2,\n",
              "          'that': 275,\n",
              "          ';': 186,\n",
              "          'nor': 2,\n",
              "          'did': 60,\n",
              "          'think': 50,\n",
              "          'much': 51,\n",
              "          'out': 116,\n",
              "          'way': 56,\n",
              "          'hear': 14,\n",
              "          'say': 51,\n",
              "          'itself': 14,\n",
              "          'Oh': 35,\n",
              "          'dear': 28,\n",
              "          '!': 155,\n",
              "          'shall': 23,\n",
              "          'late': 6,\n",
              "          \"!'\": 278,\n",
              "          'over': 40,\n",
              "          'afterwards': 2,\n",
              "          'occurred': 2,\n",
              "          'ought': 14,\n",
              "          'have': 73,\n",
              "          'wondered': 1,\n",
              "          'at': 202,\n",
              "          'this': 113,\n",
              "          'time': 68,\n",
              "          'all': 173,\n",
              "          'seemed': 27,\n",
              "          'quite': 53,\n",
              "          'natural': 4,\n",
              "          ');': 2,\n",
              "          'actually': 1,\n",
              "          'TOOK': 1,\n",
              "          'A': 17,\n",
              "          'WATCH': 1,\n",
              "          'OUT': 1,\n",
              "          'OF': 3,\n",
              "          'ITS': 1,\n",
              "          'WAISTCOAT': 1,\n",
              "          'POCKET': 1,\n",
              "          'looked': 45,\n",
              "          'then': 72,\n",
              "          'hurried': 11,\n",
              "          'started': 2,\n",
              "          'feet': 19,\n",
              "          'flashed': 1,\n",
              "          'across': 5,\n",
              "          'never': 42,\n",
              "          'before': 36,\n",
              "          'seen': 15,\n",
              "          'rabbit': 5,\n",
              "          'either': 9,\n",
              "          'waistcoat': 1,\n",
              "          'pocket': 6,\n",
              "          'watch': 7,\n",
              "          'take': 18,\n",
              "          'burning': 1,\n",
              "          'curiosity': 5,\n",
              "          'field': 1,\n",
              "          'after': 37,\n",
              "          'fortunately': 1,\n",
              "          'just': 45,\n",
              "          'see': 66,\n",
              "          'pop': 1,\n",
              "          'down': 99,\n",
              "          'large': 33,\n",
              "          'hole': 4,\n",
              "          'under': 16,\n",
              "          'hedge': 2,\n",
              "          'In': 11,\n",
              "          'another': 22,\n",
              "          'moment': 31,\n",
              "          'went': 83,\n",
              "          'how': 40,\n",
              "          'world': 7,\n",
              "          'again': 83,\n",
              "          'The': 108,\n",
              "          'straight': 2,\n",
              "          'like': 84,\n",
              "          'tunnel': 1,\n",
              "          'some': 48,\n",
              "          'dipped': 2,\n",
              "          'not': 129,\n",
              "          'about': 94,\n",
              "          'stopping': 1,\n",
              "          'herself': 83,\n",
              "          'found': 30,\n",
              "          'falling': 2,\n",
              "          'deep': 7,\n",
              "          'Either': 1,\n",
              "          'fell': 6,\n",
              "          'slowly': 8,\n",
              "          'plenty': 1,\n",
              "          'look': 28,\n",
              "          'wonder': 18,\n",
              "          'going': 27,\n",
              "          'happen': 8,\n",
              "          'next': 28,\n",
              "          'First': 7,\n",
              "          'tried': 19,\n",
              "          'make': 27,\n",
              "          'coming': 8,\n",
              "          'too': 25,\n",
              "          'dark': 3,\n",
              "          'anything': 19,\n",
              "          'sides': 4,\n",
              "          'noticed': 8,\n",
              "          'they': 129,\n",
              "          'were': 85,\n",
              "          'filled': 3,\n",
              "          'cupboards': 2,\n",
              "          'shelves': 2,\n",
              "          'here': 39,\n",
              "          'there': 65,\n",
              "          'saw': 14,\n",
              "          'maps': 1,\n",
              "          'hung': 1,\n",
              "          'upon': 26,\n",
              "          'pegs': 1,\n",
              "          'She': 39,\n",
              "          'took': 23,\n",
              "          'jar': 2,\n",
              "          'from': 34,\n",
              "          'one': 94,\n",
              "          'passed': 5,\n",
              "          'labelled': 1,\n",
              "          'ORANGE': 1,\n",
              "          'MARMALADE': 1,\n",
              "          \"',\": 2,\n",
              "          'great': 39,\n",
              "          'disappointment': 1,\n",
              "          'empty': 1,\n",
              "          'drop': 1,\n",
              "          'fear': 4,\n",
              "          'killing': 1,\n",
              "          'somebody': 5,\n",
              "          'managed': 4,\n",
              "          'put': 31,\n",
              "          'past': 3,\n",
              "          'Well': 23,\n",
              "          'such': 40,\n",
              "          'fall': 7,\n",
              "          'tumbling': 2,\n",
              "          'stairs': 3,\n",
              "          'How': 27,\n",
              "          'brave': 1,\n",
              "          'll': 56,\n",
              "          'me': 61,\n",
              "          'home': 5,\n",
              "          'Why': 27,\n",
              "          'wouldn': 12,\n",
              "          't': 216,\n",
              "          'even': 17,\n",
              "          'if': 78,\n",
              "          'off': 62,\n",
              "          'top': 8,\n",
              "          'house': 18,\n",
              "          'Which': 8,\n",
              "          'likely': 5,\n",
              "          'true': 3,\n",
              "          '.)': 16,\n",
              "          'Would': 8,\n",
              "          'NEVER': 2,\n",
              "          'come': 25,\n",
              "          'an': 52,\n",
              "          'end': 17,\n",
              "          'many': 12,\n",
              "          'miles': 3,\n",
              "          've': 43,\n",
              "          'fallen': 4,\n",
              "          'said': 456,\n",
              "          'aloud': 5,\n",
              "          'must': 41,\n",
              "          'somewhere': 2,\n",
              "          'near': 14,\n",
              "          'centre': 1,\n",
              "          'earth': 4,\n",
              "          'Let': 11,\n",
              "          'four': 8,\n",
              "          'thousand': 2,\n",
              "          \"--'\": 51,\n",
              "          'you': 345,\n",
              "          'learnt': 2,\n",
              "          'several': 4,\n",
              "          'things': 31,\n",
              "          'sort': 20,\n",
              "          'lessons': 10,\n",
              "          'schoolroom': 1,\n",
              "          'though': 10,\n",
              "          'good': 26,\n",
              "          'opportunity': 8,\n",
              "          'showing': 2,\n",
              "          'knowledge': 3,\n",
              "          'listen': 7,\n",
              "          'still': 12,\n",
              "          'practice': 1,\n",
              "          ')': 8,\n",
              "          \"'--\": 18,\n",
              "          'yes': 1,\n",
              "          'right': 30,\n",
              "          'distance': 8,\n",
              "          '--': 140,\n",
              "          'Latitude': 2,\n",
              "          'Longitude': 2,\n",
              "          'got': 45,\n",
              "          'idea': 15,\n",
              "          'nice': 6,\n",
              "          'grand': 3,\n",
              "          'words': 21,\n",
              "          'Presently': 2,\n",
              "          'began': 58,\n",
              "          'THROUGH': 1,\n",
              "          'funny': 3,\n",
              "          'seem': 8,\n",
              "          'among': 12,\n",
              "          'people': 13,\n",
              "          'walk': 5,\n",
              "          'their': 50,\n",
              "          'heads': 9,\n",
              "          'downward': 1,\n",
              "          'Antipathies': 1,\n",
              "          'rather': 25,\n",
              "          'glad': 11,\n",
              "          'WAS': 4,\n",
              "          'listening': 3,\n",
              "          'didn': 14,\n",
              "          'sound': 4,\n",
              "          'word': 10,\n",
              "          'ask': 11,\n",
              "          'them': 88,\n",
              "          'name': 10,\n",
              "          'country': 1,\n",
              "          'know': 87,\n",
              "          'Please': 5,\n",
              "          'Ma': 2,\n",
              "          'am': 16,\n",
              "          'New': 1,\n",
              "          'Zealand': 1,\n",
              "          'Australia': 1,\n",
              "          'curtsey': 1,\n",
              "          'spoke': 17,\n",
              "          'fancy': 7,\n",
              "          'CURTSEYING': 1,\n",
              "          're': 38,\n",
              "          'through': 13,\n",
              "          'air': 15,\n",
              "          'Do': 13,\n",
              "          'manage': 7,\n",
              "          '?)': 1,\n",
              "          'And': 67,\n",
              "          'ignorant': 1,\n",
              "          'little': 125,\n",
              "          'girl': 4,\n",
              "          'asking': 5,\n",
              "          'No': 20,\n",
              "          'perhaps': 14,\n",
              "          'written': 6,\n",
              "          \".'\": 187,\n",
              "          'else': 12,\n",
              "          'soon': 24,\n",
              "          'talking': 16,\n",
              "          'Dinah': 14,\n",
              "          'miss': 1,\n",
              "          'night': 5,\n",
              "          'should': 27,\n",
              "          'cat': 11,\n",
              "          'hope': 3,\n",
              "          'remember': 14,\n",
              "          'saucer': 1,\n",
              "          'milk': 2,\n",
              "          'tea': 18,\n",
              "          'my': 55,\n",
              "          'wish': 21,\n",
              "          'are': 44,\n",
              "          'mice': 4,\n",
              "          'm': 58,\n",
              "          'afraid': 12,\n",
              "          'might': 28,\n",
              "          'catch': 3,\n",
              "          'bat': 3,\n",
              "          'mouse': 14,\n",
              "          'But': 37,\n",
              "          'cats': 13,\n",
              "          'eat': 17,\n",
              "          'bats': 4,\n",
              "          'saying': 15,\n",
              "          'dreamy': 1,\n",
              "          '?': 35,\n",
              "          'sometimes': 5,\n",
              "          'couldn': 9,\n",
              "          'answer': 9,\n",
              "          'question': 17,\n",
              "          'matter': 9,\n",
              "          'which': 41,\n",
              "          'felt': 23,\n",
              "          'dozing': 1,\n",
              "          'begun': 7,\n",
              "          'dream': 7,\n",
              "          'walking': 5,\n",
              "          'hand': 20,\n",
              "          'earnestly': 2,\n",
              "          'Now': 12,\n",
              "          'tell': 27,\n",
              "          'truth': 1,\n",
              "          'ever': 20,\n",
              "          'thump': 2,\n",
              "          'came': 40,\n",
              "          'heap': 1,\n",
              "          'sticks': 1,\n",
              "          'dry': 8,\n",
              "          'leaves': 6,\n",
              "          'bit': 16,\n",
              "          'hurt': 3,\n",
              "          'jumped': 6,\n",
              "          'overhead': 1,\n",
              "          'long': 31,\n",
              "          'passage': 4,\n",
              "          'sight': 10,\n",
              "          'hurrying': 1,\n",
              "          'lost': 3,\n",
              "          'away': 25,\n",
              "          'wind': 2,\n",
              "          'turned': 16,\n",
              "          'corner': 4,\n",
              "          'ears': 5,\n",
              "          'whiskers': 3,\n",
              "          'behind': 13,\n",
              "          'longer': 3,\n",
              "          'low': 15,\n",
              "          'hall': 9,\n",
              "          'lit': 1,\n",
              "          'row': 2,\n",
              "          'lamps': 1,\n",
              "          'hanging': 3,\n",
              "          'roof': 6,\n",
              "          'doors': 2,\n",
              "          'round': 41,\n",
              "          'locked': 1,\n",
              "          'been': 38,\n",
              "          'side': 17,\n",
              "          'other': 40,\n",
              "          'trying': 14,\n",
              "          'every': 12,\n",
              "          'door': 30,\n",
              "          'walked': 10,\n",
              "          'sadly': 5,\n",
              "          'middle': 7,\n",
              "          'wondering': 7,\n",
              "          'Suddenly': 1,\n",
              "          'three': 28,\n",
              "          'legged': 2,\n",
              "          'table': 17,\n",
              "          'solid': 1,\n",
              "          'glass': 10,\n",
              "          'except': 4,\n",
              "          'tiny': 4,\n",
              "          'golden': 7,\n",
              "          'key': 9,\n",
              "          'first': 44,\n",
              "          'belong': 1,\n",
              "          'alas': 3,\n",
              "          'locks': 2,\n",
              "          'small': 10,\n",
              "          'any': 39,\n",
              "          'rate': 9,\n",
              "          'open': 7,\n",
              "          'However': 13,\n",
              "          'second': 4,\n",
              "          'curtain': 1,\n",
              "          'fifteen': 1,\n",
              "          'inches': 6,\n",
              "          'high': 15,\n",
              "          'lock': 1,\n",
              "          'delight': 3,\n",
              "          'fitted': 1,\n",
              "          'opened': 10,\n",
              "          'led': 4,\n",
              "          'larger': 7,\n",
              "          'than': 23,\n",
              "          'rat': 1,\n",
              "          'knelt': 1,\n",
              "          'along': 6,\n",
              "          'loveliest': 1,\n",
              "          'garden': 16,\n",
              "          'longed': 2,\n",
              "          'wander': 1,\n",
              "          'those': 9,\n",
              "          'beds': 2,\n",
              "          'bright': 8,\n",
              "          'flowers': 2,\n",
              "          'cool': 2,\n",
              "          'fountains': 2,\n",
              "          'head': 50,\n",
              "          'doorway': 1,\n",
              "          'go': 47,\n",
              "          'poor': 25,\n",
              "          'shoulders': 4,\n",
              "          'shut': 5,\n",
              "          'telescope': 3,\n",
              "          'only': 47,\n",
              "          'begin': 12,\n",
              "          'For': 13,\n",
              "          'happened': 7,\n",
              "          'lately': 1,\n",
              "          'few': 9,\n",
              "          'indeed': 15,\n",
              "          'really': 11,\n",
              "          'impossible': 3,\n",
              "          'waiting': 8,\n",
              "          'back': 38,\n",
              "          'half': 22,\n",
              "          'hoping': 3,\n",
              "          'find': 21,\n",
              "          'rules': 3,\n",
              "          'shutting': 2,\n",
              "          'telescopes': 1,\n",
              "          'bottle': 10,\n",
              "          \"('\": 5,\n",
              "          'certainly': 13,\n",
              "          ',)': 9,\n",
              "          'neck': 7,\n",
              "          'paper': 4,\n",
              "          'label': 2,\n",
              "          'DRINK': 2,\n",
              "          'ME': 7,\n",
              "          'beautifully': 2,\n",
              "          'printed': 1,\n",
              "          'letters': 1,\n",
              "          'It': 64,\n",
              "          'Drink': 1,\n",
              "          'wise': 2,\n",
              "          'THAT': 13,\n",
              "          'hurry': 11,\n",
              "          'marked': 6,\n",
              "          '\"': 48,\n",
              "          'poison': 3,\n",
              "          \"';\": 5,\n",
              "          'read': 10,\n",
              "          'histories': 1,\n",
              "          'children': 10,\n",
              "          'who': 48,\n",
              "          'burnt': 1,\n",
              "          'eaten': 1,\n",
              "          'wild': 2,\n",
              "          'beasts': 2,\n",
              "          'unpleasant': 2,\n",
              "          'because': 14,\n",
              "          'WOULD': 5,\n",
              "          'simple': 5,\n",
              "          'friends': 2,\n",
              "          'taught': 4,\n",
              "          'red': 2,\n",
              "          'poker': 1,\n",
              "          'will': 24,\n",
              "          'burn': 2,\n",
              "          'hold': 6,\n",
              "          'cut': 5,\n",
              "          'your': 53,\n",
              "          'finger': 5,\n",
              "          'deeply': 4,\n",
              "          'knife': 3,\n",
              "          'usually': 2,\n",
              "          'bleeds': 1,\n",
              "          'forgotten': 6,\n",
              "          'drink': 4,\n",
              "          'almost': 6,\n",
              "          'certain': 3,\n",
              "          'disagree': 1,\n",
              "          'sooner': 2,\n",
              "          'later': 3,\n",
              "          'NOT': 7,\n",
              "          'ventured': 4,\n",
              "          'taste': 2,\n",
              "          'finding': 3,\n",
              "          'fact': 8,\n",
              "          'mixed': 2,\n",
              "          'flavour': 1,\n",
              "          'cherry': 1,\n",
              "          'tart': 1,\n",
              "          'custard': 1,\n",
              "          'pine': 1,\n",
              "          'apple': 1,\n",
              "          'roast': 1,\n",
              "          'turkey': 1,\n",
              "          'toffee': 1,\n",
              "          'buttered': 1,\n",
              "          'toast': 1,\n",
              "          'finished': 12,\n",
              "          '*': 60,\n",
              "          'What': 42,\n",
              "          'curious': 19,\n",
              "          'feeling': 7,\n",
              "          'now': 48,\n",
              "          'ten': 5,\n",
              "          'face': 15,\n",
              "          'brightened': 2,\n",
              "          'size': 13,\n",
              "          'lovely': 2,\n",
              "          'however': 7,\n",
              "          'waited': 11,\n",
              "          'minutes': 11,\n",
              "          'shrink': 1,\n",
              "          'further': 3,\n",
              "          'nervous': 5,\n",
              "          'altogether': 5,\n",
              "          'candle': 3,\n",
              "          'flame': 1,\n",
              "          'blown': 1,\n",
              "          'thing': 49,\n",
              "          'After': 6,\n",
              "          'while': 20,\n",
              "          'more': 47,\n",
              "          'decided': 3,\n",
              "          'possibly': 3,\n",
              "          'reach': 4,\n",
              "          'plainly': 1,\n",
              "          'best': 10,\n",
              "          'climb': 1,\n",
              "          'legs': 3,\n",
              "          'slippery': 1,\n",
              "          'sat': 17,\n",
              "          'cried': 20,\n",
              "          'Come': 21,\n",
              "          'crying': 2,\n",
              "          'sharply': 4,\n",
              "          'advise': 1,\n",
              "          'leave': 7,\n",
              "          'minute': 21,\n",
              "          'generally': 7,\n",
              "          'gave': 13,\n",
              "          'advice': 1,\n",
              "          'seldom': 1,\n",
              "          'followed': 8,\n",
              "          'scolded': 1,\n",
              "          'severely': 4,\n",
              "          'bring': 2,\n",
              "          'tears': 10,\n",
              "          'remembered': 5,\n",
              "          'box': 10,\n",
              "          'cheated': 1,\n",
              "          'game': 12,\n",
              "          'croquet': 8,\n",
              "          'playing': 2,\n",
              "          'against': 9,\n",
              "          'child': 11,\n",
              "          'fond': 4,\n",
              "          'pretending': 1,\n",
              "          'two': 32,\n",
              "          'pretend': 1,\n",
              "          'hardly': 11,\n",
              "          'enough': 18,\n",
              "          'left': 14,\n",
              "          'ONE': 4,\n",
              "          'respectable': 1,\n",
              "          'person': 4,\n",
              "          'Soon': 1,\n",
              "          'eye': 7,\n",
              "          'lying': 8,\n",
              "          'cake': 3,\n",
              "          'EAT': 1,\n",
              "          'currants': 1,\n",
              "          'makes': 11,\n",
              "          'grow': 13,\n",
              "          'can': 57,\n",
              "          'smaller': 3,\n",
              "          'creep': 1,\n",
              "          'don': 51,\n",
              "          'care': 4,\n",
              "          'happens': 5,\n",
              "          'ate': 1,\n",
              "          'anxiously': 14,\n",
              "          \"?',\": 1,\n",
              "          'holding': 3,\n",
              "          'growing': 11,\n",
              "          'surprised': 7,\n",
              "          'remained': 3,\n",
              "          'same': 23,\n",
              "          'sure': 20,\n",
              "          'eats': 1,\n",
              "          'expecting': 3,\n",
              "          'dull': 3,\n",
              "          'life': 12,\n",
              "          'common': 1,\n",
              "          'set': 14,\n",
              "          'work': 8,\n",
              "          'II': 1,\n",
              "          'Pool': 1,\n",
              "          'Tears': 1,\n",
              "          'Curiouser': 1,\n",
              "          'curiouser': 1,\n",
              "          'forgot': 2,\n",
              "          'speak': 13,\n",
              "          'English': 6,\n",
              "          'opening': 3,\n",
              "          'largest': 1,\n",
              "          'Good': 1,\n",
              "          'bye': 2,\n",
              "          'far': 13,\n",
              "          ').': 4,\n",
              "          'shoes': 6,\n",
              "          'stockings': 1,\n",
              "          'dears': 3,\n",
              "          '_I_': 2,\n",
              "          'shan': 5,\n",
              "          'able': 1,\n",
              "          'deal': 12,\n",
              "          'myself': 6,\n",
              "          ';--': 1,\n",
              "          'kind': 7,\n",
              "          'won': 26,\n",
              "          'want': 9,\n",
              "          'give': 9,\n",
              "          'new': 4,\n",
              "          'pair': 5,\n",
              "          'boots': 2,\n",
              "          'Christmas': 1,\n",
              "          'planning': 1,\n",
              "          'They': 21,\n",
              "          'carrier': 1,\n",
              "          'sending': 2,\n",
              "          'presents': 2,\n",
              "          'odd': 1,\n",
              "          'directions': 3,\n",
              "          'ALICE': 2,\n",
              "          'S': 6,\n",
              "          'RIGHT': 1,\n",
              "          'FOOT': 1,\n",
              "          'ESQ': 1,\n",
              "          'HEARTHRUG': 1,\n",
              "          'NEAR': 1,\n",
              "          'THE': 7,\n",
              "          'FENDER': 1,\n",
              "          'WITH': 1,\n",
              "          'LOVE': 1,\n",
              "          'nonsense': 6,\n",
              "          'Just': 7,\n",
              "          'struck': 2,\n",
              "          'nine': 5,\n",
              "          'Poor': 2,\n",
              "          'hopeless': 1,\n",
              "          'cry': 3,\n",
              "          'You': 51,\n",
              "          'ashamed': 2,\n",
              "          'yourself': 10,\n",
              "          'Stop': 1,\n",
              "          'shedding': 1,\n",
              "          'gallons': 1,\n",
              "          'until': 5,\n",
              "          'pool': 10,\n",
              "          'reaching': 1,\n",
              "          'heard': 30,\n",
              "          'pattering': 3,\n",
              "          'hastily': 16,\n",
              "          'dried': 1,\n",
              "          'returning': 1,\n",
              "          'splendidly': 1,\n",
              "          'dressed': 1,\n",
              "          'white': 8,\n",
              "          'kid': 5,\n",
              "          'gloves': 11,\n",
              "          'fan': 10,\n",
              "          'he': 101,\n",
              "          'trotting': 2,\n",
              "          'muttering': 3,\n",
              "          'himself': 6,\n",
              "          'Duchess': 42,\n",
              "          'savage': 4,\n",
              "          'kept': 13,\n",
              "          'desperate': 1,\n",
              "          'ready': 8,\n",
              "          'help': 9,\n",
              "          'timid': 3,\n",
              "          'voice': 47,\n",
              "          'If': 16,\n",
              "          'please': 13,\n",
              "          'sir': 6,\n",
              "          'violently': 4,\n",
              "          'dropped': 5,\n",
              "          'skurried': 1,\n",
              "          'darkness': 1,\n",
              "          'hard': 8,\n",
              "          'fanning': 1,\n",
              "          'Dear': 1,\n",
              "          'queer': 12,\n",
              "          'everything': 12,\n",
              "          'yesterday': 3,\n",
              "          'usual': 5,\n",
              "          'changed': 8,\n",
              "          'morning': 5,\n",
              "          'different': 9,\n",
              "          'Who': 15,\n",
              "          'Ah': 5,\n",
              "          'puzzle': 1,\n",
              "          'thinking': 10,\n",
              "          'knew': 14,\n",
              "          'age': 4,\n",
              "          'Ada': 1,\n",
              "          'hair': 7,\n",
              "          'goes': 7,\n",
              "          'ringlets': 2,\n",
              "          'mine': 7,\n",
              "          'doesn': 16,\n",
              "          'Mabel': 4,\n",
              "          'sorts': 3,\n",
              "          'oh': 10,\n",
              "          'knows': 2,\n",
              "          'Besides': 1,\n",
              "          'SHE': 5,\n",
              "          'puzzling': 4,\n",
              "          'try': 12,\n",
              "          'used': 13,\n",
              "          'times': 6,\n",
              "          'five': 1,\n",
              "          'twelve': 4,\n",
              "          'six': 2,\n",
              "          'thirteen': 1,\n",
              "          'seven': 1,\n",
              "          'twenty': 2,\n",
              "          'Multiplication': 1,\n",
              "          'Table': 1,\n",
              "          'signify': 1,\n",
              "          'let': 11,\n",
              "          'Geography': 1,\n",
              "          'London': 1,\n",
              "          'capital': 4,\n",
              "          'Paris': 2,\n",
              "          'Rome': 2,\n",
              "          'wrong': 5,\n",
              "          'doth': 2,\n",
              "          '--\"\\'': 4,\n",
              "          'crossed': 3,\n",
              "          'hands': 12,\n",
              "          'lap': 2,\n",
              "          'repeat': 6,\n",
              "          'sounded': 5,\n",
              "          'hoarse': 3,\n",
              "          'strange': 5,\n",
              "          ':--': 15,\n",
              "          'crocodile': 1,\n",
              "          'Improve': 1,\n",
              "          'his': 94,\n",
              "          'shining': 1,\n",
              "          'tail': 9,\n",
              "          'pour': 1,\n",
              "          'waters': 1,\n",
              "          'Nile': 1,\n",
              "          'On': 4,\n",
              "          'scale': 1,\n",
              "          'cheerfully': 1,\n",
              "          'seems': 5,\n",
              "          'grin': 6,\n",
              "          'neatly': 2,\n",
              "          'spread': 3,\n",
              "          'claws': 2,\n",
              "          'welcome': 1,\n",
              "          'fishes': 1,\n",
              "          'With': 4,\n",
              "          'gently': 3,\n",
              "          'smiling': 2,\n",
              "          'jaws': 2,\n",
              "          'live': 8,\n",
              "          'poky': 1,\n",
              "          'toys': 1,\n",
              "          'play': 8,\n",
              "          'learn': 7,\n",
              "          'stay': 5,\n",
              "          'putting': 3,\n",
              "          '!\"': 6,\n",
              "          'Tell': 5,\n",
              "          'being': 19,\n",
              "          'till': 21,\n",
              "          '\"--': 4,\n",
              "          'sudden': 5,\n",
              "          'burst': 1,\n",
              "          'alone': 4,\n",
              "          'As': 17,\n",
              "          'CAN': 4,\n",
              "          'done': 15,\n",
              "          'measure': 1,\n",
              "          'nearly': 10,\n",
              "          'guess': 3,\n",
              "          'shrinking': 4,\n",
              "          'rapidly': 2,\n",
              "          'cause': 3,\n",
              "          'avoid': 1,\n",
              "          'That': 27,\n",
              "          'narrow': 2,\n",
              "          'escape': 4,\n",
              "          'frightened': 7,\n",
              "          'change': 13,\n",
              "          'existence': 1,\n",
              "          'speed': 1,\n",
              "          'worse': 3,\n",
              "          'declare': 2,\n",
              "          'bad': 2,\n",
              "          'these': 11,\n",
              "          'foot': 9,\n",
              "          'slipped': 3,\n",
              "          'splash': 1,\n",
              "          'chin': 7,\n",
              "          'salt': 2,\n",
              "          'water': 5,\n",
              "          'Her': 3,\n",
              "          'somehow': 1,\n",
              "          'sea': 14,\n",
              "          'case': 5,\n",
              "          'railway': 2,\n",
              "          'seaside': 1,\n",
              "          'general': 3,\n",
              "          'conclusion': 2,\n",
              "          'wherever': 2,\n",
              "          'coast': 1,\n",
              "          'number': 4,\n",
              "          'bathing': 1,\n",
              "          'machines': 1,\n",
              "          'digging': 2,\n",
              "          'sand': 1,\n",
              "          'wooden': 1,\n",
              "          'spades': 1,\n",
              "          'lodging': 1,\n",
              "          'houses': 1,\n",
              "          'station': 1,\n",
              "          'wept': 1,\n",
              "          'hadn': 7,\n",
              "          'swam': 5,\n",
              "          'punished': 1,\n",
              "          'suppose': 12,\n",
              "          'drowned': 1,\n",
              "          'WILL': 3,\n",
              "          'something': 17,\n",
              "          'splashing': 2,\n",
              "          'nearer': 5,\n",
              "          'walrus': 1,\n",
              "          'hippopotamus': 1,\n",
              "          'Everything': 2,\n",
              "          'talk': 14,\n",
              "          'harm': 1,\n",
              "          'O': 3,\n",
              "          'Mouse': 30,\n",
              "          'swimming': 2,\n",
              "          'speaking': 5,\n",
              "          'brother': 1,\n",
              "          'Latin': 1,\n",
              "          'Grammar': 1,\n",
              "          \"!')\": 1,\n",
              "          'inquisitively': 1,\n",
              "          'wink': 2,\n",
              "          'its': 56,\n",
              "          'Perhaps': 3,\n",
              "          'understand': 6,\n",
              "          'daresay': 1,\n",
              "          'French': 4,\n",
              "          'William': 6,\n",
              "          'Conqueror': 2,\n",
              "          'history': 7,\n",
              "          'clear': 2,\n",
              "          'notion': 3,\n",
              "          'ago': 2,\n",
              "          'Ou': 1,\n",
              "          'est': 1,\n",
              "          'ma': 1,\n",
              "          'chatte': 1,\n",
              "          'sentence': 5,\n",
              "          'lesson': 3,\n",
              "          'leap': 1,\n",
              "          'quiver': 1,\n",
              "          'fright': 2,\n",
              "          'beg': 7,\n",
              "          'pardon': 6,\n",
              "          'animal': 2,\n",
              "          'feelings': 2,\n",
              "          'Not': 9,\n",
              "          'shrill': 5,\n",
              "          'passionate': 1,\n",
              "          'YOU': 15,\n",
              "          'soothing': 1,\n",
              "          'tone': 40,\n",
              "          'angry': 5,\n",
              "          'yet': 21,\n",
              "          'show': 3,\n",
              "          'our': 7,\n",
              "          'd': 27,\n",
              "          'quiet': 2,\n",
              "          'lazily': 1,\n",
              "          'sits': 1,\n",
              "          'purring': 2,\n",
              "          'nicely': 2,\n",
              "          'fire': 4,\n",
              "          'licking': 1,\n",
              "          'paws': 4,\n",
              "          'washing': 2,\n",
              "          'soft': 1,\n",
              "          'nurse': 3,\n",
              "          'catching': 2,\n",
              "          'bristling': 1,\n",
              "          'offended': 10,\n",
              "          'We': 10,\n",
              "          'trembling': 6,\n",
              "          ...})"
            ]
          },
          "metadata": {
            "tags": []
          },
          "execution_count": 6
        }
      ]
    },
    {
      "cell_type": "code",
      "metadata": {
        "id": "lIJRMQbIvyjh"
      },
      "source": [
        "alice_100 = alice_freq.most_common(100)"
      ],
      "execution_count": null,
      "outputs": []
    },
    {
      "cell_type": "code",
      "metadata": {
        "colab": {
          "base_uri": "https://localhost:8080/"
        },
        "id": "a3x7AelvwJeG",
        "outputId": "eb57fb73-2120-40c6-f278-715f00b26a3f"
      },
      "source": [
        "len(alice_100)"
      ],
      "execution_count": null,
      "outputs": [
        {
          "output_type": "execute_result",
          "data": {
            "text/plain": [
              "100"
            ]
          },
          "metadata": {
            "tags": []
          },
          "execution_count": 8
        }
      ]
    },
    {
      "cell_type": "code",
      "metadata": {
        "colab": {
          "base_uri": "https://localhost:8080/"
        },
        "id": "4XLGJ0huwO4W",
        "outputId": "66b96eeb-69b7-427f-c7f7-5238abcb80cc"
      },
      "source": [
        "alice_100"
      ],
      "execution_count": null,
      "outputs": [
        {
          "output_type": "execute_result",
          "data": {
            "text/plain": [
              "[(',', 1993),\n",
              " (\"'\", 1731),\n",
              " ('the', 1527),\n",
              " ('and', 802),\n",
              " ('.', 764),\n",
              " ('to', 725),\n",
              " ('a', 615),\n",
              " ('I', 543),\n",
              " ('it', 527),\n",
              " ('she', 509),\n",
              " ('of', 500),\n",
              " ('said', 456),\n",
              " (\",'\", 397),\n",
              " ('Alice', 396),\n",
              " ('in', 357),\n",
              " ('was', 352),\n",
              " ('you', 345),\n",
              " (\"!'\", 278),\n",
              " ('that', 275),\n",
              " ('as', 246),\n",
              " ('her', 243),\n",
              " (':', 216),\n",
              " ('t', 216),\n",
              " ('at', 202),\n",
              " ('s', 195),\n",
              " ('on', 189),\n",
              " (\".'\", 187),\n",
              " (';', 186),\n",
              " ('had', 177),\n",
              " ('with', 175),\n",
              " ('all', 173),\n",
              " ('!', 155),\n",
              " (\"?'\", 154),\n",
              " ('be', 145),\n",
              " ('-', 141),\n",
              " ('for', 140),\n",
              " ('--', 140),\n",
              " ('but', 133),\n",
              " ('not', 129),\n",
              " ('they', 129),\n",
              " ('very', 126),\n",
              " ('little', 125),\n",
              " ('so', 124),\n",
              " ('out', 116),\n",
              " ('this', 113),\n",
              " ('The', 108),\n",
              " ('he', 101),\n",
              " ('down', 99),\n",
              " ('up', 98),\n",
              " ('is', 97),\n",
              " ('about', 94),\n",
              " ('one', 94),\n",
              " ('his', 94),\n",
              " ('what', 93),\n",
              " ('them', 88),\n",
              " ('know', 87),\n",
              " ('were', 85),\n",
              " ('like', 84),\n",
              " ('went', 83),\n",
              " ('again', 83),\n",
              " ('herself', 83),\n",
              " ('if', 78),\n",
              " ('or', 76),\n",
              " ('thought', 74),\n",
              " ('Queen', 74),\n",
              " ('could', 73),\n",
              " ('have', 73),\n",
              " ('then', 72),\n",
              " ('would', 70),\n",
              " ('no', 69),\n",
              " ('when', 69),\n",
              " ('do', 68),\n",
              " ('time', 68),\n",
              " ('into', 67),\n",
              " ('And', 67),\n",
              " ('see', 66),\n",
              " ('there', 65),\n",
              " ('It', 64),\n",
              " ('off', 62),\n",
              " ('me', 61),\n",
              " ('King', 61),\n",
              " ('did', 60),\n",
              " ('*', 60),\n",
              " ('Turtle', 59),\n",
              " ('began', 58),\n",
              " ('m', 58),\n",
              " ('can', 57),\n",
              " ('way', 56),\n",
              " ('ll', 56),\n",
              " ('its', 56),\n",
              " ('Mock', 56),\n",
              " ('by', 55),\n",
              " ('my', 55),\n",
              " ('Hatter', 55),\n",
              " ('Gryphon', 55),\n",
              " ('quite', 53),\n",
              " ('your', 53),\n",
              " ('an', 52),\n",
              " ('much', 51),\n",
              " ('say', 51)]"
            ]
          },
          "metadata": {
            "tags": []
          },
          "execution_count": 9
        }
      ]
    },
    {
      "cell_type": "markdown",
      "metadata": {
        "id": "NjqW0HaYwdYI"
      },
      "source": [
        "Normalizar os dados"
      ]
    },
    {
      "cell_type": "code",
      "metadata": {
        "id": "OrGpLRjywbrv"
      },
      "source": [
        "alice_common = []"
      ],
      "execution_count": null,
      "outputs": []
    },
    {
      "cell_type": "code",
      "metadata": {
        "id": "t--ydxgdwqHP"
      },
      "source": [
        "for word in alice_100:\n",
        "  alice_common.append(word[0])"
      ],
      "execution_count": null,
      "outputs": []
    },
    {
      "cell_type": "code",
      "metadata": {
        "id": "pO_4jibxxHiB"
      },
      "source": [
        "# alice_common = [word[0] for word in alice_100]"
      ],
      "execution_count": null,
      "outputs": []
    },
    {
      "cell_type": "code",
      "metadata": {
        "colab": {
          "base_uri": "https://localhost:8080/"
        },
        "id": "zcM1yvxFxCWe",
        "outputId": "7ef8c1a5-8a9d-48d9-deab-b71112b60a31"
      },
      "source": [
        "alice_common"
      ],
      "execution_count": null,
      "outputs": [
        {
          "output_type": "execute_result",
          "data": {
            "text/plain": [
              "[',',\n",
              " \"'\",\n",
              " 'the',\n",
              " 'and',\n",
              " '.',\n",
              " 'to',\n",
              " 'a',\n",
              " 'I',\n",
              " 'it',\n",
              " 'she',\n",
              " 'of',\n",
              " 'said',\n",
              " \",'\",\n",
              " 'Alice',\n",
              " 'in',\n",
              " 'was',\n",
              " 'you',\n",
              " \"!'\",\n",
              " 'that',\n",
              " 'as',\n",
              " 'her',\n",
              " ':',\n",
              " 't',\n",
              " 'at',\n",
              " 's',\n",
              " 'on',\n",
              " \".'\",\n",
              " ';',\n",
              " 'had',\n",
              " 'with',\n",
              " 'all',\n",
              " '!',\n",
              " \"?'\",\n",
              " 'be',\n",
              " '-',\n",
              " 'for',\n",
              " '--',\n",
              " 'but',\n",
              " 'not',\n",
              " 'they',\n",
              " 'very',\n",
              " 'little',\n",
              " 'so',\n",
              " 'out',\n",
              " 'this',\n",
              " 'The',\n",
              " 'he',\n",
              " 'down',\n",
              " 'up',\n",
              " 'is',\n",
              " 'about',\n",
              " 'one',\n",
              " 'his',\n",
              " 'what',\n",
              " 'them',\n",
              " 'know',\n",
              " 'were',\n",
              " 'like',\n",
              " 'went',\n",
              " 'again',\n",
              " 'herself',\n",
              " 'if',\n",
              " 'or',\n",
              " 'thought',\n",
              " 'Queen',\n",
              " 'could',\n",
              " 'have',\n",
              " 'then',\n",
              " 'would',\n",
              " 'no',\n",
              " 'when',\n",
              " 'do',\n",
              " 'time',\n",
              " 'into',\n",
              " 'And',\n",
              " 'see',\n",
              " 'there',\n",
              " 'It',\n",
              " 'off',\n",
              " 'me',\n",
              " 'King',\n",
              " 'did',\n",
              " '*',\n",
              " 'Turtle',\n",
              " 'began',\n",
              " 'm',\n",
              " 'can',\n",
              " 'way',\n",
              " 'll',\n",
              " 'its',\n",
              " 'Mock',\n",
              " 'by',\n",
              " 'my',\n",
              " 'Hatter',\n",
              " 'Gryphon',\n",
              " 'quite',\n",
              " 'your',\n",
              " 'an',\n",
              " 'much',\n",
              " 'say']"
            ]
          },
          "metadata": {
            "tags": []
          },
          "execution_count": 12
        }
      ]
    },
    {
      "cell_type": "code",
      "metadata": {
        "id": "O78Vf7o9xaL1"
      },
      "source": [
        "common = set(word.lower() for word in alice_common if word.isalpha())"
      ],
      "execution_count": null,
      "outputs": []
    },
    {
      "cell_type": "markdown",
      "metadata": {
        "id": "lXSvq5QD3E0M"
      },
      "source": [
        ""
      ]
    },
    {
      "cell_type": "code",
      "metadata": {
        "colab": {
          "base_uri": "https://localhost:8080/"
        },
        "id": "FufKYF9KzLda",
        "outputId": "1cf37671-2d9e-48e6-9900-afd4e0a578f9"
      },
      "source": [
        "common"
      ],
      "execution_count": null,
      "outputs": [
        {
          "output_type": "execute_result",
          "data": {
            "text/plain": [
              "{'a',\n",
              " 'about',\n",
              " 'again',\n",
              " 'alice',\n",
              " 'all',\n",
              " 'an',\n",
              " 'and',\n",
              " 'as',\n",
              " 'at',\n",
              " 'be',\n",
              " 'began',\n",
              " 'but',\n",
              " 'by',\n",
              " 'can',\n",
              " 'could',\n",
              " 'did',\n",
              " 'do',\n",
              " 'down',\n",
              " 'for',\n",
              " 'gryphon',\n",
              " 'had',\n",
              " 'hatter',\n",
              " 'have',\n",
              " 'he',\n",
              " 'her',\n",
              " 'herself',\n",
              " 'his',\n",
              " 'i',\n",
              " 'if',\n",
              " 'in',\n",
              " 'into',\n",
              " 'is',\n",
              " 'it',\n",
              " 'its',\n",
              " 'king',\n",
              " 'know',\n",
              " 'like',\n",
              " 'little',\n",
              " 'll',\n",
              " 'm',\n",
              " 'me',\n",
              " 'mock',\n",
              " 'much',\n",
              " 'my',\n",
              " 'no',\n",
              " 'not',\n",
              " 'of',\n",
              " 'off',\n",
              " 'on',\n",
              " 'one',\n",
              " 'or',\n",
              " 'out',\n",
              " 'queen',\n",
              " 'quite',\n",
              " 's',\n",
              " 'said',\n",
              " 'say',\n",
              " 'see',\n",
              " 'she',\n",
              " 'so',\n",
              " 't',\n",
              " 'that',\n",
              " 'the',\n",
              " 'them',\n",
              " 'then',\n",
              " 'there',\n",
              " 'they',\n",
              " 'this',\n",
              " 'thought',\n",
              " 'time',\n",
              " 'to',\n",
              " 'turtle',\n",
              " 'up',\n",
              " 'very',\n",
              " 'was',\n",
              " 'way',\n",
              " 'went',\n",
              " 'were',\n",
              " 'what',\n",
              " 'when',\n",
              " 'with',\n",
              " 'would',\n",
              " 'you',\n",
              " 'your'}"
            ]
          },
          "metadata": {
            "tags": []
          },
          "execution_count": 14
        }
      ]
    },
    {
      "cell_type": "code",
      "metadata": {
        "colab": {
          "base_uri": "https://localhost:8080/"
        },
        "id": "7JChIT-QzXwD",
        "outputId": "5fcdbb90-b900-4c10-9c27-7eb3e41f8344"
      },
      "source": [
        "len(common)"
      ],
      "execution_count": null,
      "outputs": [
        {
          "output_type": "execute_result",
          "data": {
            "text/plain": [
              "84"
            ]
          },
          "metadata": {
            "tags": []
          },
          "execution_count": 15
        }
      ]
    },
    {
      "cell_type": "markdown",
      "metadata": {
        "id": "XfIXHnHmzfso"
      },
      "source": [
        "Tratando as StopWords"
      ]
    },
    {
      "cell_type": "code",
      "metadata": {
        "colab": {
          "base_uri": "https://localhost:8080/"
        },
        "id": "unfBTeA6zb9k",
        "outputId": "ad70b180-0f83-4861-eec0-ae12927e0949"
      },
      "source": [
        "nltk.download('stopwords')"
      ],
      "execution_count": null,
      "outputs": [
        {
          "output_type": "stream",
          "text": [
            "[nltk_data] Downloading package stopwords to /root/nltk_data...\n",
            "[nltk_data]   Unzipping corpora/stopwords.zip.\n"
          ],
          "name": "stdout"
        },
        {
          "output_type": "execute_result",
          "data": {
            "text/plain": [
              "True"
            ]
          },
          "metadata": {
            "tags": []
          },
          "execution_count": 16
        }
      ]
    },
    {
      "cell_type": "code",
      "metadata": {
        "id": "t_gjObJcztJq"
      },
      "source": [
        "stopwords = nltk.corpus.stopwords.words('english')"
      ],
      "execution_count": null,
      "outputs": []
    },
    {
      "cell_type": "code",
      "metadata": {
        "colab": {
          "base_uri": "https://localhost:8080/"
        },
        "id": "E4KQFaZc0A9f",
        "outputId": "037e03d5-7265-4060-f260-dd1faa79d477"
      },
      "source": [
        "stopwords"
      ],
      "execution_count": null,
      "outputs": [
        {
          "output_type": "execute_result",
          "data": {
            "text/plain": [
              "['i',\n",
              " 'me',\n",
              " 'my',\n",
              " 'myself',\n",
              " 'we',\n",
              " 'our',\n",
              " 'ours',\n",
              " 'ourselves',\n",
              " 'you',\n",
              " \"you're\",\n",
              " \"you've\",\n",
              " \"you'll\",\n",
              " \"you'd\",\n",
              " 'your',\n",
              " 'yours',\n",
              " 'yourself',\n",
              " 'yourselves',\n",
              " 'he',\n",
              " 'him',\n",
              " 'his',\n",
              " 'himself',\n",
              " 'she',\n",
              " \"she's\",\n",
              " 'her',\n",
              " 'hers',\n",
              " 'herself',\n",
              " 'it',\n",
              " \"it's\",\n",
              " 'its',\n",
              " 'itself',\n",
              " 'they',\n",
              " 'them',\n",
              " 'their',\n",
              " 'theirs',\n",
              " 'themselves',\n",
              " 'what',\n",
              " 'which',\n",
              " 'who',\n",
              " 'whom',\n",
              " 'this',\n",
              " 'that',\n",
              " \"that'll\",\n",
              " 'these',\n",
              " 'those',\n",
              " 'am',\n",
              " 'is',\n",
              " 'are',\n",
              " 'was',\n",
              " 'were',\n",
              " 'be',\n",
              " 'been',\n",
              " 'being',\n",
              " 'have',\n",
              " 'has',\n",
              " 'had',\n",
              " 'having',\n",
              " 'do',\n",
              " 'does',\n",
              " 'did',\n",
              " 'doing',\n",
              " 'a',\n",
              " 'an',\n",
              " 'the',\n",
              " 'and',\n",
              " 'but',\n",
              " 'if',\n",
              " 'or',\n",
              " 'because',\n",
              " 'as',\n",
              " 'until',\n",
              " 'while',\n",
              " 'of',\n",
              " 'at',\n",
              " 'by',\n",
              " 'for',\n",
              " 'with',\n",
              " 'about',\n",
              " 'against',\n",
              " 'between',\n",
              " 'into',\n",
              " 'through',\n",
              " 'during',\n",
              " 'before',\n",
              " 'after',\n",
              " 'above',\n",
              " 'below',\n",
              " 'to',\n",
              " 'from',\n",
              " 'up',\n",
              " 'down',\n",
              " 'in',\n",
              " 'out',\n",
              " 'on',\n",
              " 'off',\n",
              " 'over',\n",
              " 'under',\n",
              " 'again',\n",
              " 'further',\n",
              " 'then',\n",
              " 'once',\n",
              " 'here',\n",
              " 'there',\n",
              " 'when',\n",
              " 'where',\n",
              " 'why',\n",
              " 'how',\n",
              " 'all',\n",
              " 'any',\n",
              " 'both',\n",
              " 'each',\n",
              " 'few',\n",
              " 'more',\n",
              " 'most',\n",
              " 'other',\n",
              " 'some',\n",
              " 'such',\n",
              " 'no',\n",
              " 'nor',\n",
              " 'not',\n",
              " 'only',\n",
              " 'own',\n",
              " 'same',\n",
              " 'so',\n",
              " 'than',\n",
              " 'too',\n",
              " 'very',\n",
              " 's',\n",
              " 't',\n",
              " 'can',\n",
              " 'will',\n",
              " 'just',\n",
              " 'don',\n",
              " \"don't\",\n",
              " 'should',\n",
              " \"should've\",\n",
              " 'now',\n",
              " 'd',\n",
              " 'll',\n",
              " 'm',\n",
              " 'o',\n",
              " 're',\n",
              " 've',\n",
              " 'y',\n",
              " 'ain',\n",
              " 'aren',\n",
              " \"aren't\",\n",
              " 'couldn',\n",
              " \"couldn't\",\n",
              " 'didn',\n",
              " \"didn't\",\n",
              " 'doesn',\n",
              " \"doesn't\",\n",
              " 'hadn',\n",
              " \"hadn't\",\n",
              " 'hasn',\n",
              " \"hasn't\",\n",
              " 'haven',\n",
              " \"haven't\",\n",
              " 'isn',\n",
              " \"isn't\",\n",
              " 'ma',\n",
              " 'mightn',\n",
              " \"mightn't\",\n",
              " 'mustn',\n",
              " \"mustn't\",\n",
              " 'needn',\n",
              " \"needn't\",\n",
              " 'shan',\n",
              " \"shan't\",\n",
              " 'shouldn',\n",
              " \"shouldn't\",\n",
              " 'wasn',\n",
              " \"wasn't\",\n",
              " 'weren',\n",
              " \"weren't\",\n",
              " 'won',\n",
              " \"won't\",\n",
              " 'wouldn',\n",
              " \"wouldn't\"]"
            ]
          },
          "metadata": {
            "tags": []
          },
          "execution_count": 18
        }
      ]
    },
    {
      "cell_type": "code",
      "metadata": {
        "colab": {
          "base_uri": "https://localhost:8080/"
        },
        "id": "Y-rbxPhB0Pzg",
        "outputId": "9fd9023e-96a3-4ee1-ba8e-d6b7931b04bb"
      },
      "source": [
        "len(stopwords)"
      ],
      "execution_count": null,
      "outputs": [
        {
          "output_type": "execute_result",
          "data": {
            "text/plain": [
              "179"
            ]
          },
          "metadata": {
            "tags": []
          },
          "execution_count": 19
        }
      ]
    },
    {
      "cell_type": "code",
      "metadata": {
        "id": "jzC3tN850aVc"
      },
      "source": [
        "conjunto_final = list(set(common) - set(stopwords))"
      ],
      "execution_count": null,
      "outputs": []
    },
    {
      "cell_type": "code",
      "metadata": {
        "colab": {
          "base_uri": "https://localhost:8080/"
        },
        "id": "8JKE7YOv0yBO",
        "outputId": "ae1d995f-8786-4782-c325-2d3092075086"
      },
      "source": [
        "conjunto_final"
      ],
      "execution_count": null,
      "outputs": [
        {
          "output_type": "execute_result",
          "data": {
            "text/plain": [
              "['much',\n",
              " 'time',\n",
              " 'one',\n",
              " 'know',\n",
              " 'thought',\n",
              " 'began',\n",
              " 'way',\n",
              " 'king',\n",
              " 'queen',\n",
              " 'quite',\n",
              " 'would',\n",
              " 'see',\n",
              " 'mock',\n",
              " 'hatter',\n",
              " 'little',\n",
              " 'turtle',\n",
              " 'went',\n",
              " 'said',\n",
              " 'could',\n",
              " 'alice',\n",
              " 'gryphon',\n",
              " 'say',\n",
              " 'like']"
            ]
          },
          "metadata": {
            "tags": []
          },
          "execution_count": 21
        }
      ]
    },
    {
      "cell_type": "code",
      "metadata": {
        "colab": {
          "base_uri": "https://localhost:8080/"
        },
        "id": "IGKHqlOc01iw",
        "outputId": "d38ccc04-d604-4da7-a5d6-85920cc26ff0"
      },
      "source": [
        "len(conjunto_final)"
      ],
      "execution_count": null,
      "outputs": [
        {
          "output_type": "execute_result",
          "data": {
            "text/plain": [
              "23"
            ]
          },
          "metadata": {
            "tags": []
          },
          "execution_count": 22
        }
      ]
    },
    {
      "cell_type": "markdown",
      "metadata": {
        "id": "ifdq1dEt1-2p"
      },
      "source": [
        "Incluir um único arquivo"
      ]
    },
    {
      "cell_type": "code",
      "metadata": {
        "id": "NVfdQrBH19zT"
      },
      "source": [
        "from google.colab import files"
      ],
      "execution_count": null,
      "outputs": []
    },
    {
      "cell_type": "code",
      "metadata": {
        "colab": {
          "base_uri": "https://localhost:8080/",
          "height": 345
        },
        "id": "mwyEYDJh2Kx2",
        "outputId": "9607b14c-6503-4576-eec4-b5ad4a66bb5a"
      },
      "source": [
        "uploaded = files.upload()"
      ],
      "execution_count": null,
      "outputs": [
        {
          "output_type": "display_data",
          "data": {
            "text/html": [
              "\n",
              "     <input type=\"file\" id=\"files-e97e9a0a-c6e1-4084-9170-e56c048a496f\" name=\"files[]\" multiple disabled\n",
              "        style=\"border:none\" />\n",
              "     <output id=\"result-e97e9a0a-c6e1-4084-9170-e56c048a496f\">\n",
              "      Upload widget is only available when the cell has been executed in the\n",
              "      current browser session. Please rerun this cell to enable.\n",
              "      </output>\n",
              "      <script src=\"/nbextensions/google.colab/files.js\"></script> "
            ],
            "text/plain": [
              "<IPython.core.display.HTML object>"
            ]
          },
          "metadata": {
            "tags": []
          }
        },
        {
          "output_type": "error",
          "ename": "MessageError",
          "evalue": "ignored",
          "traceback": [
            "\u001b[0;31m---------------------------------------------------------------------------\u001b[0m",
            "\u001b[0;31mMessageError\u001b[0m                              Traceback (most recent call last)",
            "\u001b[0;32m<ipython-input-59-ed2fd71b4a2f>\u001b[0m in \u001b[0;36m<module>\u001b[0;34m()\u001b[0m\n\u001b[0;32m----> 1\u001b[0;31m \u001b[0muploaded\u001b[0m \u001b[0;34m=\u001b[0m \u001b[0mfiles\u001b[0m\u001b[0;34m.\u001b[0m\u001b[0mupload\u001b[0m\u001b[0;34m(\u001b[0m\u001b[0;34m)\u001b[0m\u001b[0;34m\u001b[0m\u001b[0;34m\u001b[0m\u001b[0m\n\u001b[0m",
            "\u001b[0;32m/usr/local/lib/python3.6/dist-packages/google/colab/files.py\u001b[0m in \u001b[0;36mupload\u001b[0;34m()\u001b[0m\n\u001b[1;32m     62\u001b[0m   result = _output.eval_js(\n\u001b[1;32m     63\u001b[0m       'google.colab._files._uploadFiles(\"{input_id}\", \"{output_id}\")'.format(\n\u001b[0;32m---> 64\u001b[0;31m           input_id=input_id, output_id=output_id))\n\u001b[0m\u001b[1;32m     65\u001b[0m   \u001b[0mfiles\u001b[0m \u001b[0;34m=\u001b[0m \u001b[0m_collections\u001b[0m\u001b[0;34m.\u001b[0m\u001b[0mdefaultdict\u001b[0m\u001b[0;34m(\u001b[0m\u001b[0m_six\u001b[0m\u001b[0;34m.\u001b[0m\u001b[0mbinary_type\u001b[0m\u001b[0;34m)\u001b[0m\u001b[0;34m\u001b[0m\u001b[0;34m\u001b[0m\u001b[0m\n\u001b[1;32m     66\u001b[0m   \u001b[0;31m# Mapping from original filename to filename as saved locally.\u001b[0m\u001b[0;34m\u001b[0m\u001b[0;34m\u001b[0m\u001b[0;34m\u001b[0m\u001b[0m\n",
            "\u001b[0;32m/usr/local/lib/python3.6/dist-packages/google/colab/output/_js.py\u001b[0m in \u001b[0;36meval_js\u001b[0;34m(script, ignore_result)\u001b[0m\n\u001b[1;32m     37\u001b[0m   \u001b[0;32mif\u001b[0m \u001b[0mignore_result\u001b[0m\u001b[0;34m:\u001b[0m\u001b[0;34m\u001b[0m\u001b[0;34m\u001b[0m\u001b[0m\n\u001b[1;32m     38\u001b[0m     \u001b[0;32mreturn\u001b[0m\u001b[0;34m\u001b[0m\u001b[0;34m\u001b[0m\u001b[0m\n\u001b[0;32m---> 39\u001b[0;31m   \u001b[0;32mreturn\u001b[0m \u001b[0m_message\u001b[0m\u001b[0;34m.\u001b[0m\u001b[0mread_reply_from_input\u001b[0m\u001b[0;34m(\u001b[0m\u001b[0mrequest_id\u001b[0m\u001b[0;34m)\u001b[0m\u001b[0;34m\u001b[0m\u001b[0;34m\u001b[0m\u001b[0m\n\u001b[0m\u001b[1;32m     40\u001b[0m \u001b[0;34m\u001b[0m\u001b[0m\n\u001b[1;32m     41\u001b[0m \u001b[0;34m\u001b[0m\u001b[0m\n",
            "\u001b[0;32m/usr/local/lib/python3.6/dist-packages/google/colab/_message.py\u001b[0m in \u001b[0;36mread_reply_from_input\u001b[0;34m(message_id, timeout_sec)\u001b[0m\n\u001b[1;32m    104\u001b[0m         reply.get('colab_msg_id') == message_id):\n\u001b[1;32m    105\u001b[0m       \u001b[0;32mif\u001b[0m \u001b[0;34m'error'\u001b[0m \u001b[0;32min\u001b[0m \u001b[0mreply\u001b[0m\u001b[0;34m:\u001b[0m\u001b[0;34m\u001b[0m\u001b[0;34m\u001b[0m\u001b[0m\n\u001b[0;32m--> 106\u001b[0;31m         \u001b[0;32mraise\u001b[0m \u001b[0mMessageError\u001b[0m\u001b[0;34m(\u001b[0m\u001b[0mreply\u001b[0m\u001b[0;34m[\u001b[0m\u001b[0;34m'error'\u001b[0m\u001b[0;34m]\u001b[0m\u001b[0;34m)\u001b[0m\u001b[0;34m\u001b[0m\u001b[0;34m\u001b[0m\u001b[0m\n\u001b[0m\u001b[1;32m    107\u001b[0m       \u001b[0;32mreturn\u001b[0m \u001b[0mreply\u001b[0m\u001b[0;34m.\u001b[0m\u001b[0mget\u001b[0m\u001b[0;34m(\u001b[0m\u001b[0;34m'data'\u001b[0m\u001b[0;34m,\u001b[0m \u001b[0;32mNone\u001b[0m\u001b[0;34m)\u001b[0m\u001b[0;34m\u001b[0m\u001b[0;34m\u001b[0m\u001b[0m\n\u001b[1;32m    108\u001b[0m \u001b[0;34m\u001b[0m\u001b[0m\n",
            "\u001b[0;31mMessageError\u001b[0m: TypeError: Cannot read property '_uploadFiles' of undefined"
          ]
        }
      ]
    },
    {
      "cell_type": "code",
      "metadata": {
        "colab": {
          "base_uri": "https://localhost:8080/",
          "height": 345
        },
        "id": "R1qfMuxa2pMX",
        "outputId": "243f14c2-c9ed-4cd7-8fe5-8b40ed3ab816"
      },
      "source": [
        "uploaded = files.upload()"
      ],
      "execution_count": null,
      "outputs": [
        {
          "output_type": "display_data",
          "data": {
            "text/html": [
              "\n",
              "     <input type=\"file\" id=\"files-a03b8531-8a04-46b1-9cd3-8b0a93d368a5\" name=\"files[]\" multiple disabled\n",
              "        style=\"border:none\" />\n",
              "     <output id=\"result-a03b8531-8a04-46b1-9cd3-8b0a93d368a5\">\n",
              "      Upload widget is only available when the cell has been executed in the\n",
              "      current browser session. Please rerun this cell to enable.\n",
              "      </output>\n",
              "      <script src=\"/nbextensions/google.colab/files.js\"></script> "
            ],
            "text/plain": [
              "<IPython.core.display.HTML object>"
            ]
          },
          "metadata": {
            "tags": []
          }
        },
        {
          "output_type": "error",
          "ename": "MessageError",
          "evalue": "ignored",
          "traceback": [
            "\u001b[0;31m---------------------------------------------------------------------------\u001b[0m",
            "\u001b[0;31mMessageError\u001b[0m                              Traceback (most recent call last)",
            "\u001b[0;32m<ipython-input-60-ed2fd71b4a2f>\u001b[0m in \u001b[0;36m<module>\u001b[0;34m()\u001b[0m\n\u001b[0;32m----> 1\u001b[0;31m \u001b[0muploaded\u001b[0m \u001b[0;34m=\u001b[0m \u001b[0mfiles\u001b[0m\u001b[0;34m.\u001b[0m\u001b[0mupload\u001b[0m\u001b[0;34m(\u001b[0m\u001b[0;34m)\u001b[0m\u001b[0;34m\u001b[0m\u001b[0;34m\u001b[0m\u001b[0m\n\u001b[0m",
            "\u001b[0;32m/usr/local/lib/python3.6/dist-packages/google/colab/files.py\u001b[0m in \u001b[0;36mupload\u001b[0;34m()\u001b[0m\n\u001b[1;32m     62\u001b[0m   result = _output.eval_js(\n\u001b[1;32m     63\u001b[0m       'google.colab._files._uploadFiles(\"{input_id}\", \"{output_id}\")'.format(\n\u001b[0;32m---> 64\u001b[0;31m           input_id=input_id, output_id=output_id))\n\u001b[0m\u001b[1;32m     65\u001b[0m   \u001b[0mfiles\u001b[0m \u001b[0;34m=\u001b[0m \u001b[0m_collections\u001b[0m\u001b[0;34m.\u001b[0m\u001b[0mdefaultdict\u001b[0m\u001b[0;34m(\u001b[0m\u001b[0m_six\u001b[0m\u001b[0;34m.\u001b[0m\u001b[0mbinary_type\u001b[0m\u001b[0;34m)\u001b[0m\u001b[0;34m\u001b[0m\u001b[0;34m\u001b[0m\u001b[0m\n\u001b[1;32m     66\u001b[0m   \u001b[0;31m# Mapping from original filename to filename as saved locally.\u001b[0m\u001b[0;34m\u001b[0m\u001b[0;34m\u001b[0m\u001b[0;34m\u001b[0m\u001b[0m\n",
            "\u001b[0;32m/usr/local/lib/python3.6/dist-packages/google/colab/output/_js.py\u001b[0m in \u001b[0;36meval_js\u001b[0;34m(script, ignore_result)\u001b[0m\n\u001b[1;32m     37\u001b[0m   \u001b[0;32mif\u001b[0m \u001b[0mignore_result\u001b[0m\u001b[0;34m:\u001b[0m\u001b[0;34m\u001b[0m\u001b[0;34m\u001b[0m\u001b[0m\n\u001b[1;32m     38\u001b[0m     \u001b[0;32mreturn\u001b[0m\u001b[0;34m\u001b[0m\u001b[0;34m\u001b[0m\u001b[0m\n\u001b[0;32m---> 39\u001b[0;31m   \u001b[0;32mreturn\u001b[0m \u001b[0m_message\u001b[0m\u001b[0;34m.\u001b[0m\u001b[0mread_reply_from_input\u001b[0m\u001b[0;34m(\u001b[0m\u001b[0mrequest_id\u001b[0m\u001b[0;34m)\u001b[0m\u001b[0;34m\u001b[0m\u001b[0;34m\u001b[0m\u001b[0m\n\u001b[0m\u001b[1;32m     40\u001b[0m \u001b[0;34m\u001b[0m\u001b[0m\n\u001b[1;32m     41\u001b[0m \u001b[0;34m\u001b[0m\u001b[0m\n",
            "\u001b[0;32m/usr/local/lib/python3.6/dist-packages/google/colab/_message.py\u001b[0m in \u001b[0;36mread_reply_from_input\u001b[0;34m(message_id, timeout_sec)\u001b[0m\n\u001b[1;32m    104\u001b[0m         reply.get('colab_msg_id') == message_id):\n\u001b[1;32m    105\u001b[0m       \u001b[0;32mif\u001b[0m \u001b[0;34m'error'\u001b[0m \u001b[0;32min\u001b[0m \u001b[0mreply\u001b[0m\u001b[0;34m:\u001b[0m\u001b[0;34m\u001b[0m\u001b[0;34m\u001b[0m\u001b[0m\n\u001b[0;32m--> 106\u001b[0;31m         \u001b[0;32mraise\u001b[0m \u001b[0mMessageError\u001b[0m\u001b[0;34m(\u001b[0m\u001b[0mreply\u001b[0m\u001b[0;34m[\u001b[0m\u001b[0;34m'error'\u001b[0m\u001b[0;34m]\u001b[0m\u001b[0;34m)\u001b[0m\u001b[0;34m\u001b[0m\u001b[0;34m\u001b[0m\u001b[0m\n\u001b[0m\u001b[1;32m    107\u001b[0m       \u001b[0;32mreturn\u001b[0m \u001b[0mreply\u001b[0m\u001b[0;34m.\u001b[0m\u001b[0mget\u001b[0m\u001b[0;34m(\u001b[0m\u001b[0;34m'data'\u001b[0m\u001b[0;34m,\u001b[0m \u001b[0;32mNone\u001b[0m\u001b[0;34m)\u001b[0m\u001b[0;34m\u001b[0m\u001b[0;34m\u001b[0m\u001b[0m\n\u001b[1;32m    108\u001b[0m \u001b[0;34m\u001b[0m\u001b[0m\n",
            "\u001b[0;31mMessageError\u001b[0m: TypeError: Cannot read property '_uploadFiles' of undefined"
          ]
        }
      ]
    },
    {
      "cell_type": "code",
      "metadata": {
        "id": "7cm4_s3n28UA"
      },
      "source": [
        "from google.colab import drive"
      ],
      "execution_count": null,
      "outputs": []
    },
    {
      "cell_type": "code",
      "metadata": {
        "colab": {
          "base_uri": "https://localhost:8080/",
          "height": 528
        },
        "id": "qE_wkp1c4xTL",
        "outputId": "d2366dd3-04c3-4ead-a521-30677490fd8b"
      },
      "source": [
        "drive.mount('/content/drive')"
      ],
      "execution_count": null,
      "outputs": [
        {
          "output_type": "error",
          "ename": "KeyboardInterrupt",
          "evalue": "ignored",
          "traceback": [
            "\u001b[0;31m---------------------------------------------------------------------------\u001b[0m",
            "\u001b[0;31mKeyboardInterrupt\u001b[0m                         Traceback (most recent call last)",
            "\u001b[0;32m/usr/local/lib/python3.6/dist-packages/ipykernel/kernelbase.py\u001b[0m in \u001b[0;36m_input_request\u001b[0;34m(self, prompt, ident, parent, password)\u001b[0m\n\u001b[1;32m    728\u001b[0m             \u001b[0;32mtry\u001b[0m\u001b[0;34m:\u001b[0m\u001b[0;34m\u001b[0m\u001b[0;34m\u001b[0m\u001b[0m\n\u001b[0;32m--> 729\u001b[0;31m                 \u001b[0mident\u001b[0m\u001b[0;34m,\u001b[0m \u001b[0mreply\u001b[0m \u001b[0;34m=\u001b[0m \u001b[0mself\u001b[0m\u001b[0;34m.\u001b[0m\u001b[0msession\u001b[0m\u001b[0;34m.\u001b[0m\u001b[0mrecv\u001b[0m\u001b[0;34m(\u001b[0m\u001b[0mself\u001b[0m\u001b[0;34m.\u001b[0m\u001b[0mstdin_socket\u001b[0m\u001b[0;34m,\u001b[0m \u001b[0;36m0\u001b[0m\u001b[0;34m)\u001b[0m\u001b[0;34m\u001b[0m\u001b[0;34m\u001b[0m\u001b[0m\n\u001b[0m\u001b[1;32m    730\u001b[0m             \u001b[0;32mexcept\u001b[0m \u001b[0mException\u001b[0m\u001b[0;34m:\u001b[0m\u001b[0;34m\u001b[0m\u001b[0;34m\u001b[0m\u001b[0m\n",
            "\u001b[0;32m/usr/local/lib/python3.6/dist-packages/jupyter_client/session.py\u001b[0m in \u001b[0;36mrecv\u001b[0;34m(self, socket, mode, content, copy)\u001b[0m\n\u001b[1;32m    802\u001b[0m         \u001b[0;32mtry\u001b[0m\u001b[0;34m:\u001b[0m\u001b[0;34m\u001b[0m\u001b[0;34m\u001b[0m\u001b[0m\n\u001b[0;32m--> 803\u001b[0;31m             \u001b[0mmsg_list\u001b[0m \u001b[0;34m=\u001b[0m \u001b[0msocket\u001b[0m\u001b[0;34m.\u001b[0m\u001b[0mrecv_multipart\u001b[0m\u001b[0;34m(\u001b[0m\u001b[0mmode\u001b[0m\u001b[0;34m,\u001b[0m \u001b[0mcopy\u001b[0m\u001b[0;34m=\u001b[0m\u001b[0mcopy\u001b[0m\u001b[0;34m)\u001b[0m\u001b[0;34m\u001b[0m\u001b[0;34m\u001b[0m\u001b[0m\n\u001b[0m\u001b[1;32m    804\u001b[0m         \u001b[0;32mexcept\u001b[0m \u001b[0mzmq\u001b[0m\u001b[0;34m.\u001b[0m\u001b[0mZMQError\u001b[0m \u001b[0;32mas\u001b[0m \u001b[0me\u001b[0m\u001b[0;34m:\u001b[0m\u001b[0;34m\u001b[0m\u001b[0;34m\u001b[0m\u001b[0m\n",
            "\u001b[0;32m/usr/local/lib/python3.6/dist-packages/zmq/sugar/socket.py\u001b[0m in \u001b[0;36mrecv_multipart\u001b[0;34m(self, flags, copy, track)\u001b[0m\n\u001b[1;32m    565\u001b[0m         \"\"\"\n\u001b[0;32m--> 566\u001b[0;31m         \u001b[0mparts\u001b[0m \u001b[0;34m=\u001b[0m \u001b[0;34m[\u001b[0m\u001b[0mself\u001b[0m\u001b[0;34m.\u001b[0m\u001b[0mrecv\u001b[0m\u001b[0;34m(\u001b[0m\u001b[0mflags\u001b[0m\u001b[0;34m,\u001b[0m \u001b[0mcopy\u001b[0m\u001b[0;34m=\u001b[0m\u001b[0mcopy\u001b[0m\u001b[0;34m,\u001b[0m \u001b[0mtrack\u001b[0m\u001b[0;34m=\u001b[0m\u001b[0mtrack\u001b[0m\u001b[0;34m)\u001b[0m\u001b[0;34m]\u001b[0m\u001b[0;34m\u001b[0m\u001b[0;34m\u001b[0m\u001b[0m\n\u001b[0m\u001b[1;32m    567\u001b[0m         \u001b[0;31m# have first part already, only loop while more to receive\u001b[0m\u001b[0;34m\u001b[0m\u001b[0;34m\u001b[0m\u001b[0;34m\u001b[0m\u001b[0m\n",
            "\u001b[0;32mzmq/backend/cython/socket.pyx\u001b[0m in \u001b[0;36mzmq.backend.cython.socket.Socket.recv\u001b[0;34m()\u001b[0m\n",
            "\u001b[0;32mzmq/backend/cython/socket.pyx\u001b[0m in \u001b[0;36mzmq.backend.cython.socket.Socket.recv\u001b[0;34m()\u001b[0m\n",
            "\u001b[0;32mzmq/backend/cython/socket.pyx\u001b[0m in \u001b[0;36mzmq.backend.cython.socket._recv_copy\u001b[0;34m()\u001b[0m\n",
            "\u001b[0;32m/usr/local/lib/python3.6/dist-packages/zmq/backend/cython/checkrc.pxd\u001b[0m in \u001b[0;36mzmq.backend.cython.checkrc._check_rc\u001b[0;34m()\u001b[0m\n",
            "\u001b[0;31mKeyboardInterrupt\u001b[0m: ",
            "\nDuring handling of the above exception, another exception occurred:\n",
            "\u001b[0;31mKeyboardInterrupt\u001b[0m                         Traceback (most recent call last)",
            "\u001b[0;32m<ipython-input-27-3b8a479202a4>\u001b[0m in \u001b[0;36m<module>\u001b[0;34m()\u001b[0m\n\u001b[0;32m----> 1\u001b[0;31m \u001b[0mdrive\u001b[0m\u001b[0;34m.\u001b[0m\u001b[0mmount\u001b[0m\u001b[0;34m(\u001b[0m\u001b[0;34m'/content/drive'\u001b[0m\u001b[0;34m)\u001b[0m\u001b[0;34m\u001b[0m\u001b[0;34m\u001b[0m\u001b[0m\n\u001b[0m",
            "\u001b[0;32m/usr/local/lib/python3.6/dist-packages/google/colab/drive.py\u001b[0m in \u001b[0;36mmount\u001b[0;34m(mountpoint, force_remount, timeout_ms, use_metadata_server)\u001b[0m\n\u001b[1;32m    253\u001b[0m       \u001b[0;32mwith\u001b[0m \u001b[0m_output\u001b[0m\u001b[0;34m.\u001b[0m\u001b[0muse_tags\u001b[0m\u001b[0;34m(\u001b[0m\u001b[0;34m'dfs-auth-dance'\u001b[0m\u001b[0;34m)\u001b[0m\u001b[0;34m:\u001b[0m\u001b[0;34m\u001b[0m\u001b[0;34m\u001b[0m\u001b[0m\n\u001b[1;32m    254\u001b[0m         \u001b[0;32mwith\u001b[0m \u001b[0mopen\u001b[0m\u001b[0;34m(\u001b[0m\u001b[0mfifo\u001b[0m\u001b[0;34m,\u001b[0m \u001b[0;34m'w'\u001b[0m\u001b[0;34m)\u001b[0m \u001b[0;32mas\u001b[0m \u001b[0mfifo_file\u001b[0m\u001b[0;34m:\u001b[0m\u001b[0;34m\u001b[0m\u001b[0;34m\u001b[0m\u001b[0m\n\u001b[0;32m--> 255\u001b[0;31m           \u001b[0mfifo_file\u001b[0m\u001b[0;34m.\u001b[0m\u001b[0mwrite\u001b[0m\u001b[0;34m(\u001b[0m\u001b[0mget_code\u001b[0m\u001b[0;34m(\u001b[0m\u001b[0mauth_prompt\u001b[0m\u001b[0;34m)\u001b[0m \u001b[0;34m+\u001b[0m \u001b[0;34m'\\n'\u001b[0m\u001b[0;34m)\u001b[0m\u001b[0;34m\u001b[0m\u001b[0;34m\u001b[0m\u001b[0m\n\u001b[0m\u001b[1;32m    256\u001b[0m       \u001b[0mwrote_to_fifo\u001b[0m \u001b[0;34m=\u001b[0m \u001b[0;32mTrue\u001b[0m\u001b[0;34m\u001b[0m\u001b[0;34m\u001b[0m\u001b[0m\n\u001b[1;32m    257\u001b[0m     \u001b[0;32melif\u001b[0m \u001b[0mcase\u001b[0m \u001b[0;34m==\u001b[0m \u001b[0;36m5\u001b[0m\u001b[0;34m:\u001b[0m\u001b[0;34m\u001b[0m\u001b[0;34m\u001b[0m\u001b[0m\n",
            "\u001b[0;32m/usr/local/lib/python3.6/dist-packages/ipykernel/kernelbase.py\u001b[0m in \u001b[0;36mraw_input\u001b[0;34m(self, prompt)\u001b[0m\n\u001b[1;32m    702\u001b[0m             \u001b[0mself\u001b[0m\u001b[0;34m.\u001b[0m\u001b[0m_parent_ident\u001b[0m\u001b[0;34m,\u001b[0m\u001b[0;34m\u001b[0m\u001b[0;34m\u001b[0m\u001b[0m\n\u001b[1;32m    703\u001b[0m             \u001b[0mself\u001b[0m\u001b[0;34m.\u001b[0m\u001b[0m_parent_header\u001b[0m\u001b[0;34m,\u001b[0m\u001b[0;34m\u001b[0m\u001b[0;34m\u001b[0m\u001b[0m\n\u001b[0;32m--> 704\u001b[0;31m             \u001b[0mpassword\u001b[0m\u001b[0;34m=\u001b[0m\u001b[0;32mFalse\u001b[0m\u001b[0;34m,\u001b[0m\u001b[0;34m\u001b[0m\u001b[0;34m\u001b[0m\u001b[0m\n\u001b[0m\u001b[1;32m    705\u001b[0m         )\n\u001b[1;32m    706\u001b[0m \u001b[0;34m\u001b[0m\u001b[0m\n",
            "\u001b[0;32m/usr/local/lib/python3.6/dist-packages/ipykernel/kernelbase.py\u001b[0m in \u001b[0;36m_input_request\u001b[0;34m(self, prompt, ident, parent, password)\u001b[0m\n\u001b[1;32m    732\u001b[0m             \u001b[0;32mexcept\u001b[0m \u001b[0mKeyboardInterrupt\u001b[0m\u001b[0;34m:\u001b[0m\u001b[0;34m\u001b[0m\u001b[0;34m\u001b[0m\u001b[0m\n\u001b[1;32m    733\u001b[0m                 \u001b[0;31m# re-raise KeyboardInterrupt, to truncate traceback\u001b[0m\u001b[0;34m\u001b[0m\u001b[0;34m\u001b[0m\u001b[0;34m\u001b[0m\u001b[0m\n\u001b[0;32m--> 734\u001b[0;31m                 \u001b[0;32mraise\u001b[0m \u001b[0mKeyboardInterrupt\u001b[0m\u001b[0;34m\u001b[0m\u001b[0;34m\u001b[0m\u001b[0m\n\u001b[0m\u001b[1;32m    735\u001b[0m             \u001b[0;32melse\u001b[0m\u001b[0;34m:\u001b[0m\u001b[0;34m\u001b[0m\u001b[0;34m\u001b[0m\u001b[0m\n\u001b[1;32m    736\u001b[0m                 \u001b[0;32mbreak\u001b[0m\u001b[0;34m\u001b[0m\u001b[0;34m\u001b[0m\u001b[0m\n",
            "\u001b[0;31mKeyboardInterrupt\u001b[0m: "
          ]
        }
      ]
    },
    {
      "cell_type": "markdown",
      "metadata": {
        "id": "XyVoyqtm54dk"
      },
      "source": [
        "Leitura de arquivos"
      ]
    },
    {
      "cell_type": "code",
      "metadata": {
        "id": "QnI4FUfG50-U"
      },
      "source": [
        "text = open(\"exemplo.txt\").read()"
      ],
      "execution_count": null,
      "outputs": []
    },
    {
      "cell_type": "code",
      "metadata": {
        "colab": {
          "base_uri": "https://localhost:8080/",
          "height": 171
        },
        "id": "PsX8v2ca6Kit",
        "outputId": "49fe78d9-fe34-4861-e457-f3f4ddcfc2fe"
      },
      "source": [
        "text"
      ],
      "execution_count": null,
      "outputs": [
        {
          "output_type": "execute_result",
          "data": {
            "application/vnd.google.colaboratory.intrinsic+json": {
              "type": "string"
            },
            "text/plain": [
              "'World War II (WWII or WW2), also known as the Second World War, was a global war that lasted from 1939 to 1945, though related conflicts began earlier. It involved the vast majority of the world\\'s nations—including all of the great powers—eventually forming two opposing military alliances: the Allies and the Axis. It was the most widespread war in history, and directly involved more than 100 million people from over 30 countries. In a state of \"total war\", the major participants threw their entire economic, industrial, and scientific capabilities behind the war effort, erasing the distinction between civilian and military resources. Marked by mass deaths of civilians, including the Holocaust (in which approximately 11 million people were killed) and the strategic bombing of industrial and population centres (in which approximately one million were killed, and which included the atomic bombings of Hiroshima and Nagasaki), it resulted in an estimated 50 million to 85 million fatalities. These made World War II the deadliest conflict in human history.\\n\\nThe Empire of Japan aimed to dominate Asia and the Pacific and was already at war with the Republic of China in 1937, but the world war is generally said to have begun on 1 September 1939 with the invasion of Poland by Germany and subsequent declarations of war on Germany by France and the United Kingdom. From late 1939 to early 1941, in a series of campaigns and treaties, Germany conquered or controlled much of continental Europe, and formed the Axis alliance with Italy and Japan. Based on the Molotov–Ribbentrop Pact of August 1939, Germany and the Soviet Union partitioned and annexed territories of their European neighbours, Poland, Finland, Romania and the Baltic states. For a year starting in late June 1940, the United Kingdom and the British Commonwealth were the only Allied forces continuing the fight against the European Axis powers, with campaigns in North Africa and the Horn of Africa, the aerial Battle of Britain and the Blitz bombing campaign, as well as the long-running Battle of the Atlantic. In June 1941, the European Axis powers launched an invasion of the Soviet Union, opening the largest land theatre of war in history, which trapped the major part of the Axis\\' military forces into a war of attrition. In December 1941, Japan attacked the United States and European territories in the Pacific Ocean, and quickly conquered much of the Western Pacific.\\n\\nThe Axis advance halted in 1942 when Japan lost the critical Battle of Midway, near Hawaii, and Germany was defeated in North Africa and then, decisively, at Stalingrad in the Soviet Union. In 1943, with a series of German defeats on the Eastern Front, the Allied invasion of Italy which brought about Italian surrender, and Allied victories in the Pacific, the Axis lost the initiative and undertook strategic retreat on all fronts. In 1944, the Western Allies invaded German-occupied France, while the Soviet Union regained all of its territorial losses and invaded Germany and its allies. During 1944 and 1945 the Japanese suffered major reverses in mainland Asia in South Central China and Burma, while the Allies crippled the Japanese Navy and captured key Western Pacific islands.\\n\\nThe war in Europe ended with an invasion of Germany by the Western Allies and the Soviet Union culminating in the capture of Berlin by Soviet and Polish troops and the subsequent German unconditional surrender on 8 May 1945. Following the Potsdam Declaration by the Allies on 26 July 1945 and the refusal of Japan to surrender under its terms, the United States dropped atomic bombs on the Japanese cities of Hiroshima and Nagasaki on 6 August and 9 August respectively. With an invasion of the Japanese archipelago imminent, the possibility of additional atomic bombings, and the Soviet Union\\'s declaration of war on Japan and invasion of Manchuria, Japan surrendered on 15 August 1945. Thus ended the war in Asia, cementing the total victory of the Allies.\\n\\nWorld War II altered the political alignment and social structure of the world. The United Nations (UN) was established to foster international co-operation and prevent future conflicts. The victorious great powers—the United States, the Soviet Union, China, the United Kingdom, and France—became the permanent members of the United Nations Security Council. The Soviet Union and the United States emerged as rival superpowers, setting the stage for the Cold War, which lasted for the next 46 years. Meanwhile, the influence of European great powers waned, while the decolonisation of Asia and Africa began. Most countries whose industries had been damaged moved towards economic recovery. Political integration, especially in Europe, emerged as an effort to end pre-war enmities and to create a common identity.\\n\\n'"
            ]
          },
          "metadata": {
            "tags": []
          },
          "execution_count": 29
        }
      ]
    },
    {
      "cell_type": "code",
      "metadata": {
        "colab": {
          "base_uri": "https://localhost:8080/"
        },
        "id": "M14tqxGt6Q6U",
        "outputId": "c7498215-f073-4576-d0d5-f9c935fcc6bb"
      },
      "source": [
        "nltk.download('punkt')"
      ],
      "execution_count": null,
      "outputs": [
        {
          "output_type": "stream",
          "text": [
            "[nltk_data] Downloading package punkt to /root/nltk_data...\n",
            "[nltk_data]   Unzipping tokenizers/punkt.zip.\n"
          ],
          "name": "stdout"
        },
        {
          "output_type": "execute_result",
          "data": {
            "text/plain": [
              "True"
            ]
          },
          "metadata": {
            "tags": []
          },
          "execution_count": 30
        }
      ]
    },
    {
      "cell_type": "code",
      "metadata": {
        "colab": {
          "base_uri": "https://localhost:8080/"
        },
        "id": "1j7LLUMW6XGz",
        "outputId": "c7196727-e4dc-4a9c-fd90-a266ff8d43b4"
      },
      "source": [
        "nltk.download('averaged_perceptron_tagger')"
      ],
      "execution_count": null,
      "outputs": [
        {
          "output_type": "stream",
          "text": [
            "[nltk_data] Downloading package averaged_perceptron_tagger to\n",
            "[nltk_data]     /root/nltk_data...\n",
            "[nltk_data]   Unzipping taggers/averaged_perceptron_tagger.zip.\n"
          ],
          "name": "stdout"
        },
        {
          "output_type": "execute_result",
          "data": {
            "text/plain": [
              "True"
            ]
          },
          "metadata": {
            "tags": []
          },
          "execution_count": 31
        }
      ]
    },
    {
      "cell_type": "code",
      "metadata": {
        "id": "QGh8MtTX6e2X"
      },
      "source": [
        "text_tag = nltk.pos_tag(nltk.word_tokenize(text))"
      ],
      "execution_count": null,
      "outputs": []
    },
    {
      "cell_type": "code",
      "metadata": {
        "id": "d7G6_E_T60Hy",
        "colab": {
          "base_uri": "https://localhost:8080/"
        },
        "outputId": "8868ba44-0294-4dc6-e4a7-639b14751711"
      },
      "source": [
        "text_tag"
      ],
      "execution_count": null,
      "outputs": [
        {
          "output_type": "execute_result",
          "data": {
            "text/plain": [
              "[('World', 'NNP'),\n",
              " ('War', 'NNP'),\n",
              " ('II', 'NNP'),\n",
              " ('(', '('),\n",
              " ('WWII', 'NNP'),\n",
              " ('or', 'CC'),\n",
              " ('WW2', 'NNP'),\n",
              " (')', ')'),\n",
              " (',', ','),\n",
              " ('also', 'RB'),\n",
              " ('known', 'VBN'),\n",
              " ('as', 'IN'),\n",
              " ('the', 'DT'),\n",
              " ('Second', 'NNP'),\n",
              " ('World', 'NNP'),\n",
              " ('War', 'NNP'),\n",
              " (',', ','),\n",
              " ('was', 'VBD'),\n",
              " ('a', 'DT'),\n",
              " ('global', 'JJ'),\n",
              " ('war', 'NN'),\n",
              " ('that', 'WDT'),\n",
              " ('lasted', 'VBD'),\n",
              " ('from', 'IN'),\n",
              " ('1939', 'CD'),\n",
              " ('to', 'TO'),\n",
              " ('1945', 'CD'),\n",
              " (',', ','),\n",
              " ('though', 'RB'),\n",
              " ('related', 'JJ'),\n",
              " ('conflicts', 'NNS'),\n",
              " ('began', 'VBD'),\n",
              " ('earlier', 'RB'),\n",
              " ('.', '.'),\n",
              " ('It', 'PRP'),\n",
              " ('involved', 'VBD'),\n",
              " ('the', 'DT'),\n",
              " ('vast', 'JJ'),\n",
              " ('majority', 'NN'),\n",
              " ('of', 'IN'),\n",
              " ('the', 'DT'),\n",
              " ('world', 'NN'),\n",
              " (\"'s\", 'POS'),\n",
              " ('nations—including', 'VBG'),\n",
              " ('all', 'DT'),\n",
              " ('of', 'IN'),\n",
              " ('the', 'DT'),\n",
              " ('great', 'JJ'),\n",
              " ('powers—eventually', 'RB'),\n",
              " ('forming', 'VBG'),\n",
              " ('two', 'CD'),\n",
              " ('opposing', 'VBG'),\n",
              " ('military', 'JJ'),\n",
              " ('alliances', 'NNS'),\n",
              " (':', ':'),\n",
              " ('the', 'DT'),\n",
              " ('Allies', 'NNS'),\n",
              " ('and', 'CC'),\n",
              " ('the', 'DT'),\n",
              " ('Axis', 'NNP'),\n",
              " ('.', '.'),\n",
              " ('It', 'PRP'),\n",
              " ('was', 'VBD'),\n",
              " ('the', 'DT'),\n",
              " ('most', 'RBS'),\n",
              " ('widespread', 'JJ'),\n",
              " ('war', 'NN'),\n",
              " ('in', 'IN'),\n",
              " ('history', 'NN'),\n",
              " (',', ','),\n",
              " ('and', 'CC'),\n",
              " ('directly', 'RB'),\n",
              " ('involved', 'VBD'),\n",
              " ('more', 'JJR'),\n",
              " ('than', 'IN'),\n",
              " ('100', 'CD'),\n",
              " ('million', 'CD'),\n",
              " ('people', 'NNS'),\n",
              " ('from', 'IN'),\n",
              " ('over', 'IN'),\n",
              " ('30', 'CD'),\n",
              " ('countries', 'NNS'),\n",
              " ('.', '.'),\n",
              " ('In', 'IN'),\n",
              " ('a', 'DT'),\n",
              " ('state', 'NN'),\n",
              " ('of', 'IN'),\n",
              " ('``', '``'),\n",
              " ('total', 'JJ'),\n",
              " ('war', 'NN'),\n",
              " (\"''\", \"''\"),\n",
              " (',', ','),\n",
              " ('the', 'DT'),\n",
              " ('major', 'JJ'),\n",
              " ('participants', 'NNS'),\n",
              " ('threw', 'VBD'),\n",
              " ('their', 'PRP$'),\n",
              " ('entire', 'JJ'),\n",
              " ('economic', 'JJ'),\n",
              " (',', ','),\n",
              " ('industrial', 'JJ'),\n",
              " (',', ','),\n",
              " ('and', 'CC'),\n",
              " ('scientific', 'JJ'),\n",
              " ('capabilities', 'NNS'),\n",
              " ('behind', 'IN'),\n",
              " ('the', 'DT'),\n",
              " ('war', 'NN'),\n",
              " ('effort', 'NN'),\n",
              " (',', ','),\n",
              " ('erasing', 'VBG'),\n",
              " ('the', 'DT'),\n",
              " ('distinction', 'NN'),\n",
              " ('between', 'IN'),\n",
              " ('civilian', 'JJ'),\n",
              " ('and', 'CC'),\n",
              " ('military', 'JJ'),\n",
              " ('resources', 'NNS'),\n",
              " ('.', '.'),\n",
              " ('Marked', 'VBN'),\n",
              " ('by', 'IN'),\n",
              " ('mass', 'JJ'),\n",
              " ('deaths', 'NNS'),\n",
              " ('of', 'IN'),\n",
              " ('civilians', 'NNS'),\n",
              " (',', ','),\n",
              " ('including', 'VBG'),\n",
              " ('the', 'DT'),\n",
              " ('Holocaust', 'NNP'),\n",
              " ('(', '('),\n",
              " ('in', 'IN'),\n",
              " ('which', 'WDT'),\n",
              " ('approximately', 'RB'),\n",
              " ('11', 'CD'),\n",
              " ('million', 'CD'),\n",
              " ('people', 'NNS'),\n",
              " ('were', 'VBD'),\n",
              " ('killed', 'VBN'),\n",
              " (')', ')'),\n",
              " ('and', 'CC'),\n",
              " ('the', 'DT'),\n",
              " ('strategic', 'JJ'),\n",
              " ('bombing', 'NN'),\n",
              " ('of', 'IN'),\n",
              " ('industrial', 'JJ'),\n",
              " ('and', 'CC'),\n",
              " ('population', 'NN'),\n",
              " ('centres', 'NNS'),\n",
              " ('(', '('),\n",
              " ('in', 'IN'),\n",
              " ('which', 'WDT'),\n",
              " ('approximately', 'RB'),\n",
              " ('one', 'CD'),\n",
              " ('million', 'CD'),\n",
              " ('were', 'VBD'),\n",
              " ('killed', 'VBN'),\n",
              " (',', ','),\n",
              " ('and', 'CC'),\n",
              " ('which', 'WDT'),\n",
              " ('included', 'VBD'),\n",
              " ('the', 'DT'),\n",
              " ('atomic', 'JJ'),\n",
              " ('bombings', 'NNS'),\n",
              " ('of', 'IN'),\n",
              " ('Hiroshima', 'NNP'),\n",
              " ('and', 'CC'),\n",
              " ('Nagasaki', 'NNP'),\n",
              " (')', ')'),\n",
              " (',', ','),\n",
              " ('it', 'PRP'),\n",
              " ('resulted', 'VBD'),\n",
              " ('in', 'IN'),\n",
              " ('an', 'DT'),\n",
              " ('estimated', 'JJ'),\n",
              " ('50', 'CD'),\n",
              " ('million', 'CD'),\n",
              " ('to', 'TO'),\n",
              " ('85', 'CD'),\n",
              " ('million', 'CD'),\n",
              " ('fatalities', 'NNS'),\n",
              " ('.', '.'),\n",
              " ('These', 'DT'),\n",
              " ('made', 'VBD'),\n",
              " ('World', 'NNP'),\n",
              " ('War', 'NNP'),\n",
              " ('II', 'NNP'),\n",
              " ('the', 'DT'),\n",
              " ('deadliest', 'JJS'),\n",
              " ('conflict', 'NN'),\n",
              " ('in', 'IN'),\n",
              " ('human', 'JJ'),\n",
              " ('history', 'NN'),\n",
              " ('.', '.'),\n",
              " ('The', 'DT'),\n",
              " ('Empire', 'NN'),\n",
              " ('of', 'IN'),\n",
              " ('Japan', 'NNP'),\n",
              " ('aimed', 'VBD'),\n",
              " ('to', 'TO'),\n",
              " ('dominate', 'VB'),\n",
              " ('Asia', 'NNP'),\n",
              " ('and', 'CC'),\n",
              " ('the', 'DT'),\n",
              " ('Pacific', 'NNP'),\n",
              " ('and', 'CC'),\n",
              " ('was', 'VBD'),\n",
              " ('already', 'RB'),\n",
              " ('at', 'IN'),\n",
              " ('war', 'NN'),\n",
              " ('with', 'IN'),\n",
              " ('the', 'DT'),\n",
              " ('Republic', 'NNP'),\n",
              " ('of', 'IN'),\n",
              " ('China', 'NNP'),\n",
              " ('in', 'IN'),\n",
              " ('1937', 'CD'),\n",
              " (',', ','),\n",
              " ('but', 'CC'),\n",
              " ('the', 'DT'),\n",
              " ('world', 'NN'),\n",
              " ('war', 'NN'),\n",
              " ('is', 'VBZ'),\n",
              " ('generally', 'RB'),\n",
              " ('said', 'VBD'),\n",
              " ('to', 'TO'),\n",
              " ('have', 'VB'),\n",
              " ('begun', 'VBN'),\n",
              " ('on', 'IN'),\n",
              " ('1', 'CD'),\n",
              " ('September', 'NNP'),\n",
              " ('1939', 'CD'),\n",
              " ('with', 'IN'),\n",
              " ('the', 'DT'),\n",
              " ('invasion', 'NN'),\n",
              " ('of', 'IN'),\n",
              " ('Poland', 'NNP'),\n",
              " ('by', 'IN'),\n",
              " ('Germany', 'NNP'),\n",
              " ('and', 'CC'),\n",
              " ('subsequent', 'JJ'),\n",
              " ('declarations', 'NNS'),\n",
              " ('of', 'IN'),\n",
              " ('war', 'NN'),\n",
              " ('on', 'IN'),\n",
              " ('Germany', 'NNP'),\n",
              " ('by', 'IN'),\n",
              " ('France', 'NNP'),\n",
              " ('and', 'CC'),\n",
              " ('the', 'DT'),\n",
              " ('United', 'NNP'),\n",
              " ('Kingdom', 'NNP'),\n",
              " ('.', '.'),\n",
              " ('From', 'IN'),\n",
              " ('late', 'JJ'),\n",
              " ('1939', 'CD'),\n",
              " ('to', 'TO'),\n",
              " ('early', 'JJ'),\n",
              " ('1941', 'CD'),\n",
              " (',', ','),\n",
              " ('in', 'IN'),\n",
              " ('a', 'DT'),\n",
              " ('series', 'NN'),\n",
              " ('of', 'IN'),\n",
              " ('campaigns', 'NNS'),\n",
              " ('and', 'CC'),\n",
              " ('treaties', 'NNS'),\n",
              " (',', ','),\n",
              " ('Germany', 'NNP'),\n",
              " ('conquered', 'VBD'),\n",
              " ('or', 'CC'),\n",
              " ('controlled', 'VBD'),\n",
              " ('much', 'RB'),\n",
              " ('of', 'IN'),\n",
              " ('continental', 'JJ'),\n",
              " ('Europe', 'NNP'),\n",
              " (',', ','),\n",
              " ('and', 'CC'),\n",
              " ('formed', 'VBD'),\n",
              " ('the', 'DT'),\n",
              " ('Axis', 'NNP'),\n",
              " ('alliance', 'NN'),\n",
              " ('with', 'IN'),\n",
              " ('Italy', 'NNP'),\n",
              " ('and', 'CC'),\n",
              " ('Japan', 'NNP'),\n",
              " ('.', '.'),\n",
              " ('Based', 'VBN'),\n",
              " ('on', 'IN'),\n",
              " ('the', 'DT'),\n",
              " ('Molotov–Ribbentrop', 'NNP'),\n",
              " ('Pact', 'NNP'),\n",
              " ('of', 'IN'),\n",
              " ('August', 'NNP'),\n",
              " ('1939', 'CD'),\n",
              " (',', ','),\n",
              " ('Germany', 'NNP'),\n",
              " ('and', 'CC'),\n",
              " ('the', 'DT'),\n",
              " ('Soviet', 'NNP'),\n",
              " ('Union', 'NNP'),\n",
              " ('partitioned', 'VBD'),\n",
              " ('and', 'CC'),\n",
              " ('annexed', 'JJ'),\n",
              " ('territories', 'NNS'),\n",
              " ('of', 'IN'),\n",
              " ('their', 'PRP$'),\n",
              " ('European', 'JJ'),\n",
              " ('neighbours', 'NNS'),\n",
              " (',', ','),\n",
              " ('Poland', 'NNP'),\n",
              " (',', ','),\n",
              " ('Finland', 'NNP'),\n",
              " (',', ','),\n",
              " ('Romania', 'NNP'),\n",
              " ('and', 'CC'),\n",
              " ('the', 'DT'),\n",
              " ('Baltic', 'NNP'),\n",
              " ('states', 'NNS'),\n",
              " ('.', '.'),\n",
              " ('For', 'IN'),\n",
              " ('a', 'DT'),\n",
              " ('year', 'NN'),\n",
              " ('starting', 'VBG'),\n",
              " ('in', 'IN'),\n",
              " ('late', 'JJ'),\n",
              " ('June', 'NNP'),\n",
              " ('1940', 'CD'),\n",
              " (',', ','),\n",
              " ('the', 'DT'),\n",
              " ('United', 'NNP'),\n",
              " ('Kingdom', 'NNP'),\n",
              " ('and', 'CC'),\n",
              " ('the', 'DT'),\n",
              " ('British', 'JJ'),\n",
              " ('Commonwealth', 'NNP'),\n",
              " ('were', 'VBD'),\n",
              " ('the', 'DT'),\n",
              " ('only', 'JJ'),\n",
              " ('Allied', 'NNP'),\n",
              " ('forces', 'NNS'),\n",
              " ('continuing', 'VBG'),\n",
              " ('the', 'DT'),\n",
              " ('fight', 'NN'),\n",
              " ('against', 'IN'),\n",
              " ('the', 'DT'),\n",
              " ('European', 'JJ'),\n",
              " ('Axis', 'NNP'),\n",
              " ('powers', 'NNS'),\n",
              " (',', ','),\n",
              " ('with', 'IN'),\n",
              " ('campaigns', 'NNS'),\n",
              " ('in', 'IN'),\n",
              " ('North', 'NNP'),\n",
              " ('Africa', 'NNP'),\n",
              " ('and', 'CC'),\n",
              " ('the', 'DT'),\n",
              " ('Horn', 'NNP'),\n",
              " ('of', 'IN'),\n",
              " ('Africa', 'NNP'),\n",
              " (',', ','),\n",
              " ('the', 'DT'),\n",
              " ('aerial', 'JJ'),\n",
              " ('Battle', 'NNP'),\n",
              " ('of', 'IN'),\n",
              " ('Britain', 'NNP'),\n",
              " ('and', 'CC'),\n",
              " ('the', 'DT'),\n",
              " ('Blitz', 'NNP'),\n",
              " ('bombing', 'NN'),\n",
              " ('campaign', 'NN'),\n",
              " (',', ','),\n",
              " ('as', 'RB'),\n",
              " ('well', 'RB'),\n",
              " ('as', 'IN'),\n",
              " ('the', 'DT'),\n",
              " ('long-running', 'JJ'),\n",
              " ('Battle', 'NNP'),\n",
              " ('of', 'IN'),\n",
              " ('the', 'DT'),\n",
              " ('Atlantic', 'NNP'),\n",
              " ('.', '.'),\n",
              " ('In', 'IN'),\n",
              " ('June', 'NNP'),\n",
              " ('1941', 'CD'),\n",
              " (',', ','),\n",
              " ('the', 'DT'),\n",
              " ('European', 'NNP'),\n",
              " ('Axis', 'NNP'),\n",
              " ('powers', 'NNS'),\n",
              " ('launched', 'VBD'),\n",
              " ('an', 'DT'),\n",
              " ('invasion', 'NN'),\n",
              " ('of', 'IN'),\n",
              " ('the', 'DT'),\n",
              " ('Soviet', 'NNP'),\n",
              " ('Union', 'NNP'),\n",
              " (',', ','),\n",
              " ('opening', 'VBG'),\n",
              " ('the', 'DT'),\n",
              " ('largest', 'JJS'),\n",
              " ('land', 'NN'),\n",
              " ('theatre', 'NN'),\n",
              " ('of', 'IN'),\n",
              " ('war', 'NN'),\n",
              " ('in', 'IN'),\n",
              " ('history', 'NN'),\n",
              " (',', ','),\n",
              " ('which', 'WDT'),\n",
              " ('trapped', 'VBD'),\n",
              " ('the', 'DT'),\n",
              " ('major', 'JJ'),\n",
              " ('part', 'NN'),\n",
              " ('of', 'IN'),\n",
              " ('the', 'DT'),\n",
              " ('Axis', 'NNP'),\n",
              " (\"'\", 'POS'),\n",
              " ('military', 'JJ'),\n",
              " ('forces', 'NNS'),\n",
              " ('into', 'IN'),\n",
              " ('a', 'DT'),\n",
              " ('war', 'NN'),\n",
              " ('of', 'IN'),\n",
              " ('attrition', 'NN'),\n",
              " ('.', '.'),\n",
              " ('In', 'IN'),\n",
              " ('December', 'NNP'),\n",
              " ('1941', 'CD'),\n",
              " (',', ','),\n",
              " ('Japan', 'NNP'),\n",
              " ('attacked', 'VBD'),\n",
              " ('the', 'DT'),\n",
              " ('United', 'NNP'),\n",
              " ('States', 'NNPS'),\n",
              " ('and', 'CC'),\n",
              " ('European', 'JJ'),\n",
              " ('territories', 'NNS'),\n",
              " ('in', 'IN'),\n",
              " ('the', 'DT'),\n",
              " ('Pacific', 'NNP'),\n",
              " ('Ocean', 'NNP'),\n",
              " (',', ','),\n",
              " ('and', 'CC'),\n",
              " ('quickly', 'RB'),\n",
              " ('conquered', 'VBD'),\n",
              " ('much', 'RB'),\n",
              " ('of', 'IN'),\n",
              " ('the', 'DT'),\n",
              " ('Western', 'NNP'),\n",
              " ('Pacific', 'NNP'),\n",
              " ('.', '.'),\n",
              " ('The', 'DT'),\n",
              " ('Axis', 'NNP'),\n",
              " ('advance', 'NN'),\n",
              " ('halted', 'VBN'),\n",
              " ('in', 'IN'),\n",
              " ('1942', 'CD'),\n",
              " ('when', 'WRB'),\n",
              " ('Japan', 'NNP'),\n",
              " ('lost', 'VBD'),\n",
              " ('the', 'DT'),\n",
              " ('critical', 'JJ'),\n",
              " ('Battle', 'NNP'),\n",
              " ('of', 'IN'),\n",
              " ('Midway', 'NNP'),\n",
              " (',', ','),\n",
              " ('near', 'IN'),\n",
              " ('Hawaii', 'NNP'),\n",
              " (',', ','),\n",
              " ('and', 'CC'),\n",
              " ('Germany', 'NNP'),\n",
              " ('was', 'VBD'),\n",
              " ('defeated', 'VBN'),\n",
              " ('in', 'IN'),\n",
              " ('North', 'NNP'),\n",
              " ('Africa', 'NNP'),\n",
              " ('and', 'CC'),\n",
              " ('then', 'RB'),\n",
              " (',', ','),\n",
              " ('decisively', 'RB'),\n",
              " (',', ','),\n",
              " ('at', 'IN'),\n",
              " ('Stalingrad', 'NNP'),\n",
              " ('in', 'IN'),\n",
              " ('the', 'DT'),\n",
              " ('Soviet', 'NNP'),\n",
              " ('Union', 'NNP'),\n",
              " ('.', '.'),\n",
              " ('In', 'IN'),\n",
              " ('1943', 'CD'),\n",
              " (',', ','),\n",
              " ('with', 'IN'),\n",
              " ('a', 'DT'),\n",
              " ('series', 'NN'),\n",
              " ('of', 'IN'),\n",
              " ('German', 'JJ'),\n",
              " ('defeats', 'NNS'),\n",
              " ('on', 'IN'),\n",
              " ('the', 'DT'),\n",
              " ('Eastern', 'NNP'),\n",
              " ('Front', 'NNP'),\n",
              " (',', ','),\n",
              " ('the', 'DT'),\n",
              " ('Allied', 'NNP'),\n",
              " ('invasion', 'NN'),\n",
              " ('of', 'IN'),\n",
              " ('Italy', 'NNP'),\n",
              " ('which', 'WDT'),\n",
              " ('brought', 'VBD'),\n",
              " ('about', 'IN'),\n",
              " ('Italian', 'JJ'),\n",
              " ('surrender', 'NN'),\n",
              " (',', ','),\n",
              " ('and', 'CC'),\n",
              " ('Allied', 'NNP'),\n",
              " ('victories', 'NNS'),\n",
              " ('in', 'IN'),\n",
              " ('the', 'DT'),\n",
              " ('Pacific', 'NNP'),\n",
              " (',', ','),\n",
              " ('the', 'DT'),\n",
              " ('Axis', 'NNP'),\n",
              " ('lost', 'VBD'),\n",
              " ('the', 'DT'),\n",
              " ('initiative', 'NN'),\n",
              " ('and', 'CC'),\n",
              " ('undertook', 'JJ'),\n",
              " ('strategic', 'JJ'),\n",
              " ('retreat', 'NN'),\n",
              " ('on', 'IN'),\n",
              " ('all', 'DT'),\n",
              " ('fronts', 'NNS'),\n",
              " ('.', '.'),\n",
              " ('In', 'IN'),\n",
              " ('1944', 'CD'),\n",
              " (',', ','),\n",
              " ('the', 'DT'),\n",
              " ('Western', 'JJ'),\n",
              " ('Allies', 'NNS'),\n",
              " ('invaded', 'VBN'),\n",
              " ('German-occupied', 'JJ'),\n",
              " ('France', 'NNP'),\n",
              " (',', ','),\n",
              " ('while', 'IN'),\n",
              " ('the', 'DT'),\n",
              " ('Soviet', 'NNP'),\n",
              " ('Union', 'NNP'),\n",
              " ('regained', 'VBD'),\n",
              " ('all', 'DT'),\n",
              " ('of', 'IN'),\n",
              " ('its', 'PRP$'),\n",
              " ('territorial', 'JJ'),\n",
              " ('losses', 'NNS'),\n",
              " ('and', 'CC'),\n",
              " ('invaded', 'VBN'),\n",
              " ('Germany', 'NNP'),\n",
              " ('and', 'CC'),\n",
              " ('its', 'PRP$'),\n",
              " ('allies', 'NNS'),\n",
              " ('.', '.'),\n",
              " ('During', 'IN'),\n",
              " ('1944', 'CD'),\n",
              " ('and', 'CC'),\n",
              " ('1945', 'CD'),\n",
              " ('the', 'DT'),\n",
              " ('Japanese', 'NNPS'),\n",
              " ('suffered', 'VBD'),\n",
              " ('major', 'JJ'),\n",
              " ('reverses', 'NNS'),\n",
              " ('in', 'IN'),\n",
              " ('mainland', 'NN'),\n",
              " ('Asia', 'NNP'),\n",
              " ('in', 'IN'),\n",
              " ('South', 'NNP'),\n",
              " ('Central', 'NNP'),\n",
              " ('China', 'NNP'),\n",
              " ('and', 'CC'),\n",
              " ('Burma', 'NNP'),\n",
              " (',', ','),\n",
              " ('while', 'IN'),\n",
              " ('the', 'DT'),\n",
              " ('Allies', 'NNS'),\n",
              " ('crippled', 'VBD'),\n",
              " ('the', 'DT'),\n",
              " ('Japanese', 'JJ'),\n",
              " ('Navy', 'NNP'),\n",
              " ('and', 'CC'),\n",
              " ('captured', 'VBD'),\n",
              " ('key', 'JJ'),\n",
              " ('Western', 'NNP'),\n",
              " ('Pacific', 'NNP'),\n",
              " ('islands', 'NNS'),\n",
              " ('.', '.'),\n",
              " ('The', 'DT'),\n",
              " ('war', 'NN'),\n",
              " ('in', 'IN'),\n",
              " ('Europe', 'NNP'),\n",
              " ('ended', 'VBD'),\n",
              " ('with', 'IN'),\n",
              " ('an', 'DT'),\n",
              " ('invasion', 'NN'),\n",
              " ('of', 'IN'),\n",
              " ('Germany', 'NNP'),\n",
              " ('by', 'IN'),\n",
              " ('the', 'DT'),\n",
              " ('Western', 'JJ'),\n",
              " ('Allies', 'NNS'),\n",
              " ('and', 'CC'),\n",
              " ('the', 'DT'),\n",
              " ('Soviet', 'NNP'),\n",
              " ('Union', 'NNP'),\n",
              " ('culminating', 'NN'),\n",
              " ('in', 'IN'),\n",
              " ('the', 'DT'),\n",
              " ('capture', 'NN'),\n",
              " ('of', 'IN'),\n",
              " ('Berlin', 'NNP'),\n",
              " ('by', 'IN'),\n",
              " ('Soviet', 'NNP'),\n",
              " ('and', 'CC'),\n",
              " ('Polish', 'JJ'),\n",
              " ('troops', 'NNS'),\n",
              " ('and', 'CC'),\n",
              " ('the', 'DT'),\n",
              " ('subsequent', 'JJ'),\n",
              " ('German', 'JJ'),\n",
              " ('unconditional', 'JJ'),\n",
              " ('surrender', 'NN'),\n",
              " ('on', 'IN'),\n",
              " ('8', 'CD'),\n",
              " ('May', 'NNP'),\n",
              " ('1945', 'CD'),\n",
              " ('.', '.'),\n",
              " ('Following', 'VBG'),\n",
              " ('the', 'DT'),\n",
              " ('Potsdam', 'NNP'),\n",
              " ('Declaration', 'NNP'),\n",
              " ('by', 'IN'),\n",
              " ('the', 'DT'),\n",
              " ('Allies', 'NNS'),\n",
              " ('on', 'IN'),\n",
              " ('26', 'CD'),\n",
              " ('July', 'NNP'),\n",
              " ('1945', 'CD'),\n",
              " ('and', 'CC'),\n",
              " ('the', 'DT'),\n",
              " ('refusal', 'NN'),\n",
              " ('of', 'IN'),\n",
              " ('Japan', 'NNP'),\n",
              " ('to', 'TO'),\n",
              " ('surrender', 'VB'),\n",
              " ('under', 'IN'),\n",
              " ('its', 'PRP$'),\n",
              " ('terms', 'NNS'),\n",
              " (',', ','),\n",
              " ('the', 'DT'),\n",
              " ('United', 'NNP'),\n",
              " ('States', 'NNPS'),\n",
              " ('dropped', 'VBD'),\n",
              " ('atomic', 'JJ'),\n",
              " ('bombs', 'NNS'),\n",
              " ('on', 'IN'),\n",
              " ('the', 'DT'),\n",
              " ('Japanese', 'JJ'),\n",
              " ('cities', 'NNS'),\n",
              " ('of', 'IN'),\n",
              " ('Hiroshima', 'NNP'),\n",
              " ('and', 'CC'),\n",
              " ('Nagasaki', 'NNP'),\n",
              " ('on', 'IN'),\n",
              " ('6', 'CD'),\n",
              " ('August', 'NNP'),\n",
              " ('and', 'CC'),\n",
              " ('9', 'CD'),\n",
              " ('August', 'NNP'),\n",
              " ('respectively', 'RB'),\n",
              " ('.', '.'),\n",
              " ('With', 'IN'),\n",
              " ('an', 'DT'),\n",
              " ('invasion', 'NN'),\n",
              " ('of', 'IN'),\n",
              " ('the', 'DT'),\n",
              " ('Japanese', 'JJ'),\n",
              " ('archipelago', 'JJ'),\n",
              " ('imminent', 'NN'),\n",
              " (',', ','),\n",
              " ('the', 'DT'),\n",
              " ('possibility', 'NN'),\n",
              " ('of', 'IN'),\n",
              " ('additional', 'JJ'),\n",
              " ('atomic', 'JJ'),\n",
              " ('bombings', 'NNS'),\n",
              " (',', ','),\n",
              " ('and', 'CC'),\n",
              " ('the', 'DT'),\n",
              " ('Soviet', 'NNP'),\n",
              " ('Union', 'NNP'),\n",
              " (\"'s\", 'POS'),\n",
              " ('declaration', 'NN'),\n",
              " ('of', 'IN'),\n",
              " ('war', 'NN'),\n",
              " ('on', 'IN'),\n",
              " ('Japan', 'NNP'),\n",
              " ('and', 'CC'),\n",
              " ('invasion', 'NN'),\n",
              " ('of', 'IN'),\n",
              " ('Manchuria', 'NNP'),\n",
              " (',', ','),\n",
              " ('Japan', 'NNP'),\n",
              " ('surrendered', 'VBD'),\n",
              " ('on', 'IN'),\n",
              " ('15', 'CD'),\n",
              " ('August', 'NNP'),\n",
              " ('1945', 'CD'),\n",
              " ('.', '.'),\n",
              " ('Thus', 'RB'),\n",
              " ('ended', 'VBD'),\n",
              " ('the', 'DT'),\n",
              " ('war', 'NN'),\n",
              " ('in', 'IN'),\n",
              " ('Asia', 'NNP'),\n",
              " (',', ','),\n",
              " ('cementing', 'VBG'),\n",
              " ('the', 'DT'),\n",
              " ('total', 'JJ'),\n",
              " ('victory', 'NN'),\n",
              " ('of', 'IN'),\n",
              " ('the', 'DT'),\n",
              " ('Allies', 'NNP'),\n",
              " ('.', '.'),\n",
              " ('World', 'NNP'),\n",
              " ('War', 'NNP'),\n",
              " ('II', 'NNP'),\n",
              " ('altered', 'VBD'),\n",
              " ('the', 'DT'),\n",
              " ('political', 'JJ'),\n",
              " ('alignment', 'NN'),\n",
              " ('and', 'CC'),\n",
              " ('social', 'JJ'),\n",
              " ('structure', 'NN'),\n",
              " ('of', 'IN'),\n",
              " ('the', 'DT'),\n",
              " ('world', 'NN'),\n",
              " ('.', '.'),\n",
              " ('The', 'DT'),\n",
              " ('United', 'NNP'),\n",
              " ('Nations', 'NNP'),\n",
              " ('(', '('),\n",
              " ('UN', 'NNP'),\n",
              " (')', ')'),\n",
              " ('was', 'VBD'),\n",
              " ('established', 'VBN'),\n",
              " ('to', 'TO'),\n",
              " ('foster', 'VB'),\n",
              " ('international', 'JJ'),\n",
              " ('co-operation', 'NN'),\n",
              " ('and', 'CC'),\n",
              " ('prevent', 'NN'),\n",
              " ('future', 'NN'),\n",
              " ('conflicts', 'NNS'),\n",
              " ('.', '.'),\n",
              " ('The', 'DT'),\n",
              " ('victorious', 'JJ'),\n",
              " ('great', 'JJ'),\n",
              " ('powers—the', 'NN'),\n",
              " ('United', 'NNP'),\n",
              " ('States', 'NNPS'),\n",
              " (',', ','),\n",
              " ('the', 'DT'),\n",
              " ('Soviet', 'NNP'),\n",
              " ('Union', 'NNP'),\n",
              " (',', ','),\n",
              " ('China', 'NNP'),\n",
              " (',', ','),\n",
              " ('the', 'DT'),\n",
              " ('United', 'NNP'),\n",
              " ('Kingdom', 'NNP'),\n",
              " (',', ','),\n",
              " ('and', 'CC'),\n",
              " ('France—became', 'NNP'),\n",
              " ('the', 'DT'),\n",
              " ('permanent', 'JJ'),\n",
              " ('members', 'NNS'),\n",
              " ('of', 'IN'),\n",
              " ('the', 'DT'),\n",
              " ('United', 'NNP'),\n",
              " ('Nations', 'NNP'),\n",
              " ('Security', 'NNP'),\n",
              " ('Council', 'NNP'),\n",
              " ('.', '.'),\n",
              " ('The', 'DT'),\n",
              " ('Soviet', 'NNP'),\n",
              " ('Union', 'NNP'),\n",
              " ('and', 'CC'),\n",
              " ('the', 'DT'),\n",
              " ('United', 'NNP'),\n",
              " ('States', 'NNPS'),\n",
              " ('emerged', 'VBD'),\n",
              " ('as', 'IN'),\n",
              " ('rival', 'JJ'),\n",
              " ('superpowers', 'NNS'),\n",
              " (',', ','),\n",
              " ('setting', 'VBG'),\n",
              " ('the', 'DT'),\n",
              " ('stage', 'NN'),\n",
              " ('for', 'IN'),\n",
              " ('the', 'DT'),\n",
              " ('Cold', 'NNP'),\n",
              " ('War', 'NNP'),\n",
              " (',', ','),\n",
              " ('which', 'WDT'),\n",
              " ('lasted', 'VBD'),\n",
              " ('for', 'IN'),\n",
              " ('the', 'DT'),\n",
              " ('next', 'JJ'),\n",
              " ('46', 'CD'),\n",
              " ('years', 'NNS'),\n",
              " ('.', '.'),\n",
              " ('Meanwhile', 'RB'),\n",
              " (',', ','),\n",
              " ('the', 'DT'),\n",
              " ('influence', 'NN'),\n",
              " ('of', 'IN'),\n",
              " ('European', 'JJ'),\n",
              " ('great', 'JJ'),\n",
              " ('powers', 'NNS'),\n",
              " ('waned', 'VBD'),\n",
              " (',', ','),\n",
              " ('while', 'IN'),\n",
              " ('the', 'DT'),\n",
              " ('decolonisation', 'NN'),\n",
              " ('of', 'IN'),\n",
              " ('Asia', 'NNP'),\n",
              " ('and', 'CC'),\n",
              " ('Africa', 'NNP'),\n",
              " ('began', 'VBD'),\n",
              " ('.', '.'),\n",
              " ('Most', 'JJS'),\n",
              " ('countries', 'NNS'),\n",
              " ('whose', 'WP$'),\n",
              " ('industries', 'NNS'),\n",
              " ('had', 'VBD'),\n",
              " ('been', 'VBN'),\n",
              " ('damaged', 'VBN'),\n",
              " ('moved', 'VBN'),\n",
              " ('towards', 'NNS'),\n",
              " ('economic', 'JJ'),\n",
              " ('recovery', 'NN'),\n",
              " ('.', '.'),\n",
              " ('Political', 'JJ'),\n",
              " ('integration', 'NN'),\n",
              " (',', ','),\n",
              " ('especially', 'RB'),\n",
              " ('in', 'IN'),\n",
              " ('Europe', 'NNP'),\n",
              " (',', ','),\n",
              " ('emerged', 'VBD'),\n",
              " ('as', 'IN'),\n",
              " ('an', 'DT'),\n",
              " ('effort', 'NN'),\n",
              " ('to', 'TO'),\n",
              " ('end', 'VB'),\n",
              " ('pre-war', 'JJ'),\n",
              " ('enmities', 'NNS'),\n",
              " ('and', 'CC'),\n",
              " ('to', 'TO'),\n",
              " ('create', 'VB'),\n",
              " ('a', 'DT'),\n",
              " ('common', 'JJ'),\n",
              " ('identity', 'NN'),\n",
              " ('.', '.')]"
            ]
          },
          "metadata": {
            "tags": []
          },
          "execution_count": 33
        }
      ]
    },
    {
      "cell_type": "code",
      "metadata": {
        "colab": {
          "base_uri": "https://localhost:8080/"
        },
        "id": "KgBC5Nrw_Cmu",
        "outputId": "43850723-ddbf-4597-fa76-2181f14ec346"
      },
      "source": [
        "nltk.download('maxent_ne_chunker')"
      ],
      "execution_count": null,
      "outputs": [
        {
          "output_type": "stream",
          "text": [
            "[nltk_data] Downloading package maxent_ne_chunker to\n",
            "[nltk_data]     /root/nltk_data...\n",
            "[nltk_data]   Unzipping chunkers/maxent_ne_chunker.zip.\n"
          ],
          "name": "stdout"
        },
        {
          "output_type": "execute_result",
          "data": {
            "text/plain": [
              "True"
            ]
          },
          "metadata": {
            "tags": []
          },
          "execution_count": 34
        }
      ]
    },
    {
      "cell_type": "code",
      "metadata": {
        "colab": {
          "base_uri": "https://localhost:8080/"
        },
        "id": "2wLthGxFIXsD",
        "outputId": "27392b78-9601-4afc-eaad-56ab4b4a1679"
      },
      "source": [
        "nltk.download('words')"
      ],
      "execution_count": null,
      "outputs": [
        {
          "output_type": "stream",
          "text": [
            "[nltk_data] Downloading package words to /root/nltk_data...\n",
            "[nltk_data]   Unzipping corpora/words.zip.\n"
          ],
          "name": "stdout"
        },
        {
          "output_type": "execute_result",
          "data": {
            "text/plain": [
              "True"
            ]
          },
          "metadata": {
            "tags": []
          },
          "execution_count": 35
        }
      ]
    },
    {
      "cell_type": "code",
      "metadata": {
        "id": "Cwp9kFUJIuHm"
      },
      "source": [
        " text_ch = nltk.ne_chunk(text_tag)"
      ],
      "execution_count": null,
      "outputs": []
    },
    {
      "cell_type": "code",
      "metadata": {
        "colab": {
          "base_uri": "https://localhost:8080/"
        },
        "id": "7K53-mCPKdMt",
        "outputId": "d6912078-39cd-41da-89ea-be389e3ea6c5"
      },
      "source": [
        "text_ch[:20]"
      ],
      "execution_count": null,
      "outputs": [
        {
          "output_type": "execute_result",
          "data": {
            "text/plain": [
              "[('World', 'NNP'),\n",
              " ('War', 'NNP'),\n",
              " ('II', 'NNP'),\n",
              " ('(', '('),\n",
              " Tree('ORGANIZATION', [('WWII', 'NNP')]),\n",
              " ('or', 'CC'),\n",
              " Tree('ORGANIZATION', [('WW2', 'NNP')]),\n",
              " (')', ')'),\n",
              " (',', ','),\n",
              " ('also', 'RB'),\n",
              " ('known', 'VBN'),\n",
              " ('as', 'IN'),\n",
              " ('the', 'DT'),\n",
              " Tree('ORGANIZATION', [('Second', 'NNP')]),\n",
              " ('World', 'NNP'),\n",
              " ('War', 'NNP'),\n",
              " (',', ','),\n",
              " ('was', 'VBD'),\n",
              " ('a', 'DT'),\n",
              " ('global', 'JJ')]"
            ]
          },
          "metadata": {
            "tags": []
          },
          "execution_count": 38
        }
      ]
    },
    {
      "cell_type": "code",
      "metadata": {
        "colab": {
          "base_uri": "https://localhost:8080/"
        },
        "id": "4yhWyKNDK1vc",
        "outputId": "80af3323-d895-423e-81c1-91b6ac823042"
      },
      "source": [
        "len(text_ch)"
      ],
      "execution_count": null,
      "outputs": [
        {
          "output_type": "execute_result",
          "data": {
            "text/plain": [
              "842"
            ]
          },
          "metadata": {
            "tags": []
          },
          "execution_count": 39
        }
      ]
    },
    {
      "cell_type": "code",
      "metadata": {
        "colab": {
          "base_uri": "https://localhost:8080/"
        },
        "id": "5hjd6kyhK5Un",
        "outputId": "7f10c8db-eb52-4582-cab1-4101a4033dcf"
      },
      "source": [
        "for entidade_nomeada in text_ch:\n",
        "   if hasattr(entidade_nomeada, 'label'):\n",
        "       print(entidade_nomeada.label(), ' '.join(c[0] \n",
        "              for c in entidade_nomeada.leaves()))"
      ],
      "execution_count": null,
      "outputs": [
        {
          "output_type": "stream",
          "text": [
            "ORGANIZATION WWII\n",
            "ORGANIZATION WW2\n",
            "ORGANIZATION Second\n",
            "ORGANIZATION Axis\n",
            "ORGANIZATION Hiroshima\n",
            "GPE Nagasaki\n",
            "ORGANIZATION Empire of Japan\n",
            "GPE Asia\n",
            "ORGANIZATION Pacific\n",
            "ORGANIZATION Republic\n",
            "GPE China\n",
            "GPE Poland\n",
            "GPE Germany\n",
            "GPE Germany\n",
            "GPE France\n",
            "ORGANIZATION United Kingdom\n",
            "GPE Germany\n",
            "GPE Europe\n",
            "ORGANIZATION Axis\n",
            "GPE Italy\n",
            "GPE Japan\n",
            "GPE Germany\n",
            "GPE Soviet Union\n",
            "GPE European\n",
            "GPE Poland\n",
            "GPE Finland\n",
            "GPE Romania\n",
            "GPE Baltic\n",
            "ORGANIZATION United Kingdom\n",
            "GPE British\n",
            "ORGANIZATION European Axis\n",
            "GPE North Africa\n",
            "ORGANIZATION Horn\n",
            "GPE Africa\n",
            "GPE Britain\n",
            "GPE Blitz\n",
            "ORGANIZATION Atlantic\n",
            "ORGANIZATION European Axis\n",
            "GPE Soviet Union\n",
            "ORGANIZATION Axis\n",
            "GPE Japan\n",
            "GPE United States\n",
            "GPE European\n",
            "ORGANIZATION Pacific Ocean\n",
            "LOCATION Western Pacific\n",
            "ORGANIZATION Axis\n",
            "PERSON Japan\n",
            "GPE Midway\n",
            "GPE Hawaii\n",
            "GPE Germany\n",
            "GPE North Africa\n",
            "FACILITY Stalingrad\n",
            "GPE Soviet Union\n",
            "GPE German\n",
            "LOCATION Eastern Front\n",
            "GPE Italy\n",
            "GPE Italian\n",
            "GPE Allied\n",
            "ORGANIZATION Pacific\n",
            "ORGANIZATION Axis\n",
            "LOCATION Western\n",
            "GPE France\n",
            "GPE Soviet Union\n",
            "GPE Germany\n",
            "GPE Japanese\n",
            "GPE Asia\n",
            "GPE South\n",
            "GPE China\n",
            "GPE Burma\n",
            "GPE Japanese\n",
            "ORGANIZATION Navy\n",
            "LOCATION Western Pacific\n",
            "GPE Europe\n",
            "GPE Germany\n",
            "LOCATION Western\n",
            "GPE Soviet Union\n",
            "GPE Berlin\n",
            "GPE Soviet\n",
            "GPE Polish\n",
            "GPE German\n",
            "ORGANIZATION Potsdam\n",
            "GPE Japan\n",
            "GPE United States\n",
            "GPE Japanese\n",
            "ORGANIZATION Hiroshima\n",
            "PERSON Nagasaki\n",
            "GPE Japanese\n",
            "GPE Soviet Union\n",
            "GPE Japan\n",
            "GPE Manchuria\n",
            "GPE Japan\n",
            "GPE Asia\n",
            "ORGANIZATION United Nations\n",
            "GPE United States\n",
            "GPE Soviet Union\n",
            "GPE China\n",
            "ORGANIZATION United Kingdom\n",
            "ORGANIZATION United Nations\n",
            "ORGANIZATION Security Council\n",
            "GPE Soviet Union\n",
            "GPE United States\n",
            "GPE European\n",
            "GPE Asia\n",
            "PERSON Africa\n",
            "GPE Europe\n"
          ],
          "name": "stdout"
        }
      ]
    },
    {
      "cell_type": "markdown",
      "metadata": {
        "id": "0XqOu4rnNgtb"
      },
      "source": [
        "Tratar paginas web"
      ]
    },
    {
      "cell_type": "code",
      "metadata": {
        "id": "-aCOuCBfNfkC"
      },
      "source": [
        "import urllib.request"
      ],
      "execution_count": null,
      "outputs": []
    },
    {
      "cell_type": "markdown",
      "metadata": {
        "id": "srEWRoN8N1Ak"
      },
      "source": [
        "Os sites são escritos em HTML; portanto, quando você extrai informações diretamente de um site, você recebe todo o código de volta junto com o texto."
      ]
    },
    {
      "cell_type": "code",
      "metadata": {
        "id": "T_-92uybN2at"
      },
      "source": [
        "url = 'https://en.wikipedia.org/wiki/Python_(programming_language)'"
      ],
      "execution_count": null,
      "outputs": []
    },
    {
      "cell_type": "code",
      "metadata": {
        "colab": {
          "base_uri": "https://localhost:8080/",
          "height": 35
        },
        "id": "ZHe3cmrTOEcE",
        "outputId": "76792b3b-1782-4328-84b0-74effb40d2c1"
      },
      "source": [
        "url"
      ],
      "execution_count": null,
      "outputs": [
        {
          "output_type": "execute_result",
          "data": {
            "application/vnd.google.colaboratory.intrinsic+json": {
              "type": "string"
            },
            "text/plain": [
              "'https://en.wikipedia.org/wiki/Python_(programming_language)'"
            ]
          },
          "metadata": {
            "tags": []
          },
          "execution_count": 43
        }
      ]
    },
    {
      "cell_type": "markdown",
      "metadata": {
        "id": "Ld7DMgMnOLuI"
      },
      "source": [
        "Fazendo a requisição na pagina"
      ]
    },
    {
      "cell_type": "code",
      "metadata": {
        "id": "AbrEUy-eOLY-"
      },
      "source": [
        "response = urllib.request.urlopen(url)"
      ],
      "execution_count": null,
      "outputs": []
    },
    {
      "cell_type": "markdown",
      "metadata": {
        "id": "3Mq_KsvpOdXn"
      },
      "source": [
        "Lendo a informação"
      ]
    },
    {
      "cell_type": "code",
      "metadata": {
        "id": "_nYfhQ3hOINt"
      },
      "source": [
        "html = response.read()"
      ],
      "execution_count": null,
      "outputs": []
    },
    {
      "cell_type": "code",
      "metadata": {
        "colab": {
          "base_uri": "https://localhost:8080/"
        },
        "id": "sCnRkYU9OlT8",
        "outputId": "aca131a8-f913-4b54-cf4c-765fd9a57ed2"
      },
      "source": [
        "html[:1000]"
      ],
      "execution_count": null,
      "outputs": [
        {
          "output_type": "execute_result",
          "data": {
            "text/plain": [
              "b'<!DOCTYPE html>\\n<html class=\"client-nojs\" lang=\"en\" dir=\"ltr\">\\n<head>\\n<meta charset=\"UTF-8\"/>\\n<title>Python (programming language) - Wikipedia</title>\\n<script>document.documentElement.className=\"client-js\";RLCONF={\"wgBreakFrames\":!1,\"wgSeparatorTransformTable\":[\"\",\"\"],\"wgDigitTransformTable\":[\"\",\"\"],\"wgDefaultDateFormat\":\"dmy\",\"wgMonthNames\":[\"\",\"January\",\"February\",\"March\",\"April\",\"May\",\"June\",\"July\",\"August\",\"September\",\"October\",\"November\",\"December\"],\"wgRequestId\":\"X9JNlApAAL8ABDqS-XoAAAAN\",\"wgCSPNonce\":!1,\"wgCanonicalNamespace\":\"\",\"wgCanonicalSpecialPageName\":!1,\"wgNamespaceNumber\":0,\"wgPageName\":\"Python_(programming_language)\",\"wgTitle\":\"Python (programming language)\",\"wgCurRevisionId\":993435176,\"wgRevisionId\":993435176,\"wgArticleId\":23862,\"wgIsArticle\":!0,\"wgIsRedirect\":!1,\"wgAction\":\"view\",\"wgUserName\":null,\"wgUserGroups\":[\"*\"],\"wgCategories\":[\"Pages with citations lacking titles\",\"Pages with citations having bare URLs\",\"Articles with short description\",\"Short description is di'"
            ]
          },
          "metadata": {
            "tags": []
          },
          "execution_count": 47
        }
      ]
    },
    {
      "cell_type": "markdown",
      "metadata": {
        "id": "qJcdeXy2O8wH"
      },
      "source": [
        "Usaremos uma biblioteca Python chamada BeautifulSoup para facilitar o trabalho com o HTML."
      ]
    },
    {
      "cell_type": "code",
      "metadata": {
        "id": "hBOBIq39O_jv"
      },
      "source": [
        "from bs4 import BeautifulSoup"
      ],
      "execution_count": null,
      "outputs": []
    },
    {
      "cell_type": "code",
      "metadata": {
        "id": "HxqA0jSKPESy"
      },
      "source": [
        "soup = BeautifulSoup(html, \"html5lib\")"
      ],
      "execution_count": null,
      "outputs": []
    },
    {
      "cell_type": "markdown",
      "metadata": {
        "id": "Eg_L2jP4PV_9"
      },
      "source": [
        "A Wikipedia coloca o texto mais legível nas tags de parágrafo ou \"p\"."
      ]
    },
    {
      "cell_type": "code",
      "metadata": {
        "id": "WaL2tZwDPXMU"
      },
      "source": [
        "web_paragraph = []"
      ],
      "execution_count": null,
      "outputs": []
    },
    {
      "cell_type": "code",
      "metadata": {
        "id": "-XAvo1lgPlIc"
      },
      "source": [
        "for p_tag in soup.find_all('p'):\n",
        "  web_paragraph.append(p_tag.text)"
      ],
      "execution_count": null,
      "outputs": []
    },
    {
      "cell_type": "code",
      "metadata": {
        "colab": {
          "base_uri": "https://localhost:8080/"
        },
        "id": "9IzgmJ_bPu3o",
        "outputId": "04d32b1a-c633-4ce2-a71d-0aa696729ab6"
      },
      "source": [
        "web_paragraph"
      ],
      "execution_count": null,
      "outputs": [
        {
          "output_type": "execute_result",
          "data": {
            "text/plain": [
              "['\\n',\n",
              " \"Python is an interpreted, high-level and general-purpose programming language. Python's design philosophy emphasizes code readability with its notable use of significant whitespace. Its language constructs and object-oriented approach aim to help programmers write clear, logical code for small and large-scale projects.[28]\\n\",\n",
              " 'Python is dynamically typed and garbage-collected. It supports multiple programming paradigms, including structured (particularly, procedural), object-oriented, and functional programming. Python is often described as a \"batteries included\" language due to its comprehensive standard library.[29]\\n',\n",
              " 'Python was created in the late 1980s, and first released in 1991, by Guido van Rossum as a successor to the ABC programming language. Python\\xa02.0, released in 2000, introduced new features, such as list comprehensions, and a garbage collection system with reference counting, and was discontinued with version 2.7 in 2020.[30] Python\\xa03.0, released in 2008, was a major revision of the language that is not completely backward-compatible and much Python\\xa02 code does not run unmodified on Python\\xa03.\\n',\n",
              " 'Python interpreters are supported for mainstream operating systems and available for a few more (and in the past supported many more). A global community of programmers develops and maintains CPython, a free and open-source[31] reference implementation. A non-profit organization, the Python Software Foundation, manages and directs resources for Python and CPython development. It currently ties with Java as the second most popular programming language in the world.[32][33]\\n',\n",
              " 'Python was conceived in the late 1980s[34] by Guido van Rossum at Centrum Wiskunde & Informatica (CWI) in the Netherlands as a successor to the ABC programming language, which was inspired by SETL),[35] capable of exception handling and interfacing with the Amoeba operating system.[8] Its implementation began in December 1989.[36] Van Rossum shouldered sole responsibility for the project, as the lead developer, until 12 July 2018, when he announced his \"permanent vacation\" from his responsibilities as Python\\'s Benevolent Dictator For Life, a title the Python community bestowed upon him to reflect his long-term commitment as the project\\'s chief decision-maker.[37] He now shares his leadership as a member of a five-person steering council.[38][39][40] In January 2019, active Python core developers elected Brett Cannon, Nick Coghlan, Barry Warsaw, Carol Willing and Van Rossum to a five-member \"Steering Council\" to lead the project.[41] Guido van Rossum has since then withdrawn his nomination for the 2020 Steering council.[42]\\n',\n",
              " 'Python 2.0 was released on 16 October 2000 with many major new features, including a cycle-detecting garbage collector and support for Unicode.[43]\\n',\n",
              " 'Python 3.0 was released on 3 December 2008. It was a major revision of the language that is not completely backward-compatible.[44] Many of its major features were backported to Python 2.6.x[45] and 2.7.x version series.  Releases of Python 3 include the 2to3 utility, which automates (at least partially) the translation of Python 2 code to Python 3.[46]\\n',\n",
              " \"Python 2.7's end-of-life date was initially set at 2015 then postponed to 2020 out of concern that a large body of existing code could not easily be forward-ported to Python 3.[47][48]  No more security patches or other improvements will be released for it.[49][50] With Python 2's end-of-life, only  Python\\xa03.6.x[51] and later are supported.\\n\",\n",
              " 'Python is a multi-paradigm programming language. Object-oriented programming and structured programming are fully supported, and many of its features support functional programming and aspect-oriented programming (including by metaprogramming[52] and metaobjects (magic methods)).[53] Many other paradigms are supported via extensions, including design by contract[54][55] and logic programming.[56]\\n',\n",
              " 'Python uses dynamic typing and a combination of reference counting and a cycle-detecting garbage collector for memory management.[57] It also features dynamic name resolution (late binding), which binds method and variable names during program execution.\\n',\n",
              " \"Python's design offers some support for functional programming in the Lisp tradition. It has filter, map, and reduce functions; list comprehensions, dictionaries, sets, and generator expressions.[58] The standard library has two modules (itertools and functools) that implement functional tools borrowed from Haskell and Standard ML.[59]\\n\",\n",
              " \"The language's core philosophy is summarized in the document The Zen of Python (PEP 20), which includes aphorisms such as:[60]\\n\",\n",
              " \"Rather than having all of its functionality built into its core, Python was designed to be highly extensible. This compact modularity has made it particularly popular as a means of adding programmable interfaces to existing applications. Van Rossum's vision of a small core language with a large standard library and easily extensible interpreter stemmed from his frustrations with ABC, which espoused the opposite approach.[34]\\n\",\n",
              " 'Python strives for a simpler, less-cluttered syntax and grammar while giving developers a choice in their coding methodology. In contrast to Perl\\'s \"there is more than one way to do it\" motto, Python embraces a \"there should be one—and preferably only one—obvious way to do it\" design philosophy.[60] Alex Martelli, a Fellow at the Python Software Foundation and Python book author, writes that \"To describe something as \\'clever\\' is not considered a compliment in the Python culture.\"[61]\\n',\n",
              " \"Python's developers strive to avoid premature optimization, and reject patches to non-critical parts of the CPython reference implementation that would offer marginal increases in speed at the cost of clarity.[62] When speed is important, a Python programmer can move time-critical functions to extension modules written in languages such as C, or use PyPy, a just-in-time compiler. Cython is also available, which translates a Python script into C and makes direct C-level API calls into the Python interpreter.\\n\",\n",
              " \"An important goal of Python's developers is keeping it fun to use. This is reflected in the language's name—a tribute to the British comedy group Monty Python[63]—and in occasionally playful approaches to tutorials and reference materials, such as examples that refer to spam and eggs (from a famous Monty Python sketch) instead of the standard foo and bar.[64][65]\\n\",\n",
              " \"A common neologism in the Python community is pythonic, which can have a wide range of meanings related to program style. To say that code is pythonic is to say that it uses Python idioms well, that it is natural or shows fluency in the language, that it conforms with Python's minimalist philosophy and emphasis on readability. In contrast, code that is difficult to understand or reads like a rough transcription from another programming language is called unpythonic.\\n\",\n",
              " 'Users and admirers of Python, especially those considered knowledgeable or experienced, are often referred to as Pythonistas.[66][67]\\n',\n",
              " 'Python is meant to be an easily readable language. Its formatting is visually uncluttered, and it often uses English keywords where other languages use punctuation. Unlike many other languages, it does not use curly brackets to delimit blocks, and semicolons after statements are optional. It has fewer syntactic exceptions and special cases than C or Pascal.[68]\\n',\n",
              " \"Python uses whitespace indentation, rather than curly brackets or keywords, to delimit blocks. An increase in indentation comes after certain statements; a decrease in indentation signifies the end of the current block.[69] Thus, the program's visual structure accurately represents the program's semantic structure.[1] This feature is sometimes termed the off-side rule, which some other languages share, but in most languages indentation doesn't have any semantic meaning.\\n\",\n",
              " \"Python's statements include (among others):\\n\",\n",
              " \"Python does not support tail call optimization or first-class continuations, and, according to Guido van Rossum, it never will.[72][73] However, better support for coroutine-like functionality is provided in 2.5, by extending Python's generators.[74] Before 2.5, generators were lazy iterators; information was passed unidirectionally out of the generator. From Python 2.5, it is possible to pass information back into a generator function, and from Python 3.3, the information can be passed through multiple stack levels.[75]\\n\",\n",
              " 'Some Python expressions are similar to languages such as C and Java, while some are not:\\n',\n",
              " 'In Python, a distinction between expressions and statements is rigidly enforced, in contrast to languages such as Common Lisp, Scheme, or Ruby. This leads to duplicating some functionality. For example:\\n',\n",
              " 'Statements cannot be a part of an expression, so list and other comprehensions or lambda expressions, all being expressions, cannot contain statements. A particular case of this is that an assignment statement such as a = 1 cannot form part of the conditional expression of a conditional statement. This has the advantage of avoiding a classic C error of mistaking an assignment operator = for an equality operator == in conditions: if (c = 1) { ... } is syntactically valid (but probably unintended) C code but if c = 1: ... causes a syntax error in Python.\\n',\n",
              " \"Methods on objects are functions attached to the object's class; the syntax instance.method(argument) is, for normal methods and functions, syntactic sugar for Class.method(instance, argument). Python methods have an explicit self parameter to access instance data, in contrast to the implicit self (or this) in some other object-oriented programming languages (e.g., C++, Java, Objective-C, or Ruby).[86]\\n\",\n",
              " 'Python uses duck typing and has typed objects but untyped variable names. Type constraints are not checked at compile time; rather, operations on an object may fail, signifying that the given object is not of a suitable type. Despite being dynamically typed, Python is strongly typed, forbidding operations that are not well-defined (for example, adding a number to a string) rather than silently attempting to make sense of them.\\n',\n",
              " 'Python allows programmers to define their own types using classes, which are most often used for object-oriented programming. New instances of classes are constructed by calling the class (for example, SpamClass() or EggsClass()), and the classes are instances of the metaclass type (itself an instance of itself), allowing metaprogramming and reflection.\\n',\n",
              " 'Before version 3.0, Python had two kinds of classes: old-style and new-style.[87] The syntax of both styles is the same, the difference being whether the class object is inherited from, directly or indirectly (all new-style classes inherit from object and are instances of type). In versions of Python 2 from Python 2.2 onwards, both kinds of classes can be used. Old-style classes were eliminated in Python 3.0.\\n',\n",
              " 'The long-term plan is to support gradual typing[88] and from Python 3.5, the syntax of the language allows specifying static types but they are not checked in the default implementation, CPython. An experimental optional static type checker named mypy supports compile-time type checking.[89]\\n',\n",
              " '1.414\\n',\n",
              " '^a Not directly accessible by name \\n',\n",
              " 'Python has the usual symbols for arithmetic operators (+, -, *, /), the floor division operator // and the modulo operation % (where the remainder can be negative,  e.g. 4\\xa0% -3 == -2). It also has ** for exponentiation, e.g. 5**3 == 125 and 9**0.5 == 3.0, and a matrix multiply operator @ .[93] These operators work like in traditional math; with the same precedence rules, the operators infix ( + and - can also be unary to represent positive and negative numbers respectively).\\n',\n",
              " 'The division between integers produces floating-point results. The behavior of division has changed significantly over time:[94]\\n',\n",
              " 'In Python terms, / is true division (or simply division), and // is floor division. / before version 3.0 is classic division.[94]\\n',\n",
              " 'Rounding towards negative infinity, though different from most languages, adds consistency. For instance, it means that the equation (a + b)//b == a//b + 1 is always true. It also means that the equation b*(a//b) + a%b == a is valid for both positive and negative values of a. However, maintaining the validity of this equation means that while the result of a%b is, as expected, in the half-open interval [0, b), where b is a positive integer, it has to lie in the interval (b, 0] when b is negative.[95]\\n',\n",
              " 'Python provides a round function for rounding a float to the nearest integer. For tie-breaking, Python 3 uses round to even: round(1.5) and round(2.5) both produce 2.[96] Versions before 3 used round-away-from-zero: round(0.5) is 1.0, round(-0.5) is −1.0.[97]\\n',\n",
              " 'Python allows boolean expressions with multiple equality relations in a manner that is consistent with general use in mathematics. For example, the expression a < b < c tests whether a is less than b and b is less than c.[98] C-derived languages interpret this expression differently: in C, the expression would first evaluate a < b, resulting in 0 or 1, and that result would then be compared with c.[99]\\n',\n",
              " 'Python uses arbitrary-precision arithmetic for all integer operations. The Decimal type/class in the decimal module provides decimal floating point numbers to a pre-defined arbitrary precision and several rounding modes.[100] The Fraction class in the fractions module provides arbitrary precision for rational numbers.[101]\\n',\n",
              " \"Due to Python's extensive mathematics library, and the third-party library NumPy that further extends the native capabilities, it is frequently used as a scientific scripting language to aid in problems such as numerical data processing and manipulation.[102][103]\\n\",\n",
              " 'Hello world program:\\n',\n",
              " 'Program to calculate the factorial of a positive integer:\\n',\n",
              " \"Python's large standard library, commonly cited as one of its greatest strengths,[104] provides tools suited to many tasks. For Internet-facing applications, many standard formats and protocols such as MIME and HTTP are supported. It includes modules for creating graphical user interfaces, connecting to relational databases, generating pseudorandom numbers, arithmetic with arbitrary-precision decimals,[105] manipulating regular expressions, and unit testing.\\n\",\n",
              " 'Some parts of the standard library are covered by specifications (for example, the Web Server Gateway Interface (WSGI) implementation wsgiref follows PEP 333[106]), but most modules are not. They are specified by their code, internal documentation, and test suites. However, because most of the standard library is cross-platform Python code, only a few modules need altering or rewriting for variant implementations.\\n',\n",
              " 'As of November\\xa02019,[update] the Python Package Index (PyPI), the official repository for third-party Python software, contains over 200,000[107] packages with a wide range of functionality, including:\\n',\n",
              " 'Most Python implementations (including CPython) include a read–eval–print loop (REPL), permitting them to function as a command line interpreter for which the user enters statements sequentially and receives results immediately.\\n',\n",
              " 'Other shells, including IDLE and IPython, add further abilities such as improved auto-completion, session state retention and syntax highlighting.\\n',\n",
              " 'As well as standard desktop integrated development environments, there are Web browser-based IDEs; SageMath (intended for developing science and math-related Python programs); PythonAnywhere, a browser-based IDE and hosting environment; and Canopy IDE, a commercial Python IDE emphasizing scientific computing.[109]\\n',\n",
              " 'CPython is the reference implementation of Python. It is written in C, meeting the C89 standard with several select C99 features.[110] It compiles Python programs into an intermediate bytecode[111] which is then executed by its virtual machine.[112] CPython is distributed with a large standard library written in a mixture of C and native Python. It is available for many platforms, including Windows (Vista and later; supported Windows XP and older, with by now unsupported Python 2.7) and most modern Unix-like systems, and unofficial support for e.g. VMS.[113] Platform portability was one of its earliest priorities,[114] in Python 1 and 2 time-frame, even supporting OS/2 and Solaris;[115] support has since been dropped for a lot of platforms.\\n',\n",
              " 'PyPy is a fast, compliant interpreter of Python 2.7 and 3.6.[116] Its just-in-time compiler brings a significant speed improvement over CPython but several libraries written in C cannot be used with it.[117][118]\\n',\n",
              " 'Stackless Python is a significant fork of CPython that implements microthreads; it does not use the C memory stack, thus allowing massively concurrent programs. PyPy also has a stackless version.[119]\\n',\n",
              " 'MicroPython and CircuitPython are Python 3 variants optimized for microcontrollers. This includes Lego Mindstorms EV3.[120]\\n',\n",
              " 'Other just-in-time Python compilers have been developed, but are now unsupported:\\n',\n",
              " 'In 2005, Nokia released a Python interpreter for the Series 60 mobile phones named PyS60. It includes many of the modules from the CPython implementations and some additional modules to integrate with the Symbian operating system. The project has been kept up-to-date to run on all variants of the S60 platform, and several third-party modules are available. The Nokia N900 also supports Python with GTK widget libraries, enabling programs to be written and run on the target device.[122]\\n',\n",
              " 'There are several compilers to high-level object languages, with either unrestricted Python, a restricted subset of Python, or a language similar to Python as the source language:\\n',\n",
              " \"A performance comparison of various Python implementations on a non-numerical (combinatorial) workload was presented at EuroSciPy '13.[128] Python's performance compared to other programming languages has also been benchmarked by The Computer Language Benchmarks Game.[129]\\n\",\n",
              " \"Python's development is conducted largely through the Python Enhancement Proposal (PEP) process, the primary mechanism for proposing major new features, collecting community input on issues and documenting Python design decisions.[130] Python coding style is covered in PEP 8.[131] Outstanding PEPs are reviewed and commented on by the Python community and the steering council.[130]\\n\",\n",
              " \"Enhancement of the language corresponds with development of the CPython reference implementation. The mailing list python-dev is the primary forum for the language's development. Specific issues are discussed in the Roundup bug tracker hosted at bugs.python.org.[132] Development originally took place on a self-hosted source-code repository running Mercurial, until Python moved to GitHub in January 2017.[133]\\n\",\n",
              " \"CPython's public releases come in three types, distinguished by which part of the version number is incremented:\\n\",\n",
              " 'Python 3.9 alpha1 was announced in November 2019[136] and with the adoption of a new yearly release cadence,[137][138] the first release of 3.9 is slated for November 2020.[139]\\n',\n",
              " \"Many alpha, beta, and release-candidates are also released as previews and for testing before final releases. Although there is a rough schedule for each release, they are often delayed if the code is not ready. Python's development team monitors the state of the code by running the large unit test suite during development, and using the BuildBot continuous integration system.[140]\\n\",\n",
              " 'The major academic conference on Python is PyCon. There are also special Python mentoring programmes, such as Pyladies.\\n',\n",
              " 'Python API documentation generators include:\\n',\n",
              " \"Python's name is derived from the British comedy group Monty Python, whom Python creator Guido van Rossum enjoyed while developing the language. Monty Python references appear frequently in Python code and culture;[141] for example, the metasyntactic variables often used in Python literature are spam and eggs instead of the traditional foo and bar.[141][142] The official Python documentation also contains various references to Monty Python routines.[143][144]\\n\",\n",
              " 'The prefix Py- is used to show that something is related to Python. Examples of the use of this prefix in names of Python applications or libraries include Pygame, a binding of SDL to Python (commonly used to create games); PyQt and PyGTK, which bind Qt and GTK to Python respectively; and PyPy, a Python implementation originally written in Python.\\n',\n",
              " 'Since 2003, Python has consistently ranked in the top ten most popular programming languages in the TIOBE Programming Community Index where, as of February\\xa02020[update], it is the third most popular language (behind Java, and C).[145] It was selected Programming Language of the Year in 2007, 2010, and 2018.[146]\\n',\n",
              " 'An empirical study found that scripting languages, such as Python, are more productive than conventional languages, such as C and Java, for programming problems involving string manipulation and search in a dictionary, and determined that memory consumption was often \"better than Java and not much worse than C or C++\".[147]\\n',\n",
              " 'Large organizations that use Python include Wikipedia, Google,[148] Yahoo!,[149] CERN,[150] NASA,[151] Facebook,[152] Amazon, Instagram,[153] Spotify[154] and some smaller entities like ILM[155] and ITA.[156] The social news networking site Reddit is written entirely in Python.[157]\\n',\n",
              " 'Python can serve as a scripting language for web applications, e.g., via mod_wsgi for the Apache web server.[158] With Web Server Gateway Interface, a standard API has evolved to facilitate these applications. Web frameworks like Django, Pylons, Pyramid, TurboGears, web2py, Tornado, Flask, Bottle and Zope support developers in the design and maintenance of complex applications. Pyjs and IronPython can be used to develop the client-side of Ajax-based applications. SQLAlchemy can be used as a data mapper to a relational database. Twisted is a framework to program communications between computers, and is used (for example) by Dropbox.\\n',\n",
              " 'Libraries such as NumPy, SciPy and Matplotlib allow the effective use of Python in scientific computing,[159][160] with specialized libraries such as Biopython and Astropy providing domain-specific functionality. SageMath is a mathematical software with a notebook interface programmable in Python: its library covers many aspects of mathematics, including algebra, combinatorics, numerical mathematics, number theory, and calculus.[161] OpenCV has python bindings with a rich set of features for computer vision and image processing.[162]\\n',\n",
              " 'Python has been successfully embedded in many software products as a scripting language, including in finite element method software such as Abaqus, 3D parametric modeler like FreeCAD, 3D animation packages such as 3ds Max, Blender, Cinema 4D, Lightwave, Houdini, Maya, modo, MotionBuilder, Softimage, the visual effects compositor Nuke, 2D imaging programs like GIMP,[163] Inkscape, Scribus and Paint Shop Pro,[164] and musical notation programs like scorewriter and capella. GNU Debugger uses Python as a pretty printer to show complex structures such as C++ containers. Esri promotes Python as the best choice for writing scripts in ArcGIS.[165] It has also been used in several video games,[166][167] and has been adopted as first of the three available programming languages in Google App Engine, the other two being Java and Go.[168]\\n',\n",
              " 'Python is commonly used in artificial intelligence projects and machine learning projects with the help of libraries like TensorFlow, Keras, Pytorch and Scikit-learn.[169][170][171][172] As a scripting language with modular architecture, simple syntax and rich text processing tools, Python is often used for natural language processing.[173]\\n',\n",
              " 'Many operating systems include Python as a standard component. It ships with most Linux distributions,[174] AmigaOS 4 (using Python 2.7), FreeBSD (as a package), NetBSD, OpenBSD (as a package) and macOS and can be used from the command line (terminal). Many Linux distributions use installers written in Python: Ubuntu uses the Ubiquity installer, while Red Hat Linux and Fedora use the Anaconda installer. Gentoo Linux uses Python in its package management system, Portage.\\n',\n",
              " 'Python is used extensively in the information security industry, including in exploit development.[175][176]\\n',\n",
              " 'Most of the Sugar software for the One Laptop per Child XO, now developed at Sugar Labs, is written in Python.[177] The Raspberry Pi single-board computer project has adopted Python as its main user-programming language.\\n',\n",
              " 'LibreOffice includes Python, and intends to replace Java with Python. Its Python Scripting Provider is a core feature[178] since Version 4.0 from 7 February 2013.\\n',\n",
              " \"Python's design and philosophy have influenced many other programming languages:\\n\",\n",
              " \"Python's development practices have also been emulated by other languages. For example, the practice of requiring a document describing the rationale for, and issues surrounding, a change to the language (in Python, a PEP) is also used in Tcl,[188] Erlang,[189] and Swift.[190]\\n\",\n",
              " '\\n']"
            ]
          },
          "metadata": {
            "tags": []
          },
          "execution_count": 52
        }
      ]
    },
    {
      "cell_type": "code",
      "metadata": {
        "colab": {
          "base_uri": "https://localhost:8080/"
        },
        "id": "zQYDwq-IP6T2",
        "outputId": "cd43c667-6880-40c6-eb75-c27be2631b72"
      },
      "source": [
        "len(web_paragraph)"
      ],
      "execution_count": null,
      "outputs": [
        {
          "output_type": "execute_result",
          "data": {
            "text/plain": [
              "80"
            ]
          },
          "metadata": {
            "tags": []
          },
          "execution_count": 53
        }
      ]
    },
    {
      "cell_type": "code",
      "metadata": {
        "id": "Xl2e402vQCe5"
      },
      "source": [
        "web_tokens = [nltk.word_tokenize(paragraph) for paragraph in web_paragraph]"
      ],
      "execution_count": null,
      "outputs": []
    },
    {
      "cell_type": "code",
      "metadata": {
        "colab": {
          "base_uri": "https://localhost:8080/"
        },
        "id": "RGPp95XGQRzq",
        "outputId": "6e92b352-1379-4907-e0ba-2e5411aed269"
      },
      "source": [
        "web_tokens[2]"
      ],
      "execution_count": null,
      "outputs": [
        {
          "output_type": "execute_result",
          "data": {
            "text/plain": [
              "['Python',\n",
              " 'is',\n",
              " 'dynamically',\n",
              " 'typed',\n",
              " 'and',\n",
              " 'garbage-collected',\n",
              " '.',\n",
              " 'It',\n",
              " 'supports',\n",
              " 'multiple',\n",
              " 'programming',\n",
              " 'paradigms',\n",
              " ',',\n",
              " 'including',\n",
              " 'structured',\n",
              " '(',\n",
              " 'particularly',\n",
              " ',',\n",
              " 'procedural',\n",
              " ')',\n",
              " ',',\n",
              " 'object-oriented',\n",
              " ',',\n",
              " 'and',\n",
              " 'functional',\n",
              " 'programming',\n",
              " '.',\n",
              " 'Python',\n",
              " 'is',\n",
              " 'often',\n",
              " 'described',\n",
              " 'as',\n",
              " 'a',\n",
              " '``',\n",
              " 'batteries',\n",
              " 'included',\n",
              " \"''\",\n",
              " 'language',\n",
              " 'due',\n",
              " 'to',\n",
              " 'its',\n",
              " 'comprehensive',\n",
              " 'standard',\n",
              " 'library',\n",
              " '.',\n",
              " '[',\n",
              " '29',\n",
              " ']']"
            ]
          },
          "metadata": {
            "tags": []
          },
          "execution_count": 55
        }
      ]
    },
    {
      "cell_type": "code",
      "metadata": {
        "id": "642O5XRbRU-N"
      },
      "source": [
        "comments = []"
      ],
      "execution_count": null,
      "outputs": []
    },
    {
      "cell_type": "code",
      "metadata": {
        "id": "DvRNvYoZSEan"
      },
      "source": [
        "import csv"
      ],
      "execution_count": null,
      "outputs": []
    },
    {
      "cell_type": "code",
      "metadata": {
        "id": "l9YpHmFNRaYG"
      },
      "source": [
        "with open(\"reviews.csv\", \"r\") as file:\n",
        "  reader = csv.reader(file)\n",
        "  for row in reader:\n",
        "        comments.append(row)"
      ],
      "execution_count": null,
      "outputs": []
    },
    {
      "cell_type": "code",
      "metadata": {
        "colab": {
          "base_uri": "https://localhost:8080/"
        },
        "id": "oYVupPScSJgv",
        "outputId": "8981d317-e44f-493a-f818-78f5d14add6b"
      },
      "source": [
        "comments[0]"
      ],
      "execution_count": null,
      "outputs": [
        {
          "output_type": "execute_result",
          "data": {
            "text/plain": [
              "[\"This camera is perfect for an enthusiastic amateur photographer. The pictures are razor-sharp, even in macro. It is small enough to fit easily in a coat pocket or purse. It is light enough to carry around all day without bother. Operating its many features is easy and often obvious - i'm no annie lebovitz, but i was able to figure out most of its abilities just messing around with it at a camera store. The manual does a fine job filling in any blanks that remain. The auto-focus performs well, but i love having the 12 optional scene modes - they are dummy-proof, and correspond to many situations in which i would actually seek to use the camera. Comes with a 16 mb compact flash and one rechargeable battery the charging unit, included, is fast and small. I bought a 256 mb cf and a second battery, so it's good to go on a long vacation. I enthusiastically recommend this camera.\"]"
            ]
          },
          "metadata": {
            "tags": []
          },
          "execution_count": 67
        }
      ]
    },
    {
      "cell_type": "code",
      "metadata": {
        "colab": {
          "base_uri": "https://localhost:8080/"
        },
        "id": "DtgQeWLZSeg-",
        "outputId": "75a8bcec-c0b3-48b5-da2d-153edfc273c9"
      },
      "source": [
        "len(comments)"
      ],
      "execution_count": null,
      "outputs": [
        {
          "output_type": "execute_result",
          "data": {
            "text/plain": [
              "8"
            ]
          },
          "metadata": {
            "tags": []
          },
          "execution_count": 68
        }
      ]
    },
    {
      "cell_type": "code",
      "metadata": {
        "id": "kLKTE-hVSqyj"
      },
      "source": [
        "tokens = [nltk.word_tokenize(str(comment)) for comment in comments]"
      ],
      "execution_count": null,
      "outputs": []
    },
    {
      "cell_type": "code",
      "metadata": {
        "colab": {
          "base_uri": "https://localhost:8080/"
        },
        "id": "-3xg1Z5yS9Cc",
        "outputId": "1ef051e6-b93a-4894-d00b-5b6e57f2f20e"
      },
      "source": [
        "tokens[0]"
      ],
      "execution_count": null,
      "outputs": [
        {
          "output_type": "execute_result",
          "data": {
            "text/plain": [
              "['[',\n",
              " '``',\n",
              " 'This',\n",
              " 'camera',\n",
              " 'is',\n",
              " 'perfect',\n",
              " 'for',\n",
              " 'an',\n",
              " 'enthusiastic',\n",
              " 'amateur',\n",
              " 'photographer',\n",
              " '.',\n",
              " 'The',\n",
              " 'pictures',\n",
              " 'are',\n",
              " 'razor-sharp',\n",
              " ',',\n",
              " 'even',\n",
              " 'in',\n",
              " 'macro',\n",
              " '.',\n",
              " 'It',\n",
              " 'is',\n",
              " 'small',\n",
              " 'enough',\n",
              " 'to',\n",
              " 'fit',\n",
              " 'easily',\n",
              " 'in',\n",
              " 'a',\n",
              " 'coat',\n",
              " 'pocket',\n",
              " 'or',\n",
              " 'purse',\n",
              " '.',\n",
              " 'It',\n",
              " 'is',\n",
              " 'light',\n",
              " 'enough',\n",
              " 'to',\n",
              " 'carry',\n",
              " 'around',\n",
              " 'all',\n",
              " 'day',\n",
              " 'without',\n",
              " 'bother',\n",
              " '.',\n",
              " 'Operating',\n",
              " 'its',\n",
              " 'many',\n",
              " 'features',\n",
              " 'is',\n",
              " 'easy',\n",
              " 'and',\n",
              " 'often',\n",
              " 'obvious',\n",
              " '-',\n",
              " 'i',\n",
              " \"'m\",\n",
              " 'no',\n",
              " 'annie',\n",
              " 'lebovitz',\n",
              " ',',\n",
              " 'but',\n",
              " 'i',\n",
              " 'was',\n",
              " 'able',\n",
              " 'to',\n",
              " 'figure',\n",
              " 'out',\n",
              " 'most',\n",
              " 'of',\n",
              " 'its',\n",
              " 'abilities',\n",
              " 'just',\n",
              " 'messing',\n",
              " 'around',\n",
              " 'with',\n",
              " 'it',\n",
              " 'at',\n",
              " 'a',\n",
              " 'camera',\n",
              " 'store',\n",
              " '.',\n",
              " 'The',\n",
              " 'manual',\n",
              " 'does',\n",
              " 'a',\n",
              " 'fine',\n",
              " 'job',\n",
              " 'filling',\n",
              " 'in',\n",
              " 'any',\n",
              " 'blanks',\n",
              " 'that',\n",
              " 'remain',\n",
              " '.',\n",
              " 'The',\n",
              " 'auto-focus',\n",
              " 'performs',\n",
              " 'well',\n",
              " ',',\n",
              " 'but',\n",
              " 'i',\n",
              " 'love',\n",
              " 'having',\n",
              " 'the',\n",
              " '12',\n",
              " 'optional',\n",
              " 'scene',\n",
              " 'modes',\n",
              " '-',\n",
              " 'they',\n",
              " 'are',\n",
              " 'dummy-proof',\n",
              " ',',\n",
              " 'and',\n",
              " 'correspond',\n",
              " 'to',\n",
              " 'many',\n",
              " 'situations',\n",
              " 'in',\n",
              " 'which',\n",
              " 'i',\n",
              " 'would',\n",
              " 'actually',\n",
              " 'seek',\n",
              " 'to',\n",
              " 'use',\n",
              " 'the',\n",
              " 'camera',\n",
              " '.',\n",
              " 'Comes',\n",
              " 'with',\n",
              " 'a',\n",
              " '16',\n",
              " 'mb',\n",
              " 'compact',\n",
              " 'flash',\n",
              " 'and',\n",
              " 'one',\n",
              " 'rechargeable',\n",
              " 'battery',\n",
              " 'the',\n",
              " 'charging',\n",
              " 'unit',\n",
              " ',',\n",
              " 'included',\n",
              " ',',\n",
              " 'is',\n",
              " 'fast',\n",
              " 'and',\n",
              " 'small',\n",
              " '.',\n",
              " 'I',\n",
              " 'bought',\n",
              " 'a',\n",
              " '256',\n",
              " 'mb',\n",
              " 'cf',\n",
              " 'and',\n",
              " 'a',\n",
              " 'second',\n",
              " 'battery',\n",
              " ',',\n",
              " 'so',\n",
              " 'it',\n",
              " \"'s\",\n",
              " 'good',\n",
              " 'to',\n",
              " 'go',\n",
              " 'on',\n",
              " 'a',\n",
              " 'long',\n",
              " 'vacation',\n",
              " '.',\n",
              " 'I',\n",
              " 'enthusiastically',\n",
              " 'recommend',\n",
              " 'this',\n",
              " 'camera',\n",
              " '.',\n",
              " \"''\",\n",
              " ']']"
            ]
          },
          "metadata": {
            "tags": []
          },
          "execution_count": 71
        }
      ]
    },
    {
      "cell_type": "code",
      "metadata": {
        "id": "hPXlo1vbWdun"
      },
      "source": [
        "import numpy as np"
      ],
      "execution_count": null,
      "outputs": []
    },
    {
      "cell_type": "code",
      "metadata": {
        "id": "iM46nDABWn79"
      },
      "source": [
        "negative = []"
      ],
      "execution_count": null,
      "outputs": []
    },
    {
      "cell_type": "code",
      "metadata": {
        "id": "gr93cCeNW6k0"
      },
      "source": [
        "with open(\"negative_words.csv\", \"r\") as file:\n",
        "  reader = csv.reader(file)\n",
        "  for row in reader:\n",
        "        negative.append(row)"
      ],
      "execution_count": null,
      "outputs": []
    },
    {
      "cell_type": "code",
      "metadata": {
        "colab": {
          "base_uri": "https://localhost:8080/"
        },
        "id": "fOUfCw4sXGBx",
        "outputId": "45f630b8-05a0-4c84-9dd2-f4e37f98849a"
      },
      "source": [
        "negative"
      ],
      "execution_count": null,
      "outputs": [
        {
          "output_type": "execute_result",
          "data": {
            "text/plain": [
              "[['abysmal'],\n",
              " ['adverse'],\n",
              " ['alarming'],\n",
              " ['angry'],\n",
              " ['annoy'],\n",
              " ['annoying'],\n",
              " ['anxious'],\n",
              " ['apathy'],\n",
              " ['appalling'],\n",
              " ['atrocious'],\n",
              " ['awful'],\n",
              " ['bad'],\n",
              " ['banal'],\n",
              " ['barbed'],\n",
              " ['belligerent'],\n",
              " ['bemoan'],\n",
              " ['beneath'],\n",
              " ['boring'],\n",
              " ['broken'],\n",
              " ['callous'],\n",
              " [\"can't\"],\n",
              " ['clumsy'],\n",
              " ['coarse'],\n",
              " ['cold'],\n",
              " ['cold-hearted'],\n",
              " ['collapse'],\n",
              " ['confused'],\n",
              " ['contradictory'],\n",
              " ['contrary'],\n",
              " ['corrosive'],\n",
              " ['corrupt'],\n",
              " ['crazy'],\n",
              " ['creepy'],\n",
              " ['criminal'],\n",
              " ['cruel'],\n",
              " ['cry'],\n",
              " ['cutting'],\n",
              " ['dead'],\n",
              " ['decaying'],\n",
              " ['damage'],\n",
              " ['damaging'],\n",
              " ['dastardly'],\n",
              " ['deplorable'],\n",
              " ['depressed'],\n",
              " ['deprived'],\n",
              " ['deformed'],\n",
              " ['deny'],\n",
              " ['despicable'],\n",
              " ['detrimental'],\n",
              " ['dirty'],\n",
              " ['disappoint'],\n",
              " ['disappointed'],\n",
              " ['disease'],\n",
              " ['disgusting'],\n",
              " ['disheveled'],\n",
              " ['dishonest'],\n",
              " ['dishonorable'],\n",
              " ['dismal'],\n",
              " ['distress'],\n",
              " ['dont'],\n",
              " [\"don't\"],\n",
              " ['dreadful'],\n",
              " ['dreary'],\n",
              " ['enraged'],\n",
              " ['eroding'],\n",
              " ['evil'],\n",
              " ['fail'],\n",
              " ['faulty'],\n",
              " ['fear'],\n",
              " ['feeble'],\n",
              " ['fight'],\n",
              " ['filthy'],\n",
              " ['foul'],\n",
              " ['frighten'],\n",
              " ['frightful'],\n",
              " ['frustration'],\n",
              " ['fuck'],\n",
              " ['gawky'],\n",
              " ['ghastly'],\n",
              " ['grave'],\n",
              " ['greed'],\n",
              " ['grim'],\n",
              " ['grimace'],\n",
              " ['gross'],\n",
              " ['grotesque'],\n",
              " ['gruesome'],\n",
              " ['guilty'],\n",
              " ['haggard'],\n",
              " ['hard'],\n",
              " ['hard-hearted'],\n",
              " ['harmful'],\n",
              " ['hate'],\n",
              " ['hideous'],\n",
              " ['homely'],\n",
              " ['horrendous'],\n",
              " ['horrible'],\n",
              " ['hostile'],\n",
              " ['hurt'],\n",
              " ['hurtful'],\n",
              " ['icky'],\n",
              " ['ignore'],\n",
              " ['ignorant'],\n",
              " ['ill'],\n",
              " ['immature'],\n",
              " ['imperfect'],\n",
              " ['impossible'],\n",
              " ['inane'],\n",
              " ['inelegant'],\n",
              " ['infernal'],\n",
              " ['injure'],\n",
              " ['injurious'],\n",
              " ['insane'],\n",
              " ['insidious'],\n",
              " ['insipid'],\n",
              " ['issue'],\n",
              " ['issues'],\n",
              " ['jealous'],\n",
              " ['junky'],\n",
              " ['lose'],\n",
              " ['lousy'],\n",
              " ['lumpy'],\n",
              " ['malicious'],\n",
              " ['mean'],\n",
              " ['menacing'],\n",
              " ['messy'],\n",
              " ['misshapen'],\n",
              " ['missing'],\n",
              " ['misunderstood'],\n",
              " ['moan'],\n",
              " ['moldy'],\n",
              " ['monstrous'],\n",
              " ['naive'],\n",
              " ['nasty'],\n",
              " ['naughty'],\n",
              " ['negate'],\n",
              " ['negative'],\n",
              " ['never'],\n",
              " ['no'],\n",
              " ['nobody'],\n",
              " ['nondescript'],\n",
              " ['nonsense'],\n",
              " ['not'],\n",
              " ['noxious'],\n",
              " ['objectionable'],\n",
              " ['odious'],\n",
              " ['offensive'],\n",
              " ['old'],\n",
              " ['oppressive'],\n",
              " ['pain'],\n",
              " ['perturb'],\n",
              " ['pessimistic'],\n",
              " ['petty'],\n",
              " ['plain'],\n",
              " ['poisonous'],\n",
              " ['poop'],\n",
              " ['poor'],\n",
              " ['prejudice'],\n",
              " ['problem'],\n",
              " ['questionable'],\n",
              " ['quirky'],\n",
              " ['quit'],\n",
              " ['reject'],\n",
              " ['renege'],\n",
              " ['repellant'],\n",
              " ['reptilian'],\n",
              " ['repulsive'],\n",
              " ['repugnant'],\n",
              " ['revenge'],\n",
              " ['revolting'],\n",
              " ['rocky'],\n",
              " ['rotten'],\n",
              " ['rude'],\n",
              " ['ruthless'],\n",
              " ['sad'],\n",
              " ['savage'],\n",
              " ['scare'],\n",
              " ['scary'],\n",
              " ['scream'],\n",
              " ['severe'],\n",
              " ['shit'],\n",
              " ['shoddy'],\n",
              " ['shocking'],\n",
              " ['sick'],\n",
              " ['sickening'],\n",
              " ['sinister'],\n",
              " ['slimy'],\n",
              " ['smelly'],\n",
              " ['sobbing'],\n",
              " ['sorry'],\n",
              " ['spiteful'],\n",
              " ['sticky'],\n",
              " ['stinky'],\n",
              " ['stormy'],\n",
              " ['stressful'],\n",
              " ['stuck'],\n",
              " ['stupid'],\n",
              " ['substandard'],\n",
              " ['suck'],\n",
              " ['sucks'],\n",
              " ['suspect'],\n",
              " ['suspicious'],\n",
              " ['tense'],\n",
              " ['terrible'],\n",
              " ['terrifying'],\n",
              " ['threatening'],\n",
              " ['ugly'],\n",
              " ['undermine'],\n",
              " ['unfair'],\n",
              " ['unfavorable'],\n",
              " ['unhappy'],\n",
              " ['unhealthy'],\n",
              " ['uninspired'],\n",
              " ['unjust'],\n",
              " ['unlucky'],\n",
              " ['unpleasant'],\n",
              " ['upset'],\n",
              " ['unsatisfactory'],\n",
              " ['unsightly'],\n",
              " ['untoward'],\n",
              " ['unwanted'],\n",
              " ['unwelcome'],\n",
              " ['unwholesome'],\n",
              " ['unwieldy'],\n",
              " ['unwise'],\n",
              " ['upset'],\n",
              " ['vice'],\n",
              " ['vicious'],\n",
              " ['vile'],\n",
              " ['villainous'],\n",
              " ['vindictive'],\n",
              " ['wary'],\n",
              " ['weary'],\n",
              " ['wicked'],\n",
              " ['woeful'],\n",
              " ['worse'],\n",
              " ['worst'],\n",
              " ['worthless'],\n",
              " ['wound'],\n",
              " ['yell'],\n",
              " ['yucky'],\n",
              " ['zero']]"
            ]
          },
          "metadata": {
            "tags": []
          },
          "execution_count": 75
        }
      ]
    },
    {
      "cell_type": "code",
      "metadata": {
        "id": "y9tuhUU1XRh3"
      },
      "source": [
        "positive = []"
      ],
      "execution_count": null,
      "outputs": []
    },
    {
      "cell_type": "code",
      "metadata": {
        "id": "pd-V71NSXU-6"
      },
      "source": [
        "with open(\"positive_words.csv\", \"r\") as file:\n",
        "  reader = csv.reader(file)\n",
        "  for row in reader:\n",
        "        positive.append(row)"
      ],
      "execution_count": null,
      "outputs": []
    },
    {
      "cell_type": "code",
      "metadata": {
        "colab": {
          "base_uri": "https://localhost:8080/"
        },
        "id": "4gOJlumZXg5H",
        "outputId": "1a7add3b-433c-4e0b-f53c-0844a49c542f"
      },
      "source": [
        "positive[:50]"
      ],
      "execution_count": null,
      "outputs": [
        {
          "output_type": "execute_result",
          "data": {
            "text/plain": [
              "[['absolutely'],\n",
              " ['adorable'],\n",
              " ['accepted'],\n",
              " ['acclaimed'],\n",
              " ['accomplish'],\n",
              " ['accomplishment'],\n",
              " ['achievement'],\n",
              " ['action'],\n",
              " ['active'],\n",
              " ['admire'],\n",
              " ['adventure'],\n",
              " ['affirmative'],\n",
              " ['affluent'],\n",
              " ['agree'],\n",
              " ['agreeable'],\n",
              " ['amazing'],\n",
              " ['angelic'],\n",
              " ['appealing'],\n",
              " ['approve'],\n",
              " ['aptitude'],\n",
              " ['attractive'],\n",
              " ['awesome'],\n",
              " ['beaming'],\n",
              " ['beautiful'],\n",
              " ['believe'],\n",
              " ['beneficial'],\n",
              " ['bliss'],\n",
              " ['bountiful'],\n",
              " ['bounty'],\n",
              " ['brave'],\n",
              " ['bravo'],\n",
              " ['brilliant'],\n",
              " ['bubbly'],\n",
              " ['calm'],\n",
              " ['celebrated'],\n",
              " ['certain'],\n",
              " ['champ'],\n",
              " ['champion'],\n",
              " ['charming'],\n",
              " ['cheery'],\n",
              " ['choice'],\n",
              " ['classic'],\n",
              " ['classical'],\n",
              " ['clean'],\n",
              " ['commend'],\n",
              " ['composed'],\n",
              " ['congratulation'],\n",
              " ['constant'],\n",
              " ['cool'],\n",
              " ['courageous']]"
            ]
          },
          "metadata": {
            "tags": []
          },
          "execution_count": 79
        }
      ]
    },
    {
      "cell_type": "markdown",
      "metadata": {
        "id": "FRq_js4sYKYA"
      },
      "source": [
        "Vamos criar uma função para marcar os sentimentos das sentenças\n",
        "\n",
        "*   Para cada palavra positiva no texto adicionamos (+1) em um contador positivo\n",
        "*   Para cada palavra negativa no texto adicionamos (+1) em um contador negativo\n",
        "\n",
        "Vamos usar a lógica de par."
      ]
    },
    {
      "cell_type": "code",
      "metadata": {
        "id": "NjxNVw61XpVk"
      },
      "source": [
        "def sentiment(text):\n",
        "    temp = [] #\n",
        "    #vamos \"quebrar\" o texto em sentenças\n",
        "    text_sent = nltk.sent_tokenize(text)\n",
        "    for sentence in text_sent:\n",
        "        n_count = 0\n",
        "        p_count = 0\n",
        "        #Para cada sentença vamos quebrar em palavras/tokens\n",
        "        sent_words = nltk.word_tokenize(sentence)\n",
        "        #se a palavra estiver na lista de positiva adicionamos +1 se estiver na negativa adicionamos +1\n",
        "        for word in sent_words:\n",
        "            for item in positive:\n",
        "                if(word == item[0]):\n",
        "                    p_count +=1\n",
        "            for item in negative:\n",
        "                if(word == item[0]):\n",
        "                    n_count +=1\n",
        "        #vamos agora verificar alguns casos\n",
        "        #[Caso 1: qualquer número de apenas positivos(+)]\n",
        "        if(p_count > 0 and n_count == 0): #any number of only positives (+) [case 1]\n",
        "            #print \"+ : \" + sentence\n",
        "            temp.append(1)\n",
        "         #[Caso 2: Vou usar impar para saber se é negativos(+)]\n",
        "        elif(n_count%2 > 0): #odd number of negatives (-) [case2]\n",
        "            #print \"- : \" + sentence\n",
        "            temp.append(-1)\n",
        "         #[Caso 3: Pares negativos(+)]   \n",
        "        elif(n_count%2 ==0 and n_count > 0): #even number of negatives (+) [case3]\n",
        "            #print \"+ : \" + sentence\n",
        "            temp.append(1)\n",
        "        #[Caso 4: Neutro]    \n",
        "        else:\n",
        "            #print \"? : \" + sentence\n",
        "            temp.append(0)\n",
        "    return temp"
      ],
      "execution_count": null,
      "outputs": []
    },
    {
      "cell_type": "code",
      "metadata": {
        "colab": {
          "base_uri": "https://localhost:8080/"
        },
        "id": "0HUKLxfFaMo1",
        "outputId": "f396d2fc-b7dd-4a24-ef7c-75330151352b"
      },
      "source": [
        "sentiment(\"It was terribly bad.\")"
      ],
      "execution_count": null,
      "outputs": [
        {
          "output_type": "execute_result",
          "data": {
            "text/plain": [
              "[-1]"
            ]
          },
          "metadata": {
            "tags": []
          },
          "execution_count": 81
        }
      ]
    },
    {
      "cell_type": "code",
      "metadata": {
        "colab": {
          "base_uri": "https://localhost:8080/"
        },
        "id": "bUr-61fGafr-",
        "outputId": "f89cf6d8-1dff-4ecd-f172-6d0d85df20bc"
      },
      "source": [
        "sentiment(\"Actualluty, it was not bad at all.\")"
      ],
      "execution_count": null,
      "outputs": [
        {
          "output_type": "execute_result",
          "data": {
            "text/plain": [
              "[1]"
            ]
          },
          "metadata": {
            "tags": []
          },
          "execution_count": 82
        }
      ]
    },
    {
      "cell_type": "code",
      "metadata": {
        "colab": {
          "base_uri": "https://localhost:8080/"
        },
        "id": "h523i5RMaoUp",
        "outputId": "bb5fd1e5-d928-41d3-8347-441a9ea68e4e"
      },
      "source": [
        "sentiment(\"This is a sentance about nothing.\")"
      ],
      "execution_count": null,
      "outputs": [
        {
          "output_type": "execute_result",
          "data": {
            "text/plain": [
              "[0]"
            ]
          },
          "metadata": {
            "tags": []
          },
          "execution_count": 83
        }
      ]
    },
    {
      "cell_type": "code",
      "metadata": {
        "id": "83S39Y3hayYi"
      },
      "source": [
        "my_list = sentiment(\"I saw this movie the other night. I can say I was not disappointed! The actiing and story line was amazing and kept me on the edge of my seat the entire time. While I did not care for the music, it did not take away from the overall experience. I would highly recommend this movie to anyone who enjoys thirllers.\")  "
      ],
      "execution_count": null,
      "outputs": []
    },
    {
      "cell_type": "code",
      "metadata": {
        "colab": {
          "base_uri": "https://localhost:8080/"
        },
        "id": "Gt4KTh6GbA9t",
        "outputId": "457a354b-9beb-4298-809c-dd927e97e61e"
      },
      "source": [
        "my_list"
      ],
      "execution_count": null,
      "outputs": [
        {
          "output_type": "execute_result",
          "data": {
            "text/plain": [
              "[0, 1, 1, 1, 1]"
            ]
          },
          "metadata": {
            "tags": []
          },
          "execution_count": 86
        }
      ]
    },
    {
      "cell_type": "code",
      "metadata": {
        "colab": {
          "base_uri": "https://localhost:8080/"
        },
        "id": "fTKxeiaobWqQ",
        "outputId": "f0fddfc8-84d3-451d-da6c-d143262446d0"
      },
      "source": [
        "comments"
      ],
      "execution_count": null,
      "outputs": [
        {
          "output_type": "execute_result",
          "data": {
            "text/plain": [
              "[[\"This camera is perfect for an enthusiastic amateur photographer. The pictures are razor-sharp, even in macro. It is small enough to fit easily in a coat pocket or purse. It is light enough to carry around all day without bother. Operating its many features is easy and often obvious - i'm no annie lebovitz, but i was able to figure out most of its abilities just messing around with it at a camera store. The manual does a fine job filling in any blanks that remain. The auto-focus performs well, but i love having the 12 optional scene modes - they are dummy-proof, and correspond to many situations in which i would actually seek to use the camera. Comes with a 16 mb compact flash and one rechargeable battery the charging unit, included, is fast and small. I bought a 256 mb cf and a second battery, so it's good to go on a long vacation. I enthusiastically recommend this camera.\"],\n",
              " [\"I got my camera three days back, and although i had some experience with digital cameras prior to purchasing this one, i still rate myself as a beginner. I bought this camera because it fit my budget and the pre-production and production model reviews were positive. It's easy to use, and yet very feature rich. In the auto mode it functions basically as a point and click, the scene modes are very easy to use and produce good results. The manual mode is feature rich and i can't wait to get the hang of it. The macro mode is exceptional, the pictures are very clear and you can take the pictures with the lens unbelievably close the subject. The battery life is very good, i got about 90 minutes with the lcd turned on all the time, the first time around, and i have been using it with the lcd off every now and then, and have yet needed to recharge it. The camera comes with a lexar 16mb starter card, which stores about 10 images in fine mode at the highest resolution, i intend to buy a bigger card soon.\"],\n",
              " ['I love photography. I had an older camera that was simply a point and shoot camera. I needed something with more power, so i bought a nikon coolpix 4300. I fell in love with this camera, it combines ease of use, with an immense amount of options and power. You can use the scene modes, or fine tune the options, i. you can change the iso level, shutter speed, etc. This camera is ideal for people who want more power, but don’t want to spend 1000s dollars on a camera. '],\n",
              " [\"I bought coolpix 4300 two months after i had bought canon powershot s400. It was not easy sharing one with my teen age kid. The two cameras are very similar in functionality and pricing. I've had no problem with canon whatsoever. With nikon, although picture qualities are as good as any other 4 mp cameras, i've had the following headaches. Pictures won't transfer to pc directly from the camera using the included transfer cable. I did everything i could, and it took many days of frustration before concluding that the only way to transfer to pc is with the card reader. The speed is noticeably slower than canon, especially so with flashes on. With low battery, it twice wiped out the entire pictures in the memory chip. I used lexar 256 mb and i still use it which means nothing is wrong with lexar. Be very careful when the battery is low and make sure to carry extra batteries. \"],\n",
              " ['The other reviewers have clearly pointed all the good things about this camera, which i do agree. But there are certain issues might be they are to me here - all of them are minor; not major ones though. This camera keeps on autofocusing in auto mode with a buzzing sound which can\\'t be stopped. Would be really good if they have given an option to stop this autofocusing. If you want to have the date; time on the image, its only through their software \"nikon view\" which reads the images date; time from the images meta-data. So if you use your card reader; copy images - you got to once again open them through their software to put the date; time. In that too, there is not a direct way to add date; time - you got to say\\' print images\\' to a different directory in which there is an option to specify the date; time. Even the slightest of the shakes totally distorts your image. Images taken indoor were not so clear. You got to have flash on to get it even though your room is well lit. Lens cap is a really annoying. The movie clips taken will always have some noise in it, you can\\'t avoid that. But overall this is a good camera with a\\' really good\\' picture clarity; an exceptional close-up shooting capability. I would rate this is 4.5 stars picture quality; image size defined above are specific to nikon coolpix.'],\n",
              " [\"Within a year, there are problems with my menu dial knob. It became stuck which makes it almost impossible to switch between modes. I send my camera to nikon for servicing, took them a whole 6 weeks to diagnose the problem. Worse of all, they claim that it's some kind of internal damage and refuse to cover the cost via warranty! They wouldn't repair my camera unless if i pay $100 for parts? and labor! It is a good camera in terms of the function and quality, but take your chance with it because nikon absolutely sucks when it comes to customer service.\"],\n",
              " ['Got a \"system error\" problem 30 days after purchase. Made the camera totally inoperable. Also, the lens cap design is flawed. You have to manually Audio on video also lacking. Otherwise, it takes very good pictures; shutter delay is not so bad either. Still, had to send it back to nikon for repair.'],\n",
              " ['I am an amateur photographer and here is a piece of advise to all the folks who are thinking about making a move the digital world. I feel, is the best camera out there for the features and price. I had initially thought of buying a 2 or 3 megapixel camera but these are good for 4x6\" or 5x7\" prints and i wanted some really great 8x10\" photos once in a while. I did not want a very small camera as it seems to get lost in my hands and i was not comfortable with that. I wanted a decent sized camera with a contour for my fingers to hold it steadily. I wanted a camera that had a lot of built-in settings for different types of surroundings while giving me an option to use my photography skills although, I am an amateur with an interest in photography by turning on the manual settings. I wanted a respected brand and had to stay within my budget because i had bought an expensive camcorder before but had not used it much. Depending on all the above requirements, I had narrowed down my search to nikon 4300 and canon powershot s400 models. Nikon got the final nod for its settings auto and manual along with movie modes, medium; compact size, price, brand name, good software that is included and previous reviews. I should say I have been very happy with my decision ever since. The pictures are absolutely amazing - the camera captures the minutest of details.']]"
            ]
          },
          "metadata": {
            "tags": []
          },
          "execution_count": 87
        }
      ]
    },
    {
      "cell_type": "code",
      "metadata": {
        "colab": {
          "base_uri": "https://localhost:8080/"
        },
        "id": "yL_8O6Lpb2kI",
        "outputId": "4bd8cf51-7087-447b-f2ca-e6e9d0aa464b"
      },
      "source": [
        "for review in comments:\n",
        "  print('\\n')\n",
        "  print(np.average(sentiment(str(review))))\n",
        "  print(review)"
      ],
      "execution_count": null,
      "outputs": [
        {
          "output_type": "stream",
          "text": [
            "\n",
            "\n",
            "0.6\n",
            "[\"This camera is perfect for an enthusiastic amateur photographer. The pictures are razor-sharp, even in macro. It is small enough to fit easily in a coat pocket or purse. It is light enough to carry around all day without bother. Operating its many features is easy and often obvious - i'm no annie lebovitz, but i was able to figure out most of its abilities just messing around with it at a camera store. The manual does a fine job filling in any blanks that remain. The auto-focus performs well, but i love having the 12 optional scene modes - they are dummy-proof, and correspond to many situations in which i would actually seek to use the camera. Comes with a 16 mb compact flash and one rechargeable battery the charging unit, included, is fast and small. I bought a 256 mb cf and a second battery, so it's good to go on a long vacation. I enthusiastically recommend this camera.\"]\n",
            "\n",
            "\n",
            "0.875\n",
            "[\"I got my camera three days back, and although i had some experience with digital cameras prior to purchasing this one, i still rate myself as a beginner. I bought this camera because it fit my budget and the pre-production and production model reviews were positive. It's easy to use, and yet very feature rich. In the auto mode it functions basically as a point and click, the scene modes are very easy to use and produce good results. The manual mode is feature rich and i can't wait to get the hang of it. The macro mode is exceptional, the pictures are very clear and you can take the pictures with the lens unbelievably close the subject. The battery life is very good, i got about 90 minutes with the lcd turned on all the time, the first time around, and i have been using it with the lcd off every now and then, and have yet needed to recharge it. The camera comes with a lexar 16mb starter card, which stores about 10 images in fine mode at the highest resolution, i intend to buy a bigger card soon.\"]\n",
            "\n",
            "\n",
            "0.6666666666666666\n",
            "['I love photography. I had an older camera that was simply a point and shoot camera. I needed something with more power, so i bought a nikon coolpix 4300. I fell in love with this camera, it combines ease of use, with an immense amount of options and power. You can use the scene modes, or fine tune the options, i. you can change the iso level, shutter speed, etc. This camera is ideal for people who want more power, but don’t want to spend 1000s dollars on a camera. ']\n",
            "\n",
            "\n",
            "0.18181818181818182\n",
            "[\"I bought coolpix 4300 two months after i had bought canon powershot s400. It was not easy sharing one with my teen age kid. The two cameras are very similar in functionality and pricing. I've had no problem with canon whatsoever. With nikon, although picture qualities are as good as any other 4 mp cameras, i've had the following headaches. Pictures won't transfer to pc directly from the camera using the included transfer cable. I did everything i could, and it took many days of frustration before concluding that the only way to transfer to pc is with the card reader. The speed is noticeably slower than canon, especially so with flashes on. With low battery, it twice wiped out the entire pictures in the memory chip. I used lexar 256 mb and i still use it which means nothing is wrong with lexar. Be very careful when the battery is low and make sure to carry extra batteries. \"]\n",
            "\n",
            "\n",
            "0.2857142857142857\n",
            "['The other reviewers have clearly pointed all the good things about this camera, which i do agree. But there are certain issues might be they are to me here - all of them are minor; not major ones though. This camera keeps on autofocusing in auto mode with a buzzing sound which can\\'t be stopped. Would be really good if they have given an option to stop this autofocusing. If you want to have the date; time on the image, its only through their software \"nikon view\" which reads the images date; time from the images meta-data. So if you use your card reader; copy images - you got to once again open them through their software to put the date; time. In that too, there is not a direct way to add date; time - you got to say\\' print images\\' to a different directory in which there is an option to specify the date; time. Even the slightest of the shakes totally distorts your image. Images taken indoor were not so clear. You got to have flash on to get it even though your room is well lit. Lens cap is a really annoying. The movie clips taken will always have some noise in it, you can\\'t avoid that. But overall this is a good camera with a\\' really good\\' picture clarity; an exceptional close-up shooting capability. I would rate this is 4.5 stars picture quality; image size defined above are specific to nikon coolpix.']\n",
            "\n",
            "\n",
            "-0.2857142857142857\n",
            "[\"Within a year, there are problems with my menu dial knob. It became stuck which makes it almost impossible to switch between modes. I send my camera to nikon for servicing, took them a whole 6 weeks to diagnose the problem. Worse of all, they claim that it's some kind of internal damage and refuse to cover the cost via warranty! They wouldn't repair my camera unless if i pay $100 for parts? and labor! It is a good camera in terms of the function and quality, but take your chance with it because nikon absolutely sucks when it comes to customer service.\"]\n",
            "\n",
            "\n",
            "0.0\n",
            "['Got a \"system error\" problem 30 days after purchase. Made the camera totally inoperable. Also, the lens cap design is flawed. You have to manually Audio on video also lacking. Otherwise, it takes very good pictures; shutter delay is not so bad either. Still, had to send it back to nikon for repair.']\n",
            "\n",
            "\n",
            "0.45454545454545453\n",
            "['I am an amateur photographer and here is a piece of advise to all the folks who are thinking about making a move the digital world. I feel, is the best camera out there for the features and price. I had initially thought of buying a 2 or 3 megapixel camera but these are good for 4x6\" or 5x7\" prints and i wanted some really great 8x10\" photos once in a while. I did not want a very small camera as it seems to get lost in my hands and i was not comfortable with that. I wanted a decent sized camera with a contour for my fingers to hold it steadily. I wanted a camera that had a lot of built-in settings for different types of surroundings while giving me an option to use my photography skills although, I am an amateur with an interest in photography by turning on the manual settings. I wanted a respected brand and had to stay within my budget because i had bought an expensive camcorder before but had not used it much. Depending on all the above requirements, I had narrowed down my search to nikon 4300 and canon powershot s400 models. Nikon got the final nod for its settings auto and manual along with movie modes, medium; compact size, price, brand name, good software that is included and previous reviews. I should say I have been very happy with my decision ever since. The pictures are absolutely amazing - the camera captures the minutest of details.']\n"
          ],
          "name": "stdout"
        }
      ]
    },
    {
      "cell_type": "code",
      "metadata": {
        "id": "7yCVdV01cjkl"
      },
      "source": [
        ""
      ],
      "execution_count": null,
      "outputs": []
    }
  ]
}