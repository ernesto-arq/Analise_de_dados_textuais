{
  "nbformat": 4,
  "nbformat_minor": 0,
  "metadata": {
    "colab": {
      "name": "Analise_dados_textuais_7.ipynb",
      "provenance": [],
      "collapsed_sections": []
    },
    "kernelspec": {
      "name": "python3",
      "display_name": "Python 3"
    }
  },
  "cells": [
    {
      "cell_type": "code",
      "metadata": {
        "id": "UkXXb4PWoiw3"
      },
      "source": [
        "import nltk"
      ],
      "execution_count": null,
      "outputs": []
    },
    {
      "cell_type": "code",
      "metadata": {
        "colab": {
          "base_uri": "https://localhost:8080/"
        },
        "id": "nmB4kwYOuwUI",
        "outputId": "deebf7b8-c153-4ede-c61c-3fe389c9c0d2"
      },
      "source": [
        "nltk.download('gutenberg')"
      ],
      "execution_count": null,
      "outputs": [
        {
          "output_type": "stream",
          "text": [
            "[nltk_data] Downloading package gutenberg to /root/nltk_data...\n",
            "[nltk_data]   Unzipping corpora/gutenberg.zip.\n"
          ],
          "name": "stdout"
        },
        {
          "output_type": "execute_result",
          "data": {
            "text/plain": [
              "True"
            ]
          },
          "metadata": {
            "tags": []
          },
          "execution_count": 2
        }
      ]
    },
    {
      "cell_type": "code",
      "metadata": {
        "id": "TJ4OjLuNu8q2"
      },
      "source": [
        "alice = nltk.corpus.gutenberg.words('carroll-alice.txt')"
      ],
      "execution_count": null,
      "outputs": []
    },
    {
      "cell_type": "code",
      "metadata": {
        "colab": {
          "base_uri": "https://localhost:8080/"
        },
        "id": "Wst1U5xdvM6q",
        "outputId": "8204989d-44c8-4f11-fac0-a8e5d6b4484e"
      },
      "source": [
        "alice"
      ],
      "execution_count": null,
      "outputs": [
        {
          "output_type": "execute_result",
          "data": {
            "text/plain": [
              "['[', 'Alice', \"'\", 's', 'Adventures', 'in', ...]"
            ]
          },
          "metadata": {
            "tags": []
          },
          "execution_count": 4
        }
      ]
    },
    {
      "cell_type": "code",
      "metadata": {
        "id": "eVEfXxaEvXIl"
      },
      "source": [
        "alice_freq = nltk.FreqDist(alice)"
      ],
      "execution_count": null,
      "outputs": []
    },
    {
      "cell_type": "code",
      "metadata": {
        "colab": {
          "base_uri": "https://localhost:8080/"
        },
        "id": "FN1OT-ZzvnIl",
        "outputId": "a731fe24-4e56-4e3e-9ae6-c7c871841fc9"
      },
      "source": [
        "alice_freq"
      ],
      "execution_count": null,
      "outputs": [
        {
          "output_type": "execute_result",
          "data": {
            "text/plain": [
              "FreqDist({'[': 3,\n",
              "          'Alice': 396,\n",
              "          \"'\": 1731,\n",
              "          's': 195,\n",
              "          'Adventures': 3,\n",
              "          'in': 357,\n",
              "          'Wonderland': 3,\n",
              "          'by': 55,\n",
              "          'Lewis': 1,\n",
              "          'Carroll': 1,\n",
              "          '1865': 1,\n",
              "          ']': 1,\n",
              "          'CHAPTER': 12,\n",
              "          'I': 543,\n",
              "          '.': 764,\n",
              "          'Down': 3,\n",
              "          'the': 1527,\n",
              "          'Rabbit': 45,\n",
              "          '-': 141,\n",
              "          'Hole': 1,\n",
              "          'was': 352,\n",
              "          'beginning': 14,\n",
              "          'to': 725,\n",
              "          'get': 44,\n",
              "          'very': 126,\n",
              "          'tired': 7,\n",
              "          'of': 500,\n",
              "          'sitting': 10,\n",
              "          'her': 243,\n",
              "          'sister': 9,\n",
              "          'on': 189,\n",
              "          'bank': 3,\n",
              "          ',': 1993,\n",
              "          'and': 802,\n",
              "          'having': 10,\n",
              "          'nothing': 30,\n",
              "          'do': 68,\n",
              "          ':': 216,\n",
              "          'once': 31,\n",
              "          'or': 76,\n",
              "          'twice': 5,\n",
              "          'she': 509,\n",
              "          'had': 177,\n",
              "          'peeped': 3,\n",
              "          'into': 67,\n",
              "          'book': 11,\n",
              "          'reading': 3,\n",
              "          'but': 133,\n",
              "          'it': 527,\n",
              "          'no': 69,\n",
              "          'pictures': 4,\n",
              "          'conversations': 1,\n",
              "          'what': 93,\n",
              "          'is': 97,\n",
              "          'use': 18,\n",
              "          'a': 615,\n",
              "          \",'\": 397,\n",
              "          'thought': 74,\n",
              "          'without': 26,\n",
              "          'conversation': 10,\n",
              "          \"?'\": 154,\n",
              "          'So': 27,\n",
              "          'considering': 3,\n",
              "          'own': 10,\n",
              "          'mind': 9,\n",
              "          '(': 50,\n",
              "          'as': 246,\n",
              "          'well': 40,\n",
              "          'could': 73,\n",
              "          'for': 140,\n",
              "          'hot': 7,\n",
              "          'day': 29,\n",
              "          'made': 30,\n",
              "          'feel': 8,\n",
              "          'sleepy': 5,\n",
              "          'stupid': 5,\n",
              "          '),': 8,\n",
              "          'whether': 11,\n",
              "          'pleasure': 2,\n",
              "          'making': 8,\n",
              "          'daisy': 1,\n",
              "          'chain': 1,\n",
              "          'would': 70,\n",
              "          'be': 145,\n",
              "          'worth': 4,\n",
              "          'trouble': 6,\n",
              "          'getting': 22,\n",
              "          'up': 98,\n",
              "          'picking': 2,\n",
              "          'daisies': 1,\n",
              "          'when': 69,\n",
              "          'suddenly': 12,\n",
              "          'White': 22,\n",
              "          'with': 175,\n",
              "          'pink': 1,\n",
              "          'eyes': 29,\n",
              "          'ran': 16,\n",
              "          'close': 13,\n",
              "          'There': 33,\n",
              "          'so': 124,\n",
              "          'VERY': 13,\n",
              "          'remarkable': 2,\n",
              "          'that': 275,\n",
              "          ';': 186,\n",
              "          'nor': 2,\n",
              "          'did': 60,\n",
              "          'think': 50,\n",
              "          'much': 51,\n",
              "          'out': 116,\n",
              "          'way': 56,\n",
              "          'hear': 14,\n",
              "          'say': 51,\n",
              "          'itself': 14,\n",
              "          'Oh': 35,\n",
              "          'dear': 28,\n",
              "          '!': 155,\n",
              "          'shall': 23,\n",
              "          'late': 6,\n",
              "          \"!'\": 278,\n",
              "          'over': 40,\n",
              "          'afterwards': 2,\n",
              "          'occurred': 2,\n",
              "          'ought': 14,\n",
              "          'have': 73,\n",
              "          'wondered': 1,\n",
              "          'at': 202,\n",
              "          'this': 113,\n",
              "          'time': 68,\n",
              "          'all': 173,\n",
              "          'seemed': 27,\n",
              "          'quite': 53,\n",
              "          'natural': 4,\n",
              "          ');': 2,\n",
              "          'actually': 1,\n",
              "          'TOOK': 1,\n",
              "          'A': 17,\n",
              "          'WATCH': 1,\n",
              "          'OUT': 1,\n",
              "          'OF': 3,\n",
              "          'ITS': 1,\n",
              "          'WAISTCOAT': 1,\n",
              "          'POCKET': 1,\n",
              "          'looked': 45,\n",
              "          'then': 72,\n",
              "          'hurried': 11,\n",
              "          'started': 2,\n",
              "          'feet': 19,\n",
              "          'flashed': 1,\n",
              "          'across': 5,\n",
              "          'never': 42,\n",
              "          'before': 36,\n",
              "          'seen': 15,\n",
              "          'rabbit': 5,\n",
              "          'either': 9,\n",
              "          'waistcoat': 1,\n",
              "          'pocket': 6,\n",
              "          'watch': 7,\n",
              "          'take': 18,\n",
              "          'burning': 1,\n",
              "          'curiosity': 5,\n",
              "          'field': 1,\n",
              "          'after': 37,\n",
              "          'fortunately': 1,\n",
              "          'just': 45,\n",
              "          'see': 66,\n",
              "          'pop': 1,\n",
              "          'down': 99,\n",
              "          'large': 33,\n",
              "          'hole': 4,\n",
              "          'under': 16,\n",
              "          'hedge': 2,\n",
              "          'In': 11,\n",
              "          'another': 22,\n",
              "          'moment': 31,\n",
              "          'went': 83,\n",
              "          'how': 40,\n",
              "          'world': 7,\n",
              "          'again': 83,\n",
              "          'The': 108,\n",
              "          'straight': 2,\n",
              "          'like': 84,\n",
              "          'tunnel': 1,\n",
              "          'some': 48,\n",
              "          'dipped': 2,\n",
              "          'not': 129,\n",
              "          'about': 94,\n",
              "          'stopping': 1,\n",
              "          'herself': 83,\n",
              "          'found': 30,\n",
              "          'falling': 2,\n",
              "          'deep': 7,\n",
              "          'Either': 1,\n",
              "          'fell': 6,\n",
              "          'slowly': 8,\n",
              "          'plenty': 1,\n",
              "          'look': 28,\n",
              "          'wonder': 18,\n",
              "          'going': 27,\n",
              "          'happen': 8,\n",
              "          'next': 28,\n",
              "          'First': 7,\n",
              "          'tried': 19,\n",
              "          'make': 27,\n",
              "          'coming': 8,\n",
              "          'too': 25,\n",
              "          'dark': 3,\n",
              "          'anything': 19,\n",
              "          'sides': 4,\n",
              "          'noticed': 8,\n",
              "          'they': 129,\n",
              "          'were': 85,\n",
              "          'filled': 3,\n",
              "          'cupboards': 2,\n",
              "          'shelves': 2,\n",
              "          'here': 39,\n",
              "          'there': 65,\n",
              "          'saw': 14,\n",
              "          'maps': 1,\n",
              "          'hung': 1,\n",
              "          'upon': 26,\n",
              "          'pegs': 1,\n",
              "          'She': 39,\n",
              "          'took': 23,\n",
              "          'jar': 2,\n",
              "          'from': 34,\n",
              "          'one': 94,\n",
              "          'passed': 5,\n",
              "          'labelled': 1,\n",
              "          'ORANGE': 1,\n",
              "          'MARMALADE': 1,\n",
              "          \"',\": 2,\n",
              "          'great': 39,\n",
              "          'disappointment': 1,\n",
              "          'empty': 1,\n",
              "          'drop': 1,\n",
              "          'fear': 4,\n",
              "          'killing': 1,\n",
              "          'somebody': 5,\n",
              "          'managed': 4,\n",
              "          'put': 31,\n",
              "          'past': 3,\n",
              "          'Well': 23,\n",
              "          'such': 40,\n",
              "          'fall': 7,\n",
              "          'tumbling': 2,\n",
              "          'stairs': 3,\n",
              "          'How': 27,\n",
              "          'brave': 1,\n",
              "          'll': 56,\n",
              "          'me': 61,\n",
              "          'home': 5,\n",
              "          'Why': 27,\n",
              "          'wouldn': 12,\n",
              "          't': 216,\n",
              "          'even': 17,\n",
              "          'if': 78,\n",
              "          'off': 62,\n",
              "          'top': 8,\n",
              "          'house': 18,\n",
              "          'Which': 8,\n",
              "          'likely': 5,\n",
              "          'true': 3,\n",
              "          '.)': 16,\n",
              "          'Would': 8,\n",
              "          'NEVER': 2,\n",
              "          'come': 25,\n",
              "          'an': 52,\n",
              "          'end': 17,\n",
              "          'many': 12,\n",
              "          'miles': 3,\n",
              "          've': 43,\n",
              "          'fallen': 4,\n",
              "          'said': 456,\n",
              "          'aloud': 5,\n",
              "          'must': 41,\n",
              "          'somewhere': 2,\n",
              "          'near': 14,\n",
              "          'centre': 1,\n",
              "          'earth': 4,\n",
              "          'Let': 11,\n",
              "          'four': 8,\n",
              "          'thousand': 2,\n",
              "          \"--'\": 51,\n",
              "          'you': 345,\n",
              "          'learnt': 2,\n",
              "          'several': 4,\n",
              "          'things': 31,\n",
              "          'sort': 20,\n",
              "          'lessons': 10,\n",
              "          'schoolroom': 1,\n",
              "          'though': 10,\n",
              "          'good': 26,\n",
              "          'opportunity': 8,\n",
              "          'showing': 2,\n",
              "          'knowledge': 3,\n",
              "          'listen': 7,\n",
              "          'still': 12,\n",
              "          'practice': 1,\n",
              "          ')': 8,\n",
              "          \"'--\": 18,\n",
              "          'yes': 1,\n",
              "          'right': 30,\n",
              "          'distance': 8,\n",
              "          '--': 140,\n",
              "          'Latitude': 2,\n",
              "          'Longitude': 2,\n",
              "          'got': 45,\n",
              "          'idea': 15,\n",
              "          'nice': 6,\n",
              "          'grand': 3,\n",
              "          'words': 21,\n",
              "          'Presently': 2,\n",
              "          'began': 58,\n",
              "          'THROUGH': 1,\n",
              "          'funny': 3,\n",
              "          'seem': 8,\n",
              "          'among': 12,\n",
              "          'people': 13,\n",
              "          'walk': 5,\n",
              "          'their': 50,\n",
              "          'heads': 9,\n",
              "          'downward': 1,\n",
              "          'Antipathies': 1,\n",
              "          'rather': 25,\n",
              "          'glad': 11,\n",
              "          'WAS': 4,\n",
              "          'listening': 3,\n",
              "          'didn': 14,\n",
              "          'sound': 4,\n",
              "          'word': 10,\n",
              "          'ask': 11,\n",
              "          'them': 88,\n",
              "          'name': 10,\n",
              "          'country': 1,\n",
              "          'know': 87,\n",
              "          'Please': 5,\n",
              "          'Ma': 2,\n",
              "          'am': 16,\n",
              "          'New': 1,\n",
              "          'Zealand': 1,\n",
              "          'Australia': 1,\n",
              "          'curtsey': 1,\n",
              "          'spoke': 17,\n",
              "          'fancy': 7,\n",
              "          'CURTSEYING': 1,\n",
              "          're': 38,\n",
              "          'through': 13,\n",
              "          'air': 15,\n",
              "          'Do': 13,\n",
              "          'manage': 7,\n",
              "          '?)': 1,\n",
              "          'And': 67,\n",
              "          'ignorant': 1,\n",
              "          'little': 125,\n",
              "          'girl': 4,\n",
              "          'asking': 5,\n",
              "          'No': 20,\n",
              "          'perhaps': 14,\n",
              "          'written': 6,\n",
              "          \".'\": 187,\n",
              "          'else': 12,\n",
              "          'soon': 24,\n",
              "          'talking': 16,\n",
              "          'Dinah': 14,\n",
              "          'miss': 1,\n",
              "          'night': 5,\n",
              "          'should': 27,\n",
              "          'cat': 11,\n",
              "          'hope': 3,\n",
              "          'remember': 14,\n",
              "          'saucer': 1,\n",
              "          'milk': 2,\n",
              "          'tea': 18,\n",
              "          'my': 55,\n",
              "          'wish': 21,\n",
              "          'are': 44,\n",
              "          'mice': 4,\n",
              "          'm': 58,\n",
              "          'afraid': 12,\n",
              "          'might': 28,\n",
              "          'catch': 3,\n",
              "          'bat': 3,\n",
              "          'mouse': 14,\n",
              "          'But': 37,\n",
              "          'cats': 13,\n",
              "          'eat': 17,\n",
              "          'bats': 4,\n",
              "          'saying': 15,\n",
              "          'dreamy': 1,\n",
              "          '?': 35,\n",
              "          'sometimes': 5,\n",
              "          'couldn': 9,\n",
              "          'answer': 9,\n",
              "          'question': 17,\n",
              "          'matter': 9,\n",
              "          'which': 41,\n",
              "          'felt': 23,\n",
              "          'dozing': 1,\n",
              "          'begun': 7,\n",
              "          'dream': 7,\n",
              "          'walking': 5,\n",
              "          'hand': 20,\n",
              "          'earnestly': 2,\n",
              "          'Now': 12,\n",
              "          'tell': 27,\n",
              "          'truth': 1,\n",
              "          'ever': 20,\n",
              "          'thump': 2,\n",
              "          'came': 40,\n",
              "          'heap': 1,\n",
              "          'sticks': 1,\n",
              "          'dry': 8,\n",
              "          'leaves': 6,\n",
              "          'bit': 16,\n",
              "          'hurt': 3,\n",
              "          'jumped': 6,\n",
              "          'overhead': 1,\n",
              "          'long': 31,\n",
              "          'passage': 4,\n",
              "          'sight': 10,\n",
              "          'hurrying': 1,\n",
              "          'lost': 3,\n",
              "          'away': 25,\n",
              "          'wind': 2,\n",
              "          'turned': 16,\n",
              "          'corner': 4,\n",
              "          'ears': 5,\n",
              "          'whiskers': 3,\n",
              "          'behind': 13,\n",
              "          'longer': 3,\n",
              "          'low': 15,\n",
              "          'hall': 9,\n",
              "          'lit': 1,\n",
              "          'row': 2,\n",
              "          'lamps': 1,\n",
              "          'hanging': 3,\n",
              "          'roof': 6,\n",
              "          'doors': 2,\n",
              "          'round': 41,\n",
              "          'locked': 1,\n",
              "          'been': 38,\n",
              "          'side': 17,\n",
              "          'other': 40,\n",
              "          'trying': 14,\n",
              "          'every': 12,\n",
              "          'door': 30,\n",
              "          'walked': 10,\n",
              "          'sadly': 5,\n",
              "          'middle': 7,\n",
              "          'wondering': 7,\n",
              "          'Suddenly': 1,\n",
              "          'three': 28,\n",
              "          'legged': 2,\n",
              "          'table': 17,\n",
              "          'solid': 1,\n",
              "          'glass': 10,\n",
              "          'except': 4,\n",
              "          'tiny': 4,\n",
              "          'golden': 7,\n",
              "          'key': 9,\n",
              "          'first': 44,\n",
              "          'belong': 1,\n",
              "          'alas': 3,\n",
              "          'locks': 2,\n",
              "          'small': 10,\n",
              "          'any': 39,\n",
              "          'rate': 9,\n",
              "          'open': 7,\n",
              "          'However': 13,\n",
              "          'second': 4,\n",
              "          'curtain': 1,\n",
              "          'fifteen': 1,\n",
              "          'inches': 6,\n",
              "          'high': 15,\n",
              "          'lock': 1,\n",
              "          'delight': 3,\n",
              "          'fitted': 1,\n",
              "          'opened': 10,\n",
              "          'led': 4,\n",
              "          'larger': 7,\n",
              "          'than': 23,\n",
              "          'rat': 1,\n",
              "          'knelt': 1,\n",
              "          'along': 6,\n",
              "          'loveliest': 1,\n",
              "          'garden': 16,\n",
              "          'longed': 2,\n",
              "          'wander': 1,\n",
              "          'those': 9,\n",
              "          'beds': 2,\n",
              "          'bright': 8,\n",
              "          'flowers': 2,\n",
              "          'cool': 2,\n",
              "          'fountains': 2,\n",
              "          'head': 50,\n",
              "          'doorway': 1,\n",
              "          'go': 47,\n",
              "          'poor': 25,\n",
              "          'shoulders': 4,\n",
              "          'shut': 5,\n",
              "          'telescope': 3,\n",
              "          'only': 47,\n",
              "          'begin': 12,\n",
              "          'For': 13,\n",
              "          'happened': 7,\n",
              "          'lately': 1,\n",
              "          'few': 9,\n",
              "          'indeed': 15,\n",
              "          'really': 11,\n",
              "          'impossible': 3,\n",
              "          'waiting': 8,\n",
              "          'back': 38,\n",
              "          'half': 22,\n",
              "          'hoping': 3,\n",
              "          'find': 21,\n",
              "          'rules': 3,\n",
              "          'shutting': 2,\n",
              "          'telescopes': 1,\n",
              "          'bottle': 10,\n",
              "          \"('\": 5,\n",
              "          'certainly': 13,\n",
              "          ',)': 9,\n",
              "          'neck': 7,\n",
              "          'paper': 4,\n",
              "          'label': 2,\n",
              "          'DRINK': 2,\n",
              "          'ME': 7,\n",
              "          'beautifully': 2,\n",
              "          'printed': 1,\n",
              "          'letters': 1,\n",
              "          'It': 64,\n",
              "          'Drink': 1,\n",
              "          'wise': 2,\n",
              "          'THAT': 13,\n",
              "          'hurry': 11,\n",
              "          'marked': 6,\n",
              "          '\"': 48,\n",
              "          'poison': 3,\n",
              "          \"';\": 5,\n",
              "          'read': 10,\n",
              "          'histories': 1,\n",
              "          'children': 10,\n",
              "          'who': 48,\n",
              "          'burnt': 1,\n",
              "          'eaten': 1,\n",
              "          'wild': 2,\n",
              "          'beasts': 2,\n",
              "          'unpleasant': 2,\n",
              "          'because': 14,\n",
              "          'WOULD': 5,\n",
              "          'simple': 5,\n",
              "          'friends': 2,\n",
              "          'taught': 4,\n",
              "          'red': 2,\n",
              "          'poker': 1,\n",
              "          'will': 24,\n",
              "          'burn': 2,\n",
              "          'hold': 6,\n",
              "          'cut': 5,\n",
              "          'your': 53,\n",
              "          'finger': 5,\n",
              "          'deeply': 4,\n",
              "          'knife': 3,\n",
              "          'usually': 2,\n",
              "          'bleeds': 1,\n",
              "          'forgotten': 6,\n",
              "          'drink': 4,\n",
              "          'almost': 6,\n",
              "          'certain': 3,\n",
              "          'disagree': 1,\n",
              "          'sooner': 2,\n",
              "          'later': 3,\n",
              "          'NOT': 7,\n",
              "          'ventured': 4,\n",
              "          'taste': 2,\n",
              "          'finding': 3,\n",
              "          'fact': 8,\n",
              "          'mixed': 2,\n",
              "          'flavour': 1,\n",
              "          'cherry': 1,\n",
              "          'tart': 1,\n",
              "          'custard': 1,\n",
              "          'pine': 1,\n",
              "          'apple': 1,\n",
              "          'roast': 1,\n",
              "          'turkey': 1,\n",
              "          'toffee': 1,\n",
              "          'buttered': 1,\n",
              "          'toast': 1,\n",
              "          'finished': 12,\n",
              "          '*': 60,\n",
              "          'What': 42,\n",
              "          'curious': 19,\n",
              "          'feeling': 7,\n",
              "          'now': 48,\n",
              "          'ten': 5,\n",
              "          'face': 15,\n",
              "          'brightened': 2,\n",
              "          'size': 13,\n",
              "          'lovely': 2,\n",
              "          'however': 7,\n",
              "          'waited': 11,\n",
              "          'minutes': 11,\n",
              "          'shrink': 1,\n",
              "          'further': 3,\n",
              "          'nervous': 5,\n",
              "          'altogether': 5,\n",
              "          'candle': 3,\n",
              "          'flame': 1,\n",
              "          'blown': 1,\n",
              "          'thing': 49,\n",
              "          'After': 6,\n",
              "          'while': 20,\n",
              "          'more': 47,\n",
              "          'decided': 3,\n",
              "          'possibly': 3,\n",
              "          'reach': 4,\n",
              "          'plainly': 1,\n",
              "          'best': 10,\n",
              "          'climb': 1,\n",
              "          'legs': 3,\n",
              "          'slippery': 1,\n",
              "          'sat': 17,\n",
              "          'cried': 20,\n",
              "          'Come': 21,\n",
              "          'crying': 2,\n",
              "          'sharply': 4,\n",
              "          'advise': 1,\n",
              "          'leave': 7,\n",
              "          'minute': 21,\n",
              "          'generally': 7,\n",
              "          'gave': 13,\n",
              "          'advice': 1,\n",
              "          'seldom': 1,\n",
              "          'followed': 8,\n",
              "          'scolded': 1,\n",
              "          'severely': 4,\n",
              "          'bring': 2,\n",
              "          'tears': 10,\n",
              "          'remembered': 5,\n",
              "          'box': 10,\n",
              "          'cheated': 1,\n",
              "          'game': 12,\n",
              "          'croquet': 8,\n",
              "          'playing': 2,\n",
              "          'against': 9,\n",
              "          'child': 11,\n",
              "          'fond': 4,\n",
              "          'pretending': 1,\n",
              "          'two': 32,\n",
              "          'pretend': 1,\n",
              "          'hardly': 11,\n",
              "          'enough': 18,\n",
              "          'left': 14,\n",
              "          'ONE': 4,\n",
              "          'respectable': 1,\n",
              "          'person': 4,\n",
              "          'Soon': 1,\n",
              "          'eye': 7,\n",
              "          'lying': 8,\n",
              "          'cake': 3,\n",
              "          'EAT': 1,\n",
              "          'currants': 1,\n",
              "          'makes': 11,\n",
              "          'grow': 13,\n",
              "          'can': 57,\n",
              "          'smaller': 3,\n",
              "          'creep': 1,\n",
              "          'don': 51,\n",
              "          'care': 4,\n",
              "          'happens': 5,\n",
              "          'ate': 1,\n",
              "          'anxiously': 14,\n",
              "          \"?',\": 1,\n",
              "          'holding': 3,\n",
              "          'growing': 11,\n",
              "          'surprised': 7,\n",
              "          'remained': 3,\n",
              "          'same': 23,\n",
              "          'sure': 20,\n",
              "          'eats': 1,\n",
              "          'expecting': 3,\n",
              "          'dull': 3,\n",
              "          'life': 12,\n",
              "          'common': 1,\n",
              "          'set': 14,\n",
              "          'work': 8,\n",
              "          'II': 1,\n",
              "          'Pool': 1,\n",
              "          'Tears': 1,\n",
              "          'Curiouser': 1,\n",
              "          'curiouser': 1,\n",
              "          'forgot': 2,\n",
              "          'speak': 13,\n",
              "          'English': 6,\n",
              "          'opening': 3,\n",
              "          'largest': 1,\n",
              "          'Good': 1,\n",
              "          'bye': 2,\n",
              "          'far': 13,\n",
              "          ').': 4,\n",
              "          'shoes': 6,\n",
              "          'stockings': 1,\n",
              "          'dears': 3,\n",
              "          '_I_': 2,\n",
              "          'shan': 5,\n",
              "          'able': 1,\n",
              "          'deal': 12,\n",
              "          'myself': 6,\n",
              "          ';--': 1,\n",
              "          'kind': 7,\n",
              "          'won': 26,\n",
              "          'want': 9,\n",
              "          'give': 9,\n",
              "          'new': 4,\n",
              "          'pair': 5,\n",
              "          'boots': 2,\n",
              "          'Christmas': 1,\n",
              "          'planning': 1,\n",
              "          'They': 21,\n",
              "          'carrier': 1,\n",
              "          'sending': 2,\n",
              "          'presents': 2,\n",
              "          'odd': 1,\n",
              "          'directions': 3,\n",
              "          'ALICE': 2,\n",
              "          'S': 6,\n",
              "          'RIGHT': 1,\n",
              "          'FOOT': 1,\n",
              "          'ESQ': 1,\n",
              "          'HEARTHRUG': 1,\n",
              "          'NEAR': 1,\n",
              "          'THE': 7,\n",
              "          'FENDER': 1,\n",
              "          'WITH': 1,\n",
              "          'LOVE': 1,\n",
              "          'nonsense': 6,\n",
              "          'Just': 7,\n",
              "          'struck': 2,\n",
              "          'nine': 5,\n",
              "          'Poor': 2,\n",
              "          'hopeless': 1,\n",
              "          'cry': 3,\n",
              "          'You': 51,\n",
              "          'ashamed': 2,\n",
              "          'yourself': 10,\n",
              "          'Stop': 1,\n",
              "          'shedding': 1,\n",
              "          'gallons': 1,\n",
              "          'until': 5,\n",
              "          'pool': 10,\n",
              "          'reaching': 1,\n",
              "          'heard': 30,\n",
              "          'pattering': 3,\n",
              "          'hastily': 16,\n",
              "          'dried': 1,\n",
              "          'returning': 1,\n",
              "          'splendidly': 1,\n",
              "          'dressed': 1,\n",
              "          'white': 8,\n",
              "          'kid': 5,\n",
              "          'gloves': 11,\n",
              "          'fan': 10,\n",
              "          'he': 101,\n",
              "          'trotting': 2,\n",
              "          'muttering': 3,\n",
              "          'himself': 6,\n",
              "          'Duchess': 42,\n",
              "          'savage': 4,\n",
              "          'kept': 13,\n",
              "          'desperate': 1,\n",
              "          'ready': 8,\n",
              "          'help': 9,\n",
              "          'timid': 3,\n",
              "          'voice': 47,\n",
              "          'If': 16,\n",
              "          'please': 13,\n",
              "          'sir': 6,\n",
              "          'violently': 4,\n",
              "          'dropped': 5,\n",
              "          'skurried': 1,\n",
              "          'darkness': 1,\n",
              "          'hard': 8,\n",
              "          'fanning': 1,\n",
              "          'Dear': 1,\n",
              "          'queer': 12,\n",
              "          'everything': 12,\n",
              "          'yesterday': 3,\n",
              "          'usual': 5,\n",
              "          'changed': 8,\n",
              "          'morning': 5,\n",
              "          'different': 9,\n",
              "          'Who': 15,\n",
              "          'Ah': 5,\n",
              "          'puzzle': 1,\n",
              "          'thinking': 10,\n",
              "          'knew': 14,\n",
              "          'age': 4,\n",
              "          'Ada': 1,\n",
              "          'hair': 7,\n",
              "          'goes': 7,\n",
              "          'ringlets': 2,\n",
              "          'mine': 7,\n",
              "          'doesn': 16,\n",
              "          'Mabel': 4,\n",
              "          'sorts': 3,\n",
              "          'oh': 10,\n",
              "          'knows': 2,\n",
              "          'Besides': 1,\n",
              "          'SHE': 5,\n",
              "          'puzzling': 4,\n",
              "          'try': 12,\n",
              "          'used': 13,\n",
              "          'times': 6,\n",
              "          'five': 1,\n",
              "          'twelve': 4,\n",
              "          'six': 2,\n",
              "          'thirteen': 1,\n",
              "          'seven': 1,\n",
              "          'twenty': 2,\n",
              "          'Multiplication': 1,\n",
              "          'Table': 1,\n",
              "          'signify': 1,\n",
              "          'let': 11,\n",
              "          'Geography': 1,\n",
              "          'London': 1,\n",
              "          'capital': 4,\n",
              "          'Paris': 2,\n",
              "          'Rome': 2,\n",
              "          'wrong': 5,\n",
              "          'doth': 2,\n",
              "          '--\"\\'': 4,\n",
              "          'crossed': 3,\n",
              "          'hands': 12,\n",
              "          'lap': 2,\n",
              "          'repeat': 6,\n",
              "          'sounded': 5,\n",
              "          'hoarse': 3,\n",
              "          'strange': 5,\n",
              "          ':--': 15,\n",
              "          'crocodile': 1,\n",
              "          'Improve': 1,\n",
              "          'his': 94,\n",
              "          'shining': 1,\n",
              "          'tail': 9,\n",
              "          'pour': 1,\n",
              "          'waters': 1,\n",
              "          'Nile': 1,\n",
              "          'On': 4,\n",
              "          'scale': 1,\n",
              "          'cheerfully': 1,\n",
              "          'seems': 5,\n",
              "          'grin': 6,\n",
              "          'neatly': 2,\n",
              "          'spread': 3,\n",
              "          'claws': 2,\n",
              "          'welcome': 1,\n",
              "          'fishes': 1,\n",
              "          'With': 4,\n",
              "          'gently': 3,\n",
              "          'smiling': 2,\n",
              "          'jaws': 2,\n",
              "          'live': 8,\n",
              "          'poky': 1,\n",
              "          'toys': 1,\n",
              "          'play': 8,\n",
              "          'learn': 7,\n",
              "          'stay': 5,\n",
              "          'putting': 3,\n",
              "          '!\"': 6,\n",
              "          'Tell': 5,\n",
              "          'being': 19,\n",
              "          'till': 21,\n",
              "          '\"--': 4,\n",
              "          'sudden': 5,\n",
              "          'burst': 1,\n",
              "          'alone': 4,\n",
              "          'As': 17,\n",
              "          'CAN': 4,\n",
              "          'done': 15,\n",
              "          'measure': 1,\n",
              "          'nearly': 10,\n",
              "          'guess': 3,\n",
              "          'shrinking': 4,\n",
              "          'rapidly': 2,\n",
              "          'cause': 3,\n",
              "          'avoid': 1,\n",
              "          'That': 27,\n",
              "          'narrow': 2,\n",
              "          'escape': 4,\n",
              "          'frightened': 7,\n",
              "          'change': 13,\n",
              "          'existence': 1,\n",
              "          'speed': 1,\n",
              "          'worse': 3,\n",
              "          'declare': 2,\n",
              "          'bad': 2,\n",
              "          'these': 11,\n",
              "          'foot': 9,\n",
              "          'slipped': 3,\n",
              "          'splash': 1,\n",
              "          'chin': 7,\n",
              "          'salt': 2,\n",
              "          'water': 5,\n",
              "          'Her': 3,\n",
              "          'somehow': 1,\n",
              "          'sea': 14,\n",
              "          'case': 5,\n",
              "          'railway': 2,\n",
              "          'seaside': 1,\n",
              "          'general': 3,\n",
              "          'conclusion': 2,\n",
              "          'wherever': 2,\n",
              "          'coast': 1,\n",
              "          'number': 4,\n",
              "          'bathing': 1,\n",
              "          'machines': 1,\n",
              "          'digging': 2,\n",
              "          'sand': 1,\n",
              "          'wooden': 1,\n",
              "          'spades': 1,\n",
              "          'lodging': 1,\n",
              "          'houses': 1,\n",
              "          'station': 1,\n",
              "          'wept': 1,\n",
              "          'hadn': 7,\n",
              "          'swam': 5,\n",
              "          'punished': 1,\n",
              "          'suppose': 12,\n",
              "          'drowned': 1,\n",
              "          'WILL': 3,\n",
              "          'something': 17,\n",
              "          'splashing': 2,\n",
              "          'nearer': 5,\n",
              "          'walrus': 1,\n",
              "          'hippopotamus': 1,\n",
              "          'Everything': 2,\n",
              "          'talk': 14,\n",
              "          'harm': 1,\n",
              "          'O': 3,\n",
              "          'Mouse': 30,\n",
              "          'swimming': 2,\n",
              "          'speaking': 5,\n",
              "          'brother': 1,\n",
              "          'Latin': 1,\n",
              "          'Grammar': 1,\n",
              "          \"!')\": 1,\n",
              "          'inquisitively': 1,\n",
              "          'wink': 2,\n",
              "          'its': 56,\n",
              "          'Perhaps': 3,\n",
              "          'understand': 6,\n",
              "          'daresay': 1,\n",
              "          'French': 4,\n",
              "          'William': 6,\n",
              "          'Conqueror': 2,\n",
              "          'history': 7,\n",
              "          'clear': 2,\n",
              "          'notion': 3,\n",
              "          'ago': 2,\n",
              "          'Ou': 1,\n",
              "          'est': 1,\n",
              "          'ma': 1,\n",
              "          'chatte': 1,\n",
              "          'sentence': 5,\n",
              "          'lesson': 3,\n",
              "          'leap': 1,\n",
              "          'quiver': 1,\n",
              "          'fright': 2,\n",
              "          'beg': 7,\n",
              "          'pardon': 6,\n",
              "          'animal': 2,\n",
              "          'feelings': 2,\n",
              "          'Not': 9,\n",
              "          'shrill': 5,\n",
              "          'passionate': 1,\n",
              "          'YOU': 15,\n",
              "          'soothing': 1,\n",
              "          'tone': 40,\n",
              "          'angry': 5,\n",
              "          'yet': 21,\n",
              "          'show': 3,\n",
              "          'our': 7,\n",
              "          'd': 27,\n",
              "          'quiet': 2,\n",
              "          'lazily': 1,\n",
              "          'sits': 1,\n",
              "          'purring': 2,\n",
              "          'nicely': 2,\n",
              "          'fire': 4,\n",
              "          'licking': 1,\n",
              "          'paws': 4,\n",
              "          'washing': 2,\n",
              "          'soft': 1,\n",
              "          'nurse': 3,\n",
              "          'catching': 2,\n",
              "          'bristling': 1,\n",
              "          'offended': 10,\n",
              "          'We': 10,\n",
              "          'trembling': 6,\n",
              "          ...})"
            ]
          },
          "metadata": {
            "tags": []
          },
          "execution_count": 6
        }
      ]
    },
    {
      "cell_type": "code",
      "metadata": {
        "id": "lIJRMQbIvyjh"
      },
      "source": [
        "alice_100 = alice_freq.most_common(100)"
      ],
      "execution_count": null,
      "outputs": []
    },
    {
      "cell_type": "code",
      "metadata": {
        "colab": {
          "base_uri": "https://localhost:8080/"
        },
        "id": "a3x7AelvwJeG",
        "outputId": "509e1e7d-4221-451d-d508-8a44429507d3"
      },
      "source": [
        "len(alice_100)"
      ],
      "execution_count": null,
      "outputs": [
        {
          "output_type": "execute_result",
          "data": {
            "text/plain": [
              "100"
            ]
          },
          "metadata": {
            "tags": []
          },
          "execution_count": 8
        }
      ]
    },
    {
      "cell_type": "code",
      "metadata": {
        "colab": {
          "base_uri": "https://localhost:8080/"
        },
        "id": "4XLGJ0huwO4W",
        "outputId": "2964f938-73bb-4a82-b788-4d2e54d4112e"
      },
      "source": [
        "alice_100"
      ],
      "execution_count": null,
      "outputs": [
        {
          "output_type": "execute_result",
          "data": {
            "text/plain": [
              "[(',', 1993),\n",
              " (\"'\", 1731),\n",
              " ('the', 1527),\n",
              " ('and', 802),\n",
              " ('.', 764),\n",
              " ('to', 725),\n",
              " ('a', 615),\n",
              " ('I', 543),\n",
              " ('it', 527),\n",
              " ('she', 509),\n",
              " ('of', 500),\n",
              " ('said', 456),\n",
              " (\",'\", 397),\n",
              " ('Alice', 396),\n",
              " ('in', 357),\n",
              " ('was', 352),\n",
              " ('you', 345),\n",
              " (\"!'\", 278),\n",
              " ('that', 275),\n",
              " ('as', 246),\n",
              " ('her', 243),\n",
              " (':', 216),\n",
              " ('t', 216),\n",
              " ('at', 202),\n",
              " ('s', 195),\n",
              " ('on', 189),\n",
              " (\".'\", 187),\n",
              " (';', 186),\n",
              " ('had', 177),\n",
              " ('with', 175),\n",
              " ('all', 173),\n",
              " ('!', 155),\n",
              " (\"?'\", 154),\n",
              " ('be', 145),\n",
              " ('-', 141),\n",
              " ('for', 140),\n",
              " ('--', 140),\n",
              " ('but', 133),\n",
              " ('not', 129),\n",
              " ('they', 129),\n",
              " ('very', 126),\n",
              " ('little', 125),\n",
              " ('so', 124),\n",
              " ('out', 116),\n",
              " ('this', 113),\n",
              " ('The', 108),\n",
              " ('he', 101),\n",
              " ('down', 99),\n",
              " ('up', 98),\n",
              " ('is', 97),\n",
              " ('about', 94),\n",
              " ('one', 94),\n",
              " ('his', 94),\n",
              " ('what', 93),\n",
              " ('them', 88),\n",
              " ('know', 87),\n",
              " ('were', 85),\n",
              " ('like', 84),\n",
              " ('went', 83),\n",
              " ('again', 83),\n",
              " ('herself', 83),\n",
              " ('if', 78),\n",
              " ('or', 76),\n",
              " ('thought', 74),\n",
              " ('Queen', 74),\n",
              " ('could', 73),\n",
              " ('have', 73),\n",
              " ('then', 72),\n",
              " ('would', 70),\n",
              " ('no', 69),\n",
              " ('when', 69),\n",
              " ('do', 68),\n",
              " ('time', 68),\n",
              " ('into', 67),\n",
              " ('And', 67),\n",
              " ('see', 66),\n",
              " ('there', 65),\n",
              " ('It', 64),\n",
              " ('off', 62),\n",
              " ('me', 61),\n",
              " ('King', 61),\n",
              " ('did', 60),\n",
              " ('*', 60),\n",
              " ('Turtle', 59),\n",
              " ('began', 58),\n",
              " ('m', 58),\n",
              " ('can', 57),\n",
              " ('way', 56),\n",
              " ('ll', 56),\n",
              " ('its', 56),\n",
              " ('Mock', 56),\n",
              " ('by', 55),\n",
              " ('my', 55),\n",
              " ('Hatter', 55),\n",
              " ('Gryphon', 55),\n",
              " ('quite', 53),\n",
              " ('your', 53),\n",
              " ('an', 52),\n",
              " ('much', 51),\n",
              " ('say', 51)]"
            ]
          },
          "metadata": {
            "tags": []
          },
          "execution_count": 9
        }
      ]
    },
    {
      "cell_type": "markdown",
      "metadata": {
        "id": "NjqW0HaYwdYI"
      },
      "source": [
        "Normalizar os dados"
      ]
    },
    {
      "cell_type": "code",
      "metadata": {
        "id": "OrGpLRjywbrv"
      },
      "source": [
        "alice_common = []"
      ],
      "execution_count": null,
      "outputs": []
    },
    {
      "cell_type": "code",
      "metadata": {
        "id": "t--ydxgdwqHP"
      },
      "source": [
        "for word in alice_100:\n",
        "  alice_common.append(word[0])"
      ],
      "execution_count": null,
      "outputs": []
    },
    {
      "cell_type": "code",
      "metadata": {
        "id": "pO_4jibxxHiB"
      },
      "source": [
        "# alice_common = [word[0] for word in alice_100]"
      ],
      "execution_count": null,
      "outputs": []
    },
    {
      "cell_type": "code",
      "metadata": {
        "colab": {
          "base_uri": "https://localhost:8080/"
        },
        "id": "zcM1yvxFxCWe",
        "outputId": "06d1bdac-03a6-4a52-b50c-23fe8068dc52"
      },
      "source": [
        "alice_common"
      ],
      "execution_count": null,
      "outputs": [
        {
          "output_type": "execute_result",
          "data": {
            "text/plain": [
              "[',',\n",
              " \"'\",\n",
              " 'the',\n",
              " 'and',\n",
              " '.',\n",
              " 'to',\n",
              " 'a',\n",
              " 'I',\n",
              " 'it',\n",
              " 'she',\n",
              " 'of',\n",
              " 'said',\n",
              " \",'\",\n",
              " 'Alice',\n",
              " 'in',\n",
              " 'was',\n",
              " 'you',\n",
              " \"!'\",\n",
              " 'that',\n",
              " 'as',\n",
              " 'her',\n",
              " ':',\n",
              " 't',\n",
              " 'at',\n",
              " 's',\n",
              " 'on',\n",
              " \".'\",\n",
              " ';',\n",
              " 'had',\n",
              " 'with',\n",
              " 'all',\n",
              " '!',\n",
              " \"?'\",\n",
              " 'be',\n",
              " '-',\n",
              " 'for',\n",
              " '--',\n",
              " 'but',\n",
              " 'not',\n",
              " 'they',\n",
              " 'very',\n",
              " 'little',\n",
              " 'so',\n",
              " 'out',\n",
              " 'this',\n",
              " 'The',\n",
              " 'he',\n",
              " 'down',\n",
              " 'up',\n",
              " 'is',\n",
              " 'about',\n",
              " 'one',\n",
              " 'his',\n",
              " 'what',\n",
              " 'them',\n",
              " 'know',\n",
              " 'were',\n",
              " 'like',\n",
              " 'went',\n",
              " 'again',\n",
              " 'herself',\n",
              " 'if',\n",
              " 'or',\n",
              " 'thought',\n",
              " 'Queen',\n",
              " 'could',\n",
              " 'have',\n",
              " 'then',\n",
              " 'would',\n",
              " 'no',\n",
              " 'when',\n",
              " 'do',\n",
              " 'time',\n",
              " 'into',\n",
              " 'And',\n",
              " 'see',\n",
              " 'there',\n",
              " 'It',\n",
              " 'off',\n",
              " 'me',\n",
              " 'King',\n",
              " 'did',\n",
              " '*',\n",
              " 'Turtle',\n",
              " 'began',\n",
              " 'm',\n",
              " 'can',\n",
              " 'way',\n",
              " 'll',\n",
              " 'its',\n",
              " 'Mock',\n",
              " 'by',\n",
              " 'my',\n",
              " 'Hatter',\n",
              " 'Gryphon',\n",
              " 'quite',\n",
              " 'your',\n",
              " 'an',\n",
              " 'much',\n",
              " 'say']"
            ]
          },
          "metadata": {
            "tags": []
          },
          "execution_count": 13
        }
      ]
    },
    {
      "cell_type": "code",
      "metadata": {
        "id": "O78Vf7o9xaL1"
      },
      "source": [
        "common = set(word.lower() for word in alice_common if word.isalpha())"
      ],
      "execution_count": null,
      "outputs": []
    },
    {
      "cell_type": "code",
      "metadata": {
        "colab": {
          "base_uri": "https://localhost:8080/"
        },
        "id": "FufKYF9KzLda",
        "outputId": "6c917725-e04e-471b-9cbf-e44392fbe247"
      },
      "source": [
        "common"
      ],
      "execution_count": null,
      "outputs": [
        {
          "output_type": "execute_result",
          "data": {
            "text/plain": [
              "{'a',\n",
              " 'about',\n",
              " 'again',\n",
              " 'alice',\n",
              " 'all',\n",
              " 'an',\n",
              " 'and',\n",
              " 'as',\n",
              " 'at',\n",
              " 'be',\n",
              " 'began',\n",
              " 'but',\n",
              " 'by',\n",
              " 'can',\n",
              " 'could',\n",
              " 'did',\n",
              " 'do',\n",
              " 'down',\n",
              " 'for',\n",
              " 'gryphon',\n",
              " 'had',\n",
              " 'hatter',\n",
              " 'have',\n",
              " 'he',\n",
              " 'her',\n",
              " 'herself',\n",
              " 'his',\n",
              " 'i',\n",
              " 'if',\n",
              " 'in',\n",
              " 'into',\n",
              " 'is',\n",
              " 'it',\n",
              " 'its',\n",
              " 'king',\n",
              " 'know',\n",
              " 'like',\n",
              " 'little',\n",
              " 'll',\n",
              " 'm',\n",
              " 'me',\n",
              " 'mock',\n",
              " 'much',\n",
              " 'my',\n",
              " 'no',\n",
              " 'not',\n",
              " 'of',\n",
              " 'off',\n",
              " 'on',\n",
              " 'one',\n",
              " 'or',\n",
              " 'out',\n",
              " 'queen',\n",
              " 'quite',\n",
              " 's',\n",
              " 'said',\n",
              " 'say',\n",
              " 'see',\n",
              " 'she',\n",
              " 'so',\n",
              " 't',\n",
              " 'that',\n",
              " 'the',\n",
              " 'them',\n",
              " 'then',\n",
              " 'there',\n",
              " 'they',\n",
              " 'this',\n",
              " 'thought',\n",
              " 'time',\n",
              " 'to',\n",
              " 'turtle',\n",
              " 'up',\n",
              " 'very',\n",
              " 'was',\n",
              " 'way',\n",
              " 'went',\n",
              " 'were',\n",
              " 'what',\n",
              " 'when',\n",
              " 'with',\n",
              " 'would',\n",
              " 'you',\n",
              " 'your'}"
            ]
          },
          "metadata": {
            "tags": []
          },
          "execution_count": 15
        }
      ]
    },
    {
      "cell_type": "code",
      "metadata": {
        "colab": {
          "base_uri": "https://localhost:8080/"
        },
        "id": "7JChIT-QzXwD",
        "outputId": "7656c15b-df7e-44b5-b1d6-79d06529c15e"
      },
      "source": [
        "len(common)"
      ],
      "execution_count": null,
      "outputs": [
        {
          "output_type": "execute_result",
          "data": {
            "text/plain": [
              "84"
            ]
          },
          "metadata": {
            "tags": []
          },
          "execution_count": 16
        }
      ]
    },
    {
      "cell_type": "markdown",
      "metadata": {
        "id": "XfIXHnHmzfso"
      },
      "source": [
        "Tratando as StopWords"
      ]
    },
    {
      "cell_type": "code",
      "metadata": {
        "colab": {
          "base_uri": "https://localhost:8080/"
        },
        "id": "unfBTeA6zb9k",
        "outputId": "d9f44f49-dc6c-4c02-e7c0-0270a0fbb74e"
      },
      "source": [
        "nltk.download('stopwords')"
      ],
      "execution_count": null,
      "outputs": [
        {
          "output_type": "stream",
          "text": [
            "[nltk_data] Downloading package stopwords to /root/nltk_data...\n",
            "[nltk_data]   Unzipping corpora/stopwords.zip.\n"
          ],
          "name": "stdout"
        },
        {
          "output_type": "execute_result",
          "data": {
            "text/plain": [
              "True"
            ]
          },
          "metadata": {
            "tags": []
          },
          "execution_count": 17
        }
      ]
    },
    {
      "cell_type": "code",
      "metadata": {
        "id": "t_gjObJcztJq"
      },
      "source": [
        "stopwords = nltk.corpus.stopwords.words('english')"
      ],
      "execution_count": null,
      "outputs": []
    },
    {
      "cell_type": "code",
      "metadata": {
        "colab": {
          "base_uri": "https://localhost:8080/"
        },
        "id": "E4KQFaZc0A9f",
        "outputId": "a183a2cf-de90-4af3-f3c2-5de75fcd5d4b"
      },
      "source": [
        "stopwords"
      ],
      "execution_count": null,
      "outputs": [
        {
          "output_type": "execute_result",
          "data": {
            "text/plain": [
              "['i',\n",
              " 'me',\n",
              " 'my',\n",
              " 'myself',\n",
              " 'we',\n",
              " 'our',\n",
              " 'ours',\n",
              " 'ourselves',\n",
              " 'you',\n",
              " \"you're\",\n",
              " \"you've\",\n",
              " \"you'll\",\n",
              " \"you'd\",\n",
              " 'your',\n",
              " 'yours',\n",
              " 'yourself',\n",
              " 'yourselves',\n",
              " 'he',\n",
              " 'him',\n",
              " 'his',\n",
              " 'himself',\n",
              " 'she',\n",
              " \"she's\",\n",
              " 'her',\n",
              " 'hers',\n",
              " 'herself',\n",
              " 'it',\n",
              " \"it's\",\n",
              " 'its',\n",
              " 'itself',\n",
              " 'they',\n",
              " 'them',\n",
              " 'their',\n",
              " 'theirs',\n",
              " 'themselves',\n",
              " 'what',\n",
              " 'which',\n",
              " 'who',\n",
              " 'whom',\n",
              " 'this',\n",
              " 'that',\n",
              " \"that'll\",\n",
              " 'these',\n",
              " 'those',\n",
              " 'am',\n",
              " 'is',\n",
              " 'are',\n",
              " 'was',\n",
              " 'were',\n",
              " 'be',\n",
              " 'been',\n",
              " 'being',\n",
              " 'have',\n",
              " 'has',\n",
              " 'had',\n",
              " 'having',\n",
              " 'do',\n",
              " 'does',\n",
              " 'did',\n",
              " 'doing',\n",
              " 'a',\n",
              " 'an',\n",
              " 'the',\n",
              " 'and',\n",
              " 'but',\n",
              " 'if',\n",
              " 'or',\n",
              " 'because',\n",
              " 'as',\n",
              " 'until',\n",
              " 'while',\n",
              " 'of',\n",
              " 'at',\n",
              " 'by',\n",
              " 'for',\n",
              " 'with',\n",
              " 'about',\n",
              " 'against',\n",
              " 'between',\n",
              " 'into',\n",
              " 'through',\n",
              " 'during',\n",
              " 'before',\n",
              " 'after',\n",
              " 'above',\n",
              " 'below',\n",
              " 'to',\n",
              " 'from',\n",
              " 'up',\n",
              " 'down',\n",
              " 'in',\n",
              " 'out',\n",
              " 'on',\n",
              " 'off',\n",
              " 'over',\n",
              " 'under',\n",
              " 'again',\n",
              " 'further',\n",
              " 'then',\n",
              " 'once',\n",
              " 'here',\n",
              " 'there',\n",
              " 'when',\n",
              " 'where',\n",
              " 'why',\n",
              " 'how',\n",
              " 'all',\n",
              " 'any',\n",
              " 'both',\n",
              " 'each',\n",
              " 'few',\n",
              " 'more',\n",
              " 'most',\n",
              " 'other',\n",
              " 'some',\n",
              " 'such',\n",
              " 'no',\n",
              " 'nor',\n",
              " 'not',\n",
              " 'only',\n",
              " 'own',\n",
              " 'same',\n",
              " 'so',\n",
              " 'than',\n",
              " 'too',\n",
              " 'very',\n",
              " 's',\n",
              " 't',\n",
              " 'can',\n",
              " 'will',\n",
              " 'just',\n",
              " 'don',\n",
              " \"don't\",\n",
              " 'should',\n",
              " \"should've\",\n",
              " 'now',\n",
              " 'd',\n",
              " 'll',\n",
              " 'm',\n",
              " 'o',\n",
              " 're',\n",
              " 've',\n",
              " 'y',\n",
              " 'ain',\n",
              " 'aren',\n",
              " \"aren't\",\n",
              " 'couldn',\n",
              " \"couldn't\",\n",
              " 'didn',\n",
              " \"didn't\",\n",
              " 'doesn',\n",
              " \"doesn't\",\n",
              " 'hadn',\n",
              " \"hadn't\",\n",
              " 'hasn',\n",
              " \"hasn't\",\n",
              " 'haven',\n",
              " \"haven't\",\n",
              " 'isn',\n",
              " \"isn't\",\n",
              " 'ma',\n",
              " 'mightn',\n",
              " \"mightn't\",\n",
              " 'mustn',\n",
              " \"mustn't\",\n",
              " 'needn',\n",
              " \"needn't\",\n",
              " 'shan',\n",
              " \"shan't\",\n",
              " 'shouldn',\n",
              " \"shouldn't\",\n",
              " 'wasn',\n",
              " \"wasn't\",\n",
              " 'weren',\n",
              " \"weren't\",\n",
              " 'won',\n",
              " \"won't\",\n",
              " 'wouldn',\n",
              " \"wouldn't\"]"
            ]
          },
          "metadata": {
            "tags": []
          },
          "execution_count": 19
        }
      ]
    },
    {
      "cell_type": "code",
      "metadata": {
        "colab": {
          "base_uri": "https://localhost:8080/"
        },
        "id": "Y-rbxPhB0Pzg",
        "outputId": "c47675e4-c14b-4cad-82b4-51314e0763db"
      },
      "source": [
        "len(stopwords)"
      ],
      "execution_count": null,
      "outputs": [
        {
          "output_type": "execute_result",
          "data": {
            "text/plain": [
              "179"
            ]
          },
          "metadata": {
            "tags": []
          },
          "execution_count": 20
        }
      ]
    },
    {
      "cell_type": "code",
      "metadata": {
        "id": "jzC3tN850aVc"
      },
      "source": [
        "conjunto_final = list(set(common) - set(stopwords))"
      ],
      "execution_count": null,
      "outputs": []
    },
    {
      "cell_type": "code",
      "metadata": {
        "colab": {
          "base_uri": "https://localhost:8080/"
        },
        "id": "8JKE7YOv0yBO",
        "outputId": "67ed4d9b-f33b-4df0-ec2a-e4ad00c4959e"
      },
      "source": [
        "conjunto_final"
      ],
      "execution_count": null,
      "outputs": [
        {
          "output_type": "execute_result",
          "data": {
            "text/plain": [
              "['turtle',\n",
              " 'said',\n",
              " 'mock',\n",
              " 'king',\n",
              " 'alice',\n",
              " 'could',\n",
              " 'much',\n",
              " 'one',\n",
              " 'began',\n",
              " 'know',\n",
              " 'time',\n",
              " 'way',\n",
              " 'like',\n",
              " 'little',\n",
              " 'would',\n",
              " 'quite',\n",
              " 'gryphon',\n",
              " 'queen',\n",
              " 'see',\n",
              " 'say',\n",
              " 'thought',\n",
              " 'went',\n",
              " 'hatter']"
            ]
          },
          "metadata": {
            "tags": []
          },
          "execution_count": 22
        }
      ]
    },
    {
      "cell_type": "code",
      "metadata": {
        "colab": {
          "base_uri": "https://localhost:8080/"
        },
        "id": "IGKHqlOc01iw",
        "outputId": "acb667f6-7b6b-4725-ad92-834816399422"
      },
      "source": [
        "len(conjunto_final)"
      ],
      "execution_count": null,
      "outputs": [
        {
          "output_type": "execute_result",
          "data": {
            "text/plain": [
              "23"
            ]
          },
          "metadata": {
            "tags": []
          },
          "execution_count": 23
        }
      ]
    },
    {
      "cell_type": "markdown",
      "metadata": {
        "id": "ifdq1dEt1-2p"
      },
      "source": [
        "Incluir um único arquivo"
      ]
    },
    {
      "cell_type": "code",
      "metadata": {
        "id": "NVfdQrBH19zT"
      },
      "source": [
        "from google.colab import files"
      ],
      "execution_count": null,
      "outputs": []
    },
    {
      "cell_type": "code",
      "metadata": {
        "id": "mwyEYDJh2Kx2"
      },
      "source": [
        "#uploaded = files.upload()"
      ],
      "execution_count": null,
      "outputs": []
    },
    {
      "cell_type": "code",
      "metadata": {
        "id": "R1qfMuxa2pMX"
      },
      "source": [
        "#uploaded = files.upload()"
      ],
      "execution_count": null,
      "outputs": []
    },
    {
      "cell_type": "code",
      "metadata": {
        "id": "7cm4_s3n28UA"
      },
      "source": [
        "from google.colab import drive"
      ],
      "execution_count": null,
      "outputs": []
    },
    {
      "cell_type": "code",
      "metadata": {
        "id": "qE_wkp1c4xTL",
        "colab": {
          "base_uri": "https://localhost:8080/"
        },
        "outputId": "0f0337a6-edb3-4779-dfc0-7ff198df1f5e"
      },
      "source": [
        "drive.mount('/content/drive')"
      ],
      "execution_count": null,
      "outputs": [
        {
          "output_type": "stream",
          "text": [
            "Mounted at /content/drive\n"
          ],
          "name": "stdout"
        }
      ]
    },
    {
      "cell_type": "code",
      "metadata": {
        "colab": {
          "base_uri": "https://localhost:8080/"
        },
        "id": "wVg9iu5C5UKH",
        "outputId": "da77338a-a67b-4346-8b78-2a45c2f3009c"
      },
      "source": [
        "from google.colab import drive\n",
        "drive.mount('/content/drive')"
      ],
      "execution_count": null,
      "outputs": [
        {
          "output_type": "stream",
          "text": [
            "Drive already mounted at /content/drive; to attempt to forcibly remount, call drive.mount(\"/content/drive\", force_remount=True).\n"
          ],
          "name": "stdout"
        }
      ]
    },
    {
      "cell_type": "markdown",
      "metadata": {
        "id": "SGQ6VTCB5-Kk"
      },
      "source": [
        "#Leitura de Arquivos"
      ]
    },
    {
      "cell_type": "code",
      "metadata": {
        "id": "BGw7kim359wE"
      },
      "source": [
        "#text = open(\"exemplo.txt\").read()"
      ],
      "execution_count": null,
      "outputs": []
    },
    {
      "cell_type": "code",
      "metadata": {
        "id": "mb1Vhtx58XQz"
      },
      "source": [
        "#text"
      ],
      "execution_count": null,
      "outputs": []
    },
    {
      "cell_type": "markdown",
      "metadata": {
        "id": "oG-Ifmu96pk0"
      },
      "source": [
        "Tegeando"
      ]
    },
    {
      "cell_type": "code",
      "metadata": {
        "colab": {
          "base_uri": "https://localhost:8080/"
        },
        "id": "oMaCYcnj6ren",
        "outputId": "025ee4ee-258e-4e3d-8b95-dda835cb122a"
      },
      "source": [
        "nltk.download('punkt')"
      ],
      "execution_count": null,
      "outputs": [
        {
          "output_type": "stream",
          "text": [
            "[nltk_data] Downloading package punkt to /root/nltk_data...\n",
            "[nltk_data]   Unzipping tokenizers/punkt.zip.\n"
          ],
          "name": "stdout"
        },
        {
          "output_type": "execute_result",
          "data": {
            "text/plain": [
              "True"
            ]
          },
          "metadata": {
            "tags": []
          },
          "execution_count": 33
        }
      ]
    },
    {
      "cell_type": "code",
      "metadata": {
        "colab": {
          "base_uri": "https://localhost:8080/"
        },
        "id": "iB6y0xUL6tnQ",
        "outputId": "38705c20-f6ba-4d2e-ed58-211e867b23bd"
      },
      "source": [
        "nltk.download('averaged_perceptron_tagger')"
      ],
      "execution_count": null,
      "outputs": [
        {
          "output_type": "stream",
          "text": [
            "[nltk_data] Downloading package averaged_perceptron_tagger to\n",
            "[nltk_data]     /root/nltk_data...\n",
            "[nltk_data]   Unzipping taggers/averaged_perceptron_tagger.zip.\n"
          ],
          "name": "stdout"
        },
        {
          "output_type": "execute_result",
          "data": {
            "text/plain": [
              "True"
            ]
          },
          "metadata": {
            "tags": []
          },
          "execution_count": 34
        }
      ]
    },
    {
      "cell_type": "code",
      "metadata": {
        "id": "g5LVbUpm6wKv"
      },
      "source": [
        "#text_tag = nltk.pos_tag(nltk.word_tokenize(text))"
      ],
      "execution_count": null,
      "outputs": []
    },
    {
      "cell_type": "code",
      "metadata": {
        "id": "fhfe8DCb8ok7"
      },
      "source": [
        "#text_tag"
      ],
      "execution_count": null,
      "outputs": []
    }
  ]
}