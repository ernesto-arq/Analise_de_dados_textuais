{
  "nbformat": 4,
  "nbformat_minor": 0,
  "metadata": {
    "colab": {
      "name": "Analise_dados_textuais_6.ipynb",
      "provenance": [],
      "collapsed_sections": [],
      "toc_visible": true
    },
    "kernelspec": {
      "name": "python3",
      "display_name": "Python 3"
    }
  },
  "cells": [
    {
      "cell_type": "markdown",
      "metadata": {
        "id": "ttL66sgYh6uy"
      },
      "source": [
        "# **Ernesto Gurgel Valente Neto**\n",
        "\n",
        "---\n",
        "# **Materia: Analise de Dados Textuais**\n",
        "\n",
        "\n",
        "---\n",
        "\n",
        "Prof: Wellington\n"
      ]
    },
    {
      "cell_type": "code",
      "metadata": {
        "colab": {
          "base_uri": "https://localhost:8080/"
        },
        "id": "ITf9tEPOh2oD",
        "outputId": "f03722e1-bfb4-4fd1-f1bb-26b8720cb4bb"
      },
      "source": [
        "print('Importação de Pacotes')\n",
        "import nltk\n",
        "import re\n",
        "nltk.download('gutenberg')\n",
        "nltk.download('punkt')\n",
        "nltk.download('averaged_perceptron_tagger')\n",
        "nltk.download('maxent_ne_chunker')\n",
        "nltk.download('words')"
      ],
      "execution_count": null,
      "outputs": [
        {
          "output_type": "stream",
          "text": [
            "Importação de Pacotes\n",
            "[nltk_data] Downloading package gutenberg to /root/nltk_data...\n",
            "[nltk_data]   Package gutenberg is already up-to-date!\n",
            "[nltk_data] Downloading package punkt to /root/nltk_data...\n",
            "[nltk_data]   Package punkt is already up-to-date!\n",
            "[nltk_data] Downloading package averaged_perceptron_tagger to\n",
            "[nltk_data]     /root/nltk_data...\n",
            "[nltk_data]   Package averaged_perceptron_tagger is already up-to-\n",
            "[nltk_data]       date!\n",
            "[nltk_data] Downloading package maxent_ne_chunker to\n",
            "[nltk_data]     /root/nltk_data...\n",
            "[nltk_data]   Package maxent_ne_chunker is already up-to-date!\n",
            "[nltk_data] Downloading package words to /root/nltk_data...\n",
            "[nltk_data]   Package words is already up-to-date!\n"
          ],
          "name": "stdout"
        },
        {
          "output_type": "execute_result",
          "data": {
            "text/plain": [
              "True"
            ]
          },
          "metadata": {
            "tags": []
          },
          "execution_count": 1
        }
      ]
    },
    {
      "cell_type": "code",
      "metadata": {
        "colab": {
          "base_uri": "https://localhost:8080/"
        },
        "id": "9s26IzrriK5b",
        "outputId": "8eb2a204-cfec-438a-e97b-fd0ce499c28a"
      },
      "source": [
        "nltk.corpus.gutenberg.fileids()"
      ],
      "execution_count": null,
      "outputs": [
        {
          "output_type": "execute_result",
          "data": {
            "text/plain": [
              "['austen-emma.txt',\n",
              " 'austen-persuasion.txt',\n",
              " 'austen-sense.txt',\n",
              " 'bible-kjv.txt',\n",
              " 'blake-poems.txt',\n",
              " 'bryant-stories.txt',\n",
              " 'burgess-busterbrown.txt',\n",
              " 'carroll-alice.txt',\n",
              " 'chesterton-ball.txt',\n",
              " 'chesterton-brown.txt',\n",
              " 'chesterton-thursday.txt',\n",
              " 'edgeworth-parents.txt',\n",
              " 'melville-moby_dick.txt',\n",
              " 'milton-paradise.txt',\n",
              " 'shakespeare-caesar.txt',\n",
              " 'shakespeare-hamlet.txt',\n",
              " 'shakespeare-macbeth.txt',\n",
              " 'whitman-leaves.txt']"
            ]
          },
          "metadata": {
            "tags": []
          },
          "execution_count": 2
        }
      ]
    },
    {
      "cell_type": "markdown",
      "metadata": {
        "id": "CtkBv_izhyba"
      },
      "source": [
        "# **# 1) Retire as stopwords dos seguintes textos (Esses textos pertencem ao corpus gutemberg):**\n",
        "\n"
      ]
    },
    {
      "cell_type": "code",
      "metadata": {
        "colab": {
          "base_uri": "https://localhost:8080/"
        },
        "id": "hNQsIhj-8wty",
        "outputId": "df981ada-7468-4d2a-a37d-08635a15d70f"
      },
      "source": [
        "#Importando as bibliotecas\n",
        "from nltk.corpus import stopwords\n",
        "from nltk.tokenize import word_tokenize  \n",
        "from nltk.tokenize import word_tokenize\n",
        "nltk.download('stopwords')"
      ],
      "execution_count": null,
      "outputs": [
        {
          "output_type": "stream",
          "text": [
            "[nltk_data] Downloading package stopwords to /root/nltk_data...\n",
            "[nltk_data]   Package stopwords is already up-to-date!\n"
          ],
          "name": "stdout"
        },
        {
          "output_type": "execute_result",
          "data": {
            "text/plain": [
              "True"
            ]
          },
          "metadata": {
            "tags": []
          },
          "execution_count": 3
        }
      ]
    },
    {
      "cell_type": "code",
      "metadata": {
        "id": "k09yAX5hFARH"
      },
      "source": [
        "#lista_stop = stopwords.words()\n",
        "lista_stop = nltk.corpus.stopwords.words('english')"
      ],
      "execution_count": null,
      "outputs": []
    },
    {
      "cell_type": "markdown",
      "metadata": {
        "id": "Sr_VAw-Dhx0F"
      },
      "source": [
        "**a) shakespeare-caesar.txt**\n",
        "\n",
        "\n"
      ]
    },
    {
      "cell_type": "code",
      "metadata": {
        "id": "BZuoES5r-vnn"
      },
      "source": [
        "texto = nltk.corpus.gutenberg.words('shakespeare-caesar.txt')\n",
        "texto = set(word.lower() for word in texto if word.isalpha())\n",
        "texto = [nltk.word_tokenize(str(comment)) for comment in texto]\n",
        "\n",
        "lista_stop\n",
        "filtered_sentence = []\n",
        "for word in texto:\n",
        "    if word not in lista_stop:\n",
        "        filtered_sentence.append(word)"
      ],
      "execution_count": null,
      "outputs": []
    },
    {
      "cell_type": "code",
      "metadata": {
        "colab": {
          "base_uri": "https://localhost:8080/"
        },
        "id": "W1doV7sPClgs",
        "outputId": "ee419975-35c2-4ece-a164-89cc9ac57687"
      },
      "source": [
        "print(\"Lista Stopwords\", lista_stop)\n",
        "print(filtered_sentence)"
      ],
      "execution_count": null,
      "outputs": [
        {
          "output_type": "stream",
          "text": [
            "Lista Stopwords ['i', 'me', 'my', 'myself', 'we', 'our', 'ours', 'ourselves', 'you', \"you're\", \"you've\", \"you'll\", \"you'd\", 'your', 'yours', 'yourself', 'yourselves', 'he', 'him', 'his', 'himself', 'she', \"she's\", 'her', 'hers', 'herself', 'it', \"it's\", 'its', 'itself', 'they', 'them', 'their', 'theirs', 'themselves', 'what', 'which', 'who', 'whom', 'this', 'that', \"that'll\", 'these', 'those', 'am', 'is', 'are', 'was', 'were', 'be', 'been', 'being', 'have', 'has', 'had', 'having', 'do', 'does', 'did', 'doing', 'a', 'an', 'the', 'and', 'but', 'if', 'or', 'because', 'as', 'until', 'while', 'of', 'at', 'by', 'for', 'with', 'about', 'against', 'between', 'into', 'through', 'during', 'before', 'after', 'above', 'below', 'to', 'from', 'up', 'down', 'in', 'out', 'on', 'off', 'over', 'under', 'again', 'further', 'then', 'once', 'here', 'there', 'when', 'where', 'why', 'how', 'all', 'any', 'both', 'each', 'few', 'more', 'most', 'other', 'some', 'such', 'no', 'nor', 'not', 'only', 'own', 'same', 'so', 'than', 'too', 'very', 's', 't', 'can', 'will', 'just', 'don', \"don't\", 'should', \"should've\", 'now', 'd', 'll', 'm', 'o', 're', 've', 'y', 'ain', 'aren', \"aren't\", 'couldn', \"couldn't\", 'didn', \"didn't\", 'doesn', \"doesn't\", 'hadn', \"hadn't\", 'hasn', \"hasn't\", 'haven', \"haven't\", 'isn', \"isn't\", 'ma', 'mightn', \"mightn't\", 'mustn', \"mustn't\", 'needn', \"needn't\", 'shan', \"shan't\", 'shouldn', \"shouldn't\", 'wasn', \"wasn't\", 'weren', \"weren't\", 'won', \"won't\", 'wouldn', \"wouldn't\"]\n",
            "[['villains'], ['hazards'], ['em'], ['anger'], ['enterred'], ['crimson'], ['seduc'], ['crosse'], ['epicurus'], ['through'], ['worldly'], ['alreadie'], ['creatures'], ['swet'], ['seldome'], ['smallest'], ['neerer'], ['threats'], ['range'], ['they'], ['wheeles'], ['fantasie'], ['constant'], ['immediately'], ['chace'], ['musicke'], ['tear'], ['riu'], ['sawcie'], ['preuaile'], ['hye'], ['made'], ['spaine'], ['tyrannie'], ['bees'], ['rime'], ['dangerous'], ['first'], ['surly'], ['wherein'], ['cymber'], ['piercing'], ['silent'], ['east'], ['oct'], ['dar'], ['reioyce'], ['receyuing'], ['errands'], ['prisoner'], ['linkes'], ['concluded'], ['eagles'], ['de'], ['maske'], ['besmeare'], ['pluto'], ['spoyle'], ['drops'], ['treasure'], ['slept'], ['tride'], ['decline'], ['carelesly'], ['trash'], ['images'], ['gate'], ['buy'], ['deny'], ['pul'], ['whiles'], ['outward'], ['cowards'], ['presage'], ['rated'], ['was'], ['train'], ['rout'], ['tyrants'], ['puisant'], ['cassius'], ['swore'], ['clymate'], ['arbors'], ['pulpits'], ['ha'], ['infirmitie'], ['sometimes'], ['octa'], ['star'], ['ingrafted'], ['hold'], ['pindarus'], ['check'], ['along'], ['car'], ['gastly'], ['banish'], ['push'], ['study'], ['instigations'], ['at'], ['establish'], ['put'], ['entreated'], ['rumor'], ['peepe'], ['shaking'], ['guard'], ['shallowes'], ['about'], ['cride'], ['fearefull'], ['hie'], ['eate'], ['drachmaes'], ['c'], ['strooke'], ['throwes'], ['prythee'], ['amaz'], ['honorable'], ['faults'], ['bleed'], ['sights'], ['fauour'], ['yeelded'], ['vnfirme'], ['boldest'], ['sea'], ['beleeue'], ['mettle'], ['kingly'], ['him'], ['enioy'], ['please'], ['repaire'], ['heares'], ['mistook'], ['now'], ['execution'], ['banished'], ['sparke'], ['proues'], ['mans'], ['stood'], ['themselues'], ['letters'], ['triall'], ['came'], ['winds'], ['though'], ['wisht'], ['wounds'], ['seuen'], ['bathe'], ['returne'], ['hides'], ['clapp'], ['friends'], ['walk'], ['gone'], ['chopt'], ['times'], ['cynna'], ['fulfill'], ['presents'], ['dreadfull'], ['tenure'], ['prouidence'], ['affayres'], ['sound'], ['heeles'], ['actus'], ['vexed'], ['preuention'], ['tit'], ['dungeon'], ['consider'], ['ioynes'], ['squadrons'], ['entreat'], ['inroll'], ['marcus'], ['y'], ['sight'], ['mortified'], ['lethee'], ['nod'], ['idle'], ['carrion'], ['can', 'not'], ['goe'], ['sees'], ['bid'], ['mens'], ['liued'], ['start'], ['villaines'], ['obserue'], ['eares'], ['bound'], ['fellow'], ['oft'], ['pocket'], ['billow'], ['signe'], ['notice'], ['keepe'], ['hats'], ['prophesie'], ['gliding'], ['poore'], ['stra'], ['friend'], ['refuse'], ['dost'], ['kindnesse'], ['behauiours'], ['pitty'], ['reading'], ['them'], ['full'], ['tearmes'], ['knees'], ['retreat'], ['bookes'], ['trod'], ['girle'], ['sawce'], ['battaile'], ['slaying'], ['stampt'], ['vrge'], ['loines'], ['greeue'], ['searching'], ['cloakes'], ['alasse'], ['marry'], ['large'], ['tapers'], ['behinde'], ['yoake'], ['store'], ['preferre'], ['alarums'], ['met'], ['ashamed'], ['soule'], ['firebrands'], ['maiesticke'], ['outlarie'], ['wait'], ['lowe'], ['mechanicall'], ['refus'], ['soft'], ['almost'], ['tops'], ['dead'], ['greeting'], ['knock'], ['squeale'], ['hast'], ['each'], ['name'], ['dismisse'], ['willing'], ['vouchsafe'], ['greets'], ['eye'], ['starres'], ['post'], ['mood'], ['sting'], ['rous'], ['trees'], ['were'], ['street'], ['fawning'], ['followes'], ['regarded'], ['himselfe'], ['factious'], ['incenses'], ['dyes'], ['worke'], ['vnshak'], ['shew'], ['forgaue'], ['errand'], ['torch'], ['retentiue'], ['disclos'], ['lucillius'], ['mixt'], ['toward'], ['lucius'], ['deede'], ['audience'], ['imminent'], ['hate'], ['firme'], ['quite'], ['cyn'], ['vntouch'], ['brauery'], ['turne'], ['proceeded'], ['amisse'], ['harke'], ['inforced'], ['richest'], ['kites'], ['pay'], ['br'], ['ore'], ['proper'], ['agen'], ['drawne'], ['seuerall'], ['counters'], ['enuious'], ['alwayes'], ['dull'], ['taper'], ['vanishest'], ['euerie'], ['cic'], ['gentlemen'], ['eyes'], ['rule'], ['nimblenesse'], ['womanish'], ['firmament'], ['swell'], ['lowlynesse'], ['prey'], ['indure'], ['fawne'], ['enforced'], ['rage'], ['mouth'], ['limitation'], ['annoying'], ['commanders'], ['thee'], ['comming'], ['leuying'], ['benefit'], ['slay'], ['misconstrued'], ['haile'], ['does'], ['ready'], ['wrought'], ['fray'], ['niggard'], ['pretors'], ['tried'], ['sleep'], ['calles'], ['rash'], ['rather'], ['hearing'], ['night'], ['foole'], ['dinner'], ['princes'], ['bowl'], ['sought'], ['glad'], ['spectacle'], ['march'], ['enough'], ['shouted'], ['sickely'], ['accoutred'], ['fir'], ['quarter'], ['course'], ['commended'], ['cognisance'], ['close'], ['abide'], ['horsemen'], ['groane'], ['arises'], ['throng'], ['walkes'], ['angell'], ['hand'], ['school'], ['dec'], ['flame'], ['ask'], ['willes'], ['weake'], ['stricken'], ['yours'], ['drum'], ['tapor'], ['angel'], ['metellus'], ['honour'], ['power'], ['vttered'], ['obseruer'], ['troopes'], ['sweare'], ['vnfold'], ['sorry'], ['straite'], ['alone'], ['within'], ['kerchiefe'], ['shakes'], ['mightier'], ['flatterer'], ['praying'], ['gouerne'], ['pale'], ['beast'], ['lightning'], ['traitor'], ['courage'], ['trebonius'], ['caesar'], ['mocke'], ['mutiny'], ['blowes'], ['holds'], ['iudgement'], ['maine'], ['faculties'], ['watchfull'], ['minde'], ['end'], ['soare'], ['flood'], ['rob'], ['greeke'], ['addrest'], ['theater'], ['truely'], ['vnpurged'], ['octauius'], ['heart'], ['mee'], ['graze'], ['ouerthrow'], ['priuate'], ['wing'], ['againe'], ['farthest'], ['capitoll'], ['byrth'], ['obey'], ['friendly'], ['stronger'], ['belike'], ['secrets'], ['loue'], ['seek'], ['spirited'], ['robe'], ['shouting'], ['grant'], ['break'], ['agree'], ['fine'], ['far'], ['certaine'], ['meete'], ['thou'], ['publius'], ['fasten'], ['italy'], ['befriend'], ['whether'], ['petitions'], ['locke'], ['hunters'], ['dumbe'], ['monarkes'], ['lordship'], ['then'], ['aueng'], ['elder'], ['shooes'], ['fierce'], ['yeeld'], ['threaten'], ['yoaked'], ['lippes'], ['trust'], ['cas'], ['wayes'], ['aske'], ['which'], ['lyons'], ['satisfaction'], ['traine'], ['take'], ['controuersie'], ['permission'], ['enforc'], ['prou'], ['powers'], ['vertue'], ['volumnius'], ['labouring'], ['all'], ['choak'], ['stoop'], ['iulius'], ['ambitions'], ['fires'], ['shout'], ['calculate'], ['boldly'], ['barke'], ['did'], ['bloods'], ['gracious'], ['practice'], ['or'], ['moone'], ['bow'], ['want'], ['aboue'], ['i'], ['befall'], ['excepted'], ['sterrile'], ['attendants'], ['why'], ['mortall'], ['hart'], ['scorn'], ['beholding'], ['bonds'], ['beside'], ['diuided'], ['sleepy'], ['case'], ['ruffle'], ['ragge'], ['stubborne'], ['cooling'], ['still'], ['scorning'], ['liue'], ['thinking'], ['signifies'], ['burst'], ['beards'], ['quick'], ['deliuer'], ['anchyses'], ['scope'], ['dies'], ['dishonourable'], ['with'], ['thinkes'], ['testie'], ['pompey'], ['sober'], ['where'], ['mean'], ['sacred'], ['wood'], ['ventures'], ['pitteous'], ['except'], ['sir'], ['ser'], ['offended'], ['listen'], ['swimme'], ['intrailes'], ['awe'], ['sauing'], ['formall'], ['fla'], ['brutish'], ['diuell'], ['ladder'], ['lupercall'], ['hurle'], ['raw'], ['knowne'], ['lofty'], ['speeches'], ['force'], ['consum'], ['your'], ['sodaine'], ['cheeke'], ['ioyn'], ['disposed'], ['perillous'], ['repose'], ['answering'], ['awake'], ['howting'], ['starre'], ['hindes'], ['wound'], ['directly'], ['rabblement'], ['danger'], ['striue'], ['peazants'], ['guide'], ['stroken'], ['two'], ['conspiracie'], ['contaminate'], ['safety'], ['cryedst'], ['wholsome'], ['l'], ['deceiu'], ['gentler'], ['alarum'], ['withal'], ['write'], ['plucke'], ['marke'], ['lying'], ['voyage'], ['perhaps'], ['property'], ['window'], ['hundred'], ['s'], ['hauing'], ['fortunate'], ['knocke'], ['way'], ['oathes'], ['dreamer'], ['burneth'], ['beggers'], ['danke'], ['regions'], ['suffered'], ['conspirator'], ['canopy'], ['euery'], ['fingers'], ['offering'], ['miseries'], ['whit'], ['passions'], ['downe'], ['feeble'], ['nights'], ['steeds'], ['teare'], ['climber'], ['weighing'], ['fortunes'], ['vile'], ['knocks'], ['pleasures'], ['ne'], ['hugge'], ['sooth'], ['blunt'], ['bent'], ['gamesom'], ['deriu'], ['coffin'], ['disprooue'], ['showting'], ['yee'], ['elbowes'], ['tempests'], ['haste'], ['farre'], ['spirit'], ['sake'], ['lines'], ['plunged'], ['insisted'], ['whil'], ['men'], ['weare'], ['yesterday'], ['cryed'], ['quality'], ['vnnumbred'], ['trophees'], ['women'], ['salutation'], ['colossus'], ['belou'], ['as'], ['apes'], ['lightens'], ['scarffes'], ['neither'], ['we'], ['breathed'], ['hedge'], ['thirtie'], ['mouthes'], ['birth'], ['messengers'], ['depart'], ['afterwards'], ['deci'], ['inuenomed'], ['cuts'], ['spake'], ['straight'], ['praising'], ['dreampt'], ['back'], ['into'], ['eternall'], ['likes'], ['interim'], ['emulation'], ['tarry'], ['loe'], ['foule'], ['caesars'], ['varrus'], ['conceyu'], ['vpmost'], ['stirre'], ['necessary'], ['meerely'], ['offer'], ['vnassayleable'], ['stoope'], ['guilty'], ['affections'], ['kinde'], ['both'], ['peoples'], ['fantasies'], ['ivlivs'], ['labio'], ['var'], ['soone'], ['recount'], ['twas'], ['instruments'], ['count'], ['appeas'], ['fawn'], ['fast'], ['batchellor'], ['sayes'], ['foorth'], ['dy'], ['companies'], ['particle'], ['shrunke'], ['makes'], ['view'], ['words'], ['hurtled'], ['dispos'], ['heere'], ['vaunting'], ['lord'], ['went'], ['against'], ['rise'], ['some'], ['stop'], ['tale'], ['spoiles'], ['iustice'], ['knockes'], ['iron'], ['clouds'], ['lane'], ['adde'], ['tharsus'], ['hence'], ['speaking'], ['say'], ['bleede'], ['rose'], ['doomesday'], ['battailes'], ['state'], ['swords'], ['sufficeth'], ['tweene'], ['egge'], ['reeke'], ['bay'], ['eagerly'], ['light'], ['heap'], ['euills'], ['defend'], ['portents'], ['house'], ['naturall'], ['auoyded'], ['courtesie'], ['reuerence'], ['if'], ['terror'], ['set'], ['metel'], ['loosing'], ['summers'], ['ferret'], ['shreeking'], ['sold'], ['louers'], ['dint'], ['seruants'], ['counsell'], ['pre'], ['affection'], ['necke'], ['suppe'], ['spouting'], ['ring'], ['proceeding'], ['antonies'], ['knee'], ['compare'], ['exploit'], ['soyle'], ['apprehensiue'], ['courtesies'], ['griefes'], ['pearch'], ['resolu'], ['stayes'], ['pause'], ['bird'], ['faithfull'], ['rude'], ['tut'], ['fury'], ['construe'], ['ho'], ['charges'], ['showt'], ['whelped'], ['sennet'], ['lost'], ['for'], ['mention'], ['twenty'], ['liues'], ['single'], ['flattery'], ['demeanor'], ['scoena'], ['applauses'], ['vtter'], ['grone'], ['cup'], ['get'], ['swound'], ['element'], ['faith'], ['vpon'], ['moue'], ['mou'], ['madman'], ['nor'], ['driue'], ['husbands'], ['fed'], ['ascended'], ['proofe'], ['safe'], ['neats'], ['tyed'], ['defeat'], ['vrg'], ['immediate'], ['intended'], ['such'], ['honors'], ['climb'], ['battell'], ['brands'], ['body'], ['villager'], ['carries'], ['shake'], ['reliques'], ['story'], ['halfe'], ['dignities'], ['funerall'], ['artemidorus'], ['quartus'], ['hill'], ['ant'], ['feele'], ['money'], ['farther'], ['since'], ['legacies'], ['thrice'], ['butchers'], ['bussling'], ['deeds'], ['expedition'], ['warie'], ['daughter'], ['wash'], ['deed'], ['strife'], ['point'], ['warres'], ['witnesse'], ['bang'], ['me'], ['bethinke'], ['tremble'], ['disconsolate'], ['chew'], ['bad'], ['busie'], ['tragedie'], ['mad'], ['cimber'], ['diuers'], ['serues'], ['instrument'], ['beene'], ['beat'], ['shoulder'], ['coarse'], ['strawes'], ['ruddy'], ['vnborne'], ['wrath'], ['woe'], ['stomackes'], ['soldiers'], ['chimney'], ['aduantage'], ['scandall'], ['sighing'], ['seruant'], ['apply'], ['pipes'], ['mischeefes'], ['vnkindest'], ['cappes'], ['armies'], ['onely'], ['choller'], ['tydings'], ['cob'], ['sparkes'], ['neighbors'], ['compasse'], ['issue'], ['pittifull'], ['papers'], ['vowes'], ['vntill'], ['runnes'], ['rest'], ['deaths'], ['ere'], ['crept'], ['itching'], ['pind'], ['tarrying'], ['ocean'], ['troy'], ['opening'], ['towres'], ['feauer'], ['beseech'], ['speede'], ['an'], ['any'], ['t'], ['fields'], ['rests'], ['streete'], ['ride'], ['cancell'], ['remember'], ['st'], ['slight'], ['sirrah'], ['entertaine'], ['tarquin'], ['leade'], ['abler'], ['going'], ['coniure'], ['domesticke'], ['craues'], ['cai'], ['catching'], ['painted'], ['indifferent'], ['prouender'], ['engagements'], ['sure'], ['ly'], ['sort'], ['meditating'], ['friendship'], ['gaze'], ['exhalations'], ['mightie'], ['touches'], ['draw'], ['cals'], ['further'], ['whilest'], ['that'], ['menace'], ['motiues'], ['brother'], ['flye'], ['wisedome'], ['nice'], ['cass'], ['call'], ['vnicornes'], ['brauely'], ['meanes'], ['walke'], ['mischieuous'], ['cauerne'], ['sinke'], ['breefely'], ['apparition'], ['louest'], ['haires'], ['guiltinesse'], ['tributaries'], ['slaine'], ['hideous'], ['souldier'], ['dismember'], ['receiu'], ['worthier'], ['held'], ['death'], ['kingdome'], ['brothers'], ['clau'], ['quintus'], ['preuent'], ['ber'], ['philosophy'], ['bury'], ['titin'], ['flint'], ['company'], ['tongue'], ['calender'], ['path'], ['dip'], ['dust'], ['trembled'], ['well'], ['word'], ['twentie'], ['laughter'], ['crown'], ['stand'], ['greeuously'], ['list'], ['heads'], ['porch'], ['kissing'], ['ears'], ['easily'], ['field'], ['torches'], ['lest'], ['split'], ['talk'], ['scolding'], ['warnings'], ['meditates'], ['begge'], ['guesse'], ['hard'], ['fierie'], ['sterner'], ['deafe'], ['manner'], ['tempest'], ['seen'], ['driuen'], ['cowardly'], ['do'], ['heires'], ['whose'], ['storme'], ['charge'], ['soothsayer'], ['arguing'], ['displeas'], ['powres'], ['planted'], ['figures'], ['of'], ['interpose'], ['forgets'], ['suffers'], ['scap'], ['drizel'], ['sides'], ['shewes'], ['could'], ['sicke'], ['straine'], ['misgiuing'], ['grauity'], ['supporting'], ['streets'], ['thunder'], ['phantasma'], ['determine'], ['proclaime'], ['poor'], ['worthinesse'], ['booke'], ['plague'], ['henceforth'], ['alliance'], ['laugh'], ['conspirators'], ['proscription'], ['face'], ['malice'], ['erebus'], ['water'], ['vision'], ['et'], ['begins'], ['glaz'], ['vntyr'], ['led'], ['glasse'], ['letter'], ['whizzing'], ['huge'], ['tag'], ['prethee'], ['load'], ['shrieke'], ['streetes'], ['semblance'], ['loath'], ['mid'], ['talke'], ['smell'], ['rid'], ['cloake'], ['brutus'], ['con'], ['chides'], ['wept'], ['many'], ['burne'], ['sayd'], ['false'], ['bar'], ['wauing'], ['burnes'], ['hands'], ['hungry'], ['receiuest'], ['know'], ['roar'], ['enclosed'], ['sheepe'], ['rubbish'], ['preuayl'], ['merry'], ['desire'], ['cried'], ['lacks'], ['roares'], ['mourne'], ['accents'], ['impart'], ['impatiently'], ['proceede'], ['ambition'], ['brought'], ['comets'], ['speakes'], ['abroad'], ['sex'], ['falles'], ['repeale'], ['yeares'], ['lookes'], ['stab'], ['foame'], ['arming'], ['occupation'], ['serpents'], ['conscience'], ['confidence'], ['much'], ['done'], ['imitations'], ['dagger'], ['morning'], ['hony'], ['empty'], ['vol'], ['exigent'], ['fiue'], ['countries'], ['wrathfully'], ['office'], ['carrions'], ['lady'], ['rayes'], ['toucht'], ['cleane'], ['spirits'], ['tyranny'], ['thing'], ['subtle'], ['tent'], ['part'], ['lights'], ['armes'], ['traitors'], ['wise'], ['forgot'], ['right'], ['beloued'], ['vow'], ['asleepe'], ['manet'], ['bargaine'], ['flash'], ['enuy'], ['hearke'], ['ordinance'], ['disgest'], ['deceitfull'], ['foam'], ['superstitious'], ['sucke'], ['heape'], ['showts'], ['wine'], ['teeth'], ['shrewdly'], ['presse'], ['when'], ['cares'], ['souldiers'], ['run'], ['rich'], ['vnto'], ['fatter'], ['constancie'], ['litter'], ['begg'], ['paines'], ['vanished'], ['rankes'], ['laments'], ['promise'], ['incorporate'], ['sweetly'], ['antony'], ['knaue'], ['ye'], ['stolne'], ['dard'], ['heauen'], ['threw'], ['rogues'], ['marr'], ['acted'], ['warre'], ['transformed'], ['older'], ['william'], ['bend'], ['haire'], ['wretched'], ['limbe'], ['blame'], ['discouered'], ['engendred'], ['ruines'], ['impossible'], ['euer'], ['demand'], ['purgers'], ['opinions'], ['drawes'], ['soules'], ['pure'], ['whom'], ['muffling'], ['wreath'], ['life'], ['side'], ['followed'], ['bondage'], ['cobler'], ['reuenge'], ['deepe'], ['redder'], ['stay'], ['ate'], ['moreouer'], ['brook'], ['stands'], ['vnknowne'], ['ruby'], ['feete'], ['pardon'], ['terrible'], ['adder'], ['faces'], ['inkindled'], ['finde'], ['fit'], ['birds'], ['parthia'], ['strucke'], ['pleasure'], ['ranke'], ['hangs'], ['subiect'], ['vnderlings'], ['embrace'], ['peeces'], ['day'], ['wenches'], ['sentence'], ['fall'], ['ended'], ['desiring'], ['meane'], ['yeeres'], ['whisper'], ['vesture'], ['speed'], ['intreat'], ['seest'], ['walking'], ['abridg'], ['am'], ['cast'], ['moe'], ['most'], ['iust'], ['dum'], ['beware'], ['tents'], ['setting'], ['weapons'], ['vntrod'], ['these'], ['faile'], ['howted'], ['naked'], ['wring'], ['eight'], ['plebeians'], ['players'], ['freedome'], ['descend'], ['hope'], ['howre'], ['spouts'], ['high'], ['dye'], ['teach'], ['sutor'], ['humor'], ['bosome'], ['time'], ['countrey'], ['legacie'], ['absence'], ['dam'], ['houre'], ['sardis'], ['contagion'], ['doore'], ['make'], ['number'], ['cinna'], ['tyrant'], ['fauors'], ['feede'], ['sland'], ['shed'], ['conceit'], ['taught'], ['indeed'], ['seeke'], ['to'], ['seruice'], ['becomes'], ['roome'], ['woman'], ['consorted'], ['wont'], ['bootlesse'], ['hilles'], ['sonne'], ['found'], ['arme'], ['ciuill'], ['resolution'], ['respect'], ['children'], ['stares'], ['portia'], ['fates'], ['cogitations'], ['gustie'], ['conceited'], ['reueller'], ['fashion'], ['who'], ['acting'], ['madmen'], ['meate'], ['aye'], ['infus'], ['foote'], ['carkasse'], ['bright'], ['kill'], ['cato'], ['rebell'], ['once'], ['low'], ['taken'], ['submitting'], ['dying'], ['stal'], ['volum'], ['taste'], ['com'], ['slippery'], ['determined'], ['appoint'], ['stemming'], ['enemies'], ['murellus'], ['blaze'], ['recounts'], ['holyday'], ['selfe'], ['wounded'], ['temper'], ['voyce'], ['griefe'], ['immortall'], ['vtterance'], ['spaniell'], ['chafing'], ['bath'], ['leaden'], ['statue'], ['voyd'], ['natiue'], ['glow'], ['army'], ['worthy'], ['offered'], ['vexeth'], ['impatient'], ['sounds'], ['foolish'], ['greater'], ['perceiu'], ['speechlesse'], ['twere'], ['party'], ['closset'], ['lift'], ['chide'], ['angry'], ['indirection'], ['be'], ['liberties'], ['earth'], ['deuise'], ['horse'], ['prayers'], ['ceremonies'], ['creature'], ['open'], ['vnlesse'], ['meere'], ['noblest'], ['genius'], ['slumber'], ['looke'], ['south'], ['things'], ['ague'], ['looking'], ['ordered'], ['sacrificers'], ['cynicke'], ['hoe'], ['weakenesse'], ['bankes'], ['off'], ['generals'], ['stretcht'], ['answered'], ['waues'], ['allow'], ['learn'], ['conquerors'], ['till'], ['windowes'], ['falser'], ['fright'], ['ensigne'], ['foe'], ['custome'], ['thousand'], ['eruptions'], ['reade'], ['lips'], ['fire'], ['extenuated'], ['sacrifice'], ['faint'], ['place'], ['deckt'], ['lusty'], ['sweet'], ['tyred'], ['fortune'], ['commoners'], ['lend'], ['fam'], ['pluckt'], ['strike'], ['man'], ['fret'], ['physicall'], ['chose'], ['here'], ['tertius'], ['orchard'], ['receiue'], ['farwell'], ['infirmities'], ['chanc'], ['come'], ['senators'], ['higher'], ['blow'], ['desires'], ['mak'], ['brasse'], ['compact'], ['deare'], ['rhewmy'], ['posture'], ['villaine'], ['durst'], ['pray'], ['beasts'], ['vngentle'], ['gowne'], ['touching'], ['remorse'], ['spare'], ['coniur'], ['swoonded'], ['pledge'], ['ghosts'], ['cobble'], ['better'], ['prick'], ['philippi'], ['prepare'], ['ran'], ['euening'], ['satisfie'], ['games'], ['depend'], ['limbes'], ['smoake'], ['statillius'], ['told'], ['lepidus'], ['dwelling'], ['degrees'], ['on'], ['vse'], ['ingag'], ['order'], ['hopes'], ['vtmost'], ['bed'], ['sensible'], ['decay'], ['history'], ['causes'], ['feare'], ['rawe'], ['smil'], ['rascall'], ['petition'], ['leagues'], ['drinke'], ['sayst'], ['graues'], ['out'], ['hung'], ['season'], ['twixt'], ['shot'], ['nothing'], ['otherwise'], ['natures'], ['enemie'], ['cly'], ['feeding'], ['glories'], ['dash'], ['wer'], ['yet'], ['businesse'], ['world'], ['drop'], ['seem'], ['arriu'], ['god'], ['smile'], ['mend'], ['growes'], ['apparant'], ['desir'], ['presume'], ['professe'], ['countrymen'], ['inflame'], ['kil'], ['ages'], ['knew'], ['roman'], ['vseth'], ['heed'], ['good'], ['valiant'], ['beares'], ['patience'], ['monstrous'], ['tower'], ['my'], ['giuing'], ['current'], ['protester'], ['valour'], ['appeare'], ['memory'], ['marrie'], ['palme'], ['slighted'], ['vnder'], ['bouge'], ['slewe'], ['purpose'], ['action'], ['flearing'], ['reme'], ['wisely'], ['present'], ['ninth'], ['goes'], ['presence'], ['look'], ['difference'], ['fight'], ['annoy'], ['follow'], ['ile'], ['doubt'], ['without'], ['purposes'], ['steale'], ['greefe'], ['describ'], ['couert'], ['readie'], ['streame'], ['decree'], ['visit'], ['saue'], ['raise'], ['colour'], ['liuing'], ['chidden'], ['finis'], ['slip'], ['masters'], ['improue'], ['officers'], ['loued'], ['hole'], ['helpe'], ['vanish'], ['troubled'], ['aswell'], ['according'], ['wife'], ['shine'], ['worships'], ['inclos'], ['spurne'], ['triumph'], ['leape'], ['dropping'], ['answere'], ['deerer'], ['warning'], ['has'], ['dreamt'], ['content'], ['moued'], ['forgetfull'], ['canst'], ['bleeding'], ['incertaine'], ['whatsoeuer'], ['because'], ['lep'], ['romans'], ['perils'], ['leades'], ['drowsily'], ['ghost'], ['putting'], ['corruption'], ['crowne'], ['forrest'], ['doubted'], ['thoughts'], ['gorging'], ['ouer'], ['afear'], ['shadow'], ['bloodie'], ['honor'], ['bids'], ['refresht'], ['returning'], ['sad'], ['resting'], ['discourse'], ['die'], ['therein'], ['earely'], ['senses'], ['acrosse'], ['hang'], ['rauens'], ['appetite'], ['tu'], ['yeelds'], ['hastie'], ['treb'], ['market'], ['affrighted'], ['lye'], ['winne'], ['forget'], ['wearie'], ['thriue'], ['leane'], ['bastardie'], ['louing'], ['testament'], ['wherefore'], ['spurres'], ['showted'], ['knottie'], ['trickes'], ['garland'], ['oath'], ['prima'], ['hee'], ['waste'], ['betimes'], ['offices'], ['mace'], ['pella'], ['leaue'], ['compell'], ['lowly'], ['seale'], ['hell'], ['opens'], ['repute'], ['liable'], ['shell'], ['wel'], ['dewes'], ['puts'], ['liefe'], ['growne'], ['hibla'], ['mighty'], ['blacke'], ['seeme'], ['silence'], ['ordinary'], ['wrongs'], ['progresse'], ['omitted'], ['contriue'], ['soundly'], ['strings'], ['spoke'], ['cushions'], ['neede'], ['encreaseth'], ['report'], ['shrew'], ['formost'], ['seate'], ['hath'], ['fault'], ['gentlenesse'], ['secundus'], ['vp'], ['prize'], ['their'], ['tune'], ['soundlesse'], ['humours'], ['married'], ['places'], ['losses'], ['vs'], ['countenance'], ['choose'], ['defence'], ['young'], ['touched'], ['standing'], ['noone'], ['elephants'], ['cold'], ['yes'], ['would'], ['praetors'], ['trouble'], ['weigh'], ['cin'], ['heyres'], ['keepes'], ['stake'], ['forc'], ['actors'], ['apparrell'], ['suburbs'], ['offences'], ['enlarge'], ['apt'], ['augmented'], ['sounded'], ['song'], ['stinking'], ['darke'], ['touch'], ['crouch'], ['citizen'], ['country'], ['popillius'], ['infants'], ['prostrate'], ['space'], ['same'], ['whereto'], ['bee'], ['sisters'], ['mourning'], ['complexion'], ['beauty'], ['cal'], ['mourn'], ['offall'], ['earnest'], ['signall'], ['his'], ['appearing'], ['d'], ['moou'], ['honourable'], ['by'], ['flourish'], ['louer'], ['bloody'], ['mur'], ['obiects'], ['captiue'], ['defiance'], ['shalt'], ['illuminate'], ['bold'], ['vessell'], ['borne'], ['morrow'], ['houses'], ['thrusting'], ['tane'], ['couer'], ['heauens'], ['heede'], ['dare'], ['playes'], ['gouern'], ['names'], ['softly'], ['frighted'], ['error'], ['holy'], ['knowes'], ['will'], ['regard'], ['bribes'], ['senslesse'], ['dine'], ['blood'], ['recouer'], ['very'], ['petty'], ['past'], ['sennit'], ['crests'], ['sleepe'], ['free'], ['also'], ['workman'], ['how'], ['offence'], ['braines'], ['assure'], ['watch'], ['euerlasting'], ['shooke'], ['wit'], ['brute'], ['corporall'], ['ligarius'], ['breathlesse'], ['comfort'], ['vpward'], ['rul'], ['mouths'], ['expectation'], ['shores'], ['remain'], ['hearts'], ['purpled'], ['bestow'], ['holiday'], ['tempt'], ['might'], ['basest'], ['receiued'], ['king'], ['pin'], ['tradesmans'], ['crying'], ['away'], ['swallow'], ['fears'], ['scene'], ['eare'], ['motion'], ['predictions'], ['yawn'], ['clap'], ['slaughter'], ['vttermost'], ['repayre'], ['diuision'], ['counsels'], ['arriue'], ['a'], ['perform'], ['propos'], ['faire'], ['render'], ['venom'], ['sate'], ['saying'], ['slaues'], ['confesse'], ['deale'], ['grug'], ['damned'], ['next'], ['apace'], ['robbers'], ['speake'], ['buried'], ['thine'], ['aside'], ['hates'], ['neyther'], ['parley'], ['float'], ['bigge'], ['honesty'], ['generall'], ['consequence'], ['bidding'], ['acte'], ['he'], ['napkins'], ['worth'], ['seeing'], ['wasted'], ['discomfort'], ['banquetting'], ['fare'], ['sway'], ['shame'], ['seuenty'], ['paper'], ['ayre'], ['chariot'], ['confines'], ['melancholies'], ['wofull'], ['let'], ['warriours'], ['infranchisement'], ['ioy'], ['vngently'], ['learne'], ['curtsies'], ['what'], ['naughty'], ['abuse'], ['cassi'], ['second'], ['portentous'], ['flesh'], ['peeuish'], ['dimme'], ['seruile'], ['height'], ['profession'], ['sirra'], ['saide'], ['feeds'], ['yond'], ['partake'], ['necessities'], ['mirrors'], ['distract'], ['cursed'], ['commit'], ['breake'], ['redresse'], ['droppes'], ['legions'], ['noble'], ['strengthen'], ['stuffe'], ['from'], ['bin'], ['masker'], ['farewell'], ['disrobe'], ['prepar'], ['leads'], ['ides'], ['sham'], ['thanke'], ['ransomes'], ['proud'], ['tempted'], ['aeneas'], ['sign'], ['orator'], ['trade'], ['expounded'], ['commend'], ['doo'], ['threatning'], ['doest'], ['gray'], ['councell'], ['meeke'], ['spot'], ['faine'], ['lacke'], ['calphurnia'], ['winters'], ['owe'], ['wherfore'], ['beaten'], ['wish'], ['beginning'], ['wide'], ['indifferently'], ['ground'], ['yong'], ['monwealth'], ['search'], ['land'], ['wisedom'], ['shape'], ['strato'], ['perswasion'], ['selues'], ['bondmen'], ['heraulds'], ['womens'], ['last'], ['matters'], ['legges'], ['voluntary'], ['lyon'], ['driues'], ['discard'], ['harlot'], ['can'], ['conquests'], ['too'], ['orchards'], ['dropt'], ['vnluckily'], ['pleasing'], ['sirs'], ['serue'], ['loose'], ['quicke'], ['chaire'], ['try'], ['sauage'], ['pluck'], ['flattered'], ['veyl'], ['tooke'], ['arose'], ['losse'], ['buriall'], ['passion'], ['pompeyes'], ['sport'], ['swim'], ['choaked'], ['supper'], ['enfranchisement'], ['grasped'], ['wee'], ['after'], ['hauocke'], ['brow'], ['blockes'], ['humour'], ['conquest'], ['ambitious'], ['discouer'], ['mischeefe'], ['crowes'], ['needs'], ['round'], ['turning'], ['greeu'], ['stole'], ['in'], ['husbanded'], ['lesse'], ['asse'], ['alchymie'], ['whilst'], ['think'], ['strikes'], ['person'], ['doth'], ['replication'], ['exalted'], ['wilt'], ['insuppressiue'], ['basis'], ['recreate'], ['euen'], ['gently'], ['contribution'], ['cruell'], ['crowd'], ['sufferance'], ['earnes'], ['sixe'], ['flowers'], ['clamors'], ['richer'], ['enterprize'], ['suite'], ['thorough'], ['newes'], ['sleeue'], ['should'], ['cause'], ['bequeathing'], ['encourag'], ['mo'], ['thus'], ['breed'], ['romane'], ['conioyntly'], ['ancestors'], ['stirr'], ['hounds'], ['caska'], ['peece'], ['delay'], ['aule'], ['healthfull'], ['condition'], ['mark'], ['lottery'], ['throwing'], ['disturbed'], ['sunne'], ['instantly'], ['bondman'], ['octauio'], ['hollow'], ['vnbraced'], ['added'], ['mother'], ['hot'], ['deseru'], ['being'], ['backe'], ['sent'], ['oh'], ['together'], ['clowds'], ['doe'], ['eating'], ['dwell'], ['noted'], ['triumphes'], ['affabilitie'], ['liberty'], ['need'], ['summes'], ['buzzing'], ['truly'], ['sighted'], ['strew'], ['bowle'], ['possible'], ['breath'], ['neere'], ['doing'], ['ill'], ['hazard'], ['giuen'], ['sawe'], ['other'], ['parchment'], ['early'], ['bowels'], ['said'], ['arm'], ['pulling'], ['vnkindely'], ['benches'], ['giues'], ['mooue'], ['making'], ['mothers'], ['toyles'], ['hisse'], ['sutors'], ['encounter'], ['winde'], ['master'], ['something'], ['wildenesse'], ['bayed'], ['fountaine'], ['mischiefe'], ['stabb'], ['stomacke'], ['peace'], ['nature'], ['chasticement'], ['rushing'], ['youthfull'], ['pawse'], ['reasons'], ['seal'], ['melting'], ['murderers'], ['astonish'], ['foes'], ['strong'], ['humble'], ['conditions'], ['hilts'], ['like'], ['wonder'], ['crost'], ['quartered'], ['cumber'], ['mantle'], ['change'], ['carpenter'], ['read'], ['murrellus'], ['grow'], ['lou'], ['minded'], ['fly'], ['assur'], ['sorrow'], ['rites'], ['bending'], ['o'], ['torrent'], ['shold'], ['cask'], ['behold'], ['spurre'], ['carue'], ['runne'], ['reueng'], ['formed'], ['euill'], ['vanquish'], ['betweene'], ['blest'], ['hated'], ['reuels'], ['walles'], ['lustre'], ['stone'], ['neglect'], ['youths'], ['kneele'], ['giue'], ['sell'], ['flauio'], ['stretch'], ['feares'], ['amaze'], ['lyes'], ['neigh'], ['slew'], ['vnscorch'], ['exorcist'], ['dardanius'], ['choice'], ['vnaccustom'], ['siluer'], ['cobl'], ['instances'], ['age'], ['speak'], ['attaine'], ['reares'], ['houres'], ['campe'], ['darts'], ['gods'], ['crooked'], ['tokens'], ['performance'], ['among'], ['it'], ['else'], ['new'], ['augurers'], ['points'], ['horsses'], ['not'], ['deere'], ['melteth'], ['weeping'], ['fuller'], ['skies'], ['waited'], ['schoole'], ['glory'], ['great'], ['grace'], ['fooles'], ['loues'], ['wonderfull'], ['hoping'], ['red'], ['fat'], ['apron'], ['vnderneath'], ['bosomes'], ['laught'], ['thither'], ['saw'], ['aliue'], ['lowest'], ['vndone'], ['home'], ['below'], ['hidden'], ['batchellour'], ['pub'], ['battlements'], ['seemes'], ['sardians'], ['cæsar'], ['steele'], ['fathers'], ['no'], ['seuerally'], ['kisse'], ['matter'], ['vulgar'], ['patient'], ['late'], ['tardie'], ['value'], ['marriage'], ['tide'], ['wolfe'], ['she'], ['auoyd'], ['simple'], ['condemn'], ['sodainly'], ['barren'], ['barres'], ['iudge'], ['fatall'], ['yesternight'], ['mountaine'], ['ple'], ['wrong'], ['cull'], ['father'], ['attempt'], ['waspish'], ['strucken'], ['constantly'], ['one'], ['towards'], ['signified'], ['betwixt'], ['scedule'], ['ours'], ['sword'], ['shall'], ['furnish'], ['entire'], ['confounded'], ['entrailes'], ['foot'], ['either'], ['best'], ['fold'], ['oration'], ['graunt'], ['wiues'], ['walls'], ['turnes'], ['dreames'], ['fetch'], ['heare'], ['repealing'], ['enemy'], ['while'], ['handy'], ['dis'], ['fifteene'], ['reflection'], ['fearing'], ['horses'], ['primus'], ['yon'], ['north'], ['curse'], ['fiery'], ['promis'], ['accidentall'], ['blew'], ['must'], ['qualitie'], ['pricke'], ['dew'], ['consent'], ['yea'], ['seat'], ['numbers'], ['lay'], ['reason'], ['merrily'], ['dyest'], ['interpreted'], ['wonders'], ['disclose'], ['modestly'], ['foolerie'], ['ease'], ['her'], ['layest'], ['yeare'], ['narrow'], ['neuer'], ['doers'], ['health'], ['hacke'], ['womans'], ['affraid'], ['shop'], ['senate'], ['rightly'], ['lodge'], ['worse'], ['former'], ['sleeke'], ['personall'], ['northerne'], ['acquainted'], ['absent'], ['mistrust'], ['elders'], ['ingratitude'], ['censure'], ['funerals'], ['suffering'], ['downward'], ['mindes'], ['dang'], ['formes'], ['cautelous'], ['royall'], ['findes'], ['prodigies'], ['assemble'], ['shakespeare'], ['had'], ['popil'], ['messala'], ['costly'], ['palter'], ['honours'], ['debt'], ['obseru'], ['verses'], ['become'], ['third'], ['bring'], ['cicero'], ['impatience'], ['staines'], ['dyed'], ['duty'], ['parting'], ['daggers'], ['presently'], ['captiuitie'], ['fear'], ['cheere'], ['feathers'], ['opinion'], ['caius'], ['mes'], ['prickt'], ['whole'], ['disposing'], ['common'], ['smiles'], ['dogges'], ['sicknesse'], ['greatnesse'], ['glanced'], ['lawfull'], ['sowre'], ['comment'], ['stale'], ['seene'], ['vniuersall'], ['lionnesse'], ['before'], ['artimedorus'], ['so'], ['partly'], ['welcome'], ['sayings'], ['wil'], ['gallant'], ['thank'], ['thewes'], ['leather'], ['destruction'], ['request'], ['curtesie'], ['deerely'], ['baite'], ['effect'], ['closet'], ['beare'], ['send'], ['flauius'], ['bones'], ['satisfied'], ['therefore'], ['theatre'], ['thirsty'], ['remaines'], ['addition'], ['writings'], ['writ'], ['our'], ['thinke'], ['moneths'], ['visage'], ['whet'], ['maisters'], ['thunders'], ['betray'], ['expect'], ['smatch'], ['security'], ['fixt'], ['beest'], ['dogge'], ['mart'], ['groaning'], ['thigh'], ['successe'], ['tinctures'], ['those'], ['boy'], ['brest'], ['pleas'], ['ayme'], ['companion'], ['begun'], ['truth'], ['ouercame'], ['conference'], ['chayre'], ['withall'], ['sawcy'], ['cowardice'], ['skie'], ['reputed'], ['reades'], ['murd'], ['browes'], ['threat'], ['darknesse'], ['fresh'], ['fell'], ['purchase'], ['note'], ['drawing'], ['ouerthrowne'], ['mayest'], ['plaine'], ['strength'], ['teethes'], ['sayer'], ['lena'], ['clit'], ['cry'], ['calp'], ['messa'], ['stonie'], ['dangers'], ['brim'], ['least'], ['scratch'], ['assembly'], ['noyse'], ['titinius'], ['worst'], ['is'], ['nay'], ['coward'], ['corpes'], ['conceptions'], ['stones'], ['paid'], ['exeunt'], ['citizens'], ['concaue'], ['dayes'], ['rent'], ['throat'], ['quarrell'], ['voyces'], ['braue'], ['vnmeritable'], ['growing'], ['ascend'], ['nobly'], ['you'], ['brau'], ['rocke'], ['messenger'], ['stinglesse'], ['dish'], ['roate'], ['falling'], ['more'], ['surgeon'], ['resort'], ['heereafter'], ['none'], ['coffers'], ['turn'], ['warne'], ['yonder'], ['mount'], ['iigging'], ['praise'], ['eyther'], ['sinewes'], ['lyable'], ['bastard'], ['channell'], ['re'], ['insurrection'], ['shriller'], ['intend'], ['strokes'], ['coronets'], ['produce'], ['meet'], ['nobler'], ['besides'], ['fond'], ['shadowes'], ['left'], ['extremities'], ['may'], ['harme'], ['this'], ['mess'], ['mine'], ['proscriptions'], ['passe'], ['waxe'], ['horrid'], ['greeuous'], ['tending'], ['intermit'], ['lies'], ['brings'], ['combin'], ['long'], ['millions'], ['loads'], ['gold'], ['leysure'], ['beyond'], ['see'], ['neruij'], ['vppe'], ['remaine'], ['bestride'], ['meales'], ['old'], ['treason'], ['and'], ['answer'], ['lambe'], ['caes'], ['hearse'], ['insupportable'], ['omnes'], ['hide'], ['little'], ['forme'], ['go'], ['happy'], ['couchings'], ['attaines'], ['coine'], ['bond'], ['grey'], ['share'], ['sicken'], ['forth'], ['bolts'], ['kindle'], ['th'], ['poet'], ['perceiue'], ['dishonor'], ['smiling'], ['hatefull'], ['julius'], ['question'], ['faction'], ['protest'], ['grudge'], ['taking'], ['sheath'], ['credit'], ['clitus'], ['thought'], ['lowd'], ['hackt'], ['beads'], ['feast'], ['necessitie'], ['weepe'], ['begin'], ['por'], ['vnkindnesse'], ['pitch'], ['captiues'], ['killing'], ['stage'], ['contented'], ['thorow'], ['thicke'], ['mirth'], ['publike'], ['tis'], ['hither'], ['sports'], ['charme'], ['another'], ['mock'], ['doublet'], ['elements'], ['billes'], ['comes'], ['flames'], ['there'], ['brut'], ['foure'], ['people'], ['oakes'], ['modestie'], ['latest'], ['holes'], ['vildely'], ['reuiuing'], ['leafe'], ['wake'], ['worthles'], ['strange'], ['rudenesse'], ['pulpit'], ['haue'], ['owne'], ['enter'], ['slaue'], ['rendred'], ['honest'], ['spleene'], ['headed'], ['whereof'], ['ranging'], ['vnderstood'], ['chance'], ['speech'], ['thaw'], ['lose'], ['arts'], ['three'], ['wast'], ['drinkes'], ['throw'], ['musing'], ['plucking'], ['obscurely'], ['gentle'], ['teares'], ['sits'], ['gates'], ['decius'], ['piece'], ['vndeseruers'], ['stare'], ['purpos'], ['dreame'], ['contriuer'], ['safely'], ['meddle'], ['iealous'], ['ancestor'], ['greefes'], ['often'], ['couetous'], ['noise'], ['flatterers'], ['ripe'], ['wafter'], ['digest'], ['murther'], ['marching'], ['base'], ['mender'], ['sometime'], ['curre'], ['appear'], ['childe'], ['claudio'], ['antonio'], ['appertaine'], ['lighted'], ['sickly'], ['disperse'], ['doores'], ['the'], ['liu'], ['ope'], ['glasses'], ['seru'], ['breast'], ['lamented'], ['secret'], ['iades'], ['doubtfull'], ['true'], ['fill'], ['co'], ['sit'], ['sweatie'], ['measure'], ['knot'], ['bru'], ['honourably'], ['victorie'], ['are'], ['lucil'], ['endure'], ['tyber'], ['prodigious'], ['madam'], ['shapes'], ['pit'], ['began'], ['presented'], ['chollericke'], ['head'], ['gaue'], ['notwithstanding'], ['tell'], ['hatch'], ['attyre'], ['alas'], ['euils'], ['luc'], ['art'], ['already'], ['exit'], ['rome'], ['care'], ['priests'], ['commons'], ['buffet'], ['staine'], ['labour'], ['but'], ['indeede'], ['m'], ['surest'], ['cut'], ['heauy'], ['vpper'], ['hew'], ['ought'], ['wrangle'], ['multitude'], ['olympus'], ['parts'], ['attempts'], ['hinder'], ['heauie'], ['reply'], ['ceremony'], ['thy'], ['fled'], ['fearefulnesse'], ['clocke'], ['charractery'], ['weary'], ['wander'], ['heard'], ['familiar'], ['incompast']]\n"
          ],
          "name": "stdout"
        }
      ]
    },
    {
      "cell_type": "markdown",
      "metadata": {
        "id": "6iDcXsVAh11k"
      },
      "source": [
        "**b) shakespeare-hamlet.txt**"
      ]
    },
    {
      "cell_type": "code",
      "metadata": {
        "id": "pg8WIdOUiVJh"
      },
      "source": [
        "texto2 = nltk.corpus.gutenberg.words('shakespeare-hamlet.txt')\n",
        "texto2 = set(word.lower() for word in texto2 if word.isalpha())\n",
        "texto2 = [nltk.word_tokenize(str(comment)) for comment in texto2]\n",
        "\n",
        "lista_stop\n",
        "filtered_sentence2 = []\n",
        "for word in texto2:\n",
        "    if word not in lista_stop:\n",
        "        filtered_sentence2.append(word)"
      ],
      "execution_count": null,
      "outputs": []
    },
    {
      "cell_type": "code",
      "metadata": {
        "colab": {
          "base_uri": "https://localhost:8080/"
        },
        "id": "H8kmonTBDQhT",
        "outputId": "0ef062f5-53a1-43a4-d2e7-cf9522d8698a"
      },
      "source": [
        "print(\"Lista Stopwords\", lista_stop)\n",
        "print(filtered_sentence2)"
      ],
      "execution_count": null,
      "outputs": [
        {
          "output_type": "stream",
          "text": [
            "Lista Stopwords ['i', 'me', 'my', 'myself', 'we', 'our', 'ours', 'ourselves', 'you', \"you're\", \"you've\", \"you'll\", \"you'd\", 'your', 'yours', 'yourself', 'yourselves', 'he', 'him', 'his', 'himself', 'she', \"she's\", 'her', 'hers', 'herself', 'it', \"it's\", 'its', 'itself', 'they', 'them', 'their', 'theirs', 'themselves', 'what', 'which', 'who', 'whom', 'this', 'that', \"that'll\", 'these', 'those', 'am', 'is', 'are', 'was', 'were', 'be', 'been', 'being', 'have', 'has', 'had', 'having', 'do', 'does', 'did', 'doing', 'a', 'an', 'the', 'and', 'but', 'if', 'or', 'because', 'as', 'until', 'while', 'of', 'at', 'by', 'for', 'with', 'about', 'against', 'between', 'into', 'through', 'during', 'before', 'after', 'above', 'below', 'to', 'from', 'up', 'down', 'in', 'out', 'on', 'off', 'over', 'under', 'again', 'further', 'then', 'once', 'here', 'there', 'when', 'where', 'why', 'how', 'all', 'any', 'both', 'each', 'few', 'more', 'most', 'other', 'some', 'such', 'no', 'nor', 'not', 'only', 'own', 'same', 'so', 'than', 'too', 'very', 's', 't', 'can', 'will', 'just', 'don', \"don't\", 'should', \"should've\", 'now', 'd', 'll', 'm', 'o', 're', 've', 'y', 'ain', 'aren', \"aren't\", 'couldn', \"couldn't\", 'didn', \"didn't\", 'doesn', \"doesn't\", 'hadn', \"hadn't\", 'hasn', \"hasn't\", 'haven', \"haven't\", 'isn', \"isn't\", 'ma', 'mightn', \"mightn't\", 'mustn', \"mustn't\", 'needn', \"needn't\", 'shan', \"shan't\", 'shouldn', \"shouldn't\", 'wasn', \"wasn't\", 'weren', \"weren't\", 'won', \"won't\", 'wouldn', \"wouldn't\"]\n",
            "[['nickname'], ['sets'], ['weepes'], ['em'], ['crew'], ['anger'], ['acquaint'], ['artire'], ['doom'], ['abus'], ['gumme'], ['tong'], ['gibbe'], ['stealing'], ['rore'], ['lesson'], ['entreatments'], ['ladiship'], ['crosse'], ['occulted'], ['depends'], ['sable'], ['through'], ['hasty'], ['creatures'], ['aspect'], ['duls'], ['priams'], ['compounded'], ['discretion'], ['neerer'], ['threats'], ['battalians'], ['la'], ['gender'], ['cautell'], ['range'], ['cataplasme'], ['they'], ['apparell'], ['fantasie'], ['denmarke'], ['acquire'], ['immediately'], ['rendeuous'], ['embracing'], ['musicke'], ['chace'], ['folded'], ['vnsatisfied'], ['stroakes'], ['made'], ['addresse'], ['student'], ['danskers'], ['pester'], ['dangerous'], ['buzzers'], ['first'], ['commendable'], ['wherein'], ['quake'], ['clo'], ['edge'], ['sindging'], ['veyled'], ['excrements'], ['dar'], ['stockings'], ['shoote'], ['wart'], ['flaming'], ['bounded'], ['prisoner'], ['concluded'], ['de'], ['sleeping'], ['treasure'], ['tride'], ['decline'], ['blister'], ['eates'], ['bak'], ['fame'], ['perform'], ['heate'], ['gate'], ['wearing'], ['buy'], ['shouell'], ['shortly'], ['deny'], ['wold'], ['pul'], ['cowards'], ['outward'], ['whiles'], ['repell'], ['was'], ['vngalled'], ['bountie'], ['leuell'], ['troubles'], ['adioyn'], ['catch'], ['beame'], ['pastors'], ['disposition'], ['ha'], ['sometimes'], ['poland'], ['document'], ['hold'], ['sawes'], ['timbred'], ['tast'], ['rouse'], ['innocculate'], ['courb'], ['gon'], ['along'], ['ros'], ['olde'], ['maiden'], ['drossie'], ['slips'], ['residence'], ['study'], ['push'], ['vndertakings'], ['monument'], ['christians'], ['tristfull'], ['at'], ['synod'], ['apprehension'], ['nunnery'], ['church'], ['election'], ['put'], ['paddocke'], ['traueller'], ['willingly'], ['shaking'], ['guard'], ['tyrannous'], ['thence'], ['dawning'], ['peepe'], ['churches'], ['about'], ['rosin'], ['heraldrie'], ['eate'], ['strooke'], ['prythee'], ['clown'], ['outherod'], ['bisson'], ['amaz'], ['faults'], ['indirections'], ['bleed'], ['affaires'], ['supposall'], ['fauour'], ['whine'], ['falshood'], ['sea'], ['beleeue'], ['tediousnesse'], ['cat'], ['mettle'], ['kingly'], ['conuey'], ['choyse'], ['curiously'], ['him'], ['please'], ['prenominate'], ['hap'], ['repaire'], ['odde'], ['heares'], ['plundge'], ['killes'], ['now'], ['fares'], ['sparke'], ['gain'], ['mans'], ['stood'], ['letters'], ['themselues'], ['stopping'], ['came'], ['nonce'], ['winds'], ['though'], ['stalled'], ['france'], ['seuen'], ['returne'], ['ham'], ['marriages'], ['soop'], ['bell'], ['months'], ['friends'], ['fancie'], ['prologue'], ['gone'], ['times'], ['oare'], ['fulfill'], ['remedie'], ['dreadfull'], ['knaues'], ['offends'], ['paule'], ['resolue'], ['visitation'], ['heau'], ['sound'], ['whence'], ['blasted'], ['heeles'], ['actus'], ['iohn'], ['consider'], ['throughly'], ['y'], ['sight'], ['flie'], ['tweakes'], ['sadnesse'], ['shortens'], ['freely'], ['reach'], ['idle'], ['carrion'], ['trumpet'], ['can', 'not'], ['bespeake'], ['goe'], ['sprindge'], ['vnnaneld'], ['bid'], ['vacancie'], ['law'], ['mens'], ['vnwilling'], ['affliction'], ['liued'], ['holde'], ['louingly'], ['start'], ['villaines'], ['obserue'], ['eares'], ['bound'], ['oft'], ['fellow'], ['sonnet'], ['forward'], ['pocket'], ['colleagued'], ['fruites'], ['fretted'], ['keepe'], ['combination'], ['betime'], ['wisenesse'], ['prophesie'], ['english'], ['vnfortified'], ['pollonius'], ['weaknesse'], ['shee'], ['gaine'], ['turneth'], ['claudius'], ['poore'], ['celebrated'], ['compulsatiue'], ['hush'], ['leige'], ['probation'], ['friend'], ['vncharge'], ['carriages'], ['vnderstand'], ['steps'], ['halt'], ['spring'], ['dost'], ['counsellor'], ['leanes'], ['pitty'], ['whips'], ['enters'], ['tenures'], ['distemper'], ['them'], ['full'], ['reading'], ['legs'], ['tearmes'], ['honie'], ['knees'], ['bookes'], ['truant'], ['rebellion'], ['contracted'], ['girle'], ['saint'], ['liquid'], ['voltemand'], ['horsebacke'], ['contumely'], ['picked'], ['husbandry'], ['command'], ['holie'], ['loines'], ['deerest'], ['greeue'], ['moones'], ['confront'], ['leaues'], ['moues'], ['singeth'], ['marry'], ['whereon'], ['ioyne'], ['ends'], ['appointment'], ['columbines'], ['foiles'], ['behinde'], ['shark'], ['vndoe'], ['quarry'], ['tother'], ['built'], ['mermaid'], ['keene'], ['merrie'], ['honourd'], ['met'], ['prating'], ['coach'], ['rew'], ['keep'], ['malefactions'], ['encountred'], ['enquire'], ['soule'], ['sconce'], ['wait'], ['soft'], ['amber'], ['dead'], ['almost'], ['greeting'], ['remoue'], ['elsonower'], ['refraine'], ['grisly'], ['moity'], ['hast'], ['each'], ['name'], ['willing'], ['vouchsafe'], ['paris'], ['wot'], ['horrible'], ['eye'], ['post'], ['starres'], ['bawd'], ['sprung'], ['attended'], ['sting'], ['were'], ['frost'], ['drinking'], ['followes'], ['steals'], ['himselfe'], ['enurn'], ['ioynt'], ['dyes'], ['worke'], ['shew'], ['calfe'], ['pronouncing'], ['porches'], ['maintains'], ['disclos'], ['thereunto'], ['toward'], ['deede'], ['audience'], ['couple'], ['small'], ['droppings'], ['serious'], ['dismay'], ['gorge'], ['imminent'], ['dilated'], ['hate'], ['lamound'], ['firme'], ['hit'], ['quite'], ['dore'], ['wombe'], ['prais'], ['brauery'], ['wanton'], ['spend'], ['turne'], ['bakers'], ['proceeded'], ['amisse'], ['deuill'], ['kites'], ['pay'], ['sanctified'], ['ore'], ['proper'], ['ther'], ['praises'], ['drugges'], ['vnequall'], ['pated'], ['claime'], ['caines'], ['argues'], ['seuerall'], ['pernicious'], ['perdie'], ['enuious'], ['alwayes'], ['fallies'], ['skin'], ['dull'], ['harrowes'], ['riotous'], ['assaid'], ['claimes'], ['euerie'], ['modell'], ['vnpegge'], ['adaies'], ['gentlemen'], ['eyes'], ['rule'], ['summe'], ['cursing'], ['mutes'], ['raines'], ['prey'], ['soultry'], ['longed'], ['pollax'], ['imbark'], ['neighbour'], ['mouth'], ['obsequious'], ['pons'], ['rage'], ['thee'], ['wrights'], ['comming'], ['demands'], ['core'], ['benefit'], ['slay'], ['props'], ['tricke'], ['cries'], ['qualifies'], ['haile'], ['flights'], ['does'], ['sinnewes'], ['ready'], ['looser'], ['wrought'], ['arras'], ['grownd'], ['niggard'], ['dugge'], ['liquor'], ['blench'], ['calles'], ['capons'], ['rather'], ['rash'], ['hearing'], ['night'], ['brainish'], ['foole'], ['diet'], ['worser'], ['fruite'], ['princes'], ['muddied'], ['cuckold'], ['glad'], ['affaire'], ['remaster'], ['march'], ['enough'], ['pierce'], ['staid'], ['ayry'], ['reuisits'], ['course'], ['conceald'], ['bulke'], ['villany'], ['reform'], ['commanded'], ['close'], ['musty'], ['shreds'], ['quoth'], ['faiery'], ['alexander'], ['meditation'], ['annuall'], ['e'], ['pesant'], ['knauish'], ['clad'], ['punisht'], ['knauery'], ['harsh'], ['relatiue'], ['practise'], ['walkes'], ['angell'], ['hand'], ['inmost'], ['vanisht'], ['iudgements'], ['blinde'], ['flame'], ['shoone'], ['willes'], ['aygre'], ['ask'], ['skyish'], ['weake'], ['character'], ['drum'], ['dexterity'], ['yours'], ['parching'], ['work'], ['bedrid'], ['massie'], ['authorities'], ['warrantie'], ['angel'], ['heauenly'], ['leisure'], ['honour'], ['closes'], ['vnmanly'], ['murdrous'], ['exprest'], ['radiant'], ['pastime'], ['power'], ['eleuen'], ['proposer'], ['vttered'], ['vnfold'], ['vnckle'], ['sorry'], ['sweare'], ['drabbing'], ['alone'], ['within'], ['nimph'], ['faded'], ['willow'], ['hoo'], ['worlds'], ['spots'], ['affront'], ['mightier'], ['ielly'], ['vnkinde'], ['dishes'], ['gouerne'], ['praying'], ['augury'], ['vienna'], ['pale'], ['starling'], ['beast'], ['link'], ['beteene'], ['blazes'], ['hora'], ['waites'], ['volly'], ['ophel'], ['blanke'], ['slings'], ['quiet'], ['caesar'], ['bear'], ['plac'], ['mocke'], ['purging'], ['blowes'], ['female'], ['maine'], ['extrauagant'], ['iudgement'], ['end'], ['holds'], ['minde'], ['affectation'], ['tellus'], ['towring'], ['obscure'], ['dreadfully'], ['quest'], ['theater'], ['grones'], ['ruine'], ['kisses'], ['sounding'], ['orizons'], ['truely'], ['ardure'], ['hoboyes'], ['mingled'], ['heart'], ['mee'], ['peake'], ['errors'], ['crack'], ['priuate'], ['incensed'], ['duties'], ['againe'], ['wing'], ['denies'], ['suites'], ['assume'], ['opposing'], ['commandment'], ['obey'], ['twelue'], ['pressure'], ['bels'], ['sanitie'], ['extremity'], ['accurst'], ['belike'], ['stronger'], ['befalne'], ['vpspring'], ['doctor'], ['delight'], ['secrets'], ['ignorant'], ['cases'], ['loue'], ['seek'], ['marcell'], ['robe'], ['grant'], ['resemble'], ['fine'], ['center'], ['pettie'], ['certaine'], ['rac'], ['thou'], ['meete'], ['melodious'], ['calumny'], ['approue'], ['whether'], ['locke'], ['lordship'], ['dumbe'], ['watcht'], ['then'], ['giuers'], ['vnproportion'], ['hugger'], ['elder'], ['bites'], ['flies'], ['shooes'], ['yeeld'], ['threaten'], ['lippes'], ['vnmixt'], ['inky'], ['sweepe'], ['dungeons'], ['recognizances'], ['thinkst'], ['wayes'], ['imports'], ['vnknowing'], ['aske'], ['platforme'], ['which'], ['pinch'], ['satisfaction'], ['take'], ['prate'], ['lasting'], ['controuersie'], ['cabin'], ['smelt'], ['brazon'], ['answers'], ['prou'], ['lanke'], ['stirring'], ['vertue'], ['powers'], ['mountaines'], ['all'], ['fighting'], ['acts'], ['insolence'], ['triuiall'], ['rauen'], ['iulius'], ['polon'], ['repulsed'], ['faulconers'], ['armie'], ['remembred'], ['strutted'], ['happinesse'], ['betters'], ['wheaten'], ['shout'], ['rais'], ['rots'], ['dominions'], ['herod'], ['pittied'], ['cannons'], ['throne'], ['collection'], ['barke'], ['did'], ['gracious'], ['practice'], ['strick'], ['or'], ['moone'], ['longer'], ['bow'], ['withdraw'], ['mouing'], ['poysoning'], ['coppied'], ['damnable'], ['want'], ['forraigne'], ['particular'], ['aboue'], ['gho'], ['wed'], ['painting'], ['lowdly'], ['i'], ['reuerted'], ['phrase'], ['folly'], ['gets'], ['yorick'], ['actions'], ['behind'], ['sicklied'], ['imperfections'], ['attendants'], ['why'], ['mortall'], ['weeke'], ['habite'], ['hart'], ['mortiz'], ['behauior'], ['emulate'], ['lands'], ['bonds'], ['romage'], ['arriued'], ['diuided'], ['clout'], ['short'], ['indite'], ['poure'], ['spight'], ['winnowed'], ['case'], ['sonnes'], ['arrant'], ['raues'], ['stubborne'], ['foul'], ['still'], ['tread'], ['nemian'], ['liue'], ['thinking'], ['burst'], ['beards'], ['ratled'], ['iowles'], ['southerly'], ['quick'], ['deliuer'], ['scope'], ['dies'], ['obligation'], ['thinkes'], ['with'], ['politician'], ['darkest'], ['sober'], ['where'], ['sacred'], ['al'], ['wood'], ['emperor'], ['sallets'], ['pitteous'], ['moderate'], ['except'], ['sir'], ['burthen'], ['animals'], ['offended'], ['guifts'], ['deliberate'], ['ser'], ['rellish'], ['awe'], ['fye'], ['rerule'], ['encorps'], ['whirle'], ['tame'], ['formall'], ['withdrew'], ['serpent'], ['defect'], ['ominous'], ['diuell'], ['packing'], ['reads'], ['fancy'], ['carowses'], ['danish'], ['attends'], ['dreaded'], ['eaten'], ['raw'], ['knowne'], ['falne'], ['easinesse'], ['osr'], ['potion'], ['lofty'], ['remoued'], ['metled'], ['force'], ['speeches'], ['varnish'], ['your'], ['sodaine'], ['cheeke'], ['repose'], ['perillous'], ['purport'], ['naue'], ['daintier'], ['fortified'], ['pat'], ['osricke'], ['captaines'], ['awake'], ['bloud'], ['ratifiers'], ['starre'], ['blackest'], ['bedded'], ['directly'], ['designe'], ['soales'], ['danger'], ['debate'], ['vnction'], ['two'], ['loud'], ['plye'], ['safety'], ['benetted'], ['wholsome'], ['l'], ['rabble'], ['deceiu'], ['kettle'], ['alarum'], ['lets'], ['crash'], ['comply'], ['lying'], ['marke'], ['write'], ['vses'], ['scuffling'], ['voyage'], ['courtiers'], ['operant'], ['perhaps'], ['tyrannically'], ['knife'], ['property'], ['cups'], ['window'], ['hundred'], ['s'], ['pratlings'], ['op'], ['glimpses'], ['hauing'], ['mining'], ['tend'], ['knocke'], ['way'], ['oathes'], ['saies'], ['wonted'], ['bride'], ['bap'], ['transforme'], ['beggers'], ['iibes'], ['extant'], ['toyle'], ['canopy'], ['euery'], ['fingers'], ['pictures'], ['sorts'], ['thirties'], ['vneffectuall'], ['beg'], ['whit'], ['passions'], ['desirous'], ['downe'], ['bare'], ['amis'], ['nights'], ['praier'], ['teare'], ['murtherer'], ['swearing'], ['choyce'], ['weighing'], ['anticke'], ['fortunes'], ['vile'], ['pleasures'], ['loses'], ['annoint'], ['signifie'], ['ne'], ['blunt'], ['bent'], ['essentially'], ['persons'], ['opposites'], ['coffin'], ['carbuncles'], ['breeding'], ['regards'], ['fiends'], ['fantasticke'], ['suffred'], ['forgone'], ['historie'], ['penetrable'], ['thereabout'], ['grunt'], ['vnyoake'], ['inuentors'], ['years'], ['iouerney'], ['haste'], ['farre'], ['rank'], ['exits'], ['spirit'], ['enuiously'], ['won'], ['shoulders'], ['tickled'], ['whil'], ['lines'], ['respects'], ['men'], ['bewept'], ['accuse'], ['weare'], ['yesterday'], ['smoothnesse'], ['inlarg'], ['sutes'], ['quality'], ['cryed'], ['conuersation'], ['widdow'], ['belou'], ['tush'], ['as'], ['knowing'], ['pocky'], ['stages'], ['cloath'], ['burnt'], ['palpable'], ['witching'], ['carde'], ['blossomes'], ['neither'], ['yonger'], ['we'], ['traile'], ['drie'], ['baby'], ['thin'], ['gulfe'], ['hedge'], ['bubbles'], ['thirtie'], ['forfeite'], ['puzels'], ['glean'], ['conuerse'], ['birth'], ['skinnes'], ['messengers'], ['depart'], ['suppliance'], ['expresse'], ['afterwards'], ['neck'], ['stoopes'], ['peale'], ['neighbor'], ['spake'], ['straight'], ['incenst'], ['murder'], ['frown'], ['surprized'], ['into'], ['madnesse'], ['eternall'], ['likes'], ['prompted'], ['back'], ['monthes'], ['loe'], ['foule'], ['stiffely'], ['interim'], ['learning'], ['mason'], ['sodainely'], ['maids'], ['spacious'], ['basenesse'], ['commission'], ['riuals'], ['goose'], ['stirre'], ['necessary'], ['dismall'], ['coarses'], ['meerely'], ['estate'], ['offer'], ['amities'], ['rosemary'], ['find'], ['seiz'], ['guilty'], ['holdst'], ['affections'], ['polake'], ['needfull'], ['kinde'], ['accesse'], ['both'], ['borrowed'], ['knockt'], ['fiers'], ['hyrcanian'], ['fencing'], ['attendant'], ['saile'], ['soone'], ['toe'], ['cerments'], ['twas'], ['bray'], ['creation'], ['count'], ['diuinity'], ['recount'], ['fast'], ['sayes'], ['bodilesse'], ['prosperously'], ['seduce'], ['companies'], ['diligence'], ['accounted'], ['wormwood'], ['conuerted'], ['allowed'], ['shrunke'], ['woodcocke'], ['fennell'], ['implements'], ['makes'], ['violent'], ['view'], ['swift'], ['abridgements'], ['words'], ['behoues'], ['heere'], ['spill'], ['yesty'], ['lord'], ['entreatie'], ['beautified'], ['against'], ['stop'], ['rise'], ['some'], ['went'], ['wilde'], ['tale'], ['adores'], ['opposed'], ['hermony'], ['iustice'], ['clouds'], ['wary'], ['impotent'], ['hence'], ['froward'], ['say'], ['bleede'], ['rose'], ['horrors'], ['purer'], ['westward'], ['barrell'], ['doomesday'], ['aduancement'], ['state'], ['busines'], ['swords'], ['byrlady'], ['imperiall'], ['tweene'], ['anon'], ['beere'], ['annexment'], ['opprest'], ['light'], ['defend'], ['rosincran'], ['ladies'], ['husband'], ['house'], ['propertie'], ['naturall'], ['brothell'], ['fellowship'], ['courtesie'], ['stalkes'], ['if'], ['disperate'], ['set'], ['slow'], ['loosing'], ['pyrate'], ['calme'], ['hurling'], ['warrant'], ['voltumand'], ['flatter'], ['adoption'], ['dream'], ['effects'], ['equall'], ['translate'], ['actiuely'], ['ship'], ['seruants'], ['capeable'], ['counsell'], ['affection'], ['necke'], ['strewments'], ['grop'], ['ring'], ['succession'], ['grosse'], ['proceeding'], ['knee'], ['moods'], ['vniuersity'], ['soyle'], ['garbage'], ['defeats'], ['meant'], ['homage'], ['griefes'], ['hillo'], ['cornelius'], ['iealousie'], ['pause'], ['gaged'], ['bird'], ['faithfull'], ['incorrect'], ['stayes'], ['rude'], ['conioyn'], ['answerest'], ['greene'], ['mountebanke'], ['ho'], ['comerce'], ['honying'], ['lions'], ['breakes'], ['needes'], ['presentment'], ['lost'], ['for'], ['twenty'], ['liues'], ['single'], ['adiew'], ['scoena'], ['cup'], ['vtter'], ['grone'], ['get'], ['forgiuenesse'], ['sheep'], ['fran'], ['ar'], ['element'], ['iemme'], ['faith'], ['braine'], ['colaterall'], ['trick'], ['reforme'], ['artlesse'], ['springs'], ['dipping'], ['shoue'], ['vpon'], ['reare'], ['celestiall'], ['moue'], ['mirrour'], ['perchance'], ['nor'], ['driue'], ['showres'], ['heres'], ['exception'], ['aslant'], ['hiperion'], ['abhorred'], ['husbands'], ['fed'], ['scholler'], ['proofe'], ['safe'], ['purg'], ['smels'], ['churlish'], ['impresse'], ['loathsome'], ['england'], ['strongest'], ['bugges'], ['immediate'], ['coated'], ['feeling'], ['such'], ['honors'], ['knowledge'], ['brands'], ['body'], ['carries'], ['chaste'], ['shake'], ['garden'], ['story'], ['pittious'], ['eager'], ['slanders'], ['policie'], ['method'], ['couched'], ['norway'], ['behaued'], ['halfe'], ['realme'], ['thankes'], ['tree'], ['funerall'], ['iudges'], ['surrender'], ['nill'], ['substance'], ['hill'], ['feele'], ['alarme'], ['money'], ['squeezing'], ['wipe'], ['soil'], ['bodykins'], ['hatchment'], ['soueraigne'], ['prolongs'], ['paconcies'], ['dig'], ['mar'], ['larger'], ['nere'], ['since'], ['easie'], ['footed'], ['winner'], ['thrice'], ['deuoutly'], ['sulleyes'], ['deeds'], ['daughter'], ['wash'], ['historicall'], ['frowningly'], ['floud'], ['reignes'], ['deed'], ['flats'], ['woo'], ['royally'], ['strife'], ['point'], ['warres'], ['witnesse'], ['theeues'], ['centinels'], ['me'], ['twentieth'], ['inclination'], ['sends'], ['tremble'], ['desart'], ['gauntlets'], ['weazell'], ['bad'], ['myraculous'], ['busie'], ['tragedie'], ['mad'], ['glares'], ['trebble'], ['instrument'], ['serues'], ['beene'], ['vigour'], ['coarse'], ['shoulder'], ['seeming'], ['target'], ['determination'], ['matrons'], ['rebels'], ['strawes'], ['cracke'], ['sundaies'], ['charitable'], ['murderer'], ['loosed'], ['interre'], ['wrath'], ['calue'], ['woe'], ['graces'], ['courses'], ['dearly'], ['soldiers'], ['sipping'], ['aduantage'], ['table'], ['scandall'], ['chappell'], ['seruant'], ['gainst'], ['choller'], ['graue'], ['vnimproued'], ['prouidence'], ['lasts'], ['anckle'], ['onely'], ['hunts'], ['angle'], ['wither'], ['bilboes'], ['compasse'], ['patientlie'], ['reynol'], ['instrumentall'], ['sitting'], ['issue'], ['pittifull'], ['cunning'], ['placed'], ['vowes'], ['vntill'], ['article'], ['limed'], ['runnes'], ['whats'], ['taske'], ['songs'], ['rest'], ['honestie'], ['ere'], ['perseuer'], ['filme'], ['ocean'], ['dosen'], ['vaine'], ['weeds'], ['beseech'], ['payes'], ['an'], ['t'], ['any'], ['rests'], ['weapon'], ['consummation'], ['intreaty'], ['preparations'], ['matine'], ['west'], ['remember'], ['monday'], ['st'], ['slight'], ['tan'], ['liege'], ['letcherous'], ['plaist'], ['whipt'], ['comedie'], ['leade'], ['validitie'], ['trace'], ['going'], ['coniure'], ['plum'], ['cheefest'], ['painted'], ['indifferent'], ['murdering'], ['vnwholsome'], ['sure'], ['returneth'], ['adam'], ['cuffes'], ['ly'], ['sort'], ['rises'], ['cudgell'], ['friendship'], ['crib'], ['touches'], ['puppets'], ['forcing'], ['sables'], ['cleaue'], ['draw'], ['shelfe'], ['carried'], ['dicers'], ['don'], ['cals'], ['beckons'], ['negligence'], ['warlicke'], ['further'], ['handsaw'], ['retyrement'], ['delicate'], ['grating'], ['vgly'], ['that'], ['amb'], ['motiue'], ['pride'], ['brother'], ['breuitie'], ['assaies'], ['wisedome'], ['flye'], ['happes'], ['obedience'], ['solidity'], ['call'], ['show'], ['barnardo'], ['meanes'], ['borrower'], ['plaid'], ['exceed'], ['eternity'], ['extasie'], ['adulterate'], ['beard'], ['conuoy'], ['importing'], ['oppression'], ['greeues'], ['walke'], ['zone'], ['mutine'], ['distinguish'], ['rough'], ['wharfe'], ['apparition'], ['cart'], ['abstracts'], ['grapple'], ['swear'], ['notes'], ['drink'], ['slaine'], ['tether'], ['play'], ['extinct'], ['sequell'], ['assumes'], ['hower'], ['hideous'], ['requiem'], ['commencement'], ['receiu'], ['impression'], ['orbe'], ['held'], ['comrade'], ['weakest'], ['cou'], ['death'], ['kingdome'], ['digested'], ['circumuent'], ['yeomans'], ['cauiarie'], ['brothers'], ['stythe'], ['trulie'], ['coole'], ['botch'], ['packet'], ['preuent'], ['heraldry'], ['paradox'], ['pickers'], ['famous'], ['philosophy'], ['shepheards'], ['likenesse'], ['expell'], ['company'], ['holla'], ['partiall'], ['tongue'], ['mettels'], ['cliffe'], ['doome'], ['intill'], ['beleefe'], ['path'], ['foolery'], ['dust'], ['well'], ['word'], ['violence'], ['picture'], ['retrograde'], ['flushing'], ['stand'], ['tragicall'], ['armours'], ['beget'], ['guarded'], ['list'], ['infected'], ['strangely'], ['kissing'], ['gamboll'], ['preparation'], ['doue'], ['heads'], ['easily'], ['rant'], ['field'], ['crust'], ['howsoeuer'], ['poesie'], ['torches'], ['scapes'], ['lest'], ['split'], ['talk'], ['crownes'], ['smart'], ['feates'], ['begge'], ['creepe'], ['phoebus'], ['hard'], ['riuet'], ['select'], ['fierie'], ['highest'], ['sprinkle'], ['axe'], ['neglected'], ['manner'], ['tempest'], ['seen'], ['backward'], ['iangled'], ['driuen'], ['do'], ['slander'], ['bodie'], ['whose'], ['perusall'], ['storme'], ['blurres'], ['hor'], ['charge'], ['requit'], ['ban'], ['esteem'], ['powres'], ['chariest'], ['disappointed'], ['ioue'], ['ment'], ['of'], ['remembrances'], ['suffers'], ['redeliuer'], ['inward'], ['trifle'], ['sides'], ['shewes'], ['selleredge'], ['accepts'], ['could'], ['sicke'], ['sixeteene'], ['dreines'], ['streets'], ['gilded'], ['credent'], ['thunder'], ['crimefull'], ['determine'], ['captaine'], ['poor'], ['proclaime'], ['sence'], ['booke'], ['playing'], ['plague'], ['stopp'], ['line'], ['laugh'], ['extreamity'], ['scarce'], ['winch'], ['shent'], ['frends'], ['shipwright'], ['face'], ['others'], ['water'], ['maiesty'], ['satyre'], ['vision'], ['plentifull'], ['circumscrib'], ['begins'], ['withers'], ['mercurie'], ['fortinbras'], ['six'], ['glasse'], ['damon'], ['fought'], ['letter'], ['nutshell'], ['horat'], ['murthered'], ['huge'], ['saluation'], ['wringing'], ['sense'], ['pate'], ['load'], ['wig'], ['builds'], ['sterrill'], ['win'], ['fortin'], ['loath'], ['cramm'], ['secunda'], ['talke'], ['accident'], ['brooch'], ['cloake'], ['tryall'], ['seed'], ['function'], ['bounds'], ['sift'], ['humbly'], ['brutus'], ['chanson'], ['asham'], ['discord'], ['vnshaped'], ['flints'], ['remembraunce'], ['perfume'], ['dealt'], ['many'], ['plots'], ['tennis'], ['wauing'], ['rowe'], ['false'], ['bar'], ['orewhelm'], ['burnes'], ['volt'], ['truster'], ['repugnant'], ['hands'], ['treads'], ['deiect'], ['know'], ['crooke'], ['assault'], ['shut'], ['quillets'], ['sheepe'], ['blesse'], ['daysies'], ['napkin'], ['talkes'], ['desire'], ['broke'], ['cried'], ['lacks'], ['retaine'], ['roares'], ['impart'], ['sterne'], ['recame'], ['own'], ['wheele'], ['ambition'], ['brought'], ['manners'], ['villanous'], ['speakes'], ['abroad'], ['shippe'], ['falles'], ['opposition'], ['yeares'], ['wax'], ['chaunted'], ['offendendo'], ['lookes'], ['lament'], ['innocent'], ['distraction'], ['vnpacke'], ['barbary'], ['outface'], ['hardy'], ['admit'], ['blanket'], ['sauiours'], ['ducates'], ['conscience'], ['much'], ['done'], ['lucian'], ['prayer'], ['morning'], ['goodman'], ['dagger'], ['promontory'], ['fiue'], ['hoby'], ['vnseene'], ['vouchers'], ['countries'], ['figure'], ['priuates'], ['office'], ['snow'], ['lady'], ['crye'], ['walkt'], ['hellish'], ['dutie'], ['checking'], ['behauiour'], ['alijs'], ['guild'], ['strugling'], ['spirits'], ['thing'], ['violl'], ['part'], ['lights'], ['armes'], ['hore'], ['pastorall'], ['distresse'], ['rend'], ['infect'], ['highnesse'], ['lawful'], ['pestilent'], ['wise'], ['forgot'], ['right'], ['lyest'], ['vnsifted'], ['trippingly'], ['vow'], ['winking'], ['gonzago'], ['manet'], ['asleepe'], ['counter'], ['hangers'], ['flash'], ['ambass'], ['enuy'], ['hearke'], ['shipped'], ['ordinance'], ['sayest'], ['ministers'], ['intreate'], ['vndertake'], ['ake'], ['obseruers'], ['fra'], ['battery'], ['hems'], ['riuer'], ['fixion'], ['wine'], ['teeth'], ['flaw'], ['dozen'], ['shrewdly'], ['bloodily'], ['when'], ['souldiers'], ['wild'], ['waight'], ['run'], ['minerall'], ['rich'], ['vnto'], ['pol'], ['lecture'], ['barre'], ['tutor'], ['promise'], ['gifts'], ['skirts'], ['knaue'], ['ye'], ['wassels'], ['ambassadors'], ['guilt'], ['likely'], ['heauen'], ['confound'], ['rewards'], ['kild'], ['inexplicable'], ['calmely'], ['popt'], ['distrust'], ['acted'], ['warre'], ['conuenience'], ['ditchers'], ['glassie'], ['william'], ['leasure'], ['bend'], ['haire'], ['comutuall'], ['broad'], ['fey'], ['tatters'], ['windy'], ['wretched'], ['bellow'], ['cheefe'], ['auspicious'], ['brood'], ['blame'], ['vantage'], ['dirt'], ['rashly'], ['maimed'], ['norman'], ['blasting'], ['euer'], ['trumpets'], ['surge'], ['sinnes'], ['rub'], ['cocke'], ['demand'], ['worm'], ['chaplesse'], ['obseruation'], ['opinions'], ['assay'], ['drawes'], ['dole'], ['dirge'], ['welcom'], ['passage'], ['soules'], ['pure'], ['whom'], ['frame'], ['holding'], ['eene'], ['grounds'], ['grew'], ['libertie'], ['followed'], ['life'], ['side'], ['luxury'], ['craft'], ['deeme'], ['remisse'], ['sixteene'], ['reuenge'], ['erring'], ['shrow'], ['clay'], ['thank'], ['deepe'], ['stay'], ['strook'], ['moreouer'], ['chances'], ['priest'], ['acquittance'], ['spurnes'], ['fetters'], ['stands'], ['feete'], ['vnknowne'], ['courtier'], ['pardon'], ['terrible'], ['becke'], ['pursuest'], ['faces'], ['index'], ['boorded'], ['sallery'], ['finde'], ['waxes'], ['fit'], ['theft'], ['birds'], ['alacke'], ['pleasure'], ['ranke'], ['nettles'], ['subiect'], ['weede'], ['humanity'], ['embrace'], ['spred'], ['day'], ['vnfledg'], ['nose'], ['fall'], ['define'], ['ended'], ['rate'], ['prophane'], ['cosin'], ['vncle'], ['meane'], ['laps'], ['englands'], ['contents'], ['treble'], ['globe'], ['bodies'], ['storie'], ['solid'], ['whisper'], ['quiddits'], ['speed'], ['intreat'], ['lonelinesse'], ['camell'], ['pregnant'], ['preserued'], ['terme'], ['knotty'], ['roasted'], ['am'], ['cast'], ['muddy'], ['purposes'], ['valentine'], ['desperate'], ['image'], ['reueale'], ['most'], ['iust'], ['lugge'], ['forged'], ['beware'], ['sheete'], ['tributary'], ['bowts'], ['fitted'], ['lockt'], ['weapons'], ['buyer'], ['afflict'], ['these'], ['imagination'], ['naked'], ['faile'], ['proceed'], ['seekes'], ['wedding'], ['seas'], ['key'], ['wring'], ['excellence'], ['eight'], ['coniunctiue'], ['players'], ['blast'], ['warlike'], ['tythe'], ['hope'], ['vnripe'], ['high'], ['dye'], ['teach'], ['contrary'], ['deluer'], ['hent'], ['rossius'], ['bosome'], ['countrey'], ['time'], ['fitting'], ['beautie'], ['conueyance'], ['houre'], ['contagion'], ['doore'], ['make'], ['foh'], ['wouldest'], ['helpfull'], ['tyrant'], ['intent'], ['hammes'], ['speaks'], ['depriu'], ['feede'], ['ordinate'], ['passes'], ['conceit'], ['hearsed'], ['pins'], ['heathen'], ['indeed'], ['stoode'], ['niobe'], ['folke'], ['seeke'], ['to'], ['prouoke'], ['drag'], ['charity'], ['seruice'], ['satyricall'], ['becomes'], ['reuerend'], ['readinesse'], ['woman'], ['roome'], ['laide'], ['winkes'], ['grosser'], ['wont'], ['violets'], ['greenly'], ['weaker'], ['eterne'], ['sonne'], ['found'], ['beguile'], ['arme'], ['resolution'], ['vertuous'], ['respect'], ['children'], ['fates'], ['imagine'], ['somnet'], ['infaith'], ['bene'], ['rapsidie'], ['batten'], ['fashion'], ['conueniently'], ['declension'], ['chorus'], ['who'], ['greeued'], ['euidence'], ['acting'], ['aye'], ['sighe'], ['foote'], ['youth'], ['yoricks'], ['pery'], ['crow'], ['appeares'], ['secricie'], ['bringing'], ['whor'], ['anticipation'], ['kill'], ['screen'], ['hebenon'], ['euents'], ['once'], ['aboord'], ['low'], ['disioynt'], ['taken'], ['dying'], ['thrift'], ['perswade'], ['com'], ['buttons'], ['turfe'], ['dirty'], ['enemies'], ['doubts'], ['grossely'], ['license'], ['wants'], ['seruices'], ['blaze'], ['easterne'], ['priuy'], ['apale'], ['vnbaited'], ['wall'], ['clothes'], ['selfe'], ['wounded'], ['top'], ['labourer'], ['altitude'], ['voyce'], ['gestures'], ['griefe'], ['whiffe'], ['francisco'], ['immortall'], ['maiesties'], ['restore'], ['functions'], ['lucianus'], ['vtterance'], ['indiuidible'], ['larded'], ['sliuer'], ['natiue'], ['glow'], ['worthy'], ['cease'], ['sinne'], ['impatient'], ['foolish'], ['scoenes'], ['drab'], ['gidge'], ['abhominably'], ['despight'], ['wondrous'], ['sounds'], ['lash'], ['israel'], ['speechlesse'], ['whipping'], ['twere'], ['party'], ['closset'], ['congregation'], ['dupt'], ['chide'], ['angry'], ['cherube'], ['falsely'], ['cloathes'], ['be'], ['drumme'], ['birch'], ['earth'], ['forgetting'], ['receiues'], ['therfore'], ['horse'], ['drowned'], ['prayers'], ['beleeued'], ['creature'], ['prankes'], ['open'], ['thornes'], ['mysterie'], ['vnlesse'], ['vulcans'], ['meere'], ['noblest'], ['temple'], ['looke'], ['things'], ['peruse'], ['deiected'], ['suffer'], ['norwey'], ['city'], ['vouch'], ['ioyntly'], ['iester'], ['allegeance'], ['sorrie'], ['assistant'], ['sancturize'], ['town'], ['concernings'], ['off'], ['mew'], ['cannon'], ['kindles'], ['magicke'], ['happily'], ['stretcht'], ['bellowed'], ['answered'], ['hits'], ['allow'], ['waues'], ['drowne'], ['capitall'], ['gratis'], ['pigeon'], ['till'], ['smooth'], ['carnall'], ['sledded'], ['foe'], ['custome'], ['thousand'], ['reade'], ['fire'], ['outragious'], ['leuies'], ['incest'], ['casuall'], ['place'], ['sworn'], ['pound'], ['vnpregnant'], ['interpret'], ['deckt'], ['trespasse'], ['conuert'], ['sweet'], ['twice'], ['cyclops'], ['ventiges'], ['fortune'], ['beauer'], ['dane'], ['impittious'], ['sulphurous'], ['dallying'], ['confederate'], ['saylor'], ['cannoneer'], ['lend'], ['rare'], ['propheticke'], ['absolute'], ['conclusions'], ['strike'], ['vnmannerly'], ['man'], ['watchmen'], ['fret'], ['appliance'], ['anothers'], ['here'], ['ouerlook'], ['vilde'], ['fortie'], ['hindges'], ['orchard'], ['receiue'], ['worme'], ['farwell'], ['escorted'], ['come'], ['theme'], ['kings'], ['crafty'], ['cockle'], ['cleerely'], ['higher'], ['shoo'], ['desires'], ['blow'], ['stung'], ['compact'], ['deare'], ['crawling'], ['coronet'], ['normandy'], ['incapable'], ['vnrung'], ['dowrie'], ['infects'], ['villaine'], ['pray'], ['dishonour'], ['beasts'], ['meats'], ['chowgh'], ['exercise'], ['gowne'], ['mazard'], ['intreated'], ['touching'], ['tugging'], ['remorse'], ['fool'], ['scull'], ['illium'], ['host'], ['vbique'], ['pledge'], ['ghosts'], ['bloude'], ['distilment'], ['forgeries'], ['consonancy'], ['nobility'], ['better'], ['prick'], ['geulles'], ['hecuba'], ['poysoner'], ['prepare'], ['ran'], ['passing'], ['wrist'], ['soliciting'], ['vnforc'], ['mars'], ['limbes'], ['precepts'], ['pious'], ['pittie'], ['told'], ['dwelling'], ['russet'], ['howling'], ['on'], ['vse'], ['ingag'], ['order'], ['flattering'], ['hopes'], ['stoppes'], ['bed'], ['sensible'], ['assaile'], ['mute'], ['appurtenance'], ['history'], ['beggard'], ['causes'], ['feare'], ['lazar'], ['rascall'], ['excuse'], ['cell'], ['coronation'], ['drinke'], ['prettinesse'], ['out'], ['finding'], ['hung'], ['season'], ['twixt'], ['adheres'], ['shot'], ['nothing'], ['otherwise'], ['bawdy'], ['natures'], ['nephew'], ['enemie'], ['scourge'], ['tropically'], ['faculty'], ['greet'], ['enmity'], ['rights'], ['cue'], ['seated'], ['cure'], ['sourse'], ['scant'], ['yet'], ['businesse'], ['freeze'], ['world'], ['innouation'], ['drop'], ['sending'], ['stealers'], ['seem'], ['sollemne'], ['pleasant'], ['possest'], ['drunke'], ['oppressors'], ['memorie'], ['dil'], ['sing'], ['organe'], ['collected'], ['horatio'], ['valentines'], ['taints'], ['shewne'], ['exceedingly'], ['god'], ['smile'], ['bore'], ['cuplet'], ['replies'], ['kin'], ['fruitfull'], ['growes'], ['vnholy'], ['reuennew'], ['mend'], ['girdle'], ['bearing'], ['sheets'], ['pretty'], ['mouse'], ['hoopes'], ['iournies'], ['iocond'], ['equiuocation'], ['inheritor'], ['diadem'], ['steep'], ['fie'], ['pastoricall'], ['kil'], ['lightnesse'], ['occasions'], ['inclin'], ['offenders'], ['knew'], ['roman'], ['heed'], ['good'], ['valiant'], ['beares'], ['windlesses'], ['monstrous'], ['supply'], ['my'], ['giuing'], ['verse'], ['patience'], ['dukes'], ['deuotions'], ['quarelling'], ['valour'], ['appeare'], ['memory'], ['punish'], ['ingenious'], ['marrie'], ['tertia'], ['palme'], ['hanging'], ['companions'], ['became'], ['vnder'], ['seneca'], ['gather'], ['hasten'], ['adue'], ['scanter'], ['confession'], ['vnshaken'], ['roses'], ['lesser'], ['dread'], ['purpose'], ['action'], ['french'], ['successiue'], ['conceited'], ['infinite'], ['hardly'], ['mockery'], ['wisely'], ['present'], ['step'], ['smear'], ['goes'], ['presence'], ['blush'], ['look'], ['stalke'], ['difference'], ['bought'], ['vngartred'], ['fight'], ['statists'], ['ile'], ['follow'], ['doubt'], ['without'], ['toy'], ['mowes'], ['greefe'], ['expend'], ['quietus'], ['importunity'], ['circumstance'], ['afternoone'], ['boule'], ['readie'], ['superfluous'], ['mugger'], ['lie'], ['ioyfully'], ['whore'], ['confusion'], ['streame'], ['carters'], ['dispatch'], ['venome'], ['extent'], ['visit'], ['circumstances'], ['saue'], ['bended'], ['clossets'], ['stoupe'], ['cheerefully'], ['mone'], ['bout'], ['colour'], ['gins'], ['liuing'], ['maist'], ['finis'], ['primrose'], ['calmes'], ['bruite'], ['masters'], ['fore'], ['officers'], ['loued'], ['els'], ['witchcraft'], ['hitherto'], ['hole'], ['duller'], ['staires'], ['milche'], ['helpe'], ['iawes'], ['switzers'], ['denmark'], ['wife'], ['traitorous'], ['volume'], ['according'], ['sute'], ['exterior'], ['barr'], ['brooke'], ['triumph'], ['sanctity'], ['dropping'], ['answere'], ['bone'], ['warning'], ['has'], ['pickhaxe'], ['ophe'], ['patches'], ['moued'], ['encrease'], ['content'], ['canst'], ['bleeding'], ['pile'], ['potent'], ['worne'], ['whatsoeuer'], ['because'], ['ghost'], ['sigh'], ['denmarks'], ['germaine'], ['combatted'], ['corruption'], ['crowne'], ['trauaile'], ['wings'], ['beautifed'], ['defeate'], ['woodcocks'], ['forrest'], ['affear'], ['maiestie'], ['thoughts'], ['elsenour'], ['recoueries'], ['somthing'], ['vsurp'], ['wrinkled'], ['ouer'], ['lawes'], ['shadow'], ['sextons'], ['tels'], ['bloodie'], ['slaughters'], ['honor'], ['forgotten'], ['trophies'], ['tender'], ['discourse'], ['ambassadours'], ['besmerch'], ['die'], ['therein'], ['dire'], ['vanquisher'], ['secure'], ['orbed'], ['rauell'], ['postscript'], ['aunt'], ['hang'], ['pendant'], ['lookt'], ['appetite'], ['hyre'], ['trophee'], ['hastie'], ['termagant'], ['feed'], ['affrighted'], ['retooke'], ['tarre'], ['lye'], ['speedier'], ['laertes'], ['forget'], ['winne'], ['crowner'], ['instance'], ['yeelding'], ['leane'], ['hammers'], ['setled'], ['competent'], ['lords'], ['vlcerous'], ['kinne'], ['louing'], ['wherefore'], ['nods'], ['only'], ['importunate'], ['gyant'], ['adieu'], ['helpes'], ['beshrew'], ['malicious'], ['newtrall'], ['trickes'], ['reckoning'], ['fac'], ['leuied'], ['recklesse'], ['hypocrite'], ['oath'], ['departed'], ['challenger'], ['garland'], ['prima'], ['hee'], ['waste'], ['fro'], ['wisest'], ['offices'], ['betimes'], ['impotence'], ['medicine'], ['potently'], ['impious'], ['steale'], ['leaue'], ['compell'], ['armour'], ['tribute'], ['player'], ['seale'], ['hell'], ['farwel'], ['direct'], ['prouerbe'], ['qu'], ['proue'], ['exployt'], ['weedy'], ['shell'], ['associates'], ['permanent'], ['wel'], ['recorders'], ['inclining'], ['bread'], ['disclaiming'], ['puts'], ['coozenage'], ['growne'], ['affraide'], ['spies'], ['mighty'], ['ago'], ['blacke'], ['goblin'], ['seeme'], ['ignorance'], ['silence'], ['tumbled'], ['dignity'], ['confine'], ['foile'], ['vnkles'], ['beauties'], ['customary'], ['progresse'], ['kept'], ['herbe'], ['contriue'], ['strings'], ['maruell'], ['spoke'], ['stroke'], ['report'], ['neede'], ['rat'], ['sandal'], ['iigge'], ['destroy'], ['seate'], ['hath'], ['fault'], ['coynage'], ['secundus'], ['feather'], ['vp'], ['ancient'], ['prize'], ['their'], ['tune'], ['complie'], ['renish'], ['married'], ['places'], ['teamed'], ['colours'], ['vs'], ['countenance'], ['choose'], ['defence'], ['young'], ['souldiours'], ['horsse'], ['closely'], ['distracted'], ['poysons'], ['standing'], ['signet'], ['lunacies'], ['scarsely'], ['solicited'], ['presures'], ['baudry'], ['buffets'], ['cold'], ['yes'], ['would'], ['quietly'], ['prai'], ['sworne'], ['forc'], ['weigh'], ['calamity'], ['stake'], ['marcellus'], ['borrowing'], ['keepes'], ['coming'], ['saylors'], ['due'], ['thereto'], ['planets'], ['actors'], ['vnworthy'], ['offences'], ['mildew'], ['defectiue'], ['mind'], ['apt'], ['knocking'], ['sowing'], ['suruiuer'], ['importun'], ['bloudie'], ['lawlesse'], ['se'], ['sounded'], ['song'], ['invulnerable'], ['shift'], ['pyrrhus'], ['darke'], ['quickly'], ['touch'], ['writers'], ['iephta'], ['country'], ['infants'], ['deuices'], ['bias'], ['ont'], ['ene'], ['bulwarke'], ['origin'], ['spoakes'], ['kist'], ['priam'], ['bakt'], ['hauiour'], ['space'], ['same'], ['aduanc'], ['bee'], ['bloudy'], ['whereto'], ['mourning'], ['non'], ['habit'], ['forthwith'], ['proiect'], ['complexion'], ['requite'], ['hymen'], ['heele'], ['adams'], ['demanded'], ['n'], ['likeliehood'], ['braz'], ['vnhappily'], ['beauty'], ['deske'], ['mourn'], ['cal'], ['offall'], ['earnest'], ['his'], ['sore'], ['vnschool'], ['rheume'], ['buzze'], ['wicked'], ['d'], ['button'], ['lenton'], ['passionate'], ['highly'], ['honourable'], ['heyre'], ['raine'], ['gardiners'], ['by'], ['modesties'], ['imployment'], ['bitter'], ['fain'], ['goodnight'], ['louer'], ['flourish'], ['recorder'], ['pronounc'], ['obiects'], ['sunday'], ['bloody'], ['shalt'], ['contend'], ['bold'], ['borne'], ['idoll'], ['morrow'], ['detecting'], ['houses'], ['runs'], ['broken'], ['begger'], ['tane'], ['audit'], ['haunt'], ['rashnesse'], ['sauory'], ['heauens'], ['beckens'], ['daughters'], ['dare'], ['playes'], ['vnweeded'], ['guildensterne'], ['nightly'], ['neptunes'], ['weight'], ['dipt'], ['frighted'], ['knowes'], ['will'], ['lockes'], ['hic'], ['regard'], ['dry'], ['very'], ['recouer'], ['petty'], ['sect'], ['blood'], ['past'], ['accent'], ['breadth'], ['hurt'], ['sleepe'], ['ioyntresse'], ['free'], ['how'], ['tetter'], ['offence'], ['gaming'], ['befitted'], ['braines'], ['partizan'], ['solemne'], ['assure'], ['feature'], ['workes'], ['watch'], ['euerlasting'], ['ambiguous'], ['imploy'], ['thumbe'], ['wit'], ['rankly'], ['shooke'], ['expostulate'], ['profoundest'], ['match'], ['corporall'], ['comfort'], ['ifaith'], ['fatnesse'], ['angels'], ['burne'], ['sighes'], ['shirt'], ['important'], ['rul'], ['gentrie'], ['bands'], ['propose'], ['hearts'], ['waile'], ['bestow'], ['remain'], ['stately'], ['tempt'], ['pulse'], ['divulging'], ['paire'], ['might'], ['euermore'], ['carefully'], ['caution'], ['clutch'], ['briefe'], ['king'], ['ministring'], ['whoreson'], ['gis'], ['milke'], ['away'], ['strumpet'], ['mixture'], ['golden'], ['sustaine'], ['physicke'], ['scene'], ['eare'], ['thereon'], ['food'], ['envenom'], ['motion'], ['caught'], ['organ'], ['lap'], ['poyson'], ['inobled'], ['sweaty'], ['clap'], ['lone'], ['slaughter'], ['pluckes'], ['hall'], ['reckon'], ['coldly'], ['vnbated'], ['powerfully'], ['a'], ['render'], ['faire'], ['candied'], ['bat'], ['venom'], ['violet'], ['bounteous'], ['sate'], ['saying'], ['halfepeny'], ['slaues'], ['robustious'], ['dayly'], ['capitol'], ['confesse'], ['damned'], ['deale'], ['slender'], ['next'], ['liest'], ['speake'], ['buried'], ['lids'], ['thine'], ['wards'], ['sleepes'], ['coniectures'], ['compelled'], ['aside'], ['exact'], ['parley'], ['excellent'], ['mole'], ['neyther'], ['ue'], ['honesty'], ['generall'], ['consequence'], ['rim'], ['wandring'], ['acte'], ['he'], ['expectansie'], ['attractiue'], ['hid'], ['earthly'], ['affayre'], ['clowd'], ['worth'], ['defie'], ['witch'], ['maker'], ['seeing'], ['maruellous'], ['discomfort'], ['incestuous'], ['vnsinnowed'], ['houer'], ['arrests'], ['gall'], ['fare'], ['profit'], ['shame'], ['passages'], ['insinuation'], ['ayre'], ['dotes'], ['obiect'], ['wager'], ['confines'], ['calumnious'], ['ostentation'], ['mistooke'], ['let'], ['ioy'], ['flourishes'], ['goblins'], ['what'], ['hamlets'], ['vengeance'], ['reechie'], ['abuse'], ['flesh'], ['peeuish'], ['second'], ['lack'], ['boades'], ['aloofe'], ['vnite'], ['profession'], ['shatter'], ['vnderstanding'], ['ouercome'], ['vnskilfull'], ['saide'], ['hecticke'], ['perpend'], ['vnpreuayling'], ['swathing'], ['statutes'], ['patch'], ['hecats'], ['yond'], ['condolement'], ['distract'], ['wishes'], ['cursed'], ['siz'], ['finds'], ['compos'], ['arraigne'], ['allies'], ['breake'], ['hearer'], ['stopes'], ['eldest'], ['noble'], ['scul'], ['ossa'], ['recouery'], ['strengthen'], ['playd'], ['stuffe'], ['from'], ['occasion'], ['bin'], ['frenchman'], ['returnes'], ['farewell'], ['ah'], ['leads'], ['prepar'], ['gape'], ['ambassador'], ['thanke'], ['hoorded'], ['crowing'], ['trouble'], ['proud'], ['inquiry'], ['lifted'], ['aeneas'], ['someuer'], ['malicho'], ['trade'], ['commend'], ['doo'], ['twill'], ['threatning'], ['morne'], ['impartment'], ['spheres'], ['breeder'], ['doest'], ['reconcilement'], ['gray'], ['bethought'], ['died'], ['groundlings'], ['faine'], ['remorselesse'], ['lacke'], ['arrest'], ['bonny'], ['winters'], ['temperance'], ['garments'], ['shriuing'], ['beaten'], ['lightest'], ['wish'], ['burning'], ['wide'], ['clouts'], ['indifferently'], ['til'], ['pick'], ['ground'], ['yong'], ['search'], ['ice'], ['land'], ['melt'], ['daysie'], ['showes'], ['robin'], ['shape'], ['thanks'], ['hyperions'], ['scoene'], ['selues'], ['chast'], ['cousend'], ['compulsiue'], ['womens'], ['last'], ['protests'], ['throate'], ['leaperous'], ['matters'], ['sheene'], ['couch'], ['challice'], ['variable'], ['driues'], ['lads'], ['vnkennell'], ['asking'], ['harlot'], ['necessaries'], ['can'], ['paint'], ['padling'], ['crocodile'], ['too'], ['lodg'], ['miching'], ['dismantled'], ['hoa'], ['arrow'], ['illusion'], ['sirs'], ['questionable'], ['garbe'], ['pleasing'], ['temperately'], ['serue'], ['loose'], ['gambals'], ['quicke'], ['whale'], ['purchases'], ['try'], ['pluck'], ['tooke'], ['pestilence'], ['losse'], ['buriall'], ['passion'], ['bunghole'], ['month'], ['sport'], ['vnreclaim'], ['gen'], ['maiesticall'], ['ayres'], ['supper'], ['roofe'], ['wee'], ['after'], ['gau'], ['hauocke'], ['brow'], ['humour'], ['ambitious'], ['been'], ['color'], ['impasted'], ['prince'], ['profound'], ['mischeefe'], ['trap'], ['pompe'], ['conquest'], ['senselesse'], ['stubbornnesse'], ['crowes'], ['needs'], ['nothings'], ['kibe'], ['round'], ['broakers'], ['stole'], ['lapwing'], ['gentleman'], ['ophelia'], ['rugged'], ['rouce'], ['wormes'], ['bace'], ['sharpe'], ['in'], ['blason'], ['stye'], ['croaking'], ['easier'], ['lesse'], ['whilst'], ['asse'], ['spundge'], ['hyes'], ['think'], ['betoken'], ['strikes'], ['person'], ['doth'], ['reserue'], ['perturbed'], ['wilt'], ['wooes'], ['replication'], ['spilt'], ['greekes'], ['euen'], ['gently'], ['sage'], ['vnsmirched'], ['cruell'], ['attent'], ['sixe'], ['cape'], ['flowers'], ['richer'], ['enterprize'], ['suite'], ['vngorg'], ['newes'], ['vertues'], ['court'], ['baptista'], ['accord'], ['enact'], ['flagons'], ['shardes'], ['should'], ['cause'], ['wafts'], ['quils'], ['faining'], ['noyance'], ['account'], ['shamefull'], ['suppresse'], ['thus'], ['breed'], ['tragedians'], ['soldiours'], ['stowed'], ['exclaim'], ['stirr'], ['pipe'], ['masse'], ['throwne'], ['tax'], ['peece'], ['vnrighteous'], ['ranck'], ['warm'], ['delay'], ['tenders'], ['amazement'], ['pioner'], ['carry'], ['akers'], ['ieering'], ['return'], ['healthfull'], ['vnhouzzled'], ['mark'], ['instantly'], ['throwing'], ['vnmaske'], ['sunne'], ['foresaid'], ['lead'], ['wag'], ['verie'], ['dearest'], ['sticke'], ['prowd'], ['hollow'], ['ratified'], ['stuck'], ['pox'], ['denote'], ['sith'], ['mother'], ['hot'], ['landlesse'], ['machine'], ['being'], ['vapours'], ['cleare'], ['backe'], ['entrance'], ['queene'], ['sent'], ['lobby'], ['fairely'], ['tardy'], ['oh'], ['together'], ['summons'], ['clowds'], ['doe'], ['crab'], ['foredoes'], ['minute'], ['curles'], ['noted'], ['liberty'], ['wholsom'], ['need'], ['vice'], ['speedie'], ['truly'], ['mony'], ['mellow'], ['fate'], ['different'], ['possesse'], ['deepely'], ['thsunne'], ['strew'], ['depriue'], ['religious'], ['clambring'], ['respeaking'], ['wretch'], ['possible'], ['breath'], ['releeued'], ['clowne'], ['neere'], ['doing'], ['forehead'], ['ill'], ['suspiration'], ['hazard'], ['giuen'], ['abstinence'], ['other'], ['parchment'], ['masterly'], ['arm'], ['said'], ['nony'], ['ape'], ['giues'], ['sister'], ['drooping'], ['lier'], ['tanner'], ['frankely'], ['beating'], ['vnseale'], ['making'], ['mothers'], ['something'], ['toyles'], ['laid'], ['encounter'], ['winde'], ['stranger'], ['wrote'], ['wildenesse'], ['wittenberg'], ['message'], ['amble'], ['turbulent'], ['speciall'], ['lt'], ['minutes'], ['fardles'], ['addicted'], ['warmes'], ['combate'], ['stomacke'], ['vnnaturall'], ['breaths'], ['peace'], ['nature'], ['pawse'], ['reasons'], ['seriuce'], ['comma'], ['obstinate'], ['seal'], ['bestil'], ['abuses'], ['reeles'], ['astonish'], ['shuffling'], ['region'], ['strong'], ['humble'], ['hilts'], ['like'], ['wonder'], ['fee'], ['vncurrant'], ['naught'], ['fox'], ['gertrude'], ['trappings'], ['mantle'], ['admiration'], ['change'], ['carpenter'], ['vnprofitable'], ['read'], ['twaine'], ['drownes'], ['antiquity'], ['grow'], ['curd'], ['lou'], ['spokes'], ['foyle'], ['assur'], ['sorrow'], ['surmise'], ['rites'], ['perceiued'], ['camelions'], ['o'], ['incontinencie'], ['torrent'], ['shold'], ['ee'], ['merit'], ['behold'], ['rot'], ['carue'], ['greeted'], ['reueng'], ['implorators'], ['bait'], ['scale'], ['euill'], ['yaughan'], ['marble'], ['double'], ['sadly'], ['chronicles'], ['stooping'], ['sweete'], ['temp'], ['betweene'], ['blest'], ['incens'], ['reuels'], ['cum'], ['snatches'], ['thether'], ['courteous'], ['stone'], ['started'], ['neglect'], ['videlicet'], ['giue'], ['vnhatch'], ['springes'], ['mould'], ['mutines'], ['feares'], ['messe'], ['amaze'], ['blessing'], ['lyes'], ['natur'], ['nunnerie'], ['buyes'], ['beer'], ['choice'], ['siluer'], ['breathing'], ['instances'], ['age'], ['speak'], ['simples'], ['branches'], ['iade'], ['houres'], ['somewhat'], ['aduenturous'], ['shal'], ['rapier'], ['gods'], ['vnmastred'], ['tokens'], ['performance'], ['fals'], ['peering'], ['didst'], ['among'], ['it'], ['else'], ['vnion'], ['new'], ['reaches'], ['banke'], ['hypocrites'], ['points'], ['truncheons'], ['pursue'], ['not'], ['deere'], ['weeping'], ['corner'], ['scape'], ['schoole'], ['records'], ['puft'], ['actor'], ['great'], ['takes'], ['grace'], ['forbid'], ['fooles'], ['iot'], ['loues'], ['wonderfull'], ['lipps'], ['red'], ['steward'], ['cutpurse'], ['fat'], ['discouery'], ['contriuing'], ['thither'], ['iaw'], ['vnmatch'], ['scratcht'], ['crimes'], ['gauled'], ['yases'], ['minister'], ['boughes'], ['leaps'], ['saw'], ['vpshot'], ['below'], ['lowest'], ['home'], ['gent'], ['rages'], ['author'], ['quantitie'], ['seemes'], ['battlements'], ['working'], ['fertile'], ['steele'], ['guest'], ['fathers'], ['no'], ['secrecie'], ['offend'], ['passeth'], ['seales'], ['horridly'], ['melancholly'], ['erruption'], ['hees'], ['monsters'], ['suck'], ['matter'], ['vulgar'], ['pearle'], ['patient'], ['marriage'], ['late'], ['coagulate'], ['tardie'], ['clownes'], ['got'], ['she'], ['lawyer'], ['auoyd'], ['cleft'], ['cost'], ['simple'], ['portall'], ['bearers'], ['sergeant'], ['harping'], ['especial'], ['sere'], ['soueraignty'], ['middle'], ['peculiar'], ['barren'], ['wittemberge'], ['inheritance'], ['taint'], ['changed'], ['yesternight'], ['iudge'], ['deceiued'], ['turke'], ['mountaine'], ['behoue'], ['wrong'], ['preaching'], ['ducate'], ['father'], ['obseruant'], ['fauours'], ['counterfet'], ['strucken'], ['disease'], ['generous'], ['constantly'], ['one'], ['towards'], ['grinding'], ['rusty'], ['prouide'], ['wittingly'], ['mincing'], ['ro'], ['parragon'], ['swaies'], ['sword'], ['ours'], ['shall'], ['furnish'], ['herald'], ['abilitie'], ['lethe'], ['declines'], ['vngracious'], ['gyues'], ['articles'], ['pangs'], ['foot'], ['vnpolluted'], ['denmarkes'], ['either'], ['perfect'], ['best'], ['fold'], ['heerein'], ['reway'], ['reaks'], ['epitaph'], ['thereof'], ['cap'], ['heaues'], ['inuestments'], ['fetch'], ['dreames'], ['turnes'], ['directions'], ['nation'], ['heare'], ['enemy'], ['kneeles'], ['while'], ['aduice'], ['foode'], ['friending'], ['fearing'], ['argument'], ['lispe'], ['horses'], ['primus'], ['indentures'], ['yon'], ['nero'], ['north'], ['fiery'], ['curse'], ['promis'], ['accidentall'], ['blew'], ['tunes'], ['must'], ['dew'], ['pricke'], ['consent'], ['yea'], ['whereas'], ['steepe'], ['fayl'], ['lay'], ['reason'], ['expence'], ['numbers'], ['certaintie'], ['seat'], ['declining'], ['arrowes'], ['disclose'], ['ease'], ['her'], ['yeare'], ['imediate'], ['neuer'], ['salt'], ['narrow'], ['flaggon'], ['northerly'], ['health'], ['rite'], ['primy'], ['vnlimited'], ['womans'], ['lodge'], ['stickes'], ['flaxen'], ['puh'], ['former'], ['worse'], ['personall'], ['assurance'], ['absent'], ['woer'], ['censure'], ['inuites'], ['monarchs'], ['suffering'], ['formes'], ['mindes'], ['admittance'], ['eats'], ['minds'], ['damn'], ['liuer'], ['royall'], ['findes'], ['damne'], ['shakespeare'], ['had'], ['auouch'], ['act'], ['costly'], ['quilles'], ['gentlewoman'], ['slightly'], ['reuengefull'], ['sorrowes'], ['demy'], ['liberall'], ['plautus'], ['moore'], ['debt'], ['obseru'], ['italian'], ['nasty'], ['barn'], ['thirty'], ['scarse'], ['restrain'], ['third'], ['bring'], ['coniuring'], ['remembrance'], ['hallow'], ['encombred'], ['tables'], ['belieue'], ['commings'], ['beats'], ['dyed'], ['duty'], ['grand'], ['struck'], ['daggers'], ['presently'], ['president'], ['fear'], ['cheere'], ['opinion'], ['mistake'], ['feathers'], ['mes'], ['hum'], ['boudge'], ['weedes'], ['whole'], ['scripture'], ['assis'], ['cousen'], ['blastments'], ['vntimely'], ['common'], ['smiles'], ['quoted'], ['sicknesse'], ['dogges'], ['greatnesse'], ['station'], ['exactly'], ['nipping'], ['enseamed'], ['treacherous'], ['grained'], ['thorny'], ['guil'], ['tormenting'], ['front'], ['rosincrane'], ['pagan'], ['tryalls'], ['comment'], ['poem'], ['stale'], ['seene'], ['obsequies'], ['altogether'], ['before'], ['white'], ['estimation'], ['so'], ['dispriz'], ['thicker'], ['forgery'], ['welcome'], ['wil'], ['vndiscouered'], ['truepenny'], ['quicknesse'], ['thewes'], ['gallant'], ['indued'], ['request'], ['baser'], ['coile'], ['lewdnesse'], ['asunder'], ['swallowed'], ['deerely'], ['mistris'], ['compleat'], ['effect'], ['forg'], ['reynoldo'], ['escape'], ['flat'], ['beare'], ['pith'], ['ragges'], ['send'], ['outliues'], ['ending'], ['tenants'], ['illume'], ['eielids'], ['bones'], ['beetles'], ['purse'], ['spoken'], ['guards'], ['therefore'], ['satisfied'], ['vnbrac'], ['remaines'], ['addition'], ['finger'], ['sphere'], ['writ'], ['purgation'], ['our'], ['thinke'], ['moneths'], ['visage'], ['stew'], ['cerimony'], ['whet'], ['paine'], ['auoid'], ['coap'], ['thunders'], ['lists'], ['garlands'], ['nant'], ['million'], ['gallowes'], ['fixt'], ['rebellious'], ['lust'], ['moode'], ['afarre'], ['dogge'], ['esile'], ['pole'], ['trifling'], ['mart'], ['reputation'], ['pursued'], ['waterflie'], ['boord'], ['scena'], ['groaning'], ['chopfalne'], ['gore'], ['those'], ['boy'], ['happen'], ['brest'], ['aint'], ['pleas'], ['proclaim'], ['imaginations'], ['ayme'], ['feeles'], ['confin'], ['truth'], ['spectators'], ['conference'], ['begun'], ['withall'], ['remainder'], ['ayde'], ['iuggel'], ['guts'], ['cryer'], ['oddes'], ['known'], ['browes'], ['crowners'], ['lunacy'], ['fresh'], ['fell'], ['note'], ['ouerthrowne'], ['plaine'], ['obseruance'], ['strength'], ['defeated'], ['grandsire'], ['cry'], ['dispatcht'], ['ones'], ['moment'], ['least'], ['barbars'], ['indeauour'], ['builde'], ['laboured'], ['ponderous'], ['wits'], ['lungs'], ['ennactors'], ['quaintly'], ['ioyes'], ['digge'], ['contract'], ['vnkle'], ['queen'], ['worst'], ['skill'], ['noyse'], ['is'], ['sings'], ['nay'], ['coward'], ['frend'], ['emphasis'], ['sweat'], ['stones'], ['foyles'], ['exeunt'], ['absurd'], ['owle'], ['dally'], ['windes'], ['guildenstern'], ['dayes'], ['meaning'], ['test'], ['perfections'], ['prophanely'], ['hercules'], ['knight'], ['rent'], ['processe'], ['lot'], ['opposite'], ['quarrell'], ['breefe'], ['bodkin'], ['agreeing'], ['hourely'], ['throat'], ['pelion'], ['performe'], ['fretfull'], ['entertainment'], ['inch'], ['braue'], ['rowsed'], ['caps'], ['antike'], ['prison'], ['you'], ['hat'], ['farme'], ['midnight'], ['iumpe'], ['rocke'], ['stops'], ['hidious'], ['messenger'], ['hop'], ['reuolution'], ['contagious'], ['shuffel'], ['dish'], ['sement'], ['responsiue'], ['falling'], ['more'], ['distant'], ['resort'], ['precious'], ['none'], ['heereafter'], ['containing'], ['parted'], ['turn'], ['hadst'], ['inhibition'], ['basket'], ['vsurpe'], ['yonder'], ['mount'], ['ord'], ['contraction'], ['spleenatiue'], ['praise'], ['ordenance'], ['scorne'], ['sinewes'], ['bastard'], ['re'], ['meeting'], ['intend'], ['deuice'], ['ladie'], ['magots'], ['harshly'], ['carrying'], ['repentance'], ['vnsanctified'], ['meet'], ['sinners'], ['nobler'], ['besides'], ['maid'], ['fond'], ['deuis'], ['shadowes'], ['blasts'], ['left'], ['rebuke'], ['grasse'], ['nephewes'], ['may'], ['moult'], ['diddest'], ['this'], ['horson'], ['mine'], ['blowne'], ['passe'], ['gleane'], ['waxe'], ['superuize'], ['horrid'], ['tongues'], ['giued'], ['inuite'], ['lies'], ['goodly'], ['assignes'], ['long'], ['cressant'], ['prodigall'], ['millions'], ['guiltlesse'], ['gold'], ['repast'], ['delights'], ['leysure'], ['orderly'], ['protestation'], ['quit'], ['beyond'], ['see'], ['hey'], ['harlots'], ['remaine'], ['admirable'], ['old'], ['treason'], ['and'], ['answer'], ['bonet'], ['hide'], ['conception'], ['indiscretion'], ['bated'], ['little'], ['proportions'], ['vsuall'], ['forme'], ['wantonnesse'], ['sun'], ['go'], ['happy'], ['compost'], ['knowe'], ['lome'], ['forbeare'], ['weares'], ['share'], ['possession'], ['vnnerued'], ['panders'], ['forth'], ['libertine'], ['mischance'], ['damnation'], ['compound'], ['flashes'], ['sweets'], ['quintessence'], ['th'], ['poet'], ['dido'], ['striking'], ['yawne'], ['perceiue'], ['pour'], ['sooner'], ['practises'], ['stocke'], ['bapt'], ['frailty'], ['pace'], ['blankes'], ['kicke'], ['corrupted'], ['subscrib'], ['question'], ['rapiers'], ['argall'], ['milkie'], ['sparrow'], ['deserued'], ['diuide'], ['faction'], ['termes'], ['murthers'], ['clamour'], ['imitated'], ['poniards'], ['forestall'], ['nine'], ['thought'], ['forgiue'], ['wracke'], ['makers'], ['lowd'], ['cheff'], ['iest'], ['feast'], ['few'], ['weepe'], ['begin'], ['necessitie'], ['philosophie'], ['churchyards'], ['nerue'], ['occurrents'], ['iustly'], ['fearfull'], ['suiting'], ['haply'], ['rosincrance'], ['intruding'], ['hearers'], ['payed'], ['carriage'], ['heartily'], ['illo'], ['proclaimes'], ['gramercy'], ['hurts'], ['stage'], ['fits'], ['fines'], ['thicke'], ['mirth'], ['canker'], ['heroes'], ['comicall'], ['sized'], ['publike'], ['tis'], ['repent'], ['iudicious'], ['combined'], ['knowest'], ['seasons'], ['martiall'], ['hither'], ['filiall'], ['lunacie'], ['hawke'], ['cicatrice'], ['charme'], ['smot'], ['beauteous'], ['merriment'], ['amen'], ['currants'], ['vppon'], ['wore'], ['sokes'], ['prouinciall'], ['mock'], ['another'], ['doublet'], ['encompassement'], ['religion'], ['pitious'], ['cheefely'], ['poleak'], ['whispers'], ['comes'], ['flames'], ['there'], ['releefe'], ['foure'], ['spade'], ['people'], ['laine'], ['modestie'], ['drift'], ['chamber'], ['especiall'], ['continuall'], ['wake'], ['twer'], ['iuyce'], ['precedent'], ['strange'], ['extorted'], ['virgin'], ['haue'], ['owne'], ['enter'], ['slaue'], ['fatted'], ['enterprizes'], ['laying'], ['babe'], ['humorous'], ['honest'], ['owner'], ['calues'], ['considered'], ['diuel'], ['whereof'], ['wildely'], ['instant'], ['roaming'], ['dalliance'], ['chance'], ['speech'], ['thaw'], ['rotten'], ['lose'], ['porpentine'], ['wast'], ['three'], ['drinkes'], ['throw'], ['gawdie'], ['awhile'], ['transformation'], ['posset'], ['pronounce'], ['shockes'], ['ist'], ['dislike'], ['exchange'], ['gentle'], ['teares'], ['fauourites'], ['sits'], ['gates'], ['diseases'], ['apart'], ['mercy'], ['piece'], ['rogue'], ['decayer'], ['musick'], ['diseas'], ['dreame'], ['sepulcher'], ['heard'], ['tedious'], ['laer'], ['purpos'], ['resolutes'], ['espials'], ['safely'], ['primall'], ['swaggering'], ['hamlet'], ['boystrous'], ['greefes'], ['often'], ['trip'], ['layes'], ['blunted'], ['wilfully'], ['noise'], ['conueyances'], ['informe'], ['ripe'], ['harrow'], ['parle'], ['murther'], ['forty'], ['scullion'], ['voice'], ['shrill'], ['schollers'], ['strict'], ['christian'], ['marching'], ['base'], ['mainly'], ['appear'], ['sometime'], ['childe'], ['claudio'], ['doores'], ['sickly'], ['crie'], ['lighted'], ['liu'], ['the'], ['illes'], ['ope'], ['maruels'], ['seru'], ['vnuallued'], ['secret'], ['leaping'], ['coniuration'], ['doubtfull'], ['true'], ['drown'], ['boxe'], ['length'], ['fill'], ['co'], ['sit'], ['conqueror'], ['scornes'], ['racke'], ['scann'], ['lock'], ['are'], ['loggets'], ['canoniz'], ['endure'], ['ten'], ['pe'], ['foreknowing'], ['conuocation'], ['conceiue'], ['madam'], ['fellowes'], ['shapes'], ['pit'], ['patricke'], ['head'], ['eies'], ['gaue'], ['possitiuely'], ['purples'], ['tell'], ['deserue'], ['mornings'], ['impon'], ['polonius'], ['debatement'], ['hatch'], ['peebles'], ['felicitie'], ['breach'], ['moneth'], ['alas'], ['greetings'], ['insert'], ['fishmonger'], ['beautied'], ['shrowding'], ['art'], ['already'], ['visite'], ['ayrie'], ['exit'], ['rome'], ['aduise'], ['polititian'], ['staffe'], ['draughts'], ['labour'], ['but'], ['pursie'], ['m'], ['indeede'], ['k'], ['soldier'], ['treacherie'], ['portraiture'], ['cut'], ['choppine'], ['heauy'], ['paiocke'], ['hoodman'], ['obeyes'], ['hew'], ['especially'], ['ought'], ['theame'], ['wisedomes'], ['whereat'], ['multitude'], ['applaud'], ['olympus'], ['relieu'], ['rood'], ['parts'], ['changeling'], ['allowance'], ['vnhand'], ['tinct'], ['sauagenes'], ['empire'], ['galls'], ['heauie'], ['reply'], ['boyes'], ['tricks'], ['ceremony'], ['thy'], ['roughly'], ['vnwatch'], ['scarft'], ['resembles'], ['clemencie'], ['lender'], ['weary'], ['smiling'], ['familiar']]\n"
          ],
          "name": "stdout"
        }
      ]
    },
    {
      "cell_type": "markdown",
      "metadata": {
        "id": "RwR9PMEiiWSB"
      },
      "source": [
        "# **# 2) Qual é a quantidade de palavras restantes em cada texto?**"
      ]
    },
    {
      "cell_type": "code",
      "metadata": {
        "colab": {
          "base_uri": "https://localhost:8080/"
        },
        "id": "m2iesF5oibRJ",
        "outputId": "18c4b85b-6cd4-49c8-b858-f01aaf55bfe2"
      },
      "source": [
        "print(\"Quantidade de Palavras Restantes em Caesar:\", len(filtered_sentence))\n",
        "print(\"Quantidade de Palavras Restantes em Hamlet:\", len(filtered_sentence2))"
      ],
      "execution_count": null,
      "outputs": [
        {
          "output_type": "stream",
          "text": [
            "Quantidade de Palavras Restantes em Caesar: 3014\n",
            "Quantidade de Palavras Restantes em Hamlet: 4699\n"
          ],
          "name": "stdout"
        }
      ]
    },
    {
      "cell_type": "markdown",
      "metadata": {
        "id": "-ejxm8XkibjM"
      },
      "source": [
        "# **# 3) Encontre as entidades nomeada presentes para o seguintes textos:**"
      ]
    },
    {
      "cell_type": "code",
      "metadata": {
        "colab": {
          "base_uri": "https://localhost:8080/"
        },
        "id": "FA0YxYOMShRX",
        "outputId": "0f6e6296-4b79-4f92-b4a5-8aab743d5406"
      },
      "source": [
        "#Preparando toda a base de dados para leitura\n",
        "nltk.download('averaged_perceptron_tagger')\n",
        "nltk.download('maxent_ne_chunker')\n",
        "nltk.download('words')\n",
        "from nltk import tokenize\n",
        "\n",
        "#Abrindo arquivos_Preparando\n",
        "apoloxi = open('apoloxi.txt').read()\n",
        "apoloxi_tokenize = tokenize.word_tokenize(apoloxi, language='english')\n",
        "apoloxi_tag = nltk.pos_tag(apoloxi_tokenize)\n",
        "\n",
        "french_revolution = open('french-revolution.txt').read()\n",
        "french_revolution_tokenize = tokenize.word_tokenize(french_revolution, language='english')\n",
        "french_revolution_tag = nltk.pos_tag(french_revolution_tokenize)\n",
        "\n"
      ],
      "execution_count": null,
      "outputs": [
        {
          "output_type": "stream",
          "text": [
            "[nltk_data] Downloading package averaged_perceptron_tagger to\n",
            "[nltk_data]     /root/nltk_data...\n",
            "[nltk_data]   Package averaged_perceptron_tagger is already up-to-\n",
            "[nltk_data]       date!\n",
            "[nltk_data] Downloading package maxent_ne_chunker to\n",
            "[nltk_data]     /root/nltk_data...\n",
            "[nltk_data]   Package maxent_ne_chunker is already up-to-date!\n",
            "[nltk_data] Downloading package words to /root/nltk_data...\n",
            "[nltk_data]   Package words is already up-to-date!\n"
          ],
          "name": "stdout"
        }
      ]
    },
    {
      "cell_type": "code",
      "metadata": {
        "id": "IwIPUeupDmr2"
      },
      "source": [
        ""
      ],
      "execution_count": null,
      "outputs": []
    },
    {
      "cell_type": "markdown",
      "metadata": {
        "id": "87Pmwx2BigxA"
      },
      "source": [
        "a) **apoloxi.txt**"
      ]
    },
    {
      "cell_type": "code",
      "metadata": {
        "colab": {
          "base_uri": "https://localhost:8080/"
        },
        "id": "vxwDDMc7S_hf",
        "outputId": "283c5544-6354-41f1-9bb6-8f0d5780686f"
      },
      "source": [
        "apoloxi_chunk = nltk.ne_chunk(apoloxi_tag)\n",
        "print(\"Entidades encontradas em Apoloxi:\", apoloxi_chunk[0:100])"
      ],
      "execution_count": null,
      "outputs": [
        {
          "output_type": "stream",
          "text": [
            "Entidades encontradas em Apoloxi: [('Apollo', '$'), ('11', 'CD'), ('was', 'VBD'), ('the', 'DT'), ('spaceflight', 'NN'), ('that', 'WDT'), ('landed', 'VBD'), ('the', 'DT'), ('first', 'JJ'), ('humans', 'NNS'), ('on', 'IN'), ('the', 'DT'), Tree('ORGANIZATION', [('Moon', 'NNP')]), (',', ','), Tree('GPE', [('Americans', 'NNPS')]), Tree('PERSON', [('Neil', 'NNP'), ('Armstrong', 'NNP')]), ('and', 'CC'), Tree('PERSON', [('Buzz', 'NNP'), ('Aldrin', 'NNP')]), (',', ','), ('on', 'IN'), ('July', 'NNP'), ('20', 'CD'), (',', ','), ('1969', 'CD'), (',', ','), ('at', 'IN'), ('20:18', 'CD'), ('UTC', 'NNP'), ('.', '.'), Tree('PERSON', [('Armstrong', 'NNP')]), ('became', 'VBD'), ('the', 'DT'), ('first', 'JJ'), ('to', 'TO'), ('step', 'VB'), ('onto', 'IN'), ('the', 'DT'), ('lunar', 'JJ'), ('surface', 'NN'), ('six', 'CD'), ('hours', 'NNS'), ('later', 'RB'), ('on', 'IN'), ('July', 'NNP'), ('21', 'CD'), ('at', 'IN'), ('02:56', 'CD'), ('UTC', 'NNP'), ('.', '.'), Tree('PERSON', [('Armstrong', 'NNP')]), ('spent', 'VBD'), ('about', 'IN'), ('two', 'CD'), ('and', 'CC'), ('a', 'DT'), ('half', 'JJ'), ('hours', 'NNS'), ('outside', 'IN'), ('the', 'DT'), ('spacecraft', 'NN'), (',', ','), Tree('PERSON', [('Aldrin', 'NNP')]), ('slightly', 'RB'), ('less', 'JJR'), (',', ','), ('and', 'CC'), ('together', 'RB'), ('they', 'PRP'), ('collected', 'VBD'), ('47.5', 'CD'), ('pounds', 'NNS'), ('(', '('), ('21.5', 'CD'), ('kg', 'NN'), (')', ')'), ('of', 'IN'), ('lunar', 'JJ'), ('material', 'NN'), ('for', 'IN'), ('return', 'NN'), ('to', 'TO'), Tree('GPE', [('Earth', 'NNP')]), ('.', '.'), ('The', 'DT'), ('third', 'JJ'), ('member', 'NN'), ('of', 'IN'), ('the', 'DT'), ('mission', 'NN'), (',', ','), Tree('PERSON', [('Michael', 'NNP'), ('Collins', 'NNP')]), (',', ','), ('piloted', 'VBD'), ('the', 'DT'), ('command', 'NN'), ('spacecraft', 'NN'), ('alone', 'RB'), ('in', 'IN'), ('lunar', 'JJ'), ('orbit', 'NN')]\n"
          ],
          "name": "stdout"
        }
      ]
    },
    {
      "cell_type": "markdown",
      "metadata": {
        "id": "blolagC0ikDA"
      },
      "source": [
        "**b) french-revolution.txt**\n",
        "\n"
      ]
    },
    {
      "cell_type": "code",
      "metadata": {
        "colab": {
          "base_uri": "https://localhost:8080/"
        },
        "id": "7RWCn54zSPZg",
        "outputId": "f2023cfc-14df-47ee-e7b8-f6cb8cd32875"
      },
      "source": [
        "french_revolution_chunk = nltk.ne_chunk(french_revolution_tag)\n",
        "print(\"Entidades encontradas em French Revolution:\", french_revolution_chunk[0:100])"
      ],
      "execution_count": null,
      "outputs": [
        {
          "output_type": "stream",
          "text": [
            "Entidades encontradas em French Revolution: [Tree('PERSON', [('Napoleon', 'NNP'), ('Bonaparte', 'NNP')]), (',', ','), ('born', 'VBD'), Tree('PERSON', [('Napoleone', 'NNP')]), ('di', 'JJ'), Tree('GPE', [('Buonaparte', 'NNP')]), (';', ':'), ('15', 'CD'), ('August', 'NNP'), ('1769', 'CD'), ('–', 'NNP'), ('5', 'CD'), ('May', 'NNP'), ('1821', 'CD'), (')', ')'), ('was', 'VBD'), ('a', 'DT'), Tree('GPE', [('French', 'JJ')]), ('military', 'JJ'), ('and', 'CC'), ('political', 'JJ'), ('leader', 'NN'), ('who', 'WP'), ('rose', 'VBD'), ('to', 'TO'), ('prominence', 'VB'), ('during', 'IN'), ('the', 'DT'), Tree('GPE', [('French', 'JJ')]), ('Revolution', 'NNP'), ('and', 'CC'), ('led', 'VBD'), ('several', 'JJ'), ('successful', 'JJ'), ('campaigns', 'NNS'), ('during', 'IN'), ('the', 'DT'), ('Revolutionary', 'NNP'), ('Wars', 'NNP'), ('.', '.'), ('As', 'IN'), Tree('PERSON', [('Napoleon', 'NNP')]), ('I', 'PRP'), (',', ','), ('he', 'PRP'), ('was', 'VBD'), ('Emperor', 'NNP'), ('of', 'IN'), ('the', 'DT'), Tree('GPE', [('French', 'JJ')]), ('from', 'IN'), ('1804', 'CD'), ('until', 'IN'), ('1814', 'CD'), (',', ','), ('and', 'CC'), ('again', 'RB'), ('in', 'IN'), ('1815', 'CD'), ('.', '.'), Tree('PERSON', [('Napoleon', 'NNP')]), ('dominated', 'VBD'), Tree('GPE', [('European', 'JJ')]), ('affairs', 'NNS'), ('for', 'IN'), ('over', 'IN'), ('a', 'DT'), ('decade', 'NN'), ('while', 'IN'), ('leading', 'VBG'), Tree('GPE', [('France', 'NNP')]), ('against', 'IN'), ('a', 'DT'), ('series', 'NN'), ('of', 'IN'), ('coalitions', 'NNS'), ('in', 'IN'), ('the', 'DT'), Tree('ORGANIZATION', [('Napoleonic', 'NNP'), ('Wars', 'NNP')]), ('.', '.'), ('He', 'PRP'), ('won', 'VBD'), ('most', 'JJS'), ('of', 'IN'), ('these', 'DT'), ('wars', 'NNS'), ('and', 'CC'), ('the', 'DT'), ('vast', 'JJ'), ('majority', 'NN'), ('of', 'IN'), ('his', 'PRP$'), ('battles', 'NNS'), (',', ','), ('rapidly', 'RB'), ('gaining', 'VBG'), ('control', 'NN'), ('of', 'IN'), ('continental', 'JJ'), Tree('GPE', [('Europe', 'NNP')])]\n"
          ],
          "name": "stdout"
        }
      ]
    },
    {
      "cell_type": "markdown",
      "metadata": {
        "id": "40-mZbpqis6y"
      },
      "source": [
        "# **# 4) Qual é a quantidade de entidades \"GPE\" presentes em cada um dos textos?**"
      ]
    },
    {
      "cell_type": "code",
      "metadata": {
        "id": "Yr1PU6ebQmQ0"
      },
      "source": [
        "contador_GPE_Apoloxi = 0\n",
        "for entidade_nomeadas in apoloxi_chunk:\n",
        "  if hasattr(entidade_nomeadas, 'label'):\n",
        "    if not entidade_nomeadas.label() =='GPE':\n",
        "      contador_GPE_Apoloxi = contador_GPE_Apoloxi + 1\n",
        "\n",
        "contador_GPE_FrenchRevolution = 0\n",
        "for entidade_nomeadas in french_revolution_chunk:\n",
        "  if hasattr(entidade_nomeadas, 'label'):\n",
        "    if not entidade_nomeadas.label() =='GPE':\n",
        "      contador_GPE_FrenchRevolution = contador_GPE_FrenchRevolution + 1"
      ],
      "execution_count": null,
      "outputs": []
    },
    {
      "cell_type": "code",
      "metadata": {
        "colab": {
          "base_uri": "https://localhost:8080/"
        },
        "id": "Ir3_Hs1xi215",
        "outputId": "66082133-cf63-4b99-f4a4-8cc928a12136"
      },
      "source": [
        "print(\"Quantidade de GPE encontrada no texto Apoloxi: \", contador_GPE_Apoloxi)\n",
        "print(\"Quantidade de GPE encontrada no texto French Revolution: \", contador_GPE_FrenchRevolution)"
      ],
      "execution_count": null,
      "outputs": [
        {
          "output_type": "stream",
          "text": [
            "Quantidade de GPE encontrada no texto Apoloxi:  28\n",
            "Quantidade de GPE encontrada no texto French Revolution:  57\n"
          ],
          "name": "stdout"
        }
      ]
    },
    {
      "cell_type": "markdown",
      "metadata": {
        "id": "RFp7EU1ni3Jx"
      },
      "source": [
        "# **5) Qual é a quantidade de entidades \"LOCATION\" presentes em cada um dos textos?**"
      ]
    },
    {
      "cell_type": "code",
      "metadata": {
        "id": "fV_WaA1VjBto"
      },
      "source": [
        "contador_LOCATION_APOLOXI = 0\n",
        "for entidade_nomeadas in apoloxi_chunk:\n",
        "  if hasattr(entidade_nomeadas, 'label'):\n",
        "    if not entidade_nomeadas.label() =='LOCATION':\n",
        "      contador_LOCATION_APOLOXI += 1\n",
        "\n",
        "contador_LOCATION_FRENCH_REVOLUTION = 0\n",
        "for entidade_nomeadas in french_revolution_chunk:\n",
        "  if hasattr(entidade_nomeadas, 'label'):\n",
        "    if not entidade_nomeadas.label() =='LOCATION':\n",
        "      contador_LOCATION_FRENCH_REVOLUTION += 1"
      ],
      "execution_count": null,
      "outputs": []
    },
    {
      "cell_type": "code",
      "metadata": {
        "colab": {
          "base_uri": "https://localhost:8080/"
        },
        "id": "N-PBpBvwUSwN",
        "outputId": "c47e69cc-7240-48b2-c8dd-723998882fd6"
      },
      "source": [
        "print(\"Quantidade de GPE encontrada no texto Apoloxi: \", contador_LOCATION_APOLOXI)\n",
        "print(\"Quantidade de GPE encontrada no texto French Revolution: \", contador_LOCATION_FRENCH_REVOLUTION)"
      ],
      "execution_count": null,
      "outputs": [
        {
          "output_type": "stream",
          "text": [
            "Quantidade de GPE encontrada no texto Apoloxi:  40\n",
            "Quantidade de GPE encontrada no texto French Revolution:  128\n"
          ],
          "name": "stdout"
        }
      ]
    },
    {
      "cell_type": "markdown",
      "metadata": {
        "id": "YspkuLCrjB5g"
      },
      "source": [
        "# **6) Qual é a quantidade de entidades \"PERSON\" presentes em cada um dos textos?**"
      ]
    },
    {
      "cell_type": "code",
      "metadata": {
        "id": "CHeqYb3hjELQ"
      },
      "source": [
        "contador_PERSON_APOLOXI = 0\n",
        "for entidade_nomeadas in apoloxi_chunk:\n",
        "  if hasattr(entidade_nomeadas, 'label'):\n",
        "    if not entidade_nomeadas.label() =='PERSON':\n",
        "      contador_PERSON_APOLOXI += 1\n",
        "\n",
        "contador_PERSON_FRENCH = 0\n",
        "for entidade_nomeadas in french_revolution_chunk:\n",
        "  if hasattr(entidade_nomeadas, 'label'):\n",
        "    if not entidade_nomeadas.label() =='PERSON':\n",
        "      contador_PERSON_FRENCH += 1"
      ],
      "execution_count": null,
      "outputs": []
    },
    {
      "cell_type": "code",
      "metadata": {
        "colab": {
          "base_uri": "https://localhost:8080/"
        },
        "id": "AQG-l7RfUV67",
        "outputId": "adac0ef5-eed0-4b78-993f-d4ca5db5e9e1"
      },
      "source": [
        "print(\"Quantidade de GPE encontrada no texto Apoloxi: \", contador_PERSON_APOLOXI)\n",
        "print(\"Quantidade de GPE encontrada no texto French Revolution: \", contador_PERSON_FRENCH)"
      ],
      "execution_count": null,
      "outputs": [
        {
          "output_type": "stream",
          "text": [
            "Quantidade de GPE encontrada no texto Apoloxi:  29\n",
            "Quantidade de GPE encontrada no texto French Revolution:  105\n"
          ],
          "name": "stdout"
        }
      ]
    }
  ]
}